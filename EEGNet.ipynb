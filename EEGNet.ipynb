{
  "cells": [
    {
      "cell_type": "markdown",
      "metadata": {
        "colab_type": "text",
        "id": "view-in-github"
      },
      "source": [
        "<a href=\"https://colab.research.google.com/github/amrzhd/EEGNet/blob/main/EEGNet.ipynb\" target=\"_parent\"><img src=\"https://colab.research.google.com/assets/colab-badge.svg\" alt=\"Open In Colab\"/></a>"
      ]
    },
    {
      "cell_type": "markdown",
      "metadata": {
        "id": "x_5wKiVyBTzL"
      },
      "source": [
        "# Motor Imagery Task Classification\n"
      ]
    },
    {
      "cell_type": "markdown",
      "metadata": {
        "id": "O-3Lg9veBge0"
      },
      "source": [
        "# Extracting Data"
      ]
    },
    {
      "cell_type": "markdown",
      "metadata": {
        "id": "W4JrI64nBl52"
      },
      "source": [
        "## Downloading BCI Competition IV 2a Dataset"
      ]
    },
    {
      "cell_type": "code",
      "execution_count": 1,
      "metadata": {
        "colab": {
          "base_uri": "https://localhost:8080/"
        },
        "id": "_6jNZi8rBNjN",
        "outputId": "88ac3846-5abc-411f-93f2-f4e96daeed4e"
      },
      "outputs": [
        {
          "name": "stdout",
          "output_type": "stream",
          "text": [
            "--2025-03-16 20:13:13--  https://www.bbci.de/competition/download/competition_iv/BCICIV_2a_gdf.zip\n",
            "Resolving webproxy.ucsd.edu (webproxy.ucsd.edu)... 132.239.1.230, 132.239.1.231\n",
            "Connecting to webproxy.ucsd.edu (webproxy.ucsd.edu)|132.239.1.230|:3128... connected.\n",
            "Proxy request sent, awaiting response... 200 OK\n",
            "Length: 439968864 (420M) [application/zip]\n",
            "Saving to: ‘BCICIV_2a_gdf.zip’\n",
            "\n",
            "BCICIV_2a_gdf.zip   100%[===================>] 419.59M  16.3MB/s    in 27s     \n",
            "\n",
            "2025-03-16 20:13:41 (15.7 MB/s) - ‘BCICIV_2a_gdf.zip’ saved [439968864/439968864]\n",
            "\n"
          ]
        }
      ],
      "source": [
        "!wget https://www.bbci.de/competition/download/competition_iv/BCICIV_2a_gdf.zip"
      ]
    },
    {
      "cell_type": "code",
      "execution_count": 2,
      "metadata": {
        "id": "5DbydQswB27q"
      },
      "outputs": [
        {
          "name": "stdout",
          "output_type": "stream",
          "text": [
            "mkdir: cannot create directory ‘/content’: Permission denied\n"
          ]
        }
      ],
      "source": [
        "!mkdir -p /content/cleaned_data/"
      ]
    },
    {
      "cell_type": "code",
      "execution_count": 10,
      "metadata": {
        "id": "50hgj12yB54U"
      },
      "outputs": [],
      "source": [
        "%%capture\n",
        "!unzip /content/BCICIV_2a_gdf.zip -d raw_data"
      ]
    },
    {
      "cell_type": "markdown",
      "metadata": {
        "id": "Y_mkff9aB-9w"
      },
      "source": [
        "# Installing Packages"
      ]
    },
    {
      "cell_type": "code",
      "execution_count": 4,
      "metadata": {
        "id": "mqHVmwYyCBsB"
      },
      "outputs": [],
      "source": [
        "%%capture\n",
        "!pip install mne"
      ]
    },
    {
      "cell_type": "code",
      "execution_count": 5,
      "metadata": {
        "id": "ueJFbf8KCCPw"
      },
      "outputs": [],
      "source": [
        "%%capture\n",
        "!pip install torch-summary"
      ]
    },
    {
      "cell_type": "markdown",
      "metadata": {
        "id": "crxgIV9ICD2T"
      },
      "source": [
        "# Libraries Used"
      ]
    },
    {
      "cell_type": "code",
      "execution_count": 11,
      "metadata": {
        "id": "CEp96MytCGei"
      },
      "outputs": [],
      "source": [
        "import os\n",
        "import mne\n",
        "import math\n",
        "import copy\n",
        "import gdown\n",
        "import random\n",
        "import scipy.io\n",
        "import numpy as np\n",
        "import pandas as pd\n",
        "import seaborn as sn\n",
        "import matplotlib.pyplot as plt\n",
        "\n",
        "# Torch\n",
        "import torch\n",
        "import torch.nn as nn\n",
        "import torch.optim as optim\n",
        "import torch.nn.functional as F\n",
        "from torchsummary import summary\n",
        "from torch.autograd import Variable\n",
        "from torch.utils.data import DataLoader, TensorDataset, random_split\n",
        "\n",
        "# Scikit-Learn\n",
        "from sklearn.feature_selection import mutual_info_classif\n",
        "from sklearn.metrics import confusion_matrix, accuracy_score\n",
        "from sklearn.model_selection import train_test_split"
      ]
    },
    {
      "cell_type": "markdown",
      "metadata": {
        "id": "nn8IHP2_CQbH"
      },
      "source": [
        "# Building Dataset"
      ]
    },
    {
      "cell_type": "code",
      "execution_count": 7,
      "metadata": {
        "id": "JFtUH89-G48b"
      },
      "outputs": [
        {
          "name": "stdout",
          "output_type": "stream",
          "text": [
            "mkdir: cannot create directory ‘/content’: Permission denied\n",
            "mkdir: cannot create directory ‘/content’: Permission denied\n"
          ]
        }
      ],
      "source": [
        "!mkdir -p /content/cleaned_data/first_session\n",
        "!mkdir -p /content/cleaned_data/second_session"
      ]
    },
    {
      "cell_type": "markdown",
      "metadata": {
        "id": "f6Bmm_acGc4g"
      },
      "source": [
        "## First Session"
      ]
    },
    {
      "cell_type": "code",
      "execution_count": 14,
      "metadata": {},
      "outputs": [],
      "source": [
        "import os"
      ]
    },
    {
      "cell_type": "code",
      "execution_count": 16,
      "metadata": {
        "colab": {
          "base_uri": "https://localhost:8080/"
        },
        "id": "X6ViqHGaCUWY",
        "outputId": "39111580-ee4e-4543-f906-f9de7e97d6c7"
      },
      "outputs": [
        {
          "name": "stdout",
          "output_type": "stream",
          "text": [
            "Extracting EDF parameters from /mnt/cogsci/home/ybo/189/content/raw_data/A03T.gdf...\n",
            "GDF file detected\n",
            "Setting channel info structure...\n",
            "Could not determine channel type of the following channels, they will be set as EEG:\n",
            "EEG-Fz, EEG, EEG, EEG, EEG, EEG, EEG, EEG-C3, EEG, EEG-Cz, EEG, EEG-C4, EEG, EEG, EEG, EEG, EEG, EEG, EEG, EEG-Pz, EEG, EEG\n",
            "Creating raw.info structure...\n",
            "Reading 0 ... 660529  =      0.000 ...  2642.116 secs...\n"
          ]
        },
        {
          "name": "stderr",
          "output_type": "stream",
          "text": [
            "/home/ybo/miniconda3/envs/myenv/lib/python3.12/contextlib.py:144: RuntimeWarning: Channel names are not unique, found duplicates for: {'EEG'}. Applying running numbers for duplicates.\n",
            "  next(self.gen)\n"
          ]
        },
        {
          "name": "stdout",
          "output_type": "stream",
          "text": [
            "Filtering raw data in 1 contiguous segment\n",
            "Setting up band-pass filter from 4 - 40 Hz\n",
            "\n",
            "IIR filter parameters\n",
            "---------------------\n",
            "Butterworth bandpass zero-phase (two-pass forward and reverse) non-causal filter:\n",
            "- Filter order 16 (effective, after forward-backward)\n",
            "- Cutoffs at 4.00, 40.00 Hz: -6.02, -6.02 dB\n",
            "\n",
            "Filtering raw data in 1 contiguous segment\n",
            "Setting up band-stop filter from 49 - 51 Hz\n",
            "\n",
            "FIR filter parameters\n",
            "---------------------\n",
            "Designing a one-pass, zero-phase, non-causal bandstop filter:\n",
            "- Windowed time-domain design (firwin) method\n",
            "- Hamming window with 0.0194 passband ripple and 53 dB stopband attenuation\n",
            "- Lower passband edge: 49.38\n",
            "- Lower transition bandwidth: 0.50 Hz (-6 dB cutoff frequency: 49.12 Hz)\n",
            "- Upper passband edge: 50.62 Hz\n",
            "- Upper transition bandwidth: 0.50 Hz (-6 dB cutoff frequency: 50.88 Hz)\n",
            "- Filter length: 1651 samples (6.604 s)\n",
            "\n",
            "Writing /mnt/cogsci/home/ybo/189/content/cleaned_data/first_session/A03T.fif\n"
          ]
        },
        {
          "name": "stderr",
          "output_type": "stream",
          "text": [
            "[Parallel(n_jobs=1)]: Done  17 tasks      | elapsed:    0.2s\n",
            "/tmp/ipykernel_1558169/1930688462.py:28: RuntimeWarning: This filename (/mnt/cogsci/home/ybo/189/content/cleaned_data/first_session/A03T.fif) does not conform to MNE naming conventions. All raw files should end with raw.fif, raw_sss.fif, raw_tsss.fif, _meg.fif, _eeg.fif, _ieeg.fif, raw.fif.gz, raw_sss.fif.gz, raw_tsss.fif.gz, _meg.fif.gz, _eeg.fif.gz or _ieeg.fif.gz\n",
            "  raw.save(new_file_path, overwrite=True)\n"
          ]
        },
        {
          "name": "stdout",
          "output_type": "stream",
          "text": [
            "Closing /mnt/cogsci/home/ybo/189/content/cleaned_data/first_session/A03T.fif\n",
            "[done]\n",
            "Extracting EDF parameters from /mnt/cogsci/home/ybo/189/content/raw_data/A07T.gdf...\n",
            "GDF file detected\n",
            "Setting channel info structure...\n",
            "Could not determine channel type of the following channels, they will be set as EEG:\n",
            "EEG-Fz, EEG, EEG, EEG, EEG, EEG, EEG, EEG-C3, EEG, EEG-Cz, EEG, EEG-C4, EEG, EEG, EEG, EEG, EEG, EEG, EEG, EEG-Pz, EEG, EEG\n",
            "Creating raw.info structure...\n",
            "Reading 0 ... 681070  =      0.000 ...  2724.280 secs...\n"
          ]
        },
        {
          "name": "stderr",
          "output_type": "stream",
          "text": [
            "/home/ybo/miniconda3/envs/myenv/lib/python3.12/contextlib.py:144: RuntimeWarning: Channel names are not unique, found duplicates for: {'EEG'}. Applying running numbers for duplicates.\n",
            "  next(self.gen)\n"
          ]
        },
        {
          "name": "stdout",
          "output_type": "stream",
          "text": [
            "Filtering raw data in 1 contiguous segment\n",
            "Setting up band-pass filter from 4 - 40 Hz\n",
            "\n",
            "IIR filter parameters\n",
            "---------------------\n",
            "Butterworth bandpass zero-phase (two-pass forward and reverse) non-causal filter:\n",
            "- Filter order 16 (effective, after forward-backward)\n",
            "- Cutoffs at 4.00, 40.00 Hz: -6.02, -6.02 dB\n",
            "\n",
            "Filtering raw data in 1 contiguous segment\n",
            "Setting up band-stop filter from 49 - 51 Hz\n",
            "\n",
            "FIR filter parameters\n",
            "---------------------\n",
            "Designing a one-pass, zero-phase, non-causal bandstop filter:\n",
            "- Windowed time-domain design (firwin) method\n",
            "- Hamming window with 0.0194 passband ripple and 53 dB stopband attenuation\n",
            "- Lower passband edge: 49.38\n",
            "- Lower transition bandwidth: 0.50 Hz (-6 dB cutoff frequency: 49.12 Hz)\n",
            "- Upper passband edge: 50.62 Hz\n",
            "- Upper transition bandwidth: 0.50 Hz (-6 dB cutoff frequency: 50.88 Hz)\n",
            "- Filter length: 1651 samples (6.604 s)\n",
            "\n",
            "Writing /mnt/cogsci/home/ybo/189/content/cleaned_data/first_session/A07T.fif\n"
          ]
        },
        {
          "name": "stderr",
          "output_type": "stream",
          "text": [
            "[Parallel(n_jobs=1)]: Done  17 tasks      | elapsed:    0.2s\n",
            "/tmp/ipykernel_1558169/1930688462.py:28: RuntimeWarning: This filename (/mnt/cogsci/home/ybo/189/content/cleaned_data/first_session/A07T.fif) does not conform to MNE naming conventions. All raw files should end with raw.fif, raw_sss.fif, raw_tsss.fif, _meg.fif, _eeg.fif, _ieeg.fif, raw.fif.gz, raw_sss.fif.gz, raw_tsss.fif.gz, _meg.fif.gz, _eeg.fif.gz or _ieeg.fif.gz\n",
            "  raw.save(new_file_path, overwrite=True)\n"
          ]
        },
        {
          "name": "stdout",
          "output_type": "stream",
          "text": [
            "Closing /mnt/cogsci/home/ybo/189/content/cleaned_data/first_session/A07T.fif\n",
            "[done]\n",
            "Extracting EDF parameters from /mnt/cogsci/home/ybo/189/content/raw_data/A02T.gdf...\n",
            "GDF file detected\n",
            "Setting channel info structure...\n",
            "Could not determine channel type of the following channels, they will be set as EEG:\n",
            "EEG-Fz, EEG, EEG, EEG, EEG, EEG, EEG, EEG-C3, EEG, EEG-Cz, EEG, EEG-C4, EEG, EEG, EEG, EEG, EEG, EEG, EEG, EEG-Pz, EEG, EEG\n",
            "Creating raw.info structure...\n",
            "Reading 0 ... 677168  =      0.000 ...  2708.672 secs...\n"
          ]
        },
        {
          "name": "stderr",
          "output_type": "stream",
          "text": [
            "/home/ybo/miniconda3/envs/myenv/lib/python3.12/contextlib.py:144: RuntimeWarning: Channel names are not unique, found duplicates for: {'EEG'}. Applying running numbers for duplicates.\n",
            "  next(self.gen)\n"
          ]
        },
        {
          "name": "stdout",
          "output_type": "stream",
          "text": [
            "Filtering raw data in 1 contiguous segment\n",
            "Setting up band-pass filter from 4 - 40 Hz\n",
            "\n",
            "IIR filter parameters\n",
            "---------------------\n",
            "Butterworth bandpass zero-phase (two-pass forward and reverse) non-causal filter:\n",
            "- Filter order 16 (effective, after forward-backward)\n",
            "- Cutoffs at 4.00, 40.00 Hz: -6.02, -6.02 dB\n",
            "\n",
            "Filtering raw data in 1 contiguous segment\n",
            "Setting up band-stop filter from 49 - 51 Hz\n",
            "\n",
            "FIR filter parameters\n",
            "---------------------\n",
            "Designing a one-pass, zero-phase, non-causal bandstop filter:\n",
            "- Windowed time-domain design (firwin) method\n",
            "- Hamming window with 0.0194 passband ripple and 53 dB stopband attenuation\n",
            "- Lower passband edge: 49.38\n",
            "- Lower transition bandwidth: 0.50 Hz (-6 dB cutoff frequency: 49.12 Hz)\n",
            "- Upper passband edge: 50.62 Hz\n",
            "- Upper transition bandwidth: 0.50 Hz (-6 dB cutoff frequency: 50.88 Hz)\n",
            "- Filter length: 1651 samples (6.604 s)\n",
            "\n",
            "Writing /mnt/cogsci/home/ybo/189/content/cleaned_data/first_session/A02T.fif\n"
          ]
        },
        {
          "name": "stderr",
          "output_type": "stream",
          "text": [
            "[Parallel(n_jobs=1)]: Done  17 tasks      | elapsed:    0.2s\n",
            "/tmp/ipykernel_1558169/1930688462.py:28: RuntimeWarning: This filename (/mnt/cogsci/home/ybo/189/content/cleaned_data/first_session/A02T.fif) does not conform to MNE naming conventions. All raw files should end with raw.fif, raw_sss.fif, raw_tsss.fif, _meg.fif, _eeg.fif, _ieeg.fif, raw.fif.gz, raw_sss.fif.gz, raw_tsss.fif.gz, _meg.fif.gz, _eeg.fif.gz or _ieeg.fif.gz\n",
            "  raw.save(new_file_path, overwrite=True)\n"
          ]
        },
        {
          "name": "stdout",
          "output_type": "stream",
          "text": [
            "Closing /mnt/cogsci/home/ybo/189/content/cleaned_data/first_session/A02T.fif\n",
            "[done]\n",
            "Extracting EDF parameters from /mnt/cogsci/home/ybo/189/content/raw_data/A06T.gdf...\n",
            "GDF file detected\n",
            "Setting channel info structure...\n",
            "Could not determine channel type of the following channels, they will be set as EEG:\n",
            "EEG-Fz, EEG, EEG, EEG, EEG, EEG, EEG, EEG-C3, EEG, EEG-Cz, EEG, EEG-C4, EEG, EEG, EEG, EEG, EEG, EEG, EEG, EEG-Pz, EEG, EEG\n",
            "Creating raw.info structure...\n",
            "Reading 0 ... 678979  =      0.000 ...  2715.916 secs...\n"
          ]
        },
        {
          "name": "stderr",
          "output_type": "stream",
          "text": [
            "/home/ybo/miniconda3/envs/myenv/lib/python3.12/contextlib.py:144: RuntimeWarning: Channel names are not unique, found duplicates for: {'EEG'}. Applying running numbers for duplicates.\n",
            "  next(self.gen)\n"
          ]
        },
        {
          "name": "stdout",
          "output_type": "stream",
          "text": [
            "Filtering raw data in 1 contiguous segment\n",
            "Setting up band-pass filter from 4 - 40 Hz\n",
            "\n",
            "IIR filter parameters\n",
            "---------------------\n",
            "Butterworth bandpass zero-phase (two-pass forward and reverse) non-causal filter:\n",
            "- Filter order 16 (effective, after forward-backward)\n",
            "- Cutoffs at 4.00, 40.00 Hz: -6.02, -6.02 dB\n",
            "\n",
            "Filtering raw data in 1 contiguous segment\n",
            "Setting up band-stop filter from 49 - 51 Hz\n",
            "\n",
            "FIR filter parameters\n",
            "---------------------\n",
            "Designing a one-pass, zero-phase, non-causal bandstop filter:\n",
            "- Windowed time-domain design (firwin) method\n",
            "- Hamming window with 0.0194 passband ripple and 53 dB stopband attenuation\n",
            "- Lower passband edge: 49.38\n",
            "- Lower transition bandwidth: 0.50 Hz (-6 dB cutoff frequency: 49.12 Hz)\n",
            "- Upper passband edge: 50.62 Hz\n",
            "- Upper transition bandwidth: 0.50 Hz (-6 dB cutoff frequency: 50.88 Hz)\n",
            "- Filter length: 1651 samples (6.604 s)\n",
            "\n",
            "Writing /mnt/cogsci/home/ybo/189/content/cleaned_data/first_session/A06T.fif\n"
          ]
        },
        {
          "name": "stderr",
          "output_type": "stream",
          "text": [
            "[Parallel(n_jobs=1)]: Done  17 tasks      | elapsed:    0.2s\n",
            "/tmp/ipykernel_1558169/1930688462.py:28: RuntimeWarning: This filename (/mnt/cogsci/home/ybo/189/content/cleaned_data/first_session/A06T.fif) does not conform to MNE naming conventions. All raw files should end with raw.fif, raw_sss.fif, raw_tsss.fif, _meg.fif, _eeg.fif, _ieeg.fif, raw.fif.gz, raw_sss.fif.gz, raw_tsss.fif.gz, _meg.fif.gz, _eeg.fif.gz or _ieeg.fif.gz\n",
            "  raw.save(new_file_path, overwrite=True)\n"
          ]
        },
        {
          "name": "stdout",
          "output_type": "stream",
          "text": [
            "Closing /mnt/cogsci/home/ybo/189/content/cleaned_data/first_session/A06T.fif\n",
            "[done]\n",
            "Extracting EDF parameters from /mnt/cogsci/home/ybo/189/content/raw_data/A08T.gdf...\n",
            "GDF file detected\n",
            "Setting channel info structure...\n",
            "Could not determine channel type of the following channels, they will be set as EEG:\n",
            "EEG-Fz, EEG, EEG, EEG, EEG, EEG, EEG, EEG-C3, EEG, EEG-Cz, EEG, EEG-C4, EEG, EEG, EEG, EEG, EEG, EEG, EEG, EEG-Pz, EEG, EEG\n",
            "Creating raw.info structure...\n",
            "Reading 0 ... 675269  =      0.000 ...  2701.076 secs...\n"
          ]
        },
        {
          "name": "stderr",
          "output_type": "stream",
          "text": [
            "/home/ybo/miniconda3/envs/myenv/lib/python3.12/contextlib.py:144: RuntimeWarning: Channel names are not unique, found duplicates for: {'EEG'}. Applying running numbers for duplicates.\n",
            "  next(self.gen)\n"
          ]
        },
        {
          "name": "stdout",
          "output_type": "stream",
          "text": [
            "Filtering raw data in 1 contiguous segment\n",
            "Setting up band-pass filter from 4 - 40 Hz\n",
            "\n",
            "IIR filter parameters\n",
            "---------------------\n",
            "Butterworth bandpass zero-phase (two-pass forward and reverse) non-causal filter:\n",
            "- Filter order 16 (effective, after forward-backward)\n",
            "- Cutoffs at 4.00, 40.00 Hz: -6.02, -6.02 dB\n",
            "\n",
            "Filtering raw data in 1 contiguous segment\n",
            "Setting up band-stop filter from 49 - 51 Hz\n",
            "\n",
            "FIR filter parameters\n",
            "---------------------\n",
            "Designing a one-pass, zero-phase, non-causal bandstop filter:\n",
            "- Windowed time-domain design (firwin) method\n",
            "- Hamming window with 0.0194 passband ripple and 53 dB stopband attenuation\n",
            "- Lower passband edge: 49.38\n",
            "- Lower transition bandwidth: 0.50 Hz (-6 dB cutoff frequency: 49.12 Hz)\n",
            "- Upper passband edge: 50.62 Hz\n",
            "- Upper transition bandwidth: 0.50 Hz (-6 dB cutoff frequency: 50.88 Hz)\n",
            "- Filter length: 1651 samples (6.604 s)\n",
            "\n",
            "Writing /mnt/cogsci/home/ybo/189/content/cleaned_data/first_session/A08T.fif\n"
          ]
        },
        {
          "name": "stderr",
          "output_type": "stream",
          "text": [
            "[Parallel(n_jobs=1)]: Done  17 tasks      | elapsed:    0.2s\n",
            "/tmp/ipykernel_1558169/1930688462.py:28: RuntimeWarning: This filename (/mnt/cogsci/home/ybo/189/content/cleaned_data/first_session/A08T.fif) does not conform to MNE naming conventions. All raw files should end with raw.fif, raw_sss.fif, raw_tsss.fif, _meg.fif, _eeg.fif, _ieeg.fif, raw.fif.gz, raw_sss.fif.gz, raw_tsss.fif.gz, _meg.fif.gz, _eeg.fif.gz or _ieeg.fif.gz\n",
            "  raw.save(new_file_path, overwrite=True)\n"
          ]
        },
        {
          "name": "stdout",
          "output_type": "stream",
          "text": [
            "Closing /mnt/cogsci/home/ybo/189/content/cleaned_data/first_session/A08T.fif\n",
            "[done]\n",
            "Extracting EDF parameters from /mnt/cogsci/home/ybo/189/content/raw_data/A04T.gdf...\n",
            "GDF file detected\n",
            "Setting channel info structure...\n",
            "Could not determine channel type of the following channels, they will be set as EEG:\n",
            "EEG-Fz, EEG, EEG, EEG, EEG, EEG, EEG, EEG-C3, EEG, EEG-Cz, EEG, EEG-C4, EEG, EEG, EEG, EEG, EEG, EEG, EEG, EEG-Pz, EEG, EEG\n",
            "Creating raw.info structure...\n",
            "Reading 0 ... 600914  =      0.000 ...  2403.656 secs...\n"
          ]
        },
        {
          "name": "stderr",
          "output_type": "stream",
          "text": [
            "/home/ybo/miniconda3/envs/myenv/lib/python3.12/contextlib.py:144: RuntimeWarning: Channel names are not unique, found duplicates for: {'EEG'}. Applying running numbers for duplicates.\n",
            "  next(self.gen)\n"
          ]
        },
        {
          "name": "stdout",
          "output_type": "stream",
          "text": [
            "Filtering raw data in 1 contiguous segment\n",
            "Setting up band-pass filter from 4 - 40 Hz\n",
            "\n",
            "IIR filter parameters\n",
            "---------------------\n",
            "Butterworth bandpass zero-phase (two-pass forward and reverse) non-causal filter:\n",
            "- Filter order 16 (effective, after forward-backward)\n",
            "- Cutoffs at 4.00, 40.00 Hz: -6.02, -6.02 dB\n",
            "\n",
            "Filtering raw data in 1 contiguous segment\n",
            "Setting up band-stop filter from 49 - 51 Hz\n",
            "\n",
            "FIR filter parameters\n",
            "---------------------\n",
            "Designing a one-pass, zero-phase, non-causal bandstop filter:\n",
            "- Windowed time-domain design (firwin) method\n",
            "- Hamming window with 0.0194 passband ripple and 53 dB stopband attenuation\n",
            "- Lower passband edge: 49.38\n",
            "- Lower transition bandwidth: 0.50 Hz (-6 dB cutoff frequency: 49.12 Hz)\n",
            "- Upper passband edge: 50.62 Hz\n",
            "- Upper transition bandwidth: 0.50 Hz (-6 dB cutoff frequency: 50.88 Hz)\n",
            "- Filter length: 1651 samples (6.604 s)\n",
            "\n",
            "Writing /mnt/cogsci/home/ybo/189/content/cleaned_data/first_session/A04T.fif\n"
          ]
        },
        {
          "name": "stderr",
          "output_type": "stream",
          "text": [
            "[Parallel(n_jobs=1)]: Done  17 tasks      | elapsed:    0.1s\n",
            "/tmp/ipykernel_1558169/1930688462.py:28: RuntimeWarning: This filename (/mnt/cogsci/home/ybo/189/content/cleaned_data/first_session/A04T.fif) does not conform to MNE naming conventions. All raw files should end with raw.fif, raw_sss.fif, raw_tsss.fif, _meg.fif, _eeg.fif, _ieeg.fif, raw.fif.gz, raw_sss.fif.gz, raw_tsss.fif.gz, _meg.fif.gz, _eeg.fif.gz or _ieeg.fif.gz\n",
            "  raw.save(new_file_path, overwrite=True)\n"
          ]
        },
        {
          "name": "stdout",
          "output_type": "stream",
          "text": [
            "Closing /mnt/cogsci/home/ybo/189/content/cleaned_data/first_session/A04T.fif\n",
            "[done]\n",
            "Extracting EDF parameters from /mnt/cogsci/home/ybo/189/content/raw_data/A01T.gdf...\n",
            "GDF file detected\n",
            "Setting channel info structure...\n",
            "Could not determine channel type of the following channels, they will be set as EEG:\n",
            "EEG-Fz, EEG, EEG, EEG, EEG, EEG, EEG, EEG-C3, EEG, EEG-Cz, EEG, EEG-C4, EEG, EEG, EEG, EEG, EEG, EEG, EEG, EEG-Pz, EEG, EEG\n",
            "Creating raw.info structure...\n",
            "Reading 0 ... 672527  =      0.000 ...  2690.108 secs...\n"
          ]
        },
        {
          "name": "stderr",
          "output_type": "stream",
          "text": [
            "/home/ybo/miniconda3/envs/myenv/lib/python3.12/contextlib.py:144: RuntimeWarning: Channel names are not unique, found duplicates for: {'EEG'}. Applying running numbers for duplicates.\n",
            "  next(self.gen)\n"
          ]
        },
        {
          "name": "stdout",
          "output_type": "stream",
          "text": [
            "Filtering raw data in 1 contiguous segment\n",
            "Setting up band-pass filter from 4 - 40 Hz\n",
            "\n",
            "IIR filter parameters\n",
            "---------------------\n",
            "Butterworth bandpass zero-phase (two-pass forward and reverse) non-causal filter:\n",
            "- Filter order 16 (effective, after forward-backward)\n",
            "- Cutoffs at 4.00, 40.00 Hz: -6.02, -6.02 dB\n",
            "\n",
            "Filtering raw data in 1 contiguous segment\n",
            "Setting up band-stop filter from 49 - 51 Hz\n",
            "\n",
            "FIR filter parameters\n",
            "---------------------\n",
            "Designing a one-pass, zero-phase, non-causal bandstop filter:\n",
            "- Windowed time-domain design (firwin) method\n",
            "- Hamming window with 0.0194 passband ripple and 53 dB stopband attenuation\n",
            "- Lower passband edge: 49.38\n",
            "- Lower transition bandwidth: 0.50 Hz (-6 dB cutoff frequency: 49.12 Hz)\n",
            "- Upper passband edge: 50.62 Hz\n",
            "- Upper transition bandwidth: 0.50 Hz (-6 dB cutoff frequency: 50.88 Hz)\n",
            "- Filter length: 1651 samples (6.604 s)\n",
            "\n",
            "Writing /mnt/cogsci/home/ybo/189/content/cleaned_data/first_session/A01T.fif\n"
          ]
        },
        {
          "name": "stderr",
          "output_type": "stream",
          "text": [
            "[Parallel(n_jobs=1)]: Done  17 tasks      | elapsed:    0.2s\n",
            "/tmp/ipykernel_1558169/1930688462.py:28: RuntimeWarning: This filename (/mnt/cogsci/home/ybo/189/content/cleaned_data/first_session/A01T.fif) does not conform to MNE naming conventions. All raw files should end with raw.fif, raw_sss.fif, raw_tsss.fif, _meg.fif, _eeg.fif, _ieeg.fif, raw.fif.gz, raw_sss.fif.gz, raw_tsss.fif.gz, _meg.fif.gz, _eeg.fif.gz or _ieeg.fif.gz\n",
            "  raw.save(new_file_path, overwrite=True)\n"
          ]
        },
        {
          "name": "stdout",
          "output_type": "stream",
          "text": [
            "Closing /mnt/cogsci/home/ybo/189/content/cleaned_data/first_session/A01T.fif\n",
            "[done]\n",
            "Extracting EDF parameters from /mnt/cogsci/home/ybo/189/content/raw_data/A05T.gdf...\n",
            "GDF file detected\n",
            "Setting channel info structure...\n",
            "Could not determine channel type of the following channels, they will be set as EEG:\n",
            "EEG-Fz, EEG, EEG, EEG, EEG, EEG, EEG, EEG-C3, EEG, EEG-Cz, EEG, EEG-C4, EEG, EEG, EEG, EEG, EEG, EEG, EEG, EEG-Pz, EEG, EEG\n",
            "Creating raw.info structure...\n",
            "Reading 0 ... 686119  =      0.000 ...  2744.476 secs...\n"
          ]
        },
        {
          "name": "stderr",
          "output_type": "stream",
          "text": [
            "/home/ybo/miniconda3/envs/myenv/lib/python3.12/contextlib.py:144: RuntimeWarning: Channel names are not unique, found duplicates for: {'EEG'}. Applying running numbers for duplicates.\n",
            "  next(self.gen)\n"
          ]
        },
        {
          "name": "stdout",
          "output_type": "stream",
          "text": [
            "Filtering raw data in 1 contiguous segment\n",
            "Setting up band-pass filter from 4 - 40 Hz\n",
            "\n",
            "IIR filter parameters\n",
            "---------------------\n",
            "Butterworth bandpass zero-phase (two-pass forward and reverse) non-causal filter:\n",
            "- Filter order 16 (effective, after forward-backward)\n",
            "- Cutoffs at 4.00, 40.00 Hz: -6.02, -6.02 dB\n",
            "\n",
            "Filtering raw data in 1 contiguous segment\n",
            "Setting up band-stop filter from 49 - 51 Hz\n",
            "\n",
            "FIR filter parameters\n",
            "---------------------\n",
            "Designing a one-pass, zero-phase, non-causal bandstop filter:\n",
            "- Windowed time-domain design (firwin) method\n",
            "- Hamming window with 0.0194 passband ripple and 53 dB stopband attenuation\n",
            "- Lower passband edge: 49.38\n",
            "- Lower transition bandwidth: 0.50 Hz (-6 dB cutoff frequency: 49.12 Hz)\n",
            "- Upper passband edge: 50.62 Hz\n",
            "- Upper transition bandwidth: 0.50 Hz (-6 dB cutoff frequency: 50.88 Hz)\n",
            "- Filter length: 1651 samples (6.604 s)\n",
            "\n",
            "Writing /mnt/cogsci/home/ybo/189/content/cleaned_data/first_session/A05T.fif\n"
          ]
        },
        {
          "name": "stderr",
          "output_type": "stream",
          "text": [
            "[Parallel(n_jobs=1)]: Done  17 tasks      | elapsed:    0.2s\n",
            "/tmp/ipykernel_1558169/1930688462.py:28: RuntimeWarning: This filename (/mnt/cogsci/home/ybo/189/content/cleaned_data/first_session/A05T.fif) does not conform to MNE naming conventions. All raw files should end with raw.fif, raw_sss.fif, raw_tsss.fif, _meg.fif, _eeg.fif, _ieeg.fif, raw.fif.gz, raw_sss.fif.gz, raw_tsss.fif.gz, _meg.fif.gz, _eeg.fif.gz or _ieeg.fif.gz\n",
            "  raw.save(new_file_path, overwrite=True)\n"
          ]
        },
        {
          "name": "stdout",
          "output_type": "stream",
          "text": [
            "Closing /mnt/cogsci/home/ybo/189/content/cleaned_data/first_session/A05T.fif\n",
            "[done]\n",
            "Extracting EDF parameters from /mnt/cogsci/home/ybo/189/content/raw_data/A09T.gdf...\n",
            "GDF file detected\n",
            "Setting channel info structure...\n",
            "Could not determine channel type of the following channels, they will be set as EEG:\n",
            "EEG-Fz, EEG, EEG, EEG, EEG, EEG, EEG, EEG-C3, EEG, EEG-Cz, EEG, EEG-C4, EEG, EEG, EEG, EEG, EEG, EEG, EEG, EEG-Pz, EEG, EEG\n",
            "Creating raw.info structure...\n",
            "Reading 0 ... 673327  =      0.000 ...  2693.308 secs...\n"
          ]
        },
        {
          "name": "stderr",
          "output_type": "stream",
          "text": [
            "/home/ybo/miniconda3/envs/myenv/lib/python3.12/contextlib.py:144: RuntimeWarning: Channel names are not unique, found duplicates for: {'EEG'}. Applying running numbers for duplicates.\n",
            "  next(self.gen)\n"
          ]
        },
        {
          "name": "stdout",
          "output_type": "stream",
          "text": [
            "Filtering raw data in 1 contiguous segment\n",
            "Setting up band-pass filter from 4 - 40 Hz\n",
            "\n",
            "IIR filter parameters\n",
            "---------------------\n",
            "Butterworth bandpass zero-phase (two-pass forward and reverse) non-causal filter:\n",
            "- Filter order 16 (effective, after forward-backward)\n",
            "- Cutoffs at 4.00, 40.00 Hz: -6.02, -6.02 dB\n",
            "\n",
            "Filtering raw data in 1 contiguous segment\n",
            "Setting up band-stop filter from 49 - 51 Hz\n",
            "\n",
            "FIR filter parameters\n",
            "---------------------\n",
            "Designing a one-pass, zero-phase, non-causal bandstop filter:\n",
            "- Windowed time-domain design (firwin) method\n",
            "- Hamming window with 0.0194 passband ripple and 53 dB stopband attenuation\n",
            "- Lower passband edge: 49.38\n",
            "- Lower transition bandwidth: 0.50 Hz (-6 dB cutoff frequency: 49.12 Hz)\n",
            "- Upper passband edge: 50.62 Hz\n",
            "- Upper transition bandwidth: 0.50 Hz (-6 dB cutoff frequency: 50.88 Hz)\n",
            "- Filter length: 1651 samples (6.604 s)\n",
            "\n",
            "Writing /mnt/cogsci/home/ybo/189/content/cleaned_data/first_session/A09T.fif\n"
          ]
        },
        {
          "name": "stderr",
          "output_type": "stream",
          "text": [
            "[Parallel(n_jobs=1)]: Done  17 tasks      | elapsed:    0.2s\n",
            "/tmp/ipykernel_1558169/1930688462.py:28: RuntimeWarning: This filename (/mnt/cogsci/home/ybo/189/content/cleaned_data/first_session/A09T.fif) does not conform to MNE naming conventions. All raw files should end with raw.fif, raw_sss.fif, raw_tsss.fif, _meg.fif, _eeg.fif, _ieeg.fif, raw.fif.gz, raw_sss.fif.gz, raw_tsss.fif.gz, _meg.fif.gz, _eeg.fif.gz or _ieeg.fif.gz\n",
            "  raw.save(new_file_path, overwrite=True)\n"
          ]
        },
        {
          "name": "stdout",
          "output_type": "stream",
          "text": [
            "Closing /mnt/cogsci/home/ybo/189/content/cleaned_data/first_session/A09T.fif\n",
            "[done]\n",
            "Writing /mnt/cogsci/home/ybo/189/content/cleaned_data/first_session/First_Session_Subjects.fif\n"
          ]
        },
        {
          "name": "stderr",
          "output_type": "stream",
          "text": [
            "/tmp/ipykernel_1558169/1930688462.py:34: RuntimeWarning: This filename (/mnt/cogsci/home/ybo/189/content/cleaned_data/first_session/First_Session_Subjects.fif) does not conform to MNE naming conventions. All raw files should end with raw.fif, raw_sss.fif, raw_tsss.fif, _meg.fif, _eeg.fif, _ieeg.fif, raw.fif.gz, raw_sss.fif.gz, raw_tsss.fif.gz, _meg.fif.gz, _eeg.fif.gz or _ieeg.fif.gz\n",
            "  final_raw.save(new_file_path, overwrite=True)\n"
          ]
        },
        {
          "name": "stdout",
          "output_type": "stream",
          "text": [
            "Closing /mnt/cogsci/home/ybo/189/content/cleaned_data/first_session/First_Session_Subjects.fif\n",
            "[done]\n"
          ]
        },
        {
          "data": {
            "text/plain": [
              "[PosixPath('/mnt/cogsci/home/ybo/189/content/cleaned_data/first_session/First_Session_Subjects.fif')]"
            ]
          },
          "execution_count": 16,
          "metadata": {},
          "output_type": "execute_result"
        }
      ],
      "source": [
        "cwd = os.getcwd()\n",
        "raw_data_folder = cwd+'/content/raw_data/'\n",
        "cleaned_data_folder =  cwd+'/content/cleaned_data/first_session/'\n",
        "files = os.listdir(raw_data_folder)\n",
        "\n",
        "# Selecting files with suffix 'T.gdf'\n",
        "filtered_files = [file for file in files if file.endswith('T.gdf')]\n",
        "\n",
        "raw_list = []\n",
        "\n",
        "# Iterating through filtered files\n",
        "for file in filtered_files:\n",
        "    file_path = os.path.join(raw_data_folder, file)\n",
        "\n",
        "    # Reading raw data\n",
        "    raw = mne.io.read_raw_gdf(file_path, eog=['EOG-left', 'EOG-central', 'EOG-right'], preload=True)\n",
        "    # Droping EOG channels\n",
        "    raw.drop_channels(['EOG-left', 'EOG-central', 'EOG-right'])\n",
        "\n",
        "    # High Pass Filtering 4-40 Hz\n",
        "    raw.filter(l_freq=4, h_freq=40, method='iir')\n",
        "\n",
        "    # Notch filter for Removal of Line Voltage\n",
        "    raw.notch_filter(freqs=50)\n",
        "\n",
        "    # Saving the modified raw data to a file with .fif suffix\n",
        "    new_file_path = os.path.join(cleaned_data_folder, file[:-4] + '.fif')\n",
        "    raw.save(new_file_path, overwrite=True)\n",
        "    # Appending data to the list\n",
        "    raw_list.append(raw)\n",
        "\n",
        "final_raw = mne.concatenate_raws(raw_list)\n",
        "new_file_path = os.path.join(cleaned_data_folder, 'First_Session_Subjects.fif')\n",
        "final_raw.save(new_file_path, overwrite=True)\n"
      ]
    },
    {
      "cell_type": "code",
      "execution_count": 17,
      "metadata": {},
      "outputs": [
        {
          "data": {
            "text/html": [
              "<script type=\"text/javascript\">\n",
              "    // must be `var` (not `const`) because this can get embedded multiple times on a page\n",
              "var toggleVisibility = (className) => {\n",
              "\n",
              "    const elements = document.querySelectorAll(`.${className}`);\n",
              "\n",
              "    elements.forEach(element => {\n",
              "        if (element.classList.contains(\"mne-repr-section-header\")) {\n",
              "            return  // Don't collapse the section header row\n",
              "        }\n",
              "        element.classList.toggle(\"mne-repr-collapsed\");\n",
              "    });\n",
              "\n",
              "    // trigger caret to rotate\n",
              "    var sel = `.mne-repr-section-header.${className} > th.mne-repr-section-toggle > button`;\n",
              "    const button = document.querySelector(sel);\n",
              "    button.classList.toggle(\"collapsed\");\n",
              "\n",
              "    // adjust tooltip\n",
              "    sel = `tr.mne-repr-section-header.${className}`;\n",
              "    const secHeadRow = document.querySelector(sel);\n",
              "    secHeadRow.classList.toggle(\"collapsed\");\n",
              "    secHeadRow.title = secHeadRow.title === \"Hide section\" ? \"Show section\" : \"Hide section\";\n",
              "}\n",
              "</script>\n",
              "\n",
              "<style type=\"text/css\">\n",
              "    /*\n",
              "Styles in this section apply both to the sphinx-built website docs and to notebooks\n",
              "rendered in an IDE or in Jupyter. In our web docs, styles here are complemented by\n",
              "doc/_static/styles.css and other CSS files (e.g. from the sphinx theme, sphinx-gallery,\n",
              "or bootstrap). In IDEs/Jupyter, those style files are unavailable, so only the rules in\n",
              "this file apply (plus whatever default styling the IDE applies).\n",
              "*/\n",
              ".mne-repr-table {\n",
              "    display: inline;  /* prevent using full container width */\n",
              "}\n",
              ".mne-repr-table tr.mne-repr-section-header > th {\n",
              "    padding-top: 1rem;\n",
              "    text-align: left;\n",
              "    vertical-align: middle;\n",
              "}\n",
              ".mne-repr-section-toggle > button {\n",
              "    all: unset;\n",
              "    display: block;\n",
              "    height: 1rem;\n",
              "    width: 1rem;\n",
              "}\n",
              ".mne-repr-section-toggle > button > svg {\n",
              "    height: 60%;\n",
              "}\n",
              "\n",
              "/* transition (rotation) effects on the collapser button */\n",
              ".mne-repr-section-toggle > button.collapsed > svg {\n",
              "    transition: 0.1s ease-out;\n",
              "    transform: rotate(-90deg);\n",
              "}\n",
              ".mne-repr-section-toggle > button:not(.collapsed) > svg {\n",
              "    transition: 0.1s ease-out;\n",
              "    transform: rotate(0deg);\n",
              "}\n",
              "\n",
              "/* hide collapsed table rows */\n",
              ".mne-repr-collapsed {\n",
              "    display: none;\n",
              "}\n",
              "\n",
              "\n",
              "@layer {\n",
              "    /*\n",
              "    Selectors in a `@layer` will always be lower-precedence than selectors outside the\n",
              "    layer. So even though e.g. `div.output_html` is present in the sphinx-rendered\n",
              "    website docs, the styles here won't take effect there as long as some other rule\n",
              "    somewhere in the page's CSS targets the same element.\n",
              "\n",
              "    In IDEs or Jupyter notebooks, though, the CSS files from the sphinx theme,\n",
              "    sphinx-gallery, and bootstrap are unavailable, so these styles will apply.\n",
              "\n",
              "    Notes:\n",
              "\n",
              "    - the selector `.accordion-body` is for MNE Reports\n",
              "    - the selector `.output_html` is for VSCode's notebook interface\n",
              "    - the selector `.jp-RenderedHTML` is for Jupyter notebook\n",
              "    - variables starting with `--theme-` are VSCode-specific.\n",
              "    - variables starting with `--jp-` are Jupyter styles, *some of which* are also\n",
              "      available in VSCode. Here we try the `--theme-` variable first, then fall back to\n",
              "      the `--jp-` ones.\n",
              "    */\n",
              "    .mne-repr-table {\n",
              "        --mne-toggle-color: var(--theme-foreground, var(--jp-ui-font-color1));\n",
              "        --mne-button-bg-color: var(--theme-button-background, var(--jp-info-color0, var(--jp-content-link-color)));\n",
              "        --mne-button-fg-color: var(--theme-button-foreground, var(--jp-ui-inverse-font-color0, var(--jp-editor-background)));\n",
              "        --mne-button-hover-bg-color: var(--theme-button-hover-background, var(--jp-info-color1));\n",
              "        --mne-button-radius: var(--jp-border-radius, 0.25rem);\n",
              "    }\n",
              "    /* chevron position/alignment; in VSCode it looks ok without adjusting */\n",
              "    .accordion-body .mne-repr-section-toggle > button,\n",
              "    .jp-RenderedHTML .mne-repr-section-toggle > button {\n",
              "        padding: 0 0 45% 25% !important;\n",
              "    }\n",
              "    /* chevron color; MNE Report doesn't have light/dark mode */\n",
              "    div.output_html .mne-repr-section-toggle > button > svg > path,\n",
              "    .jp-RenderedHTML .mne-repr-section-toggle > button > svg > path {\n",
              "        fill: var(--mne-toggle-color);\n",
              "    }\n",
              "    .accordion-body .mne-ch-names-btn,\n",
              "    div.output_html .mne-ch-names-btn,\n",
              "    .jp-RenderedHTML .mne-ch-names-btn {\n",
              "        -webkit-border-radius: var(--mne-button-radius);\n",
              "        -moz-border-radius: var(--mne-button-radius);\n",
              "        border-radius: var(--mne-button-radius);\n",
              "        border: none;\n",
              "        background-image: none;\n",
              "        background-color: var(--mne-button-bg-color);\n",
              "        color: var(--mne-button-fg-color);\n",
              "        font-size: inherit;\n",
              "        min-width: 1.5rem;\n",
              "        padding: 0.25rem;\n",
              "        text-align: center;\n",
              "        text-decoration: none;\n",
              "    }\n",
              "    .accordion-body .mne-ch-names-btn:hover,\n",
              "    div.output_html .mne.ch-names-btn:hover,\n",
              "    .jp-RenderedHTML .mne-ch-names-btn:hover {\n",
              "        background-color: var(--mne-button-hover-bg-color);\n",
              "        text-decoration: underline;\n",
              "    }\n",
              "    .accordion-body .mne-ch-names-btn:focus-visible,\n",
              "    div.output_html .mne-ch-names-btn:focus-visible,\n",
              "    .jp-RenderedHTML .mne-ch-names-btn:focus-visible {\n",
              "        outline: 0.1875rem solid var(--mne-button-bg-color) !important;\n",
              "        outline-offset: 0.1875rem !important;\n",
              "    }\n",
              "}\n",
              "</style>\n",
              "\n",
              "\n",
              "\n",
              "<table class=\"table mne-repr-table\">\n",
              "    \n",
              "\n",
              "\n",
              "\n",
              "\n",
              "\n",
              "\n",
              "\n",
              "<tr class=\"mne-repr-section-header general-ed63cc74-8066-40e7-8e5c-9660a9963c88\"\n",
              "     title=\"Hide section\" \n",
              "    onclick=\"toggleVisibility('general-ed63cc74-8066-40e7-8e5c-9660a9963c88')\">\n",
              "    <th class=\"mne-repr-section-toggle\">\n",
              "        <button >\n",
              "            <svg xmlns=\"http://www.w3.org/2000/svg\" viewBox=\"0 0 512 512\"><!--!Font Awesome Free 6.6.0 by @fontawesome - https://fontawesome.com License - https://fontawesome.com/license/free Copyright 2024 Fonticons, Inc.--><path d=\"M233.4 406.6c12.5 12.5 32.8 12.5 45.3 0l192-192c12.5-12.5 12.5-32.8 0-45.3s-32.8-12.5-45.3 0L256 338.7 86.6 169.4c-12.5-12.5-32.8-12.5-45.3 0s-12.5 32.8 0 45.3l192 192z\"/></svg>\n",
              "        </button>\n",
              "    </th>\n",
              "    <th colspan=\"2\">\n",
              "        <strong>General</strong>\n",
              "    </th>\n",
              "</tr>\n",
              "\n",
              "\n",
              "<tr class=\"repr-element general-ed63cc74-8066-40e7-8e5c-9660a9963c88 \">\n",
              "    <td class=\"mne-repr-section-toggle\"></td>\n",
              "    <td>Filename(s)</td>\n",
              "    <td>\n",
              "        \n",
              "        A03T.gdf\n",
              "        <br />\n",
              "        \n",
              "        A07T.gdf\n",
              "        <br />\n",
              "        \n",
              "        A02T.gdf\n",
              "        <br />\n",
              "        \n",
              "        A06T.gdf\n",
              "        <br />\n",
              "        \n",
              "        A08T.gdf\n",
              "        <br />\n",
              "        \n",
              "        A04T.gdf\n",
              "        <br />\n",
              "        \n",
              "        A01T.gdf\n",
              "        <br />\n",
              "        \n",
              "        A05T.gdf\n",
              "        <br />\n",
              "        \n",
              "        A09T.gdf\n",
              "        \n",
              "        \n",
              "    </td>\n",
              "</tr>\n",
              "\n",
              "<tr class=\"repr-element general-ed63cc74-8066-40e7-8e5c-9660a9963c88 \">\n",
              "    <td class=\"mne-repr-section-toggle\"></td>\n",
              "    <td>MNE object type</td>\n",
              "    <td>RawGDF</td>\n",
              "</tr>\n",
              "<tr class=\"repr-element general-ed63cc74-8066-40e7-8e5c-9660a9963c88 \">\n",
              "    <td class=\"mne-repr-section-toggle\"></td>\n",
              "    <td>Measurement date</td>\n",
              "    \n",
              "    <td>2004-11-09 at 12:00:00 UTC</td>\n",
              "    \n",
              "</tr>\n",
              "<tr class=\"repr-element general-ed63cc74-8066-40e7-8e5c-9660a9963c88 \">\n",
              "    <td class=\"mne-repr-section-toggle\"></td>\n",
              "    <td>Participant</td>\n",
              "    \n",
              "    \n",
              "    <td>A03</td>\n",
              "    \n",
              "    \n",
              "</tr>\n",
              "<tr class=\"repr-element general-ed63cc74-8066-40e7-8e5c-9660a9963c88 \">\n",
              "    <td class=\"mne-repr-section-toggle\"></td>\n",
              "    <td>Experimenter</td>\n",
              "    \n",
              "    <td>Unknown</td>\n",
              "    \n",
              "</tr>\n",
              "    \n",
              "\n",
              "\n",
              "\n",
              "\n",
              "\n",
              "\n",
              "\n",
              "<tr class=\"mne-repr-section-header acquisition-68f0543c-c7f0-4280-80b4-393b6713dcc6\"\n",
              "     title=\"Hide section\" \n",
              "    onclick=\"toggleVisibility('acquisition-68f0543c-c7f0-4280-80b4-393b6713dcc6')\">\n",
              "    <th class=\"mne-repr-section-toggle\">\n",
              "        <button >\n",
              "            <svg xmlns=\"http://www.w3.org/2000/svg\" viewBox=\"0 0 512 512\"><!--!Font Awesome Free 6.6.0 by @fontawesome - https://fontawesome.com License - https://fontawesome.com/license/free Copyright 2024 Fonticons, Inc.--><path d=\"M233.4 406.6c12.5 12.5 32.8 12.5 45.3 0l192-192c12.5-12.5 12.5-32.8 0-45.3s-32.8-12.5-45.3 0L256 338.7 86.6 169.4c-12.5-12.5-32.8-12.5-45.3 0s-12.5 32.8 0 45.3l192 192z\"/></svg>\n",
              "        </button>\n",
              "    </th>\n",
              "    <th colspan=\"2\">\n",
              "        <strong>Acquisition</strong>\n",
              "    </th>\n",
              "</tr>\n",
              "\n",
              "\n",
              "<tr class=\"repr-element acquisition-68f0543c-c7f0-4280-80b4-393b6713dcc6 \">\n",
              "    <td class=\"mne-repr-section-toggle\"></td>\n",
              "    <td>Duration</td>\n",
              "    <td>06:40:24 (HH:MM:SS)</td>\n",
              "</tr>\n",
              "\n",
              "\n",
              "\n",
              "\n",
              "\n",
              "\n",
              "\n",
              "\n",
              "<tr class=\"repr-element acquisition-68f0543c-c7f0-4280-80b4-393b6713dcc6 \">\n",
              "    <td class=\"mne-repr-section-toggle\"></td>\n",
              "    <td>Sampling frequency</td>\n",
              "    <td>250.00 Hz</td>\n",
              "</tr>\n",
              "\n",
              "\n",
              "<tr class=\"repr-element acquisition-68f0543c-c7f0-4280-80b4-393b6713dcc6 \">\n",
              "    <td class=\"mne-repr-section-toggle\"></td>\n",
              "    <td>Time points</td>\n",
              "    <td>6,005,911</td>\n",
              "</tr>\n",
              "\n",
              "\n",
              "    \n",
              "\n",
              "\n",
              "\n",
              "\n",
              "\n",
              "\n",
              "\n",
              "<tr class=\"mne-repr-section-header channels-3d254e56-d0a8-454c-9551-702e5b5ed306\"\n",
              "     title=\"Hide section\" \n",
              "    onclick=\"toggleVisibility('channels-3d254e56-d0a8-454c-9551-702e5b5ed306')\">\n",
              "    <th class=\"mne-repr-section-toggle\">\n",
              "        <button >\n",
              "            <svg xmlns=\"http://www.w3.org/2000/svg\" viewBox=\"0 0 512 512\"><!--!Font Awesome Free 6.6.0 by @fontawesome - https://fontawesome.com License - https://fontawesome.com/license/free Copyright 2024 Fonticons, Inc.--><path d=\"M233.4 406.6c12.5 12.5 32.8 12.5 45.3 0l192-192c12.5-12.5 12.5-32.8 0-45.3s-32.8-12.5-45.3 0L256 338.7 86.6 169.4c-12.5-12.5-32.8-12.5-45.3 0s-12.5 32.8 0 45.3l192 192z\"/></svg>\n",
              "        </button>\n",
              "    </th>\n",
              "    <th colspan=\"2\">\n",
              "        <strong>Channels</strong>\n",
              "    </th>\n",
              "</tr>\n",
              "\n",
              "\n",
              "    \n",
              "<tr class=\"repr-element channels-3d254e56-d0a8-454c-9551-702e5b5ed306 \">\n",
              "    <td class=\"mne-repr-section-toggle\"></td>\n",
              "    <td>EEG</td>\n",
              "    <td>\n",
              "        <button class=\"mne-ch-names-btn sd-sphinx-override sd-btn sd-btn-info sd-text-wrap sd-shadow-sm\" onclick=\"alert('Good EEG:\\n\\nEEG-Fz, EEG-0, EEG-1, EEG-2, EEG-3, EEG-4, EEG-5, EEG-C3, EEG-6, EEG-Cz, EEG-7, EEG-C4, EEG-8, EEG-9, EEG-10, EEG-11, EEG-12, EEG-13, EEG-14, EEG-Pz, EEG-15, EEG-16')\" title=\"(Click to open in popup)&#13;&#13;EEG-Fz, EEG-0, EEG-1, EEG-2, EEG-3, EEG-4, EEG-5, EEG-C3, EEG-6, EEG-Cz, EEG-7, EEG-C4, EEG-8, EEG-9, EEG-10, EEG-11, EEG-12, EEG-13, EEG-14, EEG-Pz, EEG-15, EEG-16\">\n",
              "            22\n",
              "        </button>\n",
              "\n",
              "        \n",
              "    </td>\n",
              "</tr>\n",
              "\n",
              "\n",
              "<tr class=\"repr-element channels-3d254e56-d0a8-454c-9551-702e5b5ed306 \">\n",
              "    <td class=\"mne-repr-section-toggle\"></td>\n",
              "    <td>Head & sensor digitization</td>\n",
              "    \n",
              "    <td>Not available</td>\n",
              "    \n",
              "</tr>\n",
              "    \n",
              "\n",
              "\n",
              "\n",
              "\n",
              "\n",
              "\n",
              "\n",
              "<tr class=\"mne-repr-section-header filters-c04926df-acb1-4013-94a6-76216756fa83\"\n",
              "     title=\"Hide section\" \n",
              "    onclick=\"toggleVisibility('filters-c04926df-acb1-4013-94a6-76216756fa83')\">\n",
              "    <th class=\"mne-repr-section-toggle\">\n",
              "        <button >\n",
              "            <svg xmlns=\"http://www.w3.org/2000/svg\" viewBox=\"0 0 512 512\"><!--!Font Awesome Free 6.6.0 by @fontawesome - https://fontawesome.com License - https://fontawesome.com/license/free Copyright 2024 Fonticons, Inc.--><path d=\"M233.4 406.6c12.5 12.5 32.8 12.5 45.3 0l192-192c12.5-12.5 12.5-32.8 0-45.3s-32.8-12.5-45.3 0L256 338.7 86.6 169.4c-12.5-12.5-32.8-12.5-45.3 0s-12.5 32.8 0 45.3l192 192z\"/></svg>\n",
              "        </button>\n",
              "    </th>\n",
              "    <th colspan=\"2\">\n",
              "        <strong>Filters</strong>\n",
              "    </th>\n",
              "</tr>\n",
              "\n",
              "\n",
              "<tr class=\"repr-element filters-c04926df-acb1-4013-94a6-76216756fa83 \">\n",
              "    <td class=\"mne-repr-section-toggle\"></td>\n",
              "    <td>Highpass</td>\n",
              "    <td>4.00 Hz</td>\n",
              "</tr>\n",
              "\n",
              "\n",
              "<tr class=\"repr-element filters-c04926df-acb1-4013-94a6-76216756fa83 \">\n",
              "    <td class=\"mne-repr-section-toggle\"></td>\n",
              "    <td>Lowpass</td>\n",
              "    <td>40.00 Hz</td>\n",
              "</tr>\n",
              "\n",
              "\n",
              "</table>"
            ],
            "text/plain": [
              "<RawGDF | A03T.gdf, 22 x 6005911 (24023.6 s), ~1008.1 MiB, data loaded>"
            ]
          },
          "execution_count": 17,
          "metadata": {},
          "output_type": "execute_result"
        }
      ],
      "source": [
        "final_raw"
      ]
    },
    {
      "cell_type": "markdown",
      "metadata": {
        "id": "wNqq3V3rCiPn"
      },
      "source": [
        "**List of the events**  \n",
        "'1023': 1 Rejected trial  \n",
        "'1072': 2 Eye movements  \n",
        "'276': 3 Idling EEG (eyes open)  \n",
        "'277': 4 Idling EEG (eyes closed)  \n",
        "'32766': 5 Start of a new run  \n",
        "'768': 6 Start of a trial  \n",
        "'769': 7 Cue onset **Left** (class 1) : 0  \n",
        "'770': 8 Cue onset **Right** (class 2) : 1  \n",
        "'771': 9 Cue onset **Foot** (class 3) : 2  \n",
        "'772': 10 Cue onset **Tongue** (class 4): 3"
      ]
    },
    {
      "cell_type": "code",
      "execution_count": 18,
      "metadata": {
        "colab": {
          "base_uri": "https://localhost:8080/"
        },
        "id": "-9RZjQbWCoc0",
        "outputId": "fbbd728f-9f7f-457e-d4c9-eaefe67bafa1"
      },
      "outputs": [
        {
          "name": "stdout",
          "output_type": "stream",
          "text": [
            "Used Annotations descriptions: ['1023', '1072', '276', '277', '32766', '768', '769', '770', '771', '772']\n"
          ]
        },
        {
          "data": {
            "text/plain": [
              "{'1023': 1,\n",
              " '1072': 2,\n",
              " '276': 3,\n",
              " '277': 4,\n",
              " '32766': 5,\n",
              " '768': 6,\n",
              " '769': 7,\n",
              " '770': 8,\n",
              " '771': 9,\n",
              " '772': 10}"
            ]
          },
          "execution_count": 18,
          "metadata": {},
          "output_type": "execute_result"
        }
      ],
      "source": [
        "events = mne.events_from_annotations(final_raw)\n",
        "events[1]"
      ]
    },
    {
      "cell_type": "markdown",
      "metadata": {
        "id": "PJAI_olujhxI"
      },
      "source": [
        "**Time choice:**  \n",
        "[0.s, 4s] Post Cue on set:  [2s, 6s]"
      ]
    },
    {
      "cell_type": "code",
      "execution_count": 19,
      "metadata": {
        "colab": {
          "base_uri": "https://localhost:8080/"
        },
        "id": "OaAuA1mQCqcP",
        "outputId": "4d33fb54-48f8-4eb9-c516-1b97747e39d6"
      },
      "outputs": [
        {
          "name": "stdout",
          "output_type": "stream",
          "text": [
            "Not setting metadata\n",
            "1296 matching events found\n",
            "No baseline correction applied\n",
            "0 projection items activated\n",
            "Using data from preloaded Raw for 1296 events and 1001 original time points ...\n"
          ]
        },
        {
          "name": "stdout",
          "output_type": "stream",
          "text": [
            "0 bad epochs dropped\n"
          ]
        }
      ],
      "source": [
        "# epochs = mne.Epochs(final_raw, events[0], event_id=[7, 8, 9, 10], tmin=0, tmax=4, reject=None, baseline=None, preload=True)\n",
        "# left & right only\n",
        "epochs = mne.Epochs(final_raw, events[0], event_id=[7, 8], tmin=0, tmax=4, reject=None, baseline=None, preload=True)\n",
        "first_session_data = epochs.get_data(copy=True)\n",
        "first_session_labels = epochs.events[:,-1]"
      ]
    },
    {
      "cell_type": "code",
      "execution_count": 20,
      "metadata": {
        "colab": {
          "base_uri": "https://localhost:8080/"
        },
        "id": "rVNRjQbfCs3-",
        "outputId": "041d64ef-2b44-49e8-d554-90bc0992bc36"
      },
      "outputs": [
        {
          "name": "stdout",
          "output_type": "stream",
          "text": [
            "First_session_dataset shape: (1296, 22, 1001)\n"
          ]
        }
      ],
      "source": [
        "print(\"First_session_dataset shape:\",first_session_data.shape)"
      ]
    },
    {
      "cell_type": "code",
      "execution_count": 32,
      "metadata": {},
      "outputs": [],
      "source": [
        "# [trial, channels, timepoints in epoch]"
      ]
    },
    {
      "cell_type": "code",
      "execution_count": 37,
      "metadata": {},
      "outputs": [
        {
          "data": {
            "text/plain": [
              "array([-4.96891398e-06, -3.99181947e-06,  2.16056820e-07, ...,\n",
              "        4.64398077e-06,  3.25708167e-06,  3.32457170e-07])"
            ]
          },
          "execution_count": 37,
          "metadata": {},
          "output_type": "execute_result"
        }
      ],
      "source": [
        "first_session_data[0][0]"
      ]
    },
    {
      "cell_type": "code",
      "execution_count": 31,
      "metadata": {},
      "outputs": [
        {
          "data": {
            "text/plain": [
              "(1296,)"
            ]
          },
          "execution_count": 31,
          "metadata": {},
          "output_type": "execute_result"
        }
      ],
      "source": [
        "first_session_labels.shape"
      ]
    },
    {
      "cell_type": "markdown",
      "metadata": {
        "id": "JJva8vhuMAtc"
      },
      "source": [
        "## Second Session"
      ]
    },
    {
      "cell_type": "markdown",
      "metadata": {
        "id": "bzQH8SI9MI72"
      },
      "source": [
        "### Extracting Labels for datas with \"E.gdf\" prefix"
      ]
    },
    {
      "cell_type": "code",
      "execution_count": 23,
      "metadata": {
        "colab": {
          "base_uri": "https://localhost:8080/",
          "height": 108
        },
        "id": "MjLuwdcgMD_l",
        "outputId": "be18a549-c7b2-4c6a-aa71-312a29c8e3a2"
      },
      "outputs": [
        {
          "name": "stderr",
          "output_type": "stream",
          "text": [
            "Downloading...\n",
            "From: https://drive.google.com/uc?id=11Ke2Xta1kv2xu2Mybuu_X51zJYjQ-VFo&export=download\n",
            "To: /mnt/cogsci/home/ybo/189/content/true_labels.zip\n",
            "100%|██████████| 7.20k/7.20k [00:00<00:00, 20.6MB/s]\n"
          ]
        },
        {
          "data": {
            "text/plain": [
              "'/mnt/cogsci/home/ybo/189/content/true_labels.zip'"
            ]
          },
          "execution_count": 23,
          "metadata": {},
          "output_type": "execute_result"
        }
      ],
      "source": [
        "# Replace this with your actual shareable link\n",
        "shareable_link = 'https://drive.google.com/file/d/11Ke2Xta1kv2xu2Mybuu_X51zJYjQ-VFo/view?usp=drive_link'\n",
        "\n",
        "# Extract file ID from the shareable link\n",
        "file_id = shareable_link.split('/d/')[1].split('/view')[0]\n",
        "\n",
        "# Create the direct download link\n",
        "download_url = f'https://drive.google.com/uc?id={file_id}&export=download'\n",
        "\n",
        "# Specify the output file path\n",
        "output_file = cwd+'/content/true_labels.zip'\n",
        "\n",
        "# Download the file\n",
        "gdown.download(download_url, output_file, quiet=False)"
      ]
    },
    {
      "cell_type": "code",
      "execution_count": 24,
      "metadata": {
        "id": "03wA4VGpMZNS"
      },
      "outputs": [],
      "source": [
        "%%capture\n",
        "!unzip /content/true_labels.zip -d second_session_labels"
      ]
    },
    {
      "cell_type": "markdown",
      "metadata": {
        "id": "1iijTs3RMdCo"
      },
      "source": [
        "### Extracting datas of second session"
      ]
    },
    {
      "cell_type": "code",
      "execution_count": 25,
      "metadata": {
        "colab": {
          "base_uri": "https://localhost:8080/"
        },
        "id": "GbOQB2gDMgOf",
        "outputId": "323909f4-addc-4880-c4ae-7a5dbf1172ed"
      },
      "outputs": [
        {
          "name": "stdout",
          "output_type": "stream",
          "text": [
            "Extracting EDF parameters from /mnt/cogsci/home/ybo/189/content/raw_data/A09E.gdf...\n",
            "GDF file detected\n",
            "Setting channel info structure...\n",
            "Could not determine channel type of the following channels, they will be set as EEG:\n",
            "EEG-Fz, EEG, EEG, EEG, EEG, EEG, EEG, EEG-C3, EEG, EEG-Cz, EEG, EEG-C4, EEG, EEG, EEG, EEG, EEG, EEG, EEG, EEG-Pz, EEG, EEG\n",
            "Creating raw.info structure...\n",
            "Reading 0 ... 675097  =      0.000 ...  2700.388 secs...\n"
          ]
        },
        {
          "name": "stderr",
          "output_type": "stream",
          "text": [
            "/home/ybo/miniconda3/envs/myenv/lib/python3.12/contextlib.py:144: RuntimeWarning: Channel names are not unique, found duplicates for: {'EEG'}. Applying running numbers for duplicates.\n",
            "  next(self.gen)\n"
          ]
        },
        {
          "name": "stdout",
          "output_type": "stream",
          "text": [
            "Filtering raw data in 1 contiguous segment\n",
            "Setting up band-pass filter from 4 - 40 Hz\n",
            "\n",
            "IIR filter parameters\n",
            "---------------------\n",
            "Butterworth bandpass zero-phase (two-pass forward and reverse) non-causal filter:\n",
            "- Filter order 16 (effective, after forward-backward)\n",
            "- Cutoffs at 4.00, 40.00 Hz: -6.02, -6.02 dB\n",
            "\n",
            "Writing /mnt/cogsci/home/ybo/189/content/cleaned_data/second_session/A09E.fif\n",
            "Closing /mnt/cogsci/home/ybo/189/content/cleaned_data/second_session/A09E.fif\n",
            "[done]\n",
            "data:A09E.gdf, label:A09E.mat\n",
            "Extracting EDF parameters from /mnt/cogsci/home/ybo/189/content/raw_data/A05E.gdf...\n",
            "GDF file detected\n",
            "Setting channel info structure...\n",
            "Could not determine channel type of the following channels, they will be set as EEG:\n",
            "EEG-Fz, EEG, EEG, EEG, EEG, EEG, EEG, EEG-C3, EEG, EEG-Cz, EEG, EEG-C4, EEG, EEG, EEG, EEG, EEG, EEG, EEG, EEG-Pz, EEG, EEG\n",
            "Creating raw.info structure...\n",
            "Reading 0 ... 679862  =      0.000 ...  2719.448 secs...\n"
          ]
        },
        {
          "name": "stderr",
          "output_type": "stream",
          "text": [
            "/tmp/ipykernel_1558169/2554707533.py:29: RuntimeWarning: This filename (/mnt/cogsci/home/ybo/189/content/cleaned_data/second_session/A09E.fif) does not conform to MNE naming conventions. All raw files should end with raw.fif, raw_sss.fif, raw_tsss.fif, _meg.fif, _eeg.fif, _ieeg.fif, raw.fif.gz, raw_sss.fif.gz, raw_tsss.fif.gz, _meg.fif.gz, _eeg.fif.gz or _ieeg.fif.gz\n",
            "  raw.save(new_file_path, overwrite=True)\n",
            "/home/ybo/miniconda3/envs/myenv/lib/python3.12/contextlib.py:144: RuntimeWarning: Channel names are not unique, found duplicates for: {'EEG'}. Applying running numbers for duplicates.\n",
            "  next(self.gen)\n"
          ]
        },
        {
          "name": "stdout",
          "output_type": "stream",
          "text": [
            "Filtering raw data in 1 contiguous segment\n",
            "Setting up band-pass filter from 4 - 40 Hz\n",
            "\n",
            "IIR filter parameters\n",
            "---------------------\n",
            "Butterworth bandpass zero-phase (two-pass forward and reverse) non-causal filter:\n",
            "- Filter order 16 (effective, after forward-backward)\n",
            "- Cutoffs at 4.00, 40.00 Hz: -6.02, -6.02 dB\n",
            "\n",
            "Writing /mnt/cogsci/home/ybo/189/content/cleaned_data/second_session/A05E.fif\n",
            "Closing /mnt/cogsci/home/ybo/189/content/cleaned_data/second_session/A05E.fif\n",
            "[done]\n",
            "data:A05E.gdf, label:A05E.mat\n",
            "Extracting EDF parameters from /mnt/cogsci/home/ybo/189/content/raw_data/A01E.gdf...\n",
            "GDF file detected\n",
            "Setting channel info structure...\n",
            "Could not determine channel type of the following channels, they will be set as EEG:\n",
            "EEG-Fz, EEG, EEG, EEG, EEG, EEG, EEG, EEG-C3, EEG, EEG-Cz, EEG, EEG-C4, EEG, EEG, EEG, EEG, EEG, EEG, EEG, EEG-Pz, EEG, EEG\n",
            "Creating raw.info structure...\n",
            "Reading 0 ... 686999  =      0.000 ...  2747.996 secs...\n"
          ]
        },
        {
          "name": "stderr",
          "output_type": "stream",
          "text": [
            "/tmp/ipykernel_1558169/2554707533.py:29: RuntimeWarning: This filename (/mnt/cogsci/home/ybo/189/content/cleaned_data/second_session/A05E.fif) does not conform to MNE naming conventions. All raw files should end with raw.fif, raw_sss.fif, raw_tsss.fif, _meg.fif, _eeg.fif, _ieeg.fif, raw.fif.gz, raw_sss.fif.gz, raw_tsss.fif.gz, _meg.fif.gz, _eeg.fif.gz or _ieeg.fif.gz\n",
            "  raw.save(new_file_path, overwrite=True)\n",
            "/home/ybo/miniconda3/envs/myenv/lib/python3.12/contextlib.py:144: RuntimeWarning: Channel names are not unique, found duplicates for: {'EEG'}. Applying running numbers for duplicates.\n",
            "  next(self.gen)\n"
          ]
        },
        {
          "name": "stdout",
          "output_type": "stream",
          "text": [
            "Filtering raw data in 1 contiguous segment\n",
            "Setting up band-pass filter from 4 - 40 Hz\n",
            "\n",
            "IIR filter parameters\n",
            "---------------------\n",
            "Butterworth bandpass zero-phase (two-pass forward and reverse) non-causal filter:\n",
            "- Filter order 16 (effective, after forward-backward)\n",
            "- Cutoffs at 4.00, 40.00 Hz: -6.02, -6.02 dB\n",
            "\n",
            "Writing /mnt/cogsci/home/ybo/189/content/cleaned_data/second_session/A01E.fif\n",
            "Closing /mnt/cogsci/home/ybo/189/content/cleaned_data/second_session/A01E.fif\n",
            "[done]\n",
            "data:A01E.gdf, label:A01E.mat\n",
            "Extracting EDF parameters from /mnt/cogsci/home/ybo/189/content/raw_data/A04E.gdf...\n",
            "GDF file detected\n",
            "Setting channel info structure...\n"
          ]
        },
        {
          "name": "stderr",
          "output_type": "stream",
          "text": [
            "/tmp/ipykernel_1558169/2554707533.py:29: RuntimeWarning: This filename (/mnt/cogsci/home/ybo/189/content/cleaned_data/second_session/A01E.fif) does not conform to MNE naming conventions. All raw files should end with raw.fif, raw_sss.fif, raw_tsss.fif, _meg.fif, _eeg.fif, _ieeg.fif, raw.fif.gz, raw_sss.fif.gz, raw_tsss.fif.gz, _meg.fif.gz, _eeg.fif.gz or _ieeg.fif.gz\n",
            "  raw.save(new_file_path, overwrite=True)\n"
          ]
        },
        {
          "name": "stdout",
          "output_type": "stream",
          "text": [
            "Could not determine channel type of the following channels, they will be set as EEG:\n",
            "EEG-Fz, EEG, EEG, EEG, EEG, EEG, EEG, EEG-C3, EEG, EEG-Cz, EEG, EEG-C4, EEG, EEG, EEG, EEG, EEG, EEG, EEG, EEG-Pz, EEG, EEG\n",
            "Creating raw.info structure...\n",
            "Reading 0 ... 660046  =      0.000 ...  2640.184 secs...\n"
          ]
        },
        {
          "name": "stderr",
          "output_type": "stream",
          "text": [
            "/home/ybo/miniconda3/envs/myenv/lib/python3.12/contextlib.py:144: RuntimeWarning: Channel names are not unique, found duplicates for: {'EEG'}. Applying running numbers for duplicates.\n",
            "  next(self.gen)\n"
          ]
        },
        {
          "name": "stdout",
          "output_type": "stream",
          "text": [
            "Filtering raw data in 1 contiguous segment\n",
            "Setting up band-pass filter from 4 - 40 Hz\n",
            "\n",
            "IIR filter parameters\n",
            "---------------------\n",
            "Butterworth bandpass zero-phase (two-pass forward and reverse) non-causal filter:\n",
            "- Filter order 16 (effective, after forward-backward)\n",
            "- Cutoffs at 4.00, 40.00 Hz: -6.02, -6.02 dB\n",
            "\n",
            "Writing /mnt/cogsci/home/ybo/189/content/cleaned_data/second_session/A04E.fif\n",
            "Closing /mnt/cogsci/home/ybo/189/content/cleaned_data/second_session/A04E.fif\n",
            "[done]\n",
            "data:A04E.gdf, label:A04E.mat\n",
            "Extracting EDF parameters from /mnt/cogsci/home/ybo/189/content/raw_data/A08E.gdf...\n",
            "GDF file detected\n",
            "Setting channel info structure...\n",
            "Could not determine channel type of the following channels, they will be set as EEG:\n",
            "EEG-Fz, EEG, EEG, EEG, EEG, EEG, EEG, EEG-C3, EEG, EEG-Cz, EEG, EEG-C4, EEG, EEG, EEG, EEG, EEG, EEG, EEG, EEG-Pz, EEG, EEG\n",
            "Creating raw.info structure...\n",
            "Reading 0 ... 687791  =      0.000 ...  2751.164 secs...\n"
          ]
        },
        {
          "name": "stderr",
          "output_type": "stream",
          "text": [
            "/tmp/ipykernel_1558169/2554707533.py:29: RuntimeWarning: This filename (/mnt/cogsci/home/ybo/189/content/cleaned_data/second_session/A04E.fif) does not conform to MNE naming conventions. All raw files should end with raw.fif, raw_sss.fif, raw_tsss.fif, _meg.fif, _eeg.fif, _ieeg.fif, raw.fif.gz, raw_sss.fif.gz, raw_tsss.fif.gz, _meg.fif.gz, _eeg.fif.gz or _ieeg.fif.gz\n",
            "  raw.save(new_file_path, overwrite=True)\n",
            "/home/ybo/miniconda3/envs/myenv/lib/python3.12/contextlib.py:144: RuntimeWarning: Channel names are not unique, found duplicates for: {'EEG'}. Applying running numbers for duplicates.\n",
            "  next(self.gen)\n"
          ]
        },
        {
          "name": "stdout",
          "output_type": "stream",
          "text": [
            "Filtering raw data in 1 contiguous segment\n",
            "Setting up band-pass filter from 4 - 40 Hz\n",
            "\n",
            "IIR filter parameters\n",
            "---------------------\n",
            "Butterworth bandpass zero-phase (two-pass forward and reverse) non-causal filter:\n",
            "- Filter order 16 (effective, after forward-backward)\n",
            "- Cutoffs at 4.00, 40.00 Hz: -6.02, -6.02 dB\n",
            "\n",
            "Writing /mnt/cogsci/home/ybo/189/content/cleaned_data/second_session/A08E.fif\n",
            "Closing /mnt/cogsci/home/ybo/189/content/cleaned_data/second_session/A08E.fif\n",
            "[done]\n",
            "data:A08E.gdf, label:A08E.mat\n",
            "Extracting EDF parameters from /mnt/cogsci/home/ybo/189/content/raw_data/A06E.gdf...\n",
            "GDF file detected\n",
            "Setting channel info structure...\n",
            "Could not determine channel type of the following channels, they will be set as EEG:\n",
            "EEG-Fz, EEG, EEG, EEG, EEG, EEG, EEG, EEG-C3, EEG, EEG-Cz, EEG, EEG-C4, EEG, EEG, EEG, EEG, EEG, EEG, EEG, EEG-Pz, EEG, EEG\n",
            "Creating raw.info structure...\n",
            "Reading 0 ... 666372  =      0.000 ...  2665.488 secs...\n"
          ]
        },
        {
          "name": "stderr",
          "output_type": "stream",
          "text": [
            "/tmp/ipykernel_1558169/2554707533.py:29: RuntimeWarning: This filename (/mnt/cogsci/home/ybo/189/content/cleaned_data/second_session/A08E.fif) does not conform to MNE naming conventions. All raw files should end with raw.fif, raw_sss.fif, raw_tsss.fif, _meg.fif, _eeg.fif, _ieeg.fif, raw.fif.gz, raw_sss.fif.gz, raw_tsss.fif.gz, _meg.fif.gz, _eeg.fif.gz or _ieeg.fif.gz\n",
            "  raw.save(new_file_path, overwrite=True)\n",
            "/home/ybo/miniconda3/envs/myenv/lib/python3.12/contextlib.py:144: RuntimeWarning: Channel names are not unique, found duplicates for: {'EEG'}. Applying running numbers for duplicates.\n",
            "  next(self.gen)\n"
          ]
        },
        {
          "name": "stdout",
          "output_type": "stream",
          "text": [
            "Filtering raw data in 1 contiguous segment\n",
            "Setting up band-pass filter from 4 - 40 Hz\n",
            "\n",
            "IIR filter parameters\n",
            "---------------------\n",
            "Butterworth bandpass zero-phase (two-pass forward and reverse) non-causal filter:\n",
            "- Filter order 16 (effective, after forward-backward)\n",
            "- Cutoffs at 4.00, 40.00 Hz: -6.02, -6.02 dB\n",
            "\n",
            "Writing /mnt/cogsci/home/ybo/189/content/cleaned_data/second_session/A06E.fif\n",
            "Closing /mnt/cogsci/home/ybo/189/content/cleaned_data/second_session/A06E.fif\n",
            "[done]\n",
            "data:A06E.gdf, label:A06E.mat\n",
            "Extracting EDF parameters from /mnt/cogsci/home/ybo/189/content/raw_data/A02E.gdf...\n",
            "GDF file detected\n",
            "Setting channel info structure...\n",
            "Could not determine channel type of the following channels, they will be set as EEG:\n",
            "EEG-Fz, EEG, EEG, EEG, EEG, EEG, EEG, EEG-C3, EEG, EEG-Cz, EEG, EEG-C4, EEG, EEG, EEG, EEG, EEG, EEG, EEG, EEG-Pz, EEG, EEG\n",
            "Creating raw.info structure...\n",
            "Reading 0 ... 662665  =      0.000 ...  2650.660 secs...\n"
          ]
        },
        {
          "name": "stderr",
          "output_type": "stream",
          "text": [
            "/tmp/ipykernel_1558169/2554707533.py:29: RuntimeWarning: This filename (/mnt/cogsci/home/ybo/189/content/cleaned_data/second_session/A06E.fif) does not conform to MNE naming conventions. All raw files should end with raw.fif, raw_sss.fif, raw_tsss.fif, _meg.fif, _eeg.fif, _ieeg.fif, raw.fif.gz, raw_sss.fif.gz, raw_tsss.fif.gz, _meg.fif.gz, _eeg.fif.gz or _ieeg.fif.gz\n",
            "  raw.save(new_file_path, overwrite=True)\n",
            "/home/ybo/miniconda3/envs/myenv/lib/python3.12/contextlib.py:144: RuntimeWarning: Channel names are not unique, found duplicates for: {'EEG'}. Applying running numbers for duplicates.\n",
            "  next(self.gen)\n"
          ]
        },
        {
          "name": "stdout",
          "output_type": "stream",
          "text": [
            "Filtering raw data in 1 contiguous segment\n",
            "Setting up band-pass filter from 4 - 40 Hz\n",
            "\n",
            "IIR filter parameters\n",
            "---------------------\n",
            "Butterworth bandpass zero-phase (two-pass forward and reverse) non-causal filter:\n",
            "- Filter order 16 (effective, after forward-backward)\n",
            "- Cutoffs at 4.00, 40.00 Hz: -6.02, -6.02 dB\n",
            "\n",
            "Writing /mnt/cogsci/home/ybo/189/content/cleaned_data/second_session/A02E.fif\n",
            "Closing /mnt/cogsci/home/ybo/189/content/cleaned_data/second_session/A02E.fif\n",
            "[done]\n",
            "data:A02E.gdf, label:A02E.mat\n",
            "Extracting EDF parameters from /mnt/cogsci/home/ybo/189/content/raw_data/A07E.gdf...\n",
            "GDF file detected\n",
            "Setting channel info structure...\n",
            "Could not determine channel type of the following channels, they will be set as EEG:\n",
            "EEG-Fz, EEG, EEG, EEG, EEG, EEG, EEG, EEG-C3, EEG, EEG-Cz, EEG, EEG-C4, EEG, EEG, EEG, EEG, EEG, EEG, EEG, EEG-Pz, EEG, EEG\n",
            "Creating raw.info structure...\n",
            "Reading 0 ... 673134  =      0.000 ...  2692.536 secs...\n"
          ]
        },
        {
          "name": "stderr",
          "output_type": "stream",
          "text": [
            "/tmp/ipykernel_1558169/2554707533.py:29: RuntimeWarning: This filename (/mnt/cogsci/home/ybo/189/content/cleaned_data/second_session/A02E.fif) does not conform to MNE naming conventions. All raw files should end with raw.fif, raw_sss.fif, raw_tsss.fif, _meg.fif, _eeg.fif, _ieeg.fif, raw.fif.gz, raw_sss.fif.gz, raw_tsss.fif.gz, _meg.fif.gz, _eeg.fif.gz or _ieeg.fif.gz\n",
            "  raw.save(new_file_path, overwrite=True)\n",
            "/home/ybo/miniconda3/envs/myenv/lib/python3.12/contextlib.py:144: RuntimeWarning: Channel names are not unique, found duplicates for: {'EEG'}. Applying running numbers for duplicates.\n",
            "  next(self.gen)\n"
          ]
        },
        {
          "name": "stdout",
          "output_type": "stream",
          "text": [
            "Filtering raw data in 1 contiguous segment\n",
            "Setting up band-pass filter from 4 - 40 Hz\n",
            "\n",
            "IIR filter parameters\n",
            "---------------------\n",
            "Butterworth bandpass zero-phase (two-pass forward and reverse) non-causal filter:\n",
            "- Filter order 16 (effective, after forward-backward)\n",
            "- Cutoffs at 4.00, 40.00 Hz: -6.02, -6.02 dB\n",
            "\n",
            "Writing /mnt/cogsci/home/ybo/189/content/cleaned_data/second_session/A07E.fif\n",
            "Closing /mnt/cogsci/home/ybo/189/content/cleaned_data/second_session/A07E.fif\n",
            "[done]\n",
            "data:A07E.gdf, label:A07E.mat\n",
            "Extracting EDF parameters from /mnt/cogsci/home/ybo/189/content/raw_data/A03E.gdf...\n",
            "GDF file detected\n",
            "Setting channel info structure...\n",
            "Could not determine channel type of the following channels, they will be set as EEG:\n",
            "EEG-Fz, EEG, EEG, EEG, EEG, EEG, EEG, EEG-C3, EEG, EEG-Cz, EEG, EEG-C4, EEG, EEG, EEG, EEG, EEG, EEG, EEG, EEG-Pz, EEG, EEG\n",
            "Creating raw.info structure...\n",
            "Reading 0 ... 648774  =      0.000 ...  2595.096 secs...\n"
          ]
        },
        {
          "name": "stderr",
          "output_type": "stream",
          "text": [
            "/tmp/ipykernel_1558169/2554707533.py:29: RuntimeWarning: This filename (/mnt/cogsci/home/ybo/189/content/cleaned_data/second_session/A07E.fif) does not conform to MNE naming conventions. All raw files should end with raw.fif, raw_sss.fif, raw_tsss.fif, _meg.fif, _eeg.fif, _ieeg.fif, raw.fif.gz, raw_sss.fif.gz, raw_tsss.fif.gz, _meg.fif.gz, _eeg.fif.gz or _ieeg.fif.gz\n",
            "  raw.save(new_file_path, overwrite=True)\n",
            "/home/ybo/miniconda3/envs/myenv/lib/python3.12/contextlib.py:144: RuntimeWarning: Channel names are not unique, found duplicates for: {'EEG'}. Applying running numbers for duplicates.\n",
            "  next(self.gen)\n"
          ]
        },
        {
          "name": "stdout",
          "output_type": "stream",
          "text": [
            "Filtering raw data in 1 contiguous segment\n",
            "Setting up band-pass filter from 4 - 40 Hz\n",
            "\n",
            "IIR filter parameters\n",
            "---------------------\n",
            "Butterworth bandpass zero-phase (two-pass forward and reverse) non-causal filter:\n",
            "- Filter order 16 (effective, after forward-backward)\n",
            "- Cutoffs at 4.00, 40.00 Hz: -6.02, -6.02 dB\n",
            "\n",
            "Writing /mnt/cogsci/home/ybo/189/content/cleaned_data/second_session/A03E.fif\n",
            "Closing /mnt/cogsci/home/ybo/189/content/cleaned_data/second_session/A03E.fif\n",
            "[done]\n"
          ]
        },
        {
          "name": "stderr",
          "output_type": "stream",
          "text": [
            "/tmp/ipykernel_1558169/2554707533.py:29: RuntimeWarning: This filename (/mnt/cogsci/home/ybo/189/content/cleaned_data/second_session/A03E.fif) does not conform to MNE naming conventions. All raw files should end with raw.fif, raw_sss.fif, raw_tsss.fif, _meg.fif, _eeg.fif, _ieeg.fif, raw.fif.gz, raw_sss.fif.gz, raw_tsss.fif.gz, _meg.fif.gz, _eeg.fif.gz or _ieeg.fif.gz\n",
            "  raw.save(new_file_path, overwrite=True)\n"
          ]
        },
        {
          "name": "stdout",
          "output_type": "stream",
          "text": [
            "data:A03E.gdf, label:A03E.mat\n",
            "Writing /mnt/cogsci/home/ybo/189/content/cleaned_data/second_session/Second_Session_Subjects.fif\n"
          ]
        },
        {
          "name": "stderr",
          "output_type": "stream",
          "text": [
            "/tmp/ipykernel_1558169/2554707533.py:55: RuntimeWarning: This filename (/mnt/cogsci/home/ybo/189/content/cleaned_data/second_session/Second_Session_Subjects.fif) does not conform to MNE naming conventions. All raw files should end with raw.fif, raw_sss.fif, raw_tsss.fif, _meg.fif, _eeg.fif, _ieeg.fif, raw.fif.gz, raw_sss.fif.gz, raw_tsss.fif.gz, _meg.fif.gz, _eeg.fif.gz or _ieeg.fif.gz\n",
            "  final_raw.save(new_file_path, overwrite=True)\n"
          ]
        },
        {
          "name": "stdout",
          "output_type": "stream",
          "text": [
            "Closing /mnt/cogsci/home/ybo/189/content/cleaned_data/second_session/Second_Session_Subjects.fif\n",
            "[done]\n"
          ]
        },
        {
          "data": {
            "text/plain": [
              "[PosixPath('/mnt/cogsci/home/ybo/189/content/cleaned_data/second_session/Second_Session_Subjects.fif')]"
            ]
          },
          "execution_count": 25,
          "metadata": {},
          "output_type": "execute_result"
        }
      ],
      "source": [
        "raw_data_folder = cwd+'/content/raw_data/'\n",
        "cleaned_data_folder = cwd+'/content/cleaned_data/second_session/'\n",
        "mat_folder = cwd+'/content/second_session_labels/'\n",
        "\n",
        "# Selecting files with suffix 'E.mat'\n",
        "mat_files = os.listdir(mat_folder)\n",
        "filtered_math_labels = [file for file in mat_files if file.endswith('E.mat')]\n",
        "\n",
        "# Selecting files with suffix 'E.gdf'\n",
        "files = os.listdir(raw_data_folder)\n",
        "filtered_files = [file for file in files if file.endswith('E.gdf')]\n",
        "\n",
        "raw_list = []\n",
        "second_session_labels = np.array([])\n",
        "# Iterating through filtered files\n",
        "for file in filtered_files:\n",
        "    file_path = os.path.join(raw_data_folder, file)\n",
        "\n",
        "    # Reading raw data\n",
        "    raw = mne.io.read_raw_gdf(file_path, eog=['EOG-left', 'EOG-central', 'EOG-right'], preload=True)\n",
        "    # Droping EOG channels\n",
        "    raw.drop_channels(['EOG-left', 'EOG-central', 'EOG-right'])\n",
        "\n",
        "    # High Pass Filtering 4-40 Hz\n",
        "    raw.filter(l_freq=4, h_freq=40, method='iir')\n",
        "\n",
        "    # Saving the modified raw data to a file with .fif suffix\n",
        "    new_file_path = os.path.join(cleaned_data_folder, file[:-4] + '.fif')\n",
        "    raw.save(new_file_path, overwrite=True)\n",
        "    # Appending data to t he list\n",
        "    raw_list.append(raw)\n",
        "\n",
        "    # Mat files for the labels\n",
        "    mat_file_name = file.replace('.gdf', '.mat')\n",
        "    mat_file_path = os.path.join(mat_folder, mat_file_name)\n",
        "    print(f\"data:{file}, label:{mat_file_name}\")\n",
        "\n",
        "    if os.path.exists(mat_file_path):\n",
        "        mat_data = scipy.io.loadmat(mat_file_path)\n",
        "        class_labels = mat_data.get('classlabel', [])\n",
        "\n",
        "        # Check if 'classlabel' key exists and is not empty\n",
        "        if class_labels.size > 0:\n",
        "             # Convert to a NumPy array and flatten\n",
        "            class_labels_array = np.array(class_labels, dtype=int).flatten()\n",
        "            # Concatenate with the existing test_labels array\n",
        "            second_session_labels = np.concatenate((second_session_labels, class_labels_array))\n",
        "        else:\n",
        "            print(f\"Warning: 'classlabel' not found or empty in {mat_file_name}.\")\n",
        "    else:\n",
        "        print(f\"Warning: {mat_file_name} not found.\")\n",
        "\n",
        "final_raw = mne.concatenate_raws(raw_list)\n",
        "new_file_path = os.path.join(cleaned_data_folder, 'Second_Session_Subjects.fif')\n",
        "final_raw.save(new_file_path, overwrite=True)"
      ]
    },
    {
      "cell_type": "markdown",
      "metadata": {
        "id": "kgSKXweNM87Q"
      },
      "source": [
        "**List of the events**  \n",
        "'1023': 1 Rejected trial  \n",
        "'1072': 2 Eye movements  \n",
        "'276': 3 Idling EEG (eyes open)  \n",
        "'277': 4 Idling EEG (eyes closed)  \n",
        "'32766': 5 Start of a new run  \n",
        "'768': 6 Start of a trial  \n",
        "'783': 7 Cue unknown"
      ]
    },
    {
      "cell_type": "code",
      "execution_count": 26,
      "metadata": {
        "colab": {
          "base_uri": "https://localhost:8080/"
        },
        "id": "KIuyfy9DNAvO",
        "outputId": "884cb7c0-7643-420e-ecee-05e0aecbf6fb"
      },
      "outputs": [
        {
          "name": "stdout",
          "output_type": "stream",
          "text": [
            "Used Annotations descriptions: ['1023', '1072', '276', '277', '32766', '768', '783']\n"
          ]
        },
        {
          "data": {
            "text/plain": [
              "{'1023': 1, '1072': 2, '276': 3, '277': 4, '32766': 5, '768': 6, '783': 7}"
            ]
          },
          "execution_count": 26,
          "metadata": {},
          "output_type": "execute_result"
        }
      ],
      "source": [
        "events = mne.events_from_annotations(final_raw)\n",
        "events[1]"
      ]
    },
    {
      "cell_type": "code",
      "execution_count": 35,
      "metadata": {
        "colab": {
          "base_uri": "https://localhost:8080/"
        },
        "id": "KGDah5f4NCBr",
        "outputId": "348a121b-d355-4239-9798-dcd0b10cd16a"
      },
      "outputs": [
        {
          "name": "stdout",
          "output_type": "stream",
          "text": [
            "Not setting metadata\n",
            "2592 matching events found\n",
            "No baseline correction applied\n",
            "0 projection items activated\n",
            "Using data from preloaded Raw for 2592 events and 1001 original time points ...\n"
          ]
        },
        {
          "name": "stdout",
          "output_type": "stream",
          "text": [
            "0 bad epochs dropped\n"
          ]
        }
      ],
      "source": [
        "epochs = mne.Epochs(final_raw, events[0], event_id=7, tmin=0, tmax=4, reject=None, baseline=None, preload=None)\n",
        "# event 7 is the label free data\n",
        "second_session_data = epochs.get_data(copy=True)"
      ]
    },
    {
      "cell_type": "code",
      "execution_count": 28,
      "metadata": {
        "colab": {
          "base_uri": "https://localhost:8080/"
        },
        "id": "HFCG-UXrNRSZ",
        "outputId": "e5b4f6cc-c65f-460b-fc29-a0c0d7400658"
      },
      "outputs": [
        {
          "name": "stdout",
          "output_type": "stream",
          "text": [
            "Second Session Dataset shape: (2592, 22, 1001)\n"
          ]
        }
      ],
      "source": [
        "print(\"Second Session Dataset shape:\",second_session_data.shape)"
      ]
    },
    {
      "cell_type": "markdown",
      "metadata": {
        "id": "nA0Hr5BMPE5e"
      },
      "source": [
        "### Structuring Data"
      ]
    },
    {
      "cell_type": "code",
      "execution_count": 29,
      "metadata": {
        "colab": {
          "base_uri": "https://localhost:8080/"
        },
        "id": "D5dF6ZydC2PP",
        "outputId": "67fafc85-ff3d-48f3-f08a-3abc663df0b3"
      },
      "outputs": [
        {
          "name": "stdout",
          "output_type": "stream",
          "text": [
            "Size of X_train: torch.Size([3499, 1, 22, 1001])\n",
            "Size of X_test: torch.Size([389, 1, 22, 1001])\n",
            "Size of y_train: torch.Size([3499])\n",
            "Size of y_test: torch.Size([389])\n"
          ]
        }
      ],
      "source": [
        "# Choosing Device\n",
        "device = torch.device(\"cuda\" if torch.cuda.is_available() else \"cpu\")\n",
        "\n",
        "# Loss Function\n",
        "criterion = nn.CrossEntropyLoss()\n",
        "\n",
        "# Normalizing Labels to [0, 1, 2, 3]\n",
        "y_train = first_session_labels - np.min(first_session_labels)\n",
        "y_test = second_session_labels - np.min(second_session_labels)\n",
        "\n",
        "# Normalizing Input features: z-score(mean=0, std=1)\n",
        "X_first_session = (first_session_data - np.mean(first_session_data)) / np.std(first_session_data)\n",
        "X_second_session = (second_session_data - np.mean(second_session_data)) / np.std(second_session_data)\n",
        "\n",
        "X = np.concatenate((X_first_session, X_second_session))\n",
        "y = np.concatenate((y_train, y_test))\n",
        "\n",
        "# Spliting  Data: 90% for Train and 10% for Test\n",
        "X_train, X_test, y_train, y_test = train_test_split(X, y, test_size=0.1, random_state=42, stratify=y)\n",
        "\n",
        "# Converting to Tensor\n",
        "X_train = torch.Tensor(X_train).unsqueeze(1).to(device)\n",
        "X_test = torch.Tensor(X_test).unsqueeze(1).to(device)\n",
        "y_train = torch.LongTensor(y_train).to(device)\n",
        "y_test = torch.LongTensor(y_test).to(device)\n",
        "\n",
        "# Creating Tensor Dataset\n",
        "train_dataset = TensorDataset(X_train, y_train)\n",
        "test_dataset = TensorDataset(X_test, y_test)\n",
        "\n",
        "# Printing the sizes\n",
        "print(\"Size of X_train:\", X_train.size())\n",
        "print(\"Size of X_test:\", X_test.size())\n",
        "print(\"Size of y_train:\", y_train.size())\n",
        "print(\"Size of y_test:\", y_test.size())\n"
      ]
    },
    {
      "cell_type": "markdown",
      "metadata": {
        "id": "xyXDZiZ4E4a_"
      },
      "source": [
        "# Training Class"
      ]
    },
    {
      "cell_type": "code",
      "execution_count": 42,
      "metadata": {
        "id": "F3nUwuQHE8Hi"
      },
      "outputs": [],
      "source": [
        "import time\n",
        "class TrainModel():\n",
        "    def __init__(self,):\n",
        "        self.device = torch.device(\"cuda\" if torch.cuda.is_available() else \"cpu\")\n",
        "\n",
        "    def train_model(self, model, train_dataset, learning_rate=0.001, batch_size=64, epochs=500):\n",
        "        model = model.to(self.device)\n",
        "        criterion = nn.CrossEntropyLoss()\n",
        "        optimizer = optim.Adam(model.parameters(), lr=learning_rate)\n",
        "        train_loader = DataLoader(train_dataset, batch_size=batch_size, shuffle=True)\n",
        "        highest_train_accuracy = 0.0\n",
        "\n",
        "        # Start time tracking\n",
        "        start_time = time.time()\n",
        "        for epoch in range(epochs):\n",
        "            model.train()\n",
        "            running_loss = 0.0\n",
        "            correct = 0\n",
        "            total = 0\n",
        "            for inputs, labels in train_loader:\n",
        "                inputs = inputs.to(self.device)\n",
        "                labels = labels.to(self.device)\n",
        "\n",
        "                optimizer.zero_grad()\n",
        "                outputs = model(inputs)\n",
        "                loss = criterion(outputs, labels)\n",
        "                loss.backward()\n",
        "                optimizer.step()\n",
        "\n",
        "                running_loss += loss.item() * inputs.size(0)\n",
        "                _, predicted = torch.max(outputs, 1)\n",
        "                total += labels.size(0)\n",
        "                correct += (predicted == labels).sum().item()\n",
        "\n",
        "            epoch_loss = running_loss / len(train_loader.dataset)\n",
        "            epoch_accuracy = correct / total\n",
        "            if epoch_accuracy > highest_train_accuracy:\n",
        "                highest_train_accuracy = epoch_accuracy\n",
        "            # Calculate elapsed time\n",
        "            elapsed_time = time.time() - start_time\n",
        "            print(f\"Epoch {epoch+1}/{epochs}, Loss: {epoch_loss:.4f}, Accuracy: {(epoch_accuracy*100):.2f}%, Time Elapsed: {elapsed_time:.2f} seconds\")\n",
        "\n",
        "        average_loss = running_loss / len(train_loader.dataset)\n",
        "        print(\"Average Loss:\", average_loss)\n",
        "        print(\"Highest Train Accuracy:\", highest_train_accuracy)\n",
        "\n",
        "        # Saving model\n",
        "        torch.save(model.state_dict(), 'eegnet_model.pth')\n",
        "        return model\n"
      ]
    },
    {
      "cell_type": "markdown",
      "metadata": {
        "id": "ObMKFBTxFLBJ"
      },
      "source": [
        "# Evaluating Model"
      ]
    },
    {
      "cell_type": "code",
      "execution_count": 39,
      "metadata": {
        "id": "GxVYOQ_YFM4b"
      },
      "outputs": [],
      "source": [
        "class EvalModel():\n",
        "    def __init__(self, model):\n",
        "        self.model = model.to(device)\n",
        "        self.device = torch.device(\"cuda\" if torch.cuda.is_available() else \"cpu\")\n",
        "    def test_model(self, test_dataset):\n",
        "        self.model.eval()\n",
        "        correct = 0\n",
        "        total = 0\n",
        "        test_loader = DataLoader(test_dataset, batch_size=1, shuffle=False)\n",
        "\n",
        "        with torch.no_grad():\n",
        "            for inputs, labels in test_loader:\n",
        "                inputs = inputs.to(self.device)\n",
        "                labels = labels.to(self.device)\n",
        "                outputs = self.model(inputs)\n",
        "                _, predicted = torch.max(outputs.data, 1)\n",
        "                total += labels.size(0)\n",
        "                correct += (predicted == labels).sum().item()\n",
        "\n",
        "        accuracy = (correct / total) * 100\n",
        "        print(\"/------------------------------/\")\n",
        "        print(f\"Test Accuracy: {accuracy:.2f}%\")\n",
        "        print(\"/------------------------------/\")\n",
        "        return accuracy\n",
        "\n",
        "    def plot_confusion_matrix(self, test_dataset, classes):\n",
        "        self.model.eval()\n",
        "        y_pred = []\n",
        "        y_true = []\n",
        "        test_loader = DataLoader(test_dataset, batch_size=1, shuffle=False)\n",
        "\n",
        "        with torch.no_grad():\n",
        "            for inputs, labels in test_loader:\n",
        "                inputs = inputs.to(self.device)\n",
        "                labels = labels.to(self.device)\n",
        "                outputs = self.model(inputs)\n",
        "                _, predicted = torch.max(outputs.data, 1)\n",
        "                y_pred.append(predicted.item())\n",
        "                y_true.append(labels.item())\n",
        "\n",
        "        cf_matrix = confusion_matrix(y_true, y_pred)\n",
        "        cf_matrix = cf_matrix.astype('float') / cf_matrix.sum(axis=1)[:, np.newaxis]\n",
        "\n",
        "        df_cm = pd.DataFrame(cf_matrix, index=classes, columns=classes)\n",
        "\n",
        "        plt.figure(figsize=(10, 7))\n",
        "        sn.heatmap(df_cm, annot=True, cmap='Blues', fmt='.2f')\n",
        "        plt.xlabel('Predicted labels')\n",
        "        plt.ylabel('True labels')\n",
        "        plt.title('Confusion Matrix')\n",
        "        plt.savefig('confusion_matrix_model.png')\n",
        "        plt.show()\n"
      ]
    },
    {
      "cell_type": "markdown",
      "metadata": {
        "id": "vR2z57zqC5iS"
      },
      "source": [
        "# EEGNet Model"
      ]
    },
    {
      "cell_type": "code",
      "execution_count": 40,
      "metadata": {
        "id": "SmFhrHzSC8BE"
      },
      "outputs": [],
      "source": [
        "class EEGNetModel(nn.Module): # EEGNET-8,2\n",
        "    def __init__(self, chans=22, classes=4, time_points=1001, temp_kernel=32,\n",
        "                 f1=16, f2=32, d=2, pk1=8, pk2=16, dropout_rate=0.5, max_norm1=1, max_norm2=0.25):\n",
        "        super(EEGNetModel, self).__init__()\n",
        "        # Calculating FC input features\n",
        "        linear_size = (time_points//(pk1*pk2))*f2\n",
        "\n",
        "        # Temporal Filters\n",
        "        self.block1 = nn.Sequential(\n",
        "            nn.Conv2d(1, f1, (1, temp_kernel), padding='same', bias=False),\n",
        "            nn.BatchNorm2d(f1),\n",
        "        )\n",
        "        # Spatial Filters\n",
        "        self.block2 = nn.Sequential(\n",
        "            nn.Conv2d(f1, d * f1, (chans, 1), groups=f1, bias=False), # Depthwise Conv\n",
        "            nn.BatchNorm2d(d * f1),\n",
        "            nn.ELU(),\n",
        "            nn.AvgPool2d((1, pk1)),\n",
        "            nn.Dropout(dropout_rate)\n",
        "        )\n",
        "        self.block3 = nn.Sequential(\n",
        "            nn.Conv2d(d * f1, f2, (1, 16),  groups=f2, bias=False, padding='same'), # Separable Conv\n",
        "            nn.Conv2d(f2, f2, kernel_size=1, bias=False), # Pointwise Conv\n",
        "            nn.BatchNorm2d(f2),\n",
        "            nn.ELU(),\n",
        "            nn.AvgPool2d((1, pk2)),\n",
        "            nn.Dropout(dropout_rate)\n",
        "        )\n",
        "        self.flatten = nn.Flatten()\n",
        "        self.fc = nn.Linear(linear_size, classes)\n",
        "\n",
        "        # Apply max_norm constraint to the depthwise layer in block2\n",
        "        self._apply_max_norm(self.block2[0], max_norm1)\n",
        "\n",
        "        # Apply max_norm constraint to the linear layer\n",
        "        self._apply_max_norm(self.fc, max_norm2)\n",
        "\n",
        "    def _apply_max_norm(self, layer, max_norm):\n",
        "        for name, param in layer.named_parameters():\n",
        "            if 'weight' in name:\n",
        "                param.data = torch.renorm(param.data, p=2, dim=0, maxnorm=max_norm)\n",
        "\n",
        "    def forward(self, x):\n",
        "        x = self.block1(x)\n",
        "        x = self.block2(x)\n",
        "        x = self.block3(x)\n",
        "        x = self.flatten(x)\n",
        "        x = self.fc(x)\n",
        "        return x\n"
      ]
    },
    {
      "cell_type": "markdown",
      "metadata": {
        "id": "M49ks2b8C_dP"
      },
      "source": [
        "## Model Summery"
      ]
    },
    {
      "cell_type": "code",
      "execution_count": 41,
      "metadata": {
        "colab": {
          "base_uri": "https://localhost:8080/"
        },
        "id": "7NdOeIRtDAOn",
        "outputId": "35ec6ad5-7e2c-4f99-cae0-e83ffd549797"
      },
      "outputs": [
        {
          "name": "stderr",
          "output_type": "stream",
          "text": [
            "/home/ybo/miniconda3/envs/myenv/lib/python3.12/site-packages/torch/nn/modules/conv.py:549: UserWarning: Using padding='same' with even kernel lengths and odd dilation may require a zero-padded copy of the input be created (Triggered internally at /opt/conda/conda-bld/pytorch_1729647378361/work/aten/src/ATen/native/Convolution.cpp:1036.)\n",
            "  return F.conv2d(\n"
          ]
        },
        {
          "name": "stdout",
          "output_type": "stream",
          "text": [
            "==========================================================================================\n",
            "Layer (type:depth-idx)                   Output Shape              Param #\n",
            "==========================================================================================\n",
            "├─Sequential: 1-1                        [-1, 16, 22, 1001]        --\n",
            "|    └─Conv2d: 2-1                       [-1, 16, 22, 1001]        512\n",
            "|    └─BatchNorm2d: 2-2                  [-1, 16, 22, 1001]        32\n",
            "├─Sequential: 1-2                        [-1, 32, 1, 125]          --\n",
            "|    └─Conv2d: 2-3                       [-1, 32, 1, 1001]         704\n",
            "|    └─BatchNorm2d: 2-4                  [-1, 32, 1, 1001]         64\n",
            "|    └─ELU: 2-5                          [-1, 32, 1, 1001]         --\n",
            "|    └─AvgPool2d: 2-6                    [-1, 32, 1, 125]          --\n",
            "|    └─Dropout: 2-7                      [-1, 32, 1, 125]          --\n",
            "├─Sequential: 1-3                        [-1, 32, 1, 7]            --\n",
            "|    └─Conv2d: 2-8                       [-1, 32, 1, 125]          512\n",
            "|    └─Conv2d: 2-9                       [-1, 32, 1, 125]          1,024\n",
            "|    └─BatchNorm2d: 2-10                 [-1, 32, 1, 125]          64\n",
            "|    └─ELU: 2-11                         [-1, 32, 1, 125]          --\n",
            "|    └─AvgPool2d: 2-12                   [-1, 32, 1, 7]            --\n",
            "|    └─Dropout: 2-13                     [-1, 32, 1, 7]            --\n",
            "├─Flatten: 1-4                           [-1, 224]                 --\n",
            "├─Linear: 1-5                            [-1, 4]                   900\n",
            "==========================================================================================\n",
            "Total params: 3,812\n",
            "Trainable params: 3,812\n",
            "Non-trainable params: 0\n",
            "Total mult-adds (M): 12.18\n",
            "==========================================================================================\n",
            "Input size (MB): 0.08\n",
            "Forward/backward pass size (MB): 5.96\n",
            "Params size (MB): 0.01\n",
            "Estimated Total Size (MB): 6.06\n",
            "==========================================================================================\n"
          ]
        },
        {
          "data": {
            "text/plain": [
              "==========================================================================================\n",
              "Layer (type:depth-idx)                   Output Shape              Param #\n",
              "==========================================================================================\n",
              "├─Sequential: 1-1                        [-1, 16, 22, 1001]        --\n",
              "|    └─Conv2d: 2-1                       [-1, 16, 22, 1001]        512\n",
              "|    └─BatchNorm2d: 2-2                  [-1, 16, 22, 1001]        32\n",
              "├─Sequential: 1-2                        [-1, 32, 1, 125]          --\n",
              "|    └─Conv2d: 2-3                       [-1, 32, 1, 1001]         704\n",
              "|    └─BatchNorm2d: 2-4                  [-1, 32, 1, 1001]         64\n",
              "|    └─ELU: 2-5                          [-1, 32, 1, 1001]         --\n",
              "|    └─AvgPool2d: 2-6                    [-1, 32, 1, 125]          --\n",
              "|    └─Dropout: 2-7                      [-1, 32, 1, 125]          --\n",
              "├─Sequential: 1-3                        [-1, 32, 1, 7]            --\n",
              "|    └─Conv2d: 2-8                       [-1, 32, 1, 125]          512\n",
              "|    └─Conv2d: 2-9                       [-1, 32, 1, 125]          1,024\n",
              "|    └─BatchNorm2d: 2-10                 [-1, 32, 1, 125]          64\n",
              "|    └─ELU: 2-11                         [-1, 32, 1, 125]          --\n",
              "|    └─AvgPool2d: 2-12                   [-1, 32, 1, 7]            --\n",
              "|    └─Dropout: 2-13                     [-1, 32, 1, 7]            --\n",
              "├─Flatten: 1-4                           [-1, 224]                 --\n",
              "├─Linear: 1-5                            [-1, 4]                   900\n",
              "==========================================================================================\n",
              "Total params: 3,812\n",
              "Trainable params: 3,812\n",
              "Non-trainable params: 0\n",
              "Total mult-adds (M): 12.18\n",
              "==========================================================================================\n",
              "Input size (MB): 0.08\n",
              "Forward/backward pass size (MB): 5.96\n",
              "Params size (MB): 0.01\n",
              "Estimated Total Size (MB): 6.06\n",
              "=========================================================================================="
            ]
          },
          "execution_count": 41,
          "metadata": {},
          "output_type": "execute_result"
        }
      ],
      "source": [
        "input_size = (1, 22, 1001)\n",
        "eegnet_model = EEGNetModel().to(device)\n",
        "summary(eegnet_model, input_size)"
      ]
    },
    {
      "cell_type": "markdown",
      "metadata": {
        "id": "95r4EymoDCIv"
      },
      "source": [
        "## Training Model"
      ]
    },
    {
      "cell_type": "code",
      "execution_count": 43,
      "metadata": {
        "colab": {
          "base_uri": "https://localhost:8080/"
        },
        "id": "TJzl6On9DFcp",
        "outputId": "7c7e7ca1-e094-478a-f7df-171e12388792"
      },
      "outputs": [
        {
          "name": "stdout",
          "output_type": "stream",
          "text": [
            "Epoch 1/500, Loss: 1.3368, Accuracy: 33.67%, Time Elapsed: 2.55 seconds\n",
            "Epoch 2/500, Loss: 1.3024, Accuracy: 37.50%, Time Elapsed: 2.97 seconds\n",
            "Epoch 3/500, Loss: 1.2875, Accuracy: 38.50%, Time Elapsed: 3.39 seconds\n",
            "Epoch 4/500, Loss: 1.2547, Accuracy: 42.21%, Time Elapsed: 3.81 seconds\n",
            "Epoch 5/500, Loss: 1.2191, Accuracy: 44.70%, Time Elapsed: 4.23 seconds\n",
            "Epoch 6/500, Loss: 1.1986, Accuracy: 46.36%, Time Elapsed: 4.66 seconds\n",
            "Epoch 7/500, Loss: 1.1705, Accuracy: 48.79%, Time Elapsed: 5.07 seconds\n",
            "Epoch 8/500, Loss: 1.1610, Accuracy: 48.70%, Time Elapsed: 5.50 seconds\n",
            "Epoch 9/500, Loss: 1.1449, Accuracy: 50.61%, Time Elapsed: 5.91 seconds\n",
            "Epoch 10/500, Loss: 1.1399, Accuracy: 50.27%, Time Elapsed: 6.33 seconds\n",
            "Epoch 11/500, Loss: 1.1305, Accuracy: 51.41%, Time Elapsed: 6.75 seconds\n",
            "Epoch 12/500, Loss: 1.1203, Accuracy: 51.16%, Time Elapsed: 7.17 seconds\n",
            "Epoch 13/500, Loss: 1.0911, Accuracy: 51.93%, Time Elapsed: 7.59 seconds\n",
            "Epoch 14/500, Loss: 1.0859, Accuracy: 51.90%, Time Elapsed: 8.01 seconds\n",
            "Epoch 15/500, Loss: 1.0747, Accuracy: 52.19%, Time Elapsed: 8.43 seconds\n",
            "Epoch 16/500, Loss: 1.0634, Accuracy: 52.62%, Time Elapsed: 8.85 seconds\n",
            "Epoch 17/500, Loss: 1.0398, Accuracy: 53.87%, Time Elapsed: 9.26 seconds\n",
            "Epoch 18/500, Loss: 1.0677, Accuracy: 53.79%, Time Elapsed: 9.68 seconds\n",
            "Epoch 19/500, Loss: 1.0414, Accuracy: 53.93%, Time Elapsed: 10.10 seconds\n",
            "Epoch 20/500, Loss: 1.0381, Accuracy: 53.30%, Time Elapsed: 10.52 seconds\n",
            "Epoch 21/500, Loss: 1.0471, Accuracy: 53.90%, Time Elapsed: 10.94 seconds\n",
            "Epoch 22/500, Loss: 1.0157, Accuracy: 55.24%, Time Elapsed: 11.35 seconds\n",
            "Epoch 23/500, Loss: 1.0290, Accuracy: 54.24%, Time Elapsed: 11.77 seconds\n",
            "Epoch 24/500, Loss: 1.0248, Accuracy: 54.30%, Time Elapsed: 12.19 seconds\n",
            "Epoch 25/500, Loss: 1.0062, Accuracy: 55.30%, Time Elapsed: 12.61 seconds\n",
            "Epoch 26/500, Loss: 1.0022, Accuracy: 55.67%, Time Elapsed: 13.03 seconds\n",
            "Epoch 27/500, Loss: 0.9989, Accuracy: 54.84%, Time Elapsed: 13.45 seconds\n",
            "Epoch 28/500, Loss: 0.9903, Accuracy: 55.73%, Time Elapsed: 13.87 seconds\n",
            "Epoch 29/500, Loss: 0.9948, Accuracy: 55.90%, Time Elapsed: 14.28 seconds\n",
            "Epoch 30/500, Loss: 0.9885, Accuracy: 56.99%, Time Elapsed: 14.70 seconds\n",
            "Epoch 31/500, Loss: 0.9806, Accuracy: 56.30%, Time Elapsed: 15.12 seconds\n",
            "Epoch 32/500, Loss: 0.9835, Accuracy: 56.36%, Time Elapsed: 15.54 seconds\n",
            "Epoch 33/500, Loss: 0.9768, Accuracy: 56.70%, Time Elapsed: 15.96 seconds\n",
            "Epoch 34/500, Loss: 0.9894, Accuracy: 56.16%, Time Elapsed: 16.37 seconds\n",
            "Epoch 35/500, Loss: 0.9753, Accuracy: 56.87%, Time Elapsed: 16.80 seconds\n",
            "Epoch 36/500, Loss: 0.9662, Accuracy: 57.07%, Time Elapsed: 17.21 seconds\n",
            "Epoch 37/500, Loss: 0.9544, Accuracy: 58.05%, Time Elapsed: 17.63 seconds\n",
            "Epoch 38/500, Loss: 0.9617, Accuracy: 57.87%, Time Elapsed: 18.05 seconds\n",
            "Epoch 39/500, Loss: 0.9667, Accuracy: 56.56%, Time Elapsed: 18.47 seconds\n",
            "Epoch 40/500, Loss: 0.9429, Accuracy: 58.82%, Time Elapsed: 18.89 seconds\n",
            "Epoch 41/500, Loss: 0.9523, Accuracy: 58.53%, Time Elapsed: 19.30 seconds\n",
            "Epoch 42/500, Loss: 0.9219, Accuracy: 60.79%, Time Elapsed: 19.72 seconds\n",
            "Epoch 43/500, Loss: 0.9403, Accuracy: 59.50%, Time Elapsed: 20.14 seconds\n",
            "Epoch 44/500, Loss: 0.9422, Accuracy: 58.93%, Time Elapsed: 20.56 seconds\n",
            "Epoch 45/500, Loss: 0.9310, Accuracy: 59.82%, Time Elapsed: 20.98 seconds\n",
            "Epoch 46/500, Loss: 0.9306, Accuracy: 59.67%, Time Elapsed: 21.40 seconds\n",
            "Epoch 47/500, Loss: 0.9436, Accuracy: 58.85%, Time Elapsed: 21.82 seconds\n",
            "Epoch 48/500, Loss: 0.9273, Accuracy: 59.76%, Time Elapsed: 22.24 seconds\n",
            "Epoch 49/500, Loss: 0.9376, Accuracy: 58.73%, Time Elapsed: 22.66 seconds\n",
            "Epoch 50/500, Loss: 0.9294, Accuracy: 60.56%, Time Elapsed: 23.08 seconds\n",
            "Epoch 51/500, Loss: 0.9269, Accuracy: 59.96%, Time Elapsed: 23.50 seconds\n",
            "Epoch 52/500, Loss: 0.9378, Accuracy: 59.62%, Time Elapsed: 23.92 seconds\n",
            "Epoch 53/500, Loss: 0.9233, Accuracy: 60.22%, Time Elapsed: 24.34 seconds\n",
            "Epoch 54/500, Loss: 0.9119, Accuracy: 60.59%, Time Elapsed: 24.75 seconds\n",
            "Epoch 55/500, Loss: 0.9286, Accuracy: 59.59%, Time Elapsed: 25.17 seconds\n",
            "Epoch 56/500, Loss: 0.9176, Accuracy: 59.99%, Time Elapsed: 25.59 seconds\n",
            "Epoch 57/500, Loss: 0.9176, Accuracy: 60.56%, Time Elapsed: 26.01 seconds\n",
            "Epoch 58/500, Loss: 0.9156, Accuracy: 59.67%, Time Elapsed: 26.43 seconds\n",
            "Epoch 59/500, Loss: 0.9067, Accuracy: 60.13%, Time Elapsed: 26.85 seconds\n",
            "Epoch 60/500, Loss: 0.9139, Accuracy: 60.36%, Time Elapsed: 27.27 seconds\n",
            "Epoch 61/500, Loss: 0.8988, Accuracy: 60.82%, Time Elapsed: 27.69 seconds\n",
            "Epoch 62/500, Loss: 0.8914, Accuracy: 61.19%, Time Elapsed: 28.11 seconds\n",
            "Epoch 63/500, Loss: 0.8889, Accuracy: 61.30%, Time Elapsed: 28.53 seconds\n",
            "Epoch 64/500, Loss: 0.8903, Accuracy: 61.50%, Time Elapsed: 28.95 seconds\n",
            "Epoch 65/500, Loss: 0.8891, Accuracy: 61.56%, Time Elapsed: 29.37 seconds\n",
            "Epoch 66/500, Loss: 0.9064, Accuracy: 61.45%, Time Elapsed: 29.79 seconds\n",
            "Epoch 67/500, Loss: 0.9071, Accuracy: 60.59%, Time Elapsed: 30.21 seconds\n",
            "Epoch 68/500, Loss: 0.8968, Accuracy: 61.10%, Time Elapsed: 30.63 seconds\n",
            "Epoch 69/500, Loss: 0.8830, Accuracy: 61.79%, Time Elapsed: 31.05 seconds\n",
            "Epoch 70/500, Loss: 0.8840, Accuracy: 61.85%, Time Elapsed: 31.47 seconds\n",
            "Epoch 71/500, Loss: 0.8786, Accuracy: 63.13%, Time Elapsed: 31.89 seconds\n",
            "Epoch 72/500, Loss: 0.9025, Accuracy: 60.39%, Time Elapsed: 32.31 seconds\n",
            "Epoch 73/500, Loss: 0.8795, Accuracy: 63.10%, Time Elapsed: 32.73 seconds\n",
            "Epoch 74/500, Loss: 0.8892, Accuracy: 60.93%, Time Elapsed: 33.15 seconds\n",
            "Epoch 75/500, Loss: 0.8925, Accuracy: 61.67%, Time Elapsed: 33.57 seconds\n",
            "Epoch 76/500, Loss: 0.8894, Accuracy: 60.90%, Time Elapsed: 33.99 seconds\n",
            "Epoch 77/500, Loss: 0.8916, Accuracy: 61.70%, Time Elapsed: 34.41 seconds\n",
            "Epoch 78/500, Loss: 0.8811, Accuracy: 62.47%, Time Elapsed: 34.83 seconds\n",
            "Epoch 79/500, Loss: 0.8802, Accuracy: 62.07%, Time Elapsed: 35.25 seconds\n",
            "Epoch 80/500, Loss: 0.8813, Accuracy: 60.47%, Time Elapsed: 35.67 seconds\n",
            "Epoch 81/500, Loss: 0.8785, Accuracy: 62.62%, Time Elapsed: 36.09 seconds\n",
            "Epoch 82/500, Loss: 0.8830, Accuracy: 62.16%, Time Elapsed: 36.51 seconds\n",
            "Epoch 83/500, Loss: 0.8646, Accuracy: 63.02%, Time Elapsed: 36.93 seconds\n",
            "Epoch 84/500, Loss: 0.8628, Accuracy: 63.05%, Time Elapsed: 37.35 seconds\n",
            "Epoch 85/500, Loss: 0.8665, Accuracy: 63.19%, Time Elapsed: 37.77 seconds\n",
            "Epoch 86/500, Loss: 0.8707, Accuracy: 62.50%, Time Elapsed: 38.19 seconds\n",
            "Epoch 87/500, Loss: 0.8569, Accuracy: 63.90%, Time Elapsed: 38.61 seconds\n",
            "Epoch 88/500, Loss: 0.8660, Accuracy: 63.50%, Time Elapsed: 39.03 seconds\n",
            "Epoch 89/500, Loss: 0.8605, Accuracy: 63.48%, Time Elapsed: 39.45 seconds\n",
            "Epoch 90/500, Loss: 0.8672, Accuracy: 62.76%, Time Elapsed: 39.87 seconds\n",
            "Epoch 91/500, Loss: 0.8687, Accuracy: 63.50%, Time Elapsed: 40.29 seconds\n",
            "Epoch 92/500, Loss: 0.8741, Accuracy: 61.56%, Time Elapsed: 40.71 seconds\n",
            "Epoch 93/500, Loss: 0.8593, Accuracy: 63.22%, Time Elapsed: 41.13 seconds\n",
            "Epoch 94/500, Loss: 0.8632, Accuracy: 62.93%, Time Elapsed: 41.55 seconds\n",
            "Epoch 95/500, Loss: 0.8676, Accuracy: 63.59%, Time Elapsed: 41.97 seconds\n",
            "Epoch 96/500, Loss: 0.8560, Accuracy: 63.50%, Time Elapsed: 42.39 seconds\n",
            "Epoch 97/500, Loss: 0.8604, Accuracy: 63.33%, Time Elapsed: 42.81 seconds\n",
            "Epoch 98/500, Loss: 0.8556, Accuracy: 62.96%, Time Elapsed: 43.23 seconds\n",
            "Epoch 99/500, Loss: 0.8669, Accuracy: 63.50%, Time Elapsed: 43.65 seconds\n",
            "Epoch 100/500, Loss: 0.8557, Accuracy: 63.76%, Time Elapsed: 44.07 seconds\n",
            "Epoch 101/500, Loss: 0.8556, Accuracy: 64.59%, Time Elapsed: 44.49 seconds\n",
            "Epoch 102/500, Loss: 0.8427, Accuracy: 64.48%, Time Elapsed: 44.91 seconds\n",
            "Epoch 103/500, Loss: 0.8482, Accuracy: 64.70%, Time Elapsed: 45.33 seconds\n",
            "Epoch 104/500, Loss: 0.8539, Accuracy: 64.10%, Time Elapsed: 45.75 seconds\n",
            "Epoch 105/500, Loss: 0.8569, Accuracy: 63.33%, Time Elapsed: 46.17 seconds\n",
            "Epoch 106/500, Loss: 0.8479, Accuracy: 63.42%, Time Elapsed: 46.59 seconds\n",
            "Epoch 107/500, Loss: 0.8283, Accuracy: 65.56%, Time Elapsed: 47.01 seconds\n",
            "Epoch 108/500, Loss: 0.8553, Accuracy: 62.76%, Time Elapsed: 47.43 seconds\n",
            "Epoch 109/500, Loss: 0.8530, Accuracy: 64.05%, Time Elapsed: 47.85 seconds\n",
            "Epoch 110/500, Loss: 0.8427, Accuracy: 64.79%, Time Elapsed: 48.27 seconds\n",
            "Epoch 111/500, Loss: 0.8411, Accuracy: 63.28%, Time Elapsed: 48.69 seconds\n",
            "Epoch 112/500, Loss: 0.8315, Accuracy: 63.96%, Time Elapsed: 49.11 seconds\n",
            "Epoch 113/500, Loss: 0.8380, Accuracy: 64.45%, Time Elapsed: 49.53 seconds\n",
            "Epoch 114/500, Loss: 0.8597, Accuracy: 62.82%, Time Elapsed: 49.95 seconds\n",
            "Epoch 115/500, Loss: 0.8416, Accuracy: 64.70%, Time Elapsed: 50.37 seconds\n",
            "Epoch 116/500, Loss: 0.8397, Accuracy: 64.85%, Time Elapsed: 50.79 seconds\n",
            "Epoch 117/500, Loss: 0.8256, Accuracy: 65.10%, Time Elapsed: 51.21 seconds\n",
            "Epoch 118/500, Loss: 0.8568, Accuracy: 64.39%, Time Elapsed: 51.63 seconds\n",
            "Epoch 119/500, Loss: 0.8444, Accuracy: 63.93%, Time Elapsed: 52.05 seconds\n",
            "Epoch 120/500, Loss: 0.8257, Accuracy: 65.42%, Time Elapsed: 52.47 seconds\n",
            "Epoch 121/500, Loss: 0.8452, Accuracy: 64.62%, Time Elapsed: 52.89 seconds\n",
            "Epoch 122/500, Loss: 0.8289, Accuracy: 65.59%, Time Elapsed: 53.31 seconds\n",
            "Epoch 123/500, Loss: 0.8487, Accuracy: 63.70%, Time Elapsed: 53.73 seconds\n",
            "Epoch 124/500, Loss: 0.8265, Accuracy: 64.39%, Time Elapsed: 54.15 seconds\n",
            "Epoch 125/500, Loss: 0.8259, Accuracy: 66.33%, Time Elapsed: 54.57 seconds\n",
            "Epoch 126/500, Loss: 0.8325, Accuracy: 65.10%, Time Elapsed: 54.99 seconds\n",
            "Epoch 127/500, Loss: 0.8336, Accuracy: 63.79%, Time Elapsed: 55.41 seconds\n",
            "Epoch 128/500, Loss: 0.8302, Accuracy: 64.85%, Time Elapsed: 55.83 seconds\n",
            "Epoch 129/500, Loss: 0.8186, Accuracy: 65.48%, Time Elapsed: 56.25 seconds\n",
            "Epoch 130/500, Loss: 0.8318, Accuracy: 64.59%, Time Elapsed: 56.67 seconds\n",
            "Epoch 131/500, Loss: 0.8208, Accuracy: 66.13%, Time Elapsed: 57.09 seconds\n",
            "Epoch 132/500, Loss: 0.8181, Accuracy: 65.19%, Time Elapsed: 57.51 seconds\n",
            "Epoch 133/500, Loss: 0.8314, Accuracy: 63.68%, Time Elapsed: 57.93 seconds\n",
            "Epoch 134/500, Loss: 0.8264, Accuracy: 65.68%, Time Elapsed: 58.35 seconds\n",
            "Epoch 135/500, Loss: 0.8343, Accuracy: 65.02%, Time Elapsed: 58.77 seconds\n",
            "Epoch 136/500, Loss: 0.8310, Accuracy: 64.68%, Time Elapsed: 59.19 seconds\n",
            "Epoch 137/500, Loss: 0.8387, Accuracy: 64.30%, Time Elapsed: 59.61 seconds\n",
            "Epoch 138/500, Loss: 0.8287, Accuracy: 64.25%, Time Elapsed: 60.03 seconds\n",
            "Epoch 139/500, Loss: 0.8069, Accuracy: 66.56%, Time Elapsed: 60.45 seconds\n",
            "Epoch 140/500, Loss: 0.8153, Accuracy: 65.28%, Time Elapsed: 60.87 seconds\n",
            "Epoch 141/500, Loss: 0.8269, Accuracy: 64.73%, Time Elapsed: 61.29 seconds\n",
            "Epoch 142/500, Loss: 0.8013, Accuracy: 65.82%, Time Elapsed: 61.71 seconds\n",
            "Epoch 143/500, Loss: 0.8231, Accuracy: 65.56%, Time Elapsed: 62.13 seconds\n",
            "Epoch 144/500, Loss: 0.8174, Accuracy: 65.56%, Time Elapsed: 62.55 seconds\n",
            "Epoch 145/500, Loss: 0.8040, Accuracy: 64.99%, Time Elapsed: 62.97 seconds\n",
            "Epoch 146/500, Loss: 0.8170, Accuracy: 64.19%, Time Elapsed: 63.39 seconds\n",
            "Epoch 147/500, Loss: 0.8167, Accuracy: 65.53%, Time Elapsed: 63.81 seconds\n",
            "Epoch 148/500, Loss: 0.8083, Accuracy: 67.36%, Time Elapsed: 64.23 seconds\n",
            "Epoch 149/500, Loss: 0.8203, Accuracy: 65.10%, Time Elapsed: 64.64 seconds\n",
            "Epoch 150/500, Loss: 0.8169, Accuracy: 66.42%, Time Elapsed: 65.06 seconds\n",
            "Epoch 151/500, Loss: 0.8115, Accuracy: 66.45%, Time Elapsed: 65.48 seconds\n",
            "Epoch 152/500, Loss: 0.8282, Accuracy: 64.70%, Time Elapsed: 65.90 seconds\n",
            "Epoch 153/500, Loss: 0.7998, Accuracy: 66.68%, Time Elapsed: 66.32 seconds\n",
            "Epoch 154/500, Loss: 0.8292, Accuracy: 63.88%, Time Elapsed: 66.74 seconds\n",
            "Epoch 155/500, Loss: 0.8219, Accuracy: 65.73%, Time Elapsed: 67.16 seconds\n",
            "Epoch 156/500, Loss: 0.8200, Accuracy: 65.02%, Time Elapsed: 67.58 seconds\n",
            "Epoch 157/500, Loss: 0.8190, Accuracy: 65.02%, Time Elapsed: 68.00 seconds\n",
            "Epoch 158/500, Loss: 0.8045, Accuracy: 65.93%, Time Elapsed: 68.42 seconds\n",
            "Epoch 159/500, Loss: 0.7888, Accuracy: 66.02%, Time Elapsed: 68.84 seconds\n",
            "Epoch 160/500, Loss: 0.8081, Accuracy: 66.42%, Time Elapsed: 69.26 seconds\n",
            "Epoch 161/500, Loss: 0.8208, Accuracy: 64.85%, Time Elapsed: 69.68 seconds\n",
            "Epoch 162/500, Loss: 0.7986, Accuracy: 65.59%, Time Elapsed: 70.10 seconds\n",
            "Epoch 163/500, Loss: 0.7811, Accuracy: 68.02%, Time Elapsed: 70.52 seconds\n",
            "Epoch 164/500, Loss: 0.8113, Accuracy: 65.10%, Time Elapsed: 70.94 seconds\n",
            "Epoch 165/500, Loss: 0.7972, Accuracy: 66.30%, Time Elapsed: 71.36 seconds\n",
            "Epoch 166/500, Loss: 0.8063, Accuracy: 66.02%, Time Elapsed: 71.78 seconds\n",
            "Epoch 167/500, Loss: 0.8028, Accuracy: 65.93%, Time Elapsed: 72.20 seconds\n",
            "Epoch 168/500, Loss: 0.7840, Accuracy: 67.08%, Time Elapsed: 72.62 seconds\n",
            "Epoch 169/500, Loss: 0.7959, Accuracy: 66.25%, Time Elapsed: 73.04 seconds\n",
            "Epoch 170/500, Loss: 0.7829, Accuracy: 67.62%, Time Elapsed: 73.46 seconds\n",
            "Epoch 171/500, Loss: 0.7799, Accuracy: 67.82%, Time Elapsed: 73.88 seconds\n",
            "Epoch 172/500, Loss: 0.7982, Accuracy: 66.36%, Time Elapsed: 74.30 seconds\n",
            "Epoch 173/500, Loss: 0.8114, Accuracy: 66.25%, Time Elapsed: 74.72 seconds\n",
            "Epoch 174/500, Loss: 0.8156, Accuracy: 65.53%, Time Elapsed: 75.13 seconds\n",
            "Epoch 175/500, Loss: 0.8029, Accuracy: 65.93%, Time Elapsed: 75.55 seconds\n",
            "Epoch 176/500, Loss: 0.7911, Accuracy: 66.25%, Time Elapsed: 75.97 seconds\n",
            "Epoch 177/500, Loss: 0.7848, Accuracy: 66.88%, Time Elapsed: 76.39 seconds\n",
            "Epoch 178/500, Loss: 0.7854, Accuracy: 66.85%, Time Elapsed: 76.81 seconds\n",
            "Epoch 179/500, Loss: 0.7809, Accuracy: 66.99%, Time Elapsed: 77.23 seconds\n",
            "Epoch 180/500, Loss: 0.8029, Accuracy: 66.05%, Time Elapsed: 77.65 seconds\n",
            "Epoch 181/500, Loss: 0.7730, Accuracy: 68.13%, Time Elapsed: 78.07 seconds\n",
            "Epoch 182/500, Loss: 0.7971, Accuracy: 66.53%, Time Elapsed: 78.49 seconds\n",
            "Epoch 183/500, Loss: 0.7953, Accuracy: 65.82%, Time Elapsed: 78.91 seconds\n",
            "Epoch 184/500, Loss: 0.7977, Accuracy: 66.25%, Time Elapsed: 79.33 seconds\n",
            "Epoch 185/500, Loss: 0.7731, Accuracy: 67.65%, Time Elapsed: 79.75 seconds\n",
            "Epoch 186/500, Loss: 0.7826, Accuracy: 66.19%, Time Elapsed: 80.17 seconds\n",
            "Epoch 187/500, Loss: 0.7882, Accuracy: 66.82%, Time Elapsed: 80.59 seconds\n",
            "Epoch 188/500, Loss: 0.7983, Accuracy: 65.99%, Time Elapsed: 81.01 seconds\n",
            "Epoch 189/500, Loss: 0.8020, Accuracy: 65.59%, Time Elapsed: 81.43 seconds\n",
            "Epoch 190/500, Loss: 0.7844, Accuracy: 66.48%, Time Elapsed: 81.85 seconds\n",
            "Epoch 191/500, Loss: 0.7820, Accuracy: 67.96%, Time Elapsed: 82.27 seconds\n",
            "Epoch 192/500, Loss: 0.7770, Accuracy: 67.02%, Time Elapsed: 82.69 seconds\n",
            "Epoch 193/500, Loss: 0.7918, Accuracy: 66.33%, Time Elapsed: 83.11 seconds\n",
            "Epoch 194/500, Loss: 0.7692, Accuracy: 68.48%, Time Elapsed: 83.53 seconds\n",
            "Epoch 195/500, Loss: 0.7739, Accuracy: 68.05%, Time Elapsed: 83.95 seconds\n",
            "Epoch 196/500, Loss: 0.7905, Accuracy: 66.50%, Time Elapsed: 84.37 seconds\n",
            "Epoch 197/500, Loss: 0.7707, Accuracy: 66.82%, Time Elapsed: 84.79 seconds\n",
            "Epoch 198/500, Loss: 0.7674, Accuracy: 67.48%, Time Elapsed: 85.21 seconds\n",
            "Epoch 199/500, Loss: 0.7754, Accuracy: 67.53%, Time Elapsed: 85.63 seconds\n",
            "Epoch 200/500, Loss: 0.7635, Accuracy: 68.08%, Time Elapsed: 86.05 seconds\n",
            "Epoch 201/500, Loss: 0.7804, Accuracy: 67.02%, Time Elapsed: 86.46 seconds\n",
            "Epoch 202/500, Loss: 0.7711, Accuracy: 68.11%, Time Elapsed: 86.88 seconds\n",
            "Epoch 203/500, Loss: 0.7675, Accuracy: 67.73%, Time Elapsed: 87.30 seconds\n",
            "Epoch 204/500, Loss: 0.7791, Accuracy: 66.82%, Time Elapsed: 87.72 seconds\n",
            "Epoch 205/500, Loss: 0.7822, Accuracy: 67.13%, Time Elapsed: 88.14 seconds\n",
            "Epoch 206/500, Loss: 0.7707, Accuracy: 67.51%, Time Elapsed: 88.56 seconds\n",
            "Epoch 207/500, Loss: 0.7670, Accuracy: 68.96%, Time Elapsed: 88.98 seconds\n",
            "Epoch 208/500, Loss: 0.7586, Accuracy: 67.68%, Time Elapsed: 89.40 seconds\n",
            "Epoch 209/500, Loss: 0.7756, Accuracy: 67.33%, Time Elapsed: 89.81 seconds\n",
            "Epoch 210/500, Loss: 0.7827, Accuracy: 67.08%, Time Elapsed: 90.23 seconds\n",
            "Epoch 211/500, Loss: 0.7682, Accuracy: 67.56%, Time Elapsed: 90.65 seconds\n",
            "Epoch 212/500, Loss: 0.7880, Accuracy: 66.85%, Time Elapsed: 91.07 seconds\n",
            "Epoch 213/500, Loss: 0.7713, Accuracy: 67.16%, Time Elapsed: 91.49 seconds\n",
            "Epoch 214/500, Loss: 0.7731, Accuracy: 67.42%, Time Elapsed: 91.90 seconds\n",
            "Epoch 215/500, Loss: 0.7694, Accuracy: 67.79%, Time Elapsed: 92.32 seconds\n",
            "Epoch 216/500, Loss: 0.7670, Accuracy: 67.25%, Time Elapsed: 92.74 seconds\n",
            "Epoch 217/500, Loss: 0.7631, Accuracy: 67.16%, Time Elapsed: 93.16 seconds\n",
            "Epoch 218/500, Loss: 0.7566, Accuracy: 67.71%, Time Elapsed: 93.57 seconds\n",
            "Epoch 219/500, Loss: 0.7601, Accuracy: 67.42%, Time Elapsed: 93.99 seconds\n",
            "Epoch 220/500, Loss: 0.7759, Accuracy: 67.16%, Time Elapsed: 94.41 seconds\n",
            "Epoch 221/500, Loss: 0.7574, Accuracy: 68.85%, Time Elapsed: 94.83 seconds\n",
            "Epoch 222/500, Loss: 0.7712, Accuracy: 68.39%, Time Elapsed: 95.25 seconds\n",
            "Epoch 223/500, Loss: 0.7537, Accuracy: 68.31%, Time Elapsed: 95.67 seconds\n",
            "Epoch 224/500, Loss: 0.7583, Accuracy: 67.91%, Time Elapsed: 96.08 seconds\n",
            "Epoch 225/500, Loss: 0.7631, Accuracy: 68.51%, Time Elapsed: 96.50 seconds\n",
            "Epoch 226/500, Loss: 0.7627, Accuracy: 68.31%, Time Elapsed: 96.92 seconds\n",
            "Epoch 227/500, Loss: 0.7636, Accuracy: 67.56%, Time Elapsed: 97.34 seconds\n",
            "Epoch 228/500, Loss: 0.7473, Accuracy: 68.65%, Time Elapsed: 97.76 seconds\n",
            "Epoch 229/500, Loss: 0.7632, Accuracy: 67.28%, Time Elapsed: 98.17 seconds\n",
            "Epoch 230/500, Loss: 0.7737, Accuracy: 67.79%, Time Elapsed: 98.59 seconds\n",
            "Epoch 231/500, Loss: 0.7496, Accuracy: 69.33%, Time Elapsed: 99.01 seconds\n",
            "Epoch 232/500, Loss: 0.7599, Accuracy: 67.08%, Time Elapsed: 99.43 seconds\n",
            "Epoch 233/500, Loss: 0.7401, Accuracy: 68.88%, Time Elapsed: 99.85 seconds\n",
            "Epoch 234/500, Loss: 0.7567, Accuracy: 68.71%, Time Elapsed: 100.26 seconds\n",
            "Epoch 235/500, Loss: 0.7741, Accuracy: 67.76%, Time Elapsed: 100.68 seconds\n",
            "Epoch 236/500, Loss: 0.7494, Accuracy: 68.99%, Time Elapsed: 101.10 seconds\n",
            "Epoch 237/500, Loss: 0.7468, Accuracy: 68.73%, Time Elapsed: 101.52 seconds\n",
            "Epoch 238/500, Loss: 0.7493, Accuracy: 68.79%, Time Elapsed: 101.94 seconds\n",
            "Epoch 239/500, Loss: 0.7786, Accuracy: 66.90%, Time Elapsed: 102.35 seconds\n",
            "Epoch 240/500, Loss: 0.7516, Accuracy: 68.33%, Time Elapsed: 102.77 seconds\n",
            "Epoch 241/500, Loss: 0.7513, Accuracy: 68.96%, Time Elapsed: 103.19 seconds\n",
            "Epoch 242/500, Loss: 0.7460, Accuracy: 68.88%, Time Elapsed: 103.61 seconds\n",
            "Epoch 243/500, Loss: 0.7550, Accuracy: 68.59%, Time Elapsed: 104.03 seconds\n",
            "Epoch 244/500, Loss: 0.7458, Accuracy: 68.59%, Time Elapsed: 104.45 seconds\n",
            "Epoch 245/500, Loss: 0.7642, Accuracy: 67.79%, Time Elapsed: 104.86 seconds\n",
            "Epoch 246/500, Loss: 0.7585, Accuracy: 68.91%, Time Elapsed: 105.28 seconds\n",
            "Epoch 247/500, Loss: 0.7479, Accuracy: 68.91%, Time Elapsed: 105.70 seconds\n",
            "Epoch 248/500, Loss: 0.7482, Accuracy: 68.22%, Time Elapsed: 106.12 seconds\n",
            "Epoch 249/500, Loss: 0.7567, Accuracy: 68.71%, Time Elapsed: 106.53 seconds\n",
            "Epoch 250/500, Loss: 0.7336, Accuracy: 69.11%, Time Elapsed: 106.95 seconds\n",
            "Epoch 251/500, Loss: 0.7478, Accuracy: 68.42%, Time Elapsed: 107.37 seconds\n",
            "Epoch 252/500, Loss: 0.7366, Accuracy: 69.33%, Time Elapsed: 107.79 seconds\n",
            "Epoch 253/500, Loss: 0.7513, Accuracy: 68.85%, Time Elapsed: 108.21 seconds\n",
            "Epoch 254/500, Loss: 0.7536, Accuracy: 69.08%, Time Elapsed: 108.63 seconds\n",
            "Epoch 255/500, Loss: 0.7455, Accuracy: 69.62%, Time Elapsed: 109.04 seconds\n",
            "Epoch 256/500, Loss: 0.7597, Accuracy: 67.85%, Time Elapsed: 109.46 seconds\n",
            "Epoch 257/500, Loss: 0.7389, Accuracy: 68.82%, Time Elapsed: 109.88 seconds\n",
            "Epoch 258/500, Loss: 0.7490, Accuracy: 68.05%, Time Elapsed: 110.30 seconds\n",
            "Epoch 259/500, Loss: 0.7527, Accuracy: 68.51%, Time Elapsed: 110.72 seconds\n",
            "Epoch 260/500, Loss: 0.7284, Accuracy: 70.08%, Time Elapsed: 111.13 seconds\n",
            "Epoch 261/500, Loss: 0.7430, Accuracy: 68.39%, Time Elapsed: 111.55 seconds\n",
            "Epoch 262/500, Loss: 0.7404, Accuracy: 68.93%, Time Elapsed: 111.97 seconds\n",
            "Epoch 263/500, Loss: 0.7269, Accuracy: 69.33%, Time Elapsed: 112.39 seconds\n",
            "Epoch 264/500, Loss: 0.7521, Accuracy: 68.36%, Time Elapsed: 112.81 seconds\n",
            "Epoch 265/500, Loss: 0.7440, Accuracy: 68.22%, Time Elapsed: 113.22 seconds\n",
            "Epoch 266/500, Loss: 0.7385, Accuracy: 68.39%, Time Elapsed: 113.64 seconds\n",
            "Epoch 267/500, Loss: 0.7433, Accuracy: 68.96%, Time Elapsed: 114.06 seconds\n",
            "Epoch 268/500, Loss: 0.7426, Accuracy: 68.02%, Time Elapsed: 114.48 seconds\n",
            "Epoch 269/500, Loss: 0.7531, Accuracy: 68.68%, Time Elapsed: 114.89 seconds\n",
            "Epoch 270/500, Loss: 0.7380, Accuracy: 69.02%, Time Elapsed: 115.31 seconds\n",
            "Epoch 271/500, Loss: 0.7440, Accuracy: 68.59%, Time Elapsed: 115.73 seconds\n",
            "Epoch 272/500, Loss: 0.7368, Accuracy: 68.82%, Time Elapsed: 116.15 seconds\n",
            "Epoch 273/500, Loss: 0.7405, Accuracy: 68.48%, Time Elapsed: 116.57 seconds\n",
            "Epoch 274/500, Loss: 0.7317, Accuracy: 69.53%, Time Elapsed: 116.99 seconds\n",
            "Epoch 275/500, Loss: 0.7243, Accuracy: 69.82%, Time Elapsed: 117.41 seconds\n",
            "Epoch 276/500, Loss: 0.7561, Accuracy: 67.93%, Time Elapsed: 117.82 seconds\n",
            "Epoch 277/500, Loss: 0.7301, Accuracy: 69.42%, Time Elapsed: 118.24 seconds\n",
            "Epoch 278/500, Loss: 0.7423, Accuracy: 67.88%, Time Elapsed: 118.66 seconds\n",
            "Epoch 279/500, Loss: 0.7376, Accuracy: 69.73%, Time Elapsed: 119.08 seconds\n",
            "Epoch 280/500, Loss: 0.7332, Accuracy: 70.13%, Time Elapsed: 119.50 seconds\n",
            "Epoch 281/500, Loss: 0.7596, Accuracy: 68.68%, Time Elapsed: 119.91 seconds\n",
            "Epoch 282/500, Loss: 0.7521, Accuracy: 68.85%, Time Elapsed: 120.33 seconds\n",
            "Epoch 283/500, Loss: 0.7332, Accuracy: 69.45%, Time Elapsed: 120.75 seconds\n",
            "Epoch 284/500, Loss: 0.7351, Accuracy: 69.08%, Time Elapsed: 121.17 seconds\n",
            "Epoch 285/500, Loss: 0.7062, Accuracy: 70.68%, Time Elapsed: 121.58 seconds\n",
            "Epoch 286/500, Loss: 0.7310, Accuracy: 69.93%, Time Elapsed: 122.00 seconds\n",
            "Epoch 287/500, Loss: 0.7418, Accuracy: 68.33%, Time Elapsed: 122.42 seconds\n",
            "Epoch 288/500, Loss: 0.7390, Accuracy: 68.76%, Time Elapsed: 122.84 seconds\n",
            "Epoch 289/500, Loss: 0.7171, Accuracy: 70.42%, Time Elapsed: 123.26 seconds\n",
            "Epoch 290/500, Loss: 0.7317, Accuracy: 69.68%, Time Elapsed: 123.68 seconds\n",
            "Epoch 291/500, Loss: 0.7118, Accuracy: 70.16%, Time Elapsed: 124.09 seconds\n",
            "Epoch 292/500, Loss: 0.7435, Accuracy: 69.65%, Time Elapsed: 124.51 seconds\n",
            "Epoch 293/500, Loss: 0.7123, Accuracy: 70.31%, Time Elapsed: 124.93 seconds\n",
            "Epoch 294/500, Loss: 0.7251, Accuracy: 70.13%, Time Elapsed: 125.35 seconds\n",
            "Epoch 295/500, Loss: 0.7285, Accuracy: 68.82%, Time Elapsed: 125.77 seconds\n",
            "Epoch 296/500, Loss: 0.7326, Accuracy: 68.91%, Time Elapsed: 126.18 seconds\n",
            "Epoch 297/500, Loss: 0.7251, Accuracy: 69.65%, Time Elapsed: 126.60 seconds\n",
            "Epoch 298/500, Loss: 0.7455, Accuracy: 68.91%, Time Elapsed: 127.02 seconds\n",
            "Epoch 299/500, Loss: 0.7347, Accuracy: 68.79%, Time Elapsed: 127.44 seconds\n",
            "Epoch 300/500, Loss: 0.7246, Accuracy: 68.79%, Time Elapsed: 127.86 seconds\n",
            "Epoch 301/500, Loss: 0.7362, Accuracy: 69.51%, Time Elapsed: 128.28 seconds\n",
            "Epoch 302/500, Loss: 0.7261, Accuracy: 69.42%, Time Elapsed: 128.70 seconds\n",
            "Epoch 303/500, Loss: 0.7101, Accuracy: 70.02%, Time Elapsed: 129.12 seconds\n",
            "Epoch 304/500, Loss: 0.7364, Accuracy: 69.33%, Time Elapsed: 129.55 seconds\n",
            "Epoch 305/500, Loss: 0.7338, Accuracy: 69.39%, Time Elapsed: 129.97 seconds\n",
            "Epoch 306/500, Loss: 0.7204, Accuracy: 70.42%, Time Elapsed: 130.39 seconds\n",
            "Epoch 307/500, Loss: 0.7252, Accuracy: 69.28%, Time Elapsed: 130.81 seconds\n",
            "Epoch 308/500, Loss: 0.7370, Accuracy: 69.02%, Time Elapsed: 131.22 seconds\n",
            "Epoch 309/500, Loss: 0.7294, Accuracy: 69.68%, Time Elapsed: 131.64 seconds\n",
            "Epoch 310/500, Loss: 0.7229, Accuracy: 69.59%, Time Elapsed: 132.06 seconds\n",
            "Epoch 311/500, Loss: 0.7259, Accuracy: 69.82%, Time Elapsed: 132.48 seconds\n",
            "Epoch 312/500, Loss: 0.7244, Accuracy: 70.48%, Time Elapsed: 132.90 seconds\n",
            "Epoch 313/500, Loss: 0.7180, Accuracy: 70.51%, Time Elapsed: 133.32 seconds\n",
            "Epoch 314/500, Loss: 0.7181, Accuracy: 69.73%, Time Elapsed: 133.74 seconds\n",
            "Epoch 315/500, Loss: 0.7227, Accuracy: 70.19%, Time Elapsed: 134.15 seconds\n",
            "Epoch 316/500, Loss: 0.7237, Accuracy: 69.79%, Time Elapsed: 134.57 seconds\n",
            "Epoch 317/500, Loss: 0.7247, Accuracy: 69.02%, Time Elapsed: 134.99 seconds\n",
            "Epoch 318/500, Loss: 0.7230, Accuracy: 69.53%, Time Elapsed: 135.41 seconds\n",
            "Epoch 319/500, Loss: 0.7102, Accuracy: 70.71%, Time Elapsed: 135.83 seconds\n",
            "Epoch 320/500, Loss: 0.7281, Accuracy: 69.88%, Time Elapsed: 136.25 seconds\n",
            "Epoch 321/500, Loss: 0.7386, Accuracy: 69.11%, Time Elapsed: 136.67 seconds\n",
            "Epoch 322/500, Loss: 0.7217, Accuracy: 68.88%, Time Elapsed: 137.08 seconds\n",
            "Epoch 323/500, Loss: 0.7263, Accuracy: 69.02%, Time Elapsed: 137.50 seconds\n",
            "Epoch 324/500, Loss: 0.7105, Accuracy: 70.53%, Time Elapsed: 137.92 seconds\n",
            "Epoch 325/500, Loss: 0.7324, Accuracy: 69.79%, Time Elapsed: 138.34 seconds\n",
            "Epoch 326/500, Loss: 0.7221, Accuracy: 70.36%, Time Elapsed: 138.75 seconds\n",
            "Epoch 327/500, Loss: 0.6943, Accuracy: 70.62%, Time Elapsed: 139.17 seconds\n",
            "Epoch 328/500, Loss: 0.7247, Accuracy: 69.96%, Time Elapsed: 139.59 seconds\n",
            "Epoch 329/500, Loss: 0.7158, Accuracy: 70.48%, Time Elapsed: 140.01 seconds\n",
            "Epoch 330/500, Loss: 0.7263, Accuracy: 69.53%, Time Elapsed: 140.43 seconds\n",
            "Epoch 331/500, Loss: 0.7247, Accuracy: 69.28%, Time Elapsed: 140.85 seconds\n",
            "Epoch 332/500, Loss: 0.7155, Accuracy: 70.53%, Time Elapsed: 141.27 seconds\n",
            "Epoch 333/500, Loss: 0.7134, Accuracy: 70.25%, Time Elapsed: 141.68 seconds\n",
            "Epoch 334/500, Loss: 0.7112, Accuracy: 71.11%, Time Elapsed: 142.10 seconds\n",
            "Epoch 335/500, Loss: 0.7110, Accuracy: 70.96%, Time Elapsed: 142.52 seconds\n",
            "Epoch 336/500, Loss: 0.7138, Accuracy: 71.51%, Time Elapsed: 142.94 seconds\n",
            "Epoch 337/500, Loss: 0.7178, Accuracy: 70.88%, Time Elapsed: 143.36 seconds\n",
            "Epoch 338/500, Loss: 0.7251, Accuracy: 69.93%, Time Elapsed: 143.78 seconds\n",
            "Epoch 339/500, Loss: 0.7065, Accuracy: 70.82%, Time Elapsed: 144.20 seconds\n",
            "Epoch 340/500, Loss: 0.6979, Accuracy: 70.99%, Time Elapsed: 144.62 seconds\n",
            "Epoch 341/500, Loss: 0.7045, Accuracy: 70.65%, Time Elapsed: 145.03 seconds\n",
            "Epoch 342/500, Loss: 0.7231, Accuracy: 70.22%, Time Elapsed: 145.45 seconds\n",
            "Epoch 343/500, Loss: 0.7008, Accuracy: 69.99%, Time Elapsed: 145.87 seconds\n",
            "Epoch 344/500, Loss: 0.7260, Accuracy: 69.13%, Time Elapsed: 146.29 seconds\n",
            "Epoch 345/500, Loss: 0.7203, Accuracy: 70.02%, Time Elapsed: 146.70 seconds\n",
            "Epoch 346/500, Loss: 0.7048, Accuracy: 70.13%, Time Elapsed: 147.12 seconds\n",
            "Epoch 347/500, Loss: 0.7153, Accuracy: 69.96%, Time Elapsed: 147.54 seconds\n",
            "Epoch 348/500, Loss: 0.7161, Accuracy: 70.22%, Time Elapsed: 147.96 seconds\n",
            "Epoch 349/500, Loss: 0.7148, Accuracy: 69.59%, Time Elapsed: 148.38 seconds\n",
            "Epoch 350/500, Loss: 0.7126, Accuracy: 70.53%, Time Elapsed: 148.79 seconds\n",
            "Epoch 351/500, Loss: 0.7373, Accuracy: 69.05%, Time Elapsed: 149.21 seconds\n",
            "Epoch 352/500, Loss: 0.7159, Accuracy: 70.48%, Time Elapsed: 149.63 seconds\n",
            "Epoch 353/500, Loss: 0.7001, Accuracy: 70.73%, Time Elapsed: 150.05 seconds\n",
            "Epoch 354/500, Loss: 0.7275, Accuracy: 68.88%, Time Elapsed: 150.47 seconds\n",
            "Epoch 355/500, Loss: 0.7058, Accuracy: 70.93%, Time Elapsed: 150.89 seconds\n",
            "Epoch 356/500, Loss: 0.7206, Accuracy: 69.99%, Time Elapsed: 151.30 seconds\n",
            "Epoch 357/500, Loss: 0.7073, Accuracy: 70.36%, Time Elapsed: 151.72 seconds\n",
            "Epoch 358/500, Loss: 0.7204, Accuracy: 69.56%, Time Elapsed: 152.14 seconds\n",
            "Epoch 359/500, Loss: 0.7153, Accuracy: 70.25%, Time Elapsed: 152.56 seconds\n",
            "Epoch 360/500, Loss: 0.7124, Accuracy: 69.71%, Time Elapsed: 152.98 seconds\n",
            "Epoch 361/500, Loss: 0.7169, Accuracy: 70.65%, Time Elapsed: 153.39 seconds\n",
            "Epoch 362/500, Loss: 0.6990, Accuracy: 70.62%, Time Elapsed: 153.81 seconds\n",
            "Epoch 363/500, Loss: 0.6771, Accuracy: 71.76%, Time Elapsed: 154.23 seconds\n",
            "Epoch 364/500, Loss: 0.7134, Accuracy: 69.88%, Time Elapsed: 154.65 seconds\n",
            "Epoch 365/500, Loss: 0.7053, Accuracy: 70.28%, Time Elapsed: 155.06 seconds\n",
            "Epoch 366/500, Loss: 0.7117, Accuracy: 70.19%, Time Elapsed: 155.48 seconds\n",
            "Epoch 367/500, Loss: 0.6868, Accuracy: 71.22%, Time Elapsed: 155.90 seconds\n",
            "Epoch 368/500, Loss: 0.7204, Accuracy: 70.36%, Time Elapsed: 156.32 seconds\n",
            "Epoch 369/500, Loss: 0.7084, Accuracy: 70.62%, Time Elapsed: 156.74 seconds\n",
            "Epoch 370/500, Loss: 0.6962, Accuracy: 70.93%, Time Elapsed: 157.16 seconds\n",
            "Epoch 371/500, Loss: 0.7110, Accuracy: 70.82%, Time Elapsed: 157.58 seconds\n",
            "Epoch 372/500, Loss: 0.7100, Accuracy: 70.65%, Time Elapsed: 157.99 seconds\n",
            "Epoch 373/500, Loss: 0.6942, Accuracy: 70.71%, Time Elapsed: 158.41 seconds\n",
            "Epoch 374/500, Loss: 0.7154, Accuracy: 71.16%, Time Elapsed: 158.83 seconds\n",
            "Epoch 375/500, Loss: 0.7118, Accuracy: 71.13%, Time Elapsed: 159.25 seconds\n",
            "Epoch 376/500, Loss: 0.7031, Accuracy: 70.53%, Time Elapsed: 159.67 seconds\n",
            "Epoch 377/500, Loss: 0.7076, Accuracy: 71.45%, Time Elapsed: 160.08 seconds\n",
            "Epoch 378/500, Loss: 0.6863, Accuracy: 71.93%, Time Elapsed: 160.50 seconds\n",
            "Epoch 379/500, Loss: 0.6956, Accuracy: 71.53%, Time Elapsed: 160.92 seconds\n",
            "Epoch 380/500, Loss: 0.7448, Accuracy: 70.31%, Time Elapsed: 161.34 seconds\n",
            "Epoch 381/500, Loss: 0.6840, Accuracy: 71.22%, Time Elapsed: 161.75 seconds\n",
            "Epoch 382/500, Loss: 0.6890, Accuracy: 72.25%, Time Elapsed: 162.17 seconds\n",
            "Epoch 383/500, Loss: 0.7065, Accuracy: 70.59%, Time Elapsed: 162.59 seconds\n",
            "Epoch 384/500, Loss: 0.6932, Accuracy: 70.39%, Time Elapsed: 163.01 seconds\n",
            "Epoch 385/500, Loss: 0.6955, Accuracy: 70.39%, Time Elapsed: 163.43 seconds\n",
            "Epoch 386/500, Loss: 0.7136, Accuracy: 71.11%, Time Elapsed: 163.84 seconds\n",
            "Epoch 387/500, Loss: 0.6915, Accuracy: 71.59%, Time Elapsed: 164.26 seconds\n",
            "Epoch 388/500, Loss: 0.6900, Accuracy: 71.08%, Time Elapsed: 164.68 seconds\n",
            "Epoch 389/500, Loss: 0.6900, Accuracy: 70.91%, Time Elapsed: 165.10 seconds\n",
            "Epoch 390/500, Loss: 0.6888, Accuracy: 71.11%, Time Elapsed: 165.52 seconds\n",
            "Epoch 391/500, Loss: 0.6907, Accuracy: 70.71%, Time Elapsed: 165.94 seconds\n",
            "Epoch 392/500, Loss: 0.7302, Accuracy: 70.36%, Time Elapsed: 166.35 seconds\n",
            "Epoch 393/500, Loss: 0.7006, Accuracy: 72.13%, Time Elapsed: 166.77 seconds\n",
            "Epoch 394/500, Loss: 0.7041, Accuracy: 70.85%, Time Elapsed: 167.19 seconds\n",
            "Epoch 395/500, Loss: 0.6995, Accuracy: 70.76%, Time Elapsed: 167.61 seconds\n",
            "Epoch 396/500, Loss: 0.7001, Accuracy: 71.31%, Time Elapsed: 168.02 seconds\n",
            "Epoch 397/500, Loss: 0.6994, Accuracy: 70.68%, Time Elapsed: 168.44 seconds\n",
            "Epoch 398/500, Loss: 0.6961, Accuracy: 71.51%, Time Elapsed: 168.86 seconds\n",
            "Epoch 399/500, Loss: 0.6973, Accuracy: 70.85%, Time Elapsed: 169.28 seconds\n",
            "Epoch 400/500, Loss: 0.6881, Accuracy: 72.28%, Time Elapsed: 169.70 seconds\n",
            "Epoch 401/500, Loss: 0.6960, Accuracy: 71.13%, Time Elapsed: 170.11 seconds\n",
            "Epoch 402/500, Loss: 0.7000, Accuracy: 71.05%, Time Elapsed: 170.53 seconds\n",
            "Epoch 403/500, Loss: 0.6916, Accuracy: 71.51%, Time Elapsed: 170.95 seconds\n",
            "Epoch 404/500, Loss: 0.6998, Accuracy: 71.05%, Time Elapsed: 171.37 seconds\n",
            "Epoch 405/500, Loss: 0.6947, Accuracy: 71.31%, Time Elapsed: 171.79 seconds\n",
            "Epoch 406/500, Loss: 0.6943, Accuracy: 71.45%, Time Elapsed: 172.21 seconds\n",
            "Epoch 407/500, Loss: 0.7192, Accuracy: 70.25%, Time Elapsed: 172.62 seconds\n",
            "Epoch 408/500, Loss: 0.7056, Accuracy: 71.05%, Time Elapsed: 173.04 seconds\n",
            "Epoch 409/500, Loss: 0.6860, Accuracy: 71.62%, Time Elapsed: 173.46 seconds\n",
            "Epoch 410/500, Loss: 0.6988, Accuracy: 70.42%, Time Elapsed: 173.88 seconds\n",
            "Epoch 411/500, Loss: 0.6973, Accuracy: 72.13%, Time Elapsed: 174.30 seconds\n",
            "Epoch 412/500, Loss: 0.6947, Accuracy: 71.88%, Time Elapsed: 174.72 seconds\n",
            "Epoch 413/500, Loss: 0.6840, Accuracy: 70.99%, Time Elapsed: 175.13 seconds\n",
            "Epoch 414/500, Loss: 0.6938, Accuracy: 70.88%, Time Elapsed: 175.55 seconds\n",
            "Epoch 415/500, Loss: 0.6961, Accuracy: 71.11%, Time Elapsed: 175.97 seconds\n",
            "Epoch 416/500, Loss: 0.6778, Accuracy: 72.28%, Time Elapsed: 176.39 seconds\n",
            "Epoch 417/500, Loss: 0.6953, Accuracy: 71.71%, Time Elapsed: 176.80 seconds\n",
            "Epoch 418/500, Loss: 0.6918, Accuracy: 71.45%, Time Elapsed: 177.22 seconds\n",
            "Epoch 419/500, Loss: 0.6776, Accuracy: 72.16%, Time Elapsed: 177.64 seconds\n",
            "Epoch 420/500, Loss: 0.6852, Accuracy: 71.73%, Time Elapsed: 178.06 seconds\n",
            "Epoch 421/500, Loss: 0.6883, Accuracy: 71.45%, Time Elapsed: 178.48 seconds\n",
            "Epoch 422/500, Loss: 0.6804, Accuracy: 70.99%, Time Elapsed: 178.89 seconds\n",
            "Epoch 423/500, Loss: 0.6925, Accuracy: 70.96%, Time Elapsed: 179.31 seconds\n",
            "Epoch 424/500, Loss: 0.6839, Accuracy: 72.02%, Time Elapsed: 179.73 seconds\n",
            "Epoch 425/500, Loss: 0.6863, Accuracy: 71.71%, Time Elapsed: 180.15 seconds\n",
            "Epoch 426/500, Loss: 0.6753, Accuracy: 71.79%, Time Elapsed: 180.57 seconds\n",
            "Epoch 427/500, Loss: 0.6947, Accuracy: 71.16%, Time Elapsed: 180.98 seconds\n",
            "Epoch 428/500, Loss: 0.6937, Accuracy: 70.93%, Time Elapsed: 181.40 seconds\n",
            "Epoch 429/500, Loss: 0.6829, Accuracy: 72.16%, Time Elapsed: 181.82 seconds\n",
            "Epoch 430/500, Loss: 0.7079, Accuracy: 70.62%, Time Elapsed: 182.24 seconds\n",
            "Epoch 431/500, Loss: 0.6978, Accuracy: 71.85%, Time Elapsed: 182.66 seconds\n",
            "Epoch 432/500, Loss: 0.6920, Accuracy: 71.53%, Time Elapsed: 183.08 seconds\n",
            "Epoch 433/500, Loss: 0.7053, Accuracy: 70.53%, Time Elapsed: 183.49 seconds\n",
            "Epoch 434/500, Loss: 0.6891, Accuracy: 71.85%, Time Elapsed: 183.91 seconds\n",
            "Epoch 435/500, Loss: 0.6917, Accuracy: 71.16%, Time Elapsed: 184.33 seconds\n",
            "Epoch 436/500, Loss: 0.6934, Accuracy: 71.62%, Time Elapsed: 184.75 seconds\n",
            "Epoch 437/500, Loss: 0.7096, Accuracy: 70.79%, Time Elapsed: 185.17 seconds\n",
            "Epoch 438/500, Loss: 0.6729, Accuracy: 72.65%, Time Elapsed: 185.58 seconds\n",
            "Epoch 439/500, Loss: 0.6939, Accuracy: 70.76%, Time Elapsed: 186.00 seconds\n",
            "Epoch 440/500, Loss: 0.6743, Accuracy: 72.31%, Time Elapsed: 186.42 seconds\n",
            "Epoch 441/500, Loss: 0.7021, Accuracy: 71.22%, Time Elapsed: 186.84 seconds\n",
            "Epoch 442/500, Loss: 0.6841, Accuracy: 71.62%, Time Elapsed: 187.26 seconds\n",
            "Epoch 443/500, Loss: 0.6862, Accuracy: 72.33%, Time Elapsed: 187.68 seconds\n",
            "Epoch 444/500, Loss: 0.6742, Accuracy: 72.28%, Time Elapsed: 188.09 seconds\n",
            "Epoch 445/500, Loss: 0.6853, Accuracy: 71.76%, Time Elapsed: 188.51 seconds\n",
            "Epoch 446/500, Loss: 0.7018, Accuracy: 71.56%, Time Elapsed: 188.93 seconds\n",
            "Epoch 447/500, Loss: 0.6777, Accuracy: 71.65%, Time Elapsed: 189.35 seconds\n",
            "Epoch 448/500, Loss: 0.6975, Accuracy: 70.76%, Time Elapsed: 189.77 seconds\n",
            "Epoch 449/500, Loss: 0.6780, Accuracy: 72.11%, Time Elapsed: 190.19 seconds\n",
            "Epoch 450/500, Loss: 0.6851, Accuracy: 71.13%, Time Elapsed: 190.60 seconds\n",
            "Epoch 451/500, Loss: 0.6833, Accuracy: 71.16%, Time Elapsed: 191.02 seconds\n",
            "Epoch 452/500, Loss: 0.6972, Accuracy: 71.88%, Time Elapsed: 191.44 seconds\n",
            "Epoch 453/500, Loss: 0.6864, Accuracy: 71.08%, Time Elapsed: 191.86 seconds\n",
            "Epoch 454/500, Loss: 0.6810, Accuracy: 72.48%, Time Elapsed: 192.28 seconds\n",
            "Epoch 455/500, Loss: 0.6753, Accuracy: 72.82%, Time Elapsed: 192.69 seconds\n",
            "Epoch 456/500, Loss: 0.6702, Accuracy: 72.39%, Time Elapsed: 193.11 seconds\n",
            "Epoch 457/500, Loss: 0.6734, Accuracy: 71.53%, Time Elapsed: 193.53 seconds\n",
            "Epoch 458/500, Loss: 0.7023, Accuracy: 71.08%, Time Elapsed: 193.95 seconds\n",
            "Epoch 459/500, Loss: 0.6872, Accuracy: 71.65%, Time Elapsed: 194.36 seconds\n",
            "Epoch 460/500, Loss: 0.6920, Accuracy: 71.79%, Time Elapsed: 194.78 seconds\n",
            "Epoch 461/500, Loss: 0.6756, Accuracy: 72.62%, Time Elapsed: 195.20 seconds\n",
            "Epoch 462/500, Loss: 0.6832, Accuracy: 72.48%, Time Elapsed: 195.62 seconds\n",
            "Epoch 463/500, Loss: 0.6904, Accuracy: 71.96%, Time Elapsed: 196.04 seconds\n",
            "Epoch 464/500, Loss: 0.6994, Accuracy: 71.02%, Time Elapsed: 196.46 seconds\n",
            "Epoch 465/500, Loss: 0.6739, Accuracy: 72.48%, Time Elapsed: 196.88 seconds\n",
            "Epoch 466/500, Loss: 0.6857, Accuracy: 71.11%, Time Elapsed: 197.29 seconds\n",
            "Epoch 467/500, Loss: 0.6763, Accuracy: 72.59%, Time Elapsed: 197.71 seconds\n",
            "Epoch 468/500, Loss: 0.6870, Accuracy: 71.19%, Time Elapsed: 198.13 seconds\n",
            "Epoch 469/500, Loss: 0.6706, Accuracy: 72.51%, Time Elapsed: 198.55 seconds\n",
            "Epoch 470/500, Loss: 0.6891, Accuracy: 71.56%, Time Elapsed: 198.97 seconds\n",
            "Epoch 471/500, Loss: 0.6754, Accuracy: 72.11%, Time Elapsed: 199.38 seconds\n",
            "Epoch 472/500, Loss: 0.6760, Accuracy: 72.25%, Time Elapsed: 199.80 seconds\n",
            "Epoch 473/500, Loss: 0.6690, Accuracy: 72.62%, Time Elapsed: 200.22 seconds\n",
            "Epoch 474/500, Loss: 0.6912, Accuracy: 71.85%, Time Elapsed: 200.64 seconds\n",
            "Epoch 475/500, Loss: 0.6571, Accuracy: 72.99%, Time Elapsed: 201.06 seconds\n",
            "Epoch 476/500, Loss: 0.6913, Accuracy: 71.31%, Time Elapsed: 201.48 seconds\n",
            "Epoch 477/500, Loss: 0.6895, Accuracy: 71.56%, Time Elapsed: 201.90 seconds\n",
            "Epoch 478/500, Loss: 0.6967, Accuracy: 72.11%, Time Elapsed: 202.32 seconds\n",
            "Epoch 479/500, Loss: 0.6858, Accuracy: 71.91%, Time Elapsed: 202.74 seconds\n",
            "Epoch 480/500, Loss: 0.6692, Accuracy: 71.79%, Time Elapsed: 203.16 seconds\n",
            "Epoch 481/500, Loss: 0.6695, Accuracy: 71.99%, Time Elapsed: 203.58 seconds\n",
            "Epoch 482/500, Loss: 0.6727, Accuracy: 72.48%, Time Elapsed: 204.00 seconds\n",
            "Epoch 483/500, Loss: 0.6725, Accuracy: 72.48%, Time Elapsed: 204.41 seconds\n",
            "Epoch 484/500, Loss: 0.6700, Accuracy: 72.36%, Time Elapsed: 204.83 seconds\n",
            "Epoch 485/500, Loss: 0.6810, Accuracy: 71.82%, Time Elapsed: 205.25 seconds\n",
            "Epoch 486/500, Loss: 0.6884, Accuracy: 71.56%, Time Elapsed: 205.67 seconds\n",
            "Epoch 487/500, Loss: 0.6630, Accuracy: 73.19%, Time Elapsed: 206.09 seconds\n",
            "Epoch 488/500, Loss: 0.6778, Accuracy: 71.99%, Time Elapsed: 206.51 seconds\n",
            "Epoch 489/500, Loss: 0.6850, Accuracy: 71.65%, Time Elapsed: 206.93 seconds\n",
            "Epoch 490/500, Loss: 0.6721, Accuracy: 72.25%, Time Elapsed: 207.34 seconds\n",
            "Epoch 491/500, Loss: 0.6780, Accuracy: 71.68%, Time Elapsed: 207.76 seconds\n",
            "Epoch 492/500, Loss: 0.6670, Accuracy: 72.22%, Time Elapsed: 208.18 seconds\n",
            "Epoch 493/500, Loss: 0.6859, Accuracy: 71.56%, Time Elapsed: 208.60 seconds\n",
            "Epoch 494/500, Loss: 0.6706, Accuracy: 72.59%, Time Elapsed: 209.01 seconds\n",
            "Epoch 495/500, Loss: 0.6745, Accuracy: 72.36%, Time Elapsed: 209.43 seconds\n",
            "Epoch 496/500, Loss: 0.6826, Accuracy: 72.16%, Time Elapsed: 209.85 seconds\n",
            "Epoch 497/500, Loss: 0.6761, Accuracy: 72.42%, Time Elapsed: 210.27 seconds\n",
            "Epoch 498/500, Loss: 0.6875, Accuracy: 71.68%, Time Elapsed: 210.69 seconds\n",
            "Epoch 499/500, Loss: 0.6595, Accuracy: 73.16%, Time Elapsed: 211.11 seconds\n",
            "Epoch 500/500, Loss: 0.6559, Accuracy: 73.14%, Time Elapsed: 211.53 seconds\n",
            "Average Loss: 0.6558584448064044\n",
            "Highest Train Accuracy: 0.731923406687625\n"
          ]
        }
      ],
      "source": [
        "eegnet_model = EEGNetModel().to(device)\n",
        "\n",
        "# Training Hyperparameters\n",
        "EPOCHS = 500\n",
        "BATCH_SIZE = 64\n",
        "LEARNING_RATE = 0.001\n",
        "trainer = TrainModel()\n",
        "trained_eegnet_model = trainer.train_model(eegnet_model, train_dataset, learning_rate=LEARNING_RATE,\n",
        "                                   batch_size=BATCH_SIZE, epochs=EPOCHS)\n",
        "torch.save(trained_eegnet_model.state_dict(), 'eegnet_model.pth')\n"
      ]
    },
    {
      "cell_type": "markdown",
      "metadata": {
        "id": "-3fKnNHxDKwn"
      },
      "source": [
        "## Evaluating Model"
      ]
    },
    {
      "cell_type": "code",
      "execution_count": 45,
      "metadata": {
        "colab": {
          "base_uri": "https://localhost:8080/",
          "height": 695
        },
        "id": "aHsstvZSDLb1",
        "outputId": "62367285-83e7-4ed4-db94-376f791fcfec"
      },
      "outputs": [
        {
          "name": "stdout",
          "output_type": "stream",
          "text": [
            "/------------------------------/\n",
            "Test Accuracy: 66.07%\n",
            "/------------------------------/\n"
          ]
        },
        {
          "data": {
            "image/png": "[encoded data removed]",
            "text/plain": [
              "<Figure size 1000x700 with 2 Axes>"
            ]
          },
          "metadata": {},
          "output_type": "display_data"
        }
      ],
      "source": [
        "classes_list = ['Left', 'Right', 'Foot', 'Tongue']\n",
        "eval_model = EvalModel(trained_eegnet_model)\n",
        "test_accuracy = eval_model.test_model(test_dataset)\n",
        "eval_model.plot_confusion_matrix(test_dataset, classes_list)\n"
      ]
    }
  ],
  "metadata": {
    "accelerator": "GPU",
    "colab": {
      "authorship_tag": "ABX9TyOuzENxctn49HNjNmnJOE11",
      "gpuType": "T4",
      "include_colab_link": true,
      "provenance": []
    },
    "kernelspec": {
      "display_name": "Python 3",
      "name": "python3"
    },
    "language_info": {
      "codemirror_mode": {
        "name": "ipython",
        "version": 3
      },
      "file_extension": ".py",
      "mimetype": "text/x-python",
      "name": "python",
      "nbconvert_exporter": "python",
      "pygments_lexer": "ipython3",
      "version": "3.12.2"
    }
  },
  "nbformat": 4,
  "nbformat_minor": 0
}
