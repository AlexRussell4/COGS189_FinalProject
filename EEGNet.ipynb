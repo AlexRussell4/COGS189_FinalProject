{
  "cells": [
    {
      "cell_type": "markdown",
      "metadata": {
        "colab_type": "text",
        "id": "view-in-github"
      },
      "source": [
        "<a href=\"https://colab.research.google.com/github/amrzhd/EEGNet/blob/main/EEGNet.ipynb\" target=\"_parent\"><img src=\"https://colab.research.google.com/assets/colab-badge.svg\" alt=\"Open In Colab\"/></a>"
      ]
    },
    {
      "cell_type": "markdown",
      "metadata": {
        "id": "x_5wKiVyBTzL"
      },
      "source": [
        "# Motor Imagery Task Classification\n"
      ]
    },
    {
      "cell_type": "markdown",
      "metadata": {
        "id": "O-3Lg9veBge0"
      },
      "source": [
        "# Extracting Data"
      ]
    },
    {
      "cell_type": "markdown",
      "metadata": {
        "id": "W4JrI64nBl52"
      },
      "source": [
        "## Downloading BCI Competition IV 2a Dataset"
      ]
    },
    {
      "cell_type": "code",
      "execution_count": 1,
      "metadata": {
        "colab": {
          "base_uri": "https://localhost:8080/"
        },
        "id": "_6jNZi8rBNjN",
        "outputId": "88ac3846-5abc-411f-93f2-f4e96daeed4e"
      },
      "outputs": [
        {
          "name": "stdout",
          "output_type": "stream",
          "text": [
            "--2025-03-16 20:13:13--  https://www.bbci.de/competition/download/competition_iv/BCICIV_2a_gdf.zip\n",
            "Resolving webproxy.ucsd.edu (webproxy.ucsd.edu)... 132.239.1.230, 132.239.1.231\n",
            "Connecting to webproxy.ucsd.edu (webproxy.ucsd.edu)|132.239.1.230|:3128... connected.\n",
            "Proxy request sent, awaiting response... 200 OK\n",
            "Length: 439968864 (420M) [application/zip]\n",
            "Saving to: ‘BCICIV_2a_gdf.zip’\n",
            "\n",
            "BCICIV_2a_gdf.zip   100%[===================>] 419.59M  16.3MB/s    in 27s     \n",
            "\n",
            "2025-03-16 20:13:41 (15.7 MB/s) - ‘BCICIV_2a_gdf.zip’ saved [439968864/439968864]\n",
            "\n"
          ]
        }
      ],
      "source": [
        "!wget https://www.bbci.de/competition/download/competition_iv/BCICIV_2a_gdf.zip"
      ]
    },
    {
      "cell_type": "code",
      "execution_count": 2,
      "metadata": {
        "id": "5DbydQswB27q"
      },
      "outputs": [
        {
          "name": "stdout",
          "output_type": "stream",
          "text": [
            "mkdir: cannot create directory ‘/content’: Permission denied\n"
          ]
        }
      ],
      "source": [
        "!mkdir -p /content/cleaned_data/"
      ]
    },
    {
      "cell_type": "code",
      "execution_count": 10,
      "metadata": {
        "id": "50hgj12yB54U"
      },
      "outputs": [],
      "source": [
        "%%capture\n",
        "!unzip /content/BCICIV_2a_gdf.zip -d raw_data"
      ]
    },
    {
      "cell_type": "markdown",
      "metadata": {
        "id": "Y_mkff9aB-9w"
      },
      "source": [
        "# Installing Packages"
      ]
    },
    {
      "cell_type": "code",
      "execution_count": 4,
      "metadata": {
        "id": "mqHVmwYyCBsB"
      },
      "outputs": [],
      "source": [
        "%%capture\n",
        "!pip install mne"
      ]
    },
    {
      "cell_type": "code",
      "execution_count": 5,
      "metadata": {
        "id": "ueJFbf8KCCPw"
      },
      "outputs": [],
      "source": [
        "%%capture\n",
        "!pip install torch-summary"
      ]
    },
    {
      "cell_type": "markdown",
      "metadata": {
        "id": "crxgIV9ICD2T"
      },
      "source": [
        "# Libraries Used"
      ]
    },
    {
      "cell_type": "code",
      "execution_count": 3,
      "metadata": {
        "id": "CEp96MytCGei"
      },
      "outputs": [],
      "source": [
        "import os\n",
        "import mne\n",
        "import math\n",
        "import copy\n",
        "import gdown\n",
        "import random\n",
        "import scipy.io\n",
        "import numpy as np\n",
        "import pandas as pd\n",
        "import seaborn as sn\n",
        "import matplotlib.pyplot as plt\n",
        "\n",
        "# Torch\n",
        "import torch\n",
        "import torch.nn as nn\n",
        "import torch.optim as optim\n",
        "import torch.nn.functional as F\n",
        "from torchsummary import summary\n",
        "from torch.autograd import Variable\n",
        "from torch.utils.data import DataLoader, TensorDataset, random_split\n",
        "\n",
        "# Scikit-Learn\n",
        "from sklearn.feature_selection import mutual_info_classif\n",
        "from sklearn.metrics import confusion_matrix, accuracy_score\n",
        "from sklearn.model_selection import train_test_split"
      ]
    },
    {
      "cell_type": "markdown",
      "metadata": {
        "id": "nn8IHP2_CQbH"
      },
      "source": [
        "# Building Dataset"
      ]
    },
    {
      "cell_type": "code",
      "execution_count": 2,
      "metadata": {
        "id": "JFtUH89-G48b"
      },
      "outputs": [
        {
          "name": "stdout",
          "output_type": "stream",
          "text": [
            "mkdir: cannot create directory ‘/content’: Permission denied\n",
            "mkdir: cannot create directory ‘/content’: Permission denied\n"
          ]
        }
      ],
      "source": [
        "!mkdir -p /content/cleaned_data/first_session\n",
        "!mkdir -p /content/cleaned_data/second_session"
      ]
    },
    {
      "cell_type": "markdown",
      "metadata": {
        "id": "f6Bmm_acGc4g"
      },
      "source": [
        "## First Session"
      ]
    },
    {
      "cell_type": "code",
      "execution_count": 18,
      "metadata": {},
      "outputs": [
        {
          "name": "stdout",
          "output_type": "stream",
          "text": [
            "Extracting EDF parameters from /mnt/cogsci/home/ybo/189/content/raw_data/A03T.gdf...\n",
            "GDF file detected\n",
            "Setting channel info structure...\n",
            "Could not determine channel type of the following channels, they will be set as EEG:\n",
            "EEG-Fz, EEG, EEG, EEG, EEG, EEG, EEG, EEG-C3, EEG, EEG-Cz, EEG, EEG-C4, EEG, EEG, EEG, EEG, EEG, EEG, EEG, EEG-Pz, EEG, EEG\n",
            "Creating raw.info structure...\n",
            "Reading 0 ... 660529  =      0.000 ...  2642.116 secs...\n"
          ]
        },
        {
          "name": "stderr",
          "output_type": "stream",
          "text": [
            "/home/ybo/miniconda3/envs/myenv/lib/python3.12/contextlib.py:144: RuntimeWarning: Channel names are not unique, found duplicates for: {'EEG'}. Applying running numbers for duplicates.\n",
            "  next(self.gen)\n"
          ]
        },
        {
          "name": "stdout",
          "output_type": "stream",
          "text": [
            "Filtering raw data in 1 contiguous segment\n",
            "Setting up band-pass filter from 4 - 40 Hz\n",
            "\n",
            "IIR filter parameters\n",
            "---------------------\n",
            "Butterworth bandpass zero-phase (two-pass forward and reverse) non-causal filter:\n",
            "- Filter order 16 (effective, after forward-backward)\n",
            "- Cutoffs at 4.00, 40.00 Hz: -6.02, -6.02 dB\n",
            "\n",
            "Filtering raw data in 1 contiguous segment\n",
            "Setting up band-stop filter from 49 - 51 Hz\n",
            "\n",
            "FIR filter parameters\n",
            "---------------------\n",
            "Designing a one-pass, zero-phase, non-causal bandstop filter:\n",
            "- Windowed time-domain design (firwin) method\n",
            "- Hamming window with 0.0194 passband ripple and 53 dB stopband attenuation\n",
            "- Lower passband edge: 49.38\n",
            "- Lower transition bandwidth: 0.50 Hz (-6 dB cutoff frequency: 49.12 Hz)\n",
            "- Upper passband edge: 50.62 Hz\n",
            "- Upper transition bandwidth: 0.50 Hz (-6 dB cutoff frequency: 50.88 Hz)\n",
            "- Filter length: 1651 samples (6.604 s)\n",
            "\n",
            "Overwriting existing file.\n",
            "Writing /mnt/cogsci/home/ybo/189/content/cleaned_data/first_session/A03T.fif\n"
          ]
        },
        {
          "name": "stderr",
          "output_type": "stream",
          "text": [
            "[Parallel(n_jobs=1)]: Done  17 tasks      | elapsed:    0.2s\n",
            "/tmp/ipykernel_2845688/1506553248.py:29: RuntimeWarning: This filename (/mnt/cogsci/home/ybo/189/content/cleaned_data/first_session/A03T.fif) does not conform to MNE naming conventions. All raw files should end with raw.fif, raw_sss.fif, raw_tsss.fif, _meg.fif, _eeg.fif, _ieeg.fif, raw.fif.gz, raw_sss.fif.gz, raw_tsss.fif.gz, _meg.fif.gz, _eeg.fif.gz or _ieeg.fif.gz\n",
            "  raw.save(new_file_path, overwrite=True)\n"
          ]
        },
        {
          "name": "stdout",
          "output_type": "stream",
          "text": [
            "Closing /mnt/cogsci/home/ybo/189/content/cleaned_data/first_session/A03T.fif\n",
            "[done]\n",
            "Extracting EDF parameters from /mnt/cogsci/home/ybo/189/content/raw_data/A07T.gdf...\n",
            "GDF file detected\n",
            "Setting channel info structure...\n",
            "Could not determine channel type of the following channels, they will be set as EEG:\n",
            "EEG-Fz, EEG, EEG, EEG, EEG, EEG, EEG, EEG-C3, EEG, EEG-Cz, EEG, EEG-C4, EEG, EEG, EEG, EEG, EEG, EEG, EEG, EEG-Pz, EEG, EEG\n",
            "Creating raw.info structure...\n",
            "Reading 0 ... 681070  =      0.000 ...  2724.280 secs...\n"
          ]
        },
        {
          "name": "stderr",
          "output_type": "stream",
          "text": [
            "/home/ybo/miniconda3/envs/myenv/lib/python3.12/contextlib.py:144: RuntimeWarning: Channel names are not unique, found duplicates for: {'EEG'}. Applying running numbers for duplicates.\n",
            "  next(self.gen)\n"
          ]
        },
        {
          "name": "stdout",
          "output_type": "stream",
          "text": [
            "Filtering raw data in 1 contiguous segment\n",
            "Setting up band-pass filter from 4 - 40 Hz\n",
            "\n",
            "IIR filter parameters\n",
            "---------------------\n",
            "Butterworth bandpass zero-phase (two-pass forward and reverse) non-causal filter:\n",
            "- Filter order 16 (effective, after forward-backward)\n",
            "- Cutoffs at 4.00, 40.00 Hz: -6.02, -6.02 dB\n",
            "\n",
            "Filtering raw data in 1 contiguous segment\n",
            "Setting up band-stop filter from 49 - 51 Hz\n",
            "\n",
            "FIR filter parameters\n",
            "---------------------\n",
            "Designing a one-pass, zero-phase, non-causal bandstop filter:\n",
            "- Windowed time-domain design (firwin) method\n",
            "- Hamming window with 0.0194 passband ripple and 53 dB stopband attenuation\n",
            "- Lower passband edge: 49.38\n",
            "- Lower transition bandwidth: 0.50 Hz (-6 dB cutoff frequency: 49.12 Hz)\n",
            "- Upper passband edge: 50.62 Hz\n",
            "- Upper transition bandwidth: 0.50 Hz (-6 dB cutoff frequency: 50.88 Hz)\n",
            "- Filter length: 1651 samples (6.604 s)\n",
            "\n",
            "Overwriting existing file.\n",
            "Writing /mnt/cogsci/home/ybo/189/content/cleaned_data/first_session/A07T.fif\n"
          ]
        },
        {
          "name": "stderr",
          "output_type": "stream",
          "text": [
            "[Parallel(n_jobs=1)]: Done  17 tasks      | elapsed:    0.2s\n",
            "/tmp/ipykernel_2845688/1506553248.py:29: RuntimeWarning: This filename (/mnt/cogsci/home/ybo/189/content/cleaned_data/first_session/A07T.fif) does not conform to MNE naming conventions. All raw files should end with raw.fif, raw_sss.fif, raw_tsss.fif, _meg.fif, _eeg.fif, _ieeg.fif, raw.fif.gz, raw_sss.fif.gz, raw_tsss.fif.gz, _meg.fif.gz, _eeg.fif.gz or _ieeg.fif.gz\n",
            "  raw.save(new_file_path, overwrite=True)\n"
          ]
        },
        {
          "name": "stdout",
          "output_type": "stream",
          "text": [
            "Closing /mnt/cogsci/home/ybo/189/content/cleaned_data/first_session/A07T.fif\n",
            "[done]\n",
            "Extracting EDF parameters from /mnt/cogsci/home/ybo/189/content/raw_data/A02T.gdf...\n",
            "GDF file detected\n",
            "Setting channel info structure...\n",
            "Could not determine channel type of the following channels, they will be set as EEG:\n",
            "EEG-Fz, EEG, EEG, EEG, EEG, EEG, EEG, EEG-C3, EEG, EEG-Cz, EEG, EEG-C4, EEG, EEG, EEG, EEG, EEG, EEG, EEG, EEG-Pz, EEG, EEG\n",
            "Creating raw.info structure...\n",
            "Reading 0 ... 677168  =      0.000 ...  2708.672 secs...\n"
          ]
        },
        {
          "name": "stderr",
          "output_type": "stream",
          "text": [
            "/home/ybo/miniconda3/envs/myenv/lib/python3.12/contextlib.py:144: RuntimeWarning: Channel names are not unique, found duplicates for: {'EEG'}. Applying running numbers for duplicates.\n",
            "  next(self.gen)\n"
          ]
        },
        {
          "name": "stdout",
          "output_type": "stream",
          "text": [
            "Filtering raw data in 1 contiguous segment\n",
            "Setting up band-pass filter from 4 - 40 Hz\n",
            "\n",
            "IIR filter parameters\n",
            "---------------------\n",
            "Butterworth bandpass zero-phase (two-pass forward and reverse) non-causal filter:\n",
            "- Filter order 16 (effective, after forward-backward)\n",
            "- Cutoffs at 4.00, 40.00 Hz: -6.02, -6.02 dB\n",
            "\n",
            "Filtering raw data in 1 contiguous segment\n",
            "Setting up band-stop filter from 49 - 51 Hz\n",
            "\n",
            "FIR filter parameters\n",
            "---------------------\n",
            "Designing a one-pass, zero-phase, non-causal bandstop filter:\n",
            "- Windowed time-domain design (firwin) method\n",
            "- Hamming window with 0.0194 passband ripple and 53 dB stopband attenuation\n",
            "- Lower passband edge: 49.38\n",
            "- Lower transition bandwidth: 0.50 Hz (-6 dB cutoff frequency: 49.12 Hz)\n",
            "- Upper passband edge: 50.62 Hz\n",
            "- Upper transition bandwidth: 0.50 Hz (-6 dB cutoff frequency: 50.88 Hz)\n",
            "- Filter length: 1651 samples (6.604 s)\n",
            "\n",
            "Overwriting existing file.\n",
            "Writing /mnt/cogsci/home/ybo/189/content/cleaned_data/first_session/A02T.fif\n"
          ]
        },
        {
          "name": "stderr",
          "output_type": "stream",
          "text": [
            "[Parallel(n_jobs=1)]: Done  17 tasks      | elapsed:    0.2s\n",
            "/tmp/ipykernel_2845688/1506553248.py:29: RuntimeWarning: This filename (/mnt/cogsci/home/ybo/189/content/cleaned_data/first_session/A02T.fif) does not conform to MNE naming conventions. All raw files should end with raw.fif, raw_sss.fif, raw_tsss.fif, _meg.fif, _eeg.fif, _ieeg.fif, raw.fif.gz, raw_sss.fif.gz, raw_tsss.fif.gz, _meg.fif.gz, _eeg.fif.gz or _ieeg.fif.gz\n",
            "  raw.save(new_file_path, overwrite=True)\n"
          ]
        },
        {
          "name": "stdout",
          "output_type": "stream",
          "text": [
            "Closing /mnt/cogsci/home/ybo/189/content/cleaned_data/first_session/A02T.fif\n",
            "[done]\n",
            "Extracting EDF parameters from /mnt/cogsci/home/ybo/189/content/raw_data/A06T.gdf...\n",
            "GDF file detected\n",
            "Setting channel info structure...\n",
            "Could not determine channel type of the following channels, they will be set as EEG:\n",
            "EEG-Fz, EEG, EEG, EEG, EEG, EEG, EEG, EEG-C3, EEG, EEG-Cz, EEG, EEG-C4, EEG, EEG, EEG, EEG, EEG, EEG, EEG, EEG-Pz, EEG, EEG\n",
            "Creating raw.info structure...\n",
            "Reading 0 ... 678979  =      0.000 ...  2715.916 secs...\n"
          ]
        },
        {
          "name": "stderr",
          "output_type": "stream",
          "text": [
            "/home/ybo/miniconda3/envs/myenv/lib/python3.12/contextlib.py:144: RuntimeWarning: Channel names are not unique, found duplicates for: {'EEG'}. Applying running numbers for duplicates.\n",
            "  next(self.gen)\n"
          ]
        },
        {
          "name": "stdout",
          "output_type": "stream",
          "text": [
            "Filtering raw data in 1 contiguous segment\n",
            "Setting up band-pass filter from 4 - 40 Hz\n",
            "\n",
            "IIR filter parameters\n",
            "---------------------\n",
            "Butterworth bandpass zero-phase (two-pass forward and reverse) non-causal filter:\n",
            "- Filter order 16 (effective, after forward-backward)\n",
            "- Cutoffs at 4.00, 40.00 Hz: -6.02, -6.02 dB\n",
            "\n",
            "Filtering raw data in 1 contiguous segment\n",
            "Setting up band-stop filter from 49 - 51 Hz\n",
            "\n",
            "FIR filter parameters\n",
            "---------------------\n",
            "Designing a one-pass, zero-phase, non-causal bandstop filter:\n",
            "- Windowed time-domain design (firwin) method\n",
            "- Hamming window with 0.0194 passband ripple and 53 dB stopband attenuation\n",
            "- Lower passband edge: 49.38\n",
            "- Lower transition bandwidth: 0.50 Hz (-6 dB cutoff frequency: 49.12 Hz)\n",
            "- Upper passband edge: 50.62 Hz\n",
            "- Upper transition bandwidth: 0.50 Hz (-6 dB cutoff frequency: 50.88 Hz)\n",
            "- Filter length: 1651 samples (6.604 s)\n",
            "\n",
            "Overwriting existing file.\n",
            "Writing /mnt/cogsci/home/ybo/189/content/cleaned_data/first_session/A06T.fif\n"
          ]
        },
        {
          "name": "stderr",
          "output_type": "stream",
          "text": [
            "[Parallel(n_jobs=1)]: Done  17 tasks      | elapsed:    0.2s\n",
            "/tmp/ipykernel_2845688/1506553248.py:29: RuntimeWarning: This filename (/mnt/cogsci/home/ybo/189/content/cleaned_data/first_session/A06T.fif) does not conform to MNE naming conventions. All raw files should end with raw.fif, raw_sss.fif, raw_tsss.fif, _meg.fif, _eeg.fif, _ieeg.fif, raw.fif.gz, raw_sss.fif.gz, raw_tsss.fif.gz, _meg.fif.gz, _eeg.fif.gz or _ieeg.fif.gz\n",
            "  raw.save(new_file_path, overwrite=True)\n"
          ]
        },
        {
          "name": "stdout",
          "output_type": "stream",
          "text": [
            "Closing /mnt/cogsci/home/ybo/189/content/cleaned_data/first_session/A06T.fif\n",
            "[done]\n",
            "Extracting EDF parameters from /mnt/cogsci/home/ybo/189/content/raw_data/A08T.gdf...\n",
            "GDF file detected\n",
            "Setting channel info structure...\n",
            "Could not determine channel type of the following channels, they will be set as EEG:\n",
            "EEG-Fz, EEG, EEG, EEG, EEG, EEG, EEG, EEG-C3, EEG, EEG-Cz, EEG, EEG-C4, EEG, EEG, EEG, EEG, EEG, EEG, EEG, EEG-Pz, EEG, EEG\n",
            "Creating raw.info structure...\n",
            "Reading 0 ... 675269  =      0.000 ...  2701.076 secs...\n"
          ]
        },
        {
          "name": "stderr",
          "output_type": "stream",
          "text": [
            "/home/ybo/miniconda3/envs/myenv/lib/python3.12/contextlib.py:144: RuntimeWarning: Channel names are not unique, found duplicates for: {'EEG'}. Applying running numbers for duplicates.\n",
            "  next(self.gen)\n"
          ]
        },
        {
          "name": "stdout",
          "output_type": "stream",
          "text": [
            "Filtering raw data in 1 contiguous segment\n",
            "Setting up band-pass filter from 4 - 40 Hz\n",
            "\n",
            "IIR filter parameters\n",
            "---------------------\n",
            "Butterworth bandpass zero-phase (two-pass forward and reverse) non-causal filter:\n",
            "- Filter order 16 (effective, after forward-backward)\n",
            "- Cutoffs at 4.00, 40.00 Hz: -6.02, -6.02 dB\n",
            "\n",
            "Filtering raw data in 1 contiguous segment\n",
            "Setting up band-stop filter from 49 - 51 Hz\n",
            "\n",
            "FIR filter parameters\n",
            "---------------------\n",
            "Designing a one-pass, zero-phase, non-causal bandstop filter:\n",
            "- Windowed time-domain design (firwin) method\n",
            "- Hamming window with 0.0194 passband ripple and 53 dB stopband attenuation\n",
            "- Lower passband edge: 49.38\n",
            "- Lower transition bandwidth: 0.50 Hz (-6 dB cutoff frequency: 49.12 Hz)\n",
            "- Upper passband edge: 50.62 Hz\n",
            "- Upper transition bandwidth: 0.50 Hz (-6 dB cutoff frequency: 50.88 Hz)\n",
            "- Filter length: 1651 samples (6.604 s)\n",
            "\n",
            "Overwriting existing file.\n",
            "Writing /mnt/cogsci/home/ybo/189/content/cleaned_data/first_session/A08T.fif\n"
          ]
        },
        {
          "name": "stderr",
          "output_type": "stream",
          "text": [
            "[Parallel(n_jobs=1)]: Done  17 tasks      | elapsed:    0.2s\n",
            "/tmp/ipykernel_2845688/1506553248.py:29: RuntimeWarning: This filename (/mnt/cogsci/home/ybo/189/content/cleaned_data/first_session/A08T.fif) does not conform to MNE naming conventions. All raw files should end with raw.fif, raw_sss.fif, raw_tsss.fif, _meg.fif, _eeg.fif, _ieeg.fif, raw.fif.gz, raw_sss.fif.gz, raw_tsss.fif.gz, _meg.fif.gz, _eeg.fif.gz or _ieeg.fif.gz\n",
            "  raw.save(new_file_path, overwrite=True)\n"
          ]
        },
        {
          "name": "stdout",
          "output_type": "stream",
          "text": [
            "Closing /mnt/cogsci/home/ybo/189/content/cleaned_data/first_session/A08T.fif\n",
            "[done]\n",
            "Extracting EDF parameters from /mnt/cogsci/home/ybo/189/content/raw_data/A04T.gdf...\n",
            "GDF file detected\n",
            "Setting channel info structure...\n",
            "Could not determine channel type of the following channels, they will be set as EEG:\n",
            "EEG-Fz, EEG, EEG, EEG, EEG, EEG, EEG, EEG-C3, EEG, EEG-Cz, EEG, EEG-C4, EEG, EEG, EEG, EEG, EEG, EEG, EEG, EEG-Pz, EEG, EEG\n",
            "Creating raw.info structure...\n",
            "Reading 0 ... 600914  =      0.000 ...  2403.656 secs...\n"
          ]
        },
        {
          "name": "stderr",
          "output_type": "stream",
          "text": [
            "/home/ybo/miniconda3/envs/myenv/lib/python3.12/contextlib.py:144: RuntimeWarning: Channel names are not unique, found duplicates for: {'EEG'}. Applying running numbers for duplicates.\n",
            "  next(self.gen)\n"
          ]
        },
        {
          "name": "stdout",
          "output_type": "stream",
          "text": [
            "Filtering raw data in 1 contiguous segment\n",
            "Setting up band-pass filter from 4 - 40 Hz\n",
            "\n",
            "IIR filter parameters\n",
            "---------------------\n",
            "Butterworth bandpass zero-phase (two-pass forward and reverse) non-causal filter:\n",
            "- Filter order 16 (effective, after forward-backward)\n",
            "- Cutoffs at 4.00, 40.00 Hz: -6.02, -6.02 dB\n",
            "\n",
            "Filtering raw data in 1 contiguous segment\n",
            "Setting up band-stop filter from 49 - 51 Hz\n",
            "\n",
            "FIR filter parameters\n",
            "---------------------\n",
            "Designing a one-pass, zero-phase, non-causal bandstop filter:\n",
            "- Windowed time-domain design (firwin) method\n",
            "- Hamming window with 0.0194 passband ripple and 53 dB stopband attenuation\n",
            "- Lower passband edge: 49.38\n",
            "- Lower transition bandwidth: 0.50 Hz (-6 dB cutoff frequency: 49.12 Hz)\n",
            "- Upper passband edge: 50.62 Hz\n",
            "- Upper transition bandwidth: 0.50 Hz (-6 dB cutoff frequency: 50.88 Hz)\n",
            "- Filter length: 1651 samples (6.604 s)\n",
            "\n",
            "Overwriting existing file.\n",
            "Writing /mnt/cogsci/home/ybo/189/content/cleaned_data/first_session/A04T.fif\n"
          ]
        },
        {
          "name": "stderr",
          "output_type": "stream",
          "text": [
            "[Parallel(n_jobs=1)]: Done  17 tasks      | elapsed:    0.1s\n",
            "/tmp/ipykernel_2845688/1506553248.py:29: RuntimeWarning: This filename (/mnt/cogsci/home/ybo/189/content/cleaned_data/first_session/A04T.fif) does not conform to MNE naming conventions. All raw files should end with raw.fif, raw_sss.fif, raw_tsss.fif, _meg.fif, _eeg.fif, _ieeg.fif, raw.fif.gz, raw_sss.fif.gz, raw_tsss.fif.gz, _meg.fif.gz, _eeg.fif.gz or _ieeg.fif.gz\n",
            "  raw.save(new_file_path, overwrite=True)\n"
          ]
        },
        {
          "name": "stdout",
          "output_type": "stream",
          "text": [
            "Closing /mnt/cogsci/home/ybo/189/content/cleaned_data/first_session/A04T.fif\n",
            "[done]\n",
            "Extracting EDF parameters from /mnt/cogsci/home/ybo/189/content/raw_data/A01T.gdf...\n",
            "GDF file detected\n",
            "Setting channel info structure...\n",
            "Could not determine channel type of the following channels, they will be set as EEG:\n",
            "EEG-Fz, EEG, EEG, EEG, EEG, EEG, EEG, EEG-C3, EEG, EEG-Cz, EEG, EEG-C4, EEG, EEG, EEG, EEG, EEG, EEG, EEG, EEG-Pz, EEG, EEG\n",
            "Creating raw.info structure...\n",
            "Reading 0 ... 672527  =      0.000 ...  2690.108 secs...\n"
          ]
        },
        {
          "name": "stderr",
          "output_type": "stream",
          "text": [
            "/home/ybo/miniconda3/envs/myenv/lib/python3.12/contextlib.py:144: RuntimeWarning: Channel names are not unique, found duplicates for: {'EEG'}. Applying running numbers for duplicates.\n",
            "  next(self.gen)\n"
          ]
        },
        {
          "name": "stdout",
          "output_type": "stream",
          "text": [
            "Filtering raw data in 1 contiguous segment\n",
            "Setting up band-pass filter from 4 - 40 Hz\n",
            "\n",
            "IIR filter parameters\n",
            "---------------------\n",
            "Butterworth bandpass zero-phase (two-pass forward and reverse) non-causal filter:\n",
            "- Filter order 16 (effective, after forward-backward)\n",
            "- Cutoffs at 4.00, 40.00 Hz: -6.02, -6.02 dB\n",
            "\n",
            "Filtering raw data in 1 contiguous segment\n",
            "Setting up band-stop filter from 49 - 51 Hz\n",
            "\n",
            "FIR filter parameters\n",
            "---------------------\n",
            "Designing a one-pass, zero-phase, non-causal bandstop filter:\n",
            "- Windowed time-domain design (firwin) method\n",
            "- Hamming window with 0.0194 passband ripple and 53 dB stopband attenuation\n",
            "- Lower passband edge: 49.38\n",
            "- Lower transition bandwidth: 0.50 Hz (-6 dB cutoff frequency: 49.12 Hz)\n",
            "- Upper passband edge: 50.62 Hz\n",
            "- Upper transition bandwidth: 0.50 Hz (-6 dB cutoff frequency: 50.88 Hz)\n",
            "- Filter length: 1651 samples (6.604 s)\n",
            "\n",
            "Overwriting existing file.\n",
            "Writing /mnt/cogsci/home/ybo/189/content/cleaned_data/first_session/A01T.fif\n"
          ]
        },
        {
          "name": "stderr",
          "output_type": "stream",
          "text": [
            "[Parallel(n_jobs=1)]: Done  17 tasks      | elapsed:    0.2s\n",
            "/tmp/ipykernel_2845688/1506553248.py:29: RuntimeWarning: This filename (/mnt/cogsci/home/ybo/189/content/cleaned_data/first_session/A01T.fif) does not conform to MNE naming conventions. All raw files should end with raw.fif, raw_sss.fif, raw_tsss.fif, _meg.fif, _eeg.fif, _ieeg.fif, raw.fif.gz, raw_sss.fif.gz, raw_tsss.fif.gz, _meg.fif.gz, _eeg.fif.gz or _ieeg.fif.gz\n",
            "  raw.save(new_file_path, overwrite=True)\n"
          ]
        },
        {
          "name": "stdout",
          "output_type": "stream",
          "text": [
            "Closing /mnt/cogsci/home/ybo/189/content/cleaned_data/first_session/A01T.fif\n",
            "[done]\n",
            "Extracting EDF parameters from /mnt/cogsci/home/ybo/189/content/raw_data/A05T.gdf...\n",
            "GDF file detected\n",
            "Setting channel info structure...\n",
            "Could not determine channel type of the following channels, they will be set as EEG:\n",
            "EEG-Fz, EEG, EEG, EEG, EEG, EEG, EEG, EEG-C3, EEG, EEG-Cz, EEG, EEG-C4, EEG, EEG, EEG, EEG, EEG, EEG, EEG, EEG-Pz, EEG, EEG\n",
            "Creating raw.info structure...\n",
            "Reading 0 ... 686119  =      0.000 ...  2744.476 secs...\n"
          ]
        },
        {
          "name": "stderr",
          "output_type": "stream",
          "text": [
            "/home/ybo/miniconda3/envs/myenv/lib/python3.12/contextlib.py:144: RuntimeWarning: Channel names are not unique, found duplicates for: {'EEG'}. Applying running numbers for duplicates.\n",
            "  next(self.gen)\n"
          ]
        },
        {
          "name": "stdout",
          "output_type": "stream",
          "text": [
            "Filtering raw data in 1 contiguous segment\n",
            "Setting up band-pass filter from 4 - 40 Hz\n",
            "\n",
            "IIR filter parameters\n",
            "---------------------\n",
            "Butterworth bandpass zero-phase (two-pass forward and reverse) non-causal filter:\n",
            "- Filter order 16 (effective, after forward-backward)\n",
            "- Cutoffs at 4.00, 40.00 Hz: -6.02, -6.02 dB\n",
            "\n",
            "Filtering raw data in 1 contiguous segment\n",
            "Setting up band-stop filter from 49 - 51 Hz\n",
            "\n",
            "FIR filter parameters\n",
            "---------------------\n",
            "Designing a one-pass, zero-phase, non-causal bandstop filter:\n",
            "- Windowed time-domain design (firwin) method\n",
            "- Hamming window with 0.0194 passband ripple and 53 dB stopband attenuation\n",
            "- Lower passband edge: 49.38\n",
            "- Lower transition bandwidth: 0.50 Hz (-6 dB cutoff frequency: 49.12 Hz)\n",
            "- Upper passband edge: 50.62 Hz\n",
            "- Upper transition bandwidth: 0.50 Hz (-6 dB cutoff frequency: 50.88 Hz)\n",
            "- Filter length: 1651 samples (6.604 s)\n",
            "\n",
            "Overwriting existing file.\n",
            "Writing /mnt/cogsci/home/ybo/189/content/cleaned_data/first_session/A05T.fif\n"
          ]
        },
        {
          "name": "stderr",
          "output_type": "stream",
          "text": [
            "[Parallel(n_jobs=1)]: Done  17 tasks      | elapsed:    0.2s\n",
            "/tmp/ipykernel_2845688/1506553248.py:29: RuntimeWarning: This filename (/mnt/cogsci/home/ybo/189/content/cleaned_data/first_session/A05T.fif) does not conform to MNE naming conventions. All raw files should end with raw.fif, raw_sss.fif, raw_tsss.fif, _meg.fif, _eeg.fif, _ieeg.fif, raw.fif.gz, raw_sss.fif.gz, raw_tsss.fif.gz, _meg.fif.gz, _eeg.fif.gz or _ieeg.fif.gz\n",
            "  raw.save(new_file_path, overwrite=True)\n"
          ]
        },
        {
          "name": "stdout",
          "output_type": "stream",
          "text": [
            "Closing /mnt/cogsci/home/ybo/189/content/cleaned_data/first_session/A05T.fif\n",
            "[done]\n",
            "Extracting EDF parameters from /mnt/cogsci/home/ybo/189/content/raw_data/A09T.gdf...\n",
            "GDF file detected\n",
            "Setting channel info structure...\n",
            "Could not determine channel type of the following channels, they will be set as EEG:\n",
            "EEG-Fz, EEG, EEG, EEG, EEG, EEG, EEG, EEG-C3, EEG, EEG-Cz, EEG, EEG-C4, EEG, EEG, EEG, EEG, EEG, EEG, EEG, EEG-Pz, EEG, EEG\n",
            "Creating raw.info structure...\n",
            "Reading 0 ... 673327  =      0.000 ...  2693.308 secs...\n"
          ]
        },
        {
          "name": "stderr",
          "output_type": "stream",
          "text": [
            "/home/ybo/miniconda3/envs/myenv/lib/python3.12/contextlib.py:144: RuntimeWarning: Channel names are not unique, found duplicates for: {'EEG'}. Applying running numbers for duplicates.\n",
            "  next(self.gen)\n"
          ]
        },
        {
          "name": "stdout",
          "output_type": "stream",
          "text": [
            "Filtering raw data in 1 contiguous segment\n",
            "Setting up band-pass filter from 4 - 40 Hz\n",
            "\n",
            "IIR filter parameters\n",
            "---------------------\n",
            "Butterworth bandpass zero-phase (two-pass forward and reverse) non-causal filter:\n",
            "- Filter order 16 (effective, after forward-backward)\n",
            "- Cutoffs at 4.00, 40.00 Hz: -6.02, -6.02 dB\n",
            "\n",
            "Filtering raw data in 1 contiguous segment\n",
            "Setting up band-stop filter from 49 - 51 Hz\n",
            "\n",
            "FIR filter parameters\n",
            "---------------------\n",
            "Designing a one-pass, zero-phase, non-causal bandstop filter:\n",
            "- Windowed time-domain design (firwin) method\n",
            "- Hamming window with 0.0194 passband ripple and 53 dB stopband attenuation\n",
            "- Lower passband edge: 49.38\n",
            "- Lower transition bandwidth: 0.50 Hz (-6 dB cutoff frequency: 49.12 Hz)\n",
            "- Upper passband edge: 50.62 Hz\n",
            "- Upper transition bandwidth: 0.50 Hz (-6 dB cutoff frequency: 50.88 Hz)\n",
            "- Filter length: 1651 samples (6.604 s)\n",
            "\n",
            "Overwriting existing file.\n",
            "Writing /mnt/cogsci/home/ybo/189/content/cleaned_data/first_session/A09T.fif\n"
          ]
        },
        {
          "name": "stderr",
          "output_type": "stream",
          "text": [
            "[Parallel(n_jobs=1)]: Done  17 tasks      | elapsed:    0.2s\n",
            "/tmp/ipykernel_2845688/1506553248.py:29: RuntimeWarning: This filename (/mnt/cogsci/home/ybo/189/content/cleaned_data/first_session/A09T.fif) does not conform to MNE naming conventions. All raw files should end with raw.fif, raw_sss.fif, raw_tsss.fif, _meg.fif, _eeg.fif, _ieeg.fif, raw.fif.gz, raw_sss.fif.gz, raw_tsss.fif.gz, _meg.fif.gz, _eeg.fif.gz or _ieeg.fif.gz\n",
            "  raw.save(new_file_path, overwrite=True)\n"
          ]
        },
        {
          "name": "stdout",
          "output_type": "stream",
          "text": [
            "Closing /mnt/cogsci/home/ybo/189/content/cleaned_data/first_session/A09T.fif\n",
            "[done]\n",
            "Overwriting existing file.\n",
            "Writing /mnt/cogsci/home/ybo/189/content/cleaned_data/first_session/First_Session_Subjects.fif\n"
          ]
        },
        {
          "name": "stderr",
          "output_type": "stream",
          "text": [
            "/tmp/ipykernel_2845688/1506553248.py:35: RuntimeWarning: This filename (/mnt/cogsci/home/ybo/189/content/cleaned_data/first_session/First_Session_Subjects.fif) does not conform to MNE naming conventions. All raw files should end with raw.fif, raw_sss.fif, raw_tsss.fif, _meg.fif, _eeg.fif, _ieeg.fif, raw.fif.gz, raw_sss.fif.gz, raw_tsss.fif.gz, _meg.fif.gz, _eeg.fif.gz or _ieeg.fif.gz\n",
            "  final_raw.save(new_file_path, overwrite=True)\n"
          ]
        },
        {
          "name": "stdout",
          "output_type": "stream",
          "text": [
            "Closing /mnt/cogsci/home/ybo/189/content/cleaned_data/first_session/First_Session_Subjects.fif\n",
            "[done]\n"
          ]
        },
        {
          "data": {
            "text/plain": [
              "[PosixPath('/mnt/cogsci/home/ybo/189/content/cleaned_data/first_session/First_Session_Subjects.fif')]"
            ]
          },
          "execution_count": 18,
          "metadata": {},
          "output_type": "execute_result"
        }
      ],
      "source": [
        "import os\n",
        "cwd = os.getcwd()\n",
        "raw_data_folder = cwd+'/content/raw_data/'\n",
        "cleaned_data_folder =  cwd+'/content/cleaned_data/first_session/'\n",
        "files = os.listdir(raw_data_folder)\n",
        "\n",
        "# Selecting files with suffix 'T.gdf'\n",
        "filtered_files = [file for file in files if file.endswith('T.gdf')]\n",
        "\n",
        "raw_list = []\n",
        "\n",
        "# Iterating through filtered files\n",
        "for file in filtered_files:\n",
        "    file_path = os.path.join(raw_data_folder, file)\n",
        "\n",
        "    # Reading raw data\n",
        "    raw = mne.io.read_raw_gdf(file_path, eog=['EOG-left', 'EOG-central', 'EOG-right'], preload=True)\n",
        "    # Droping EOG channels\n",
        "    raw.drop_channels(['EOG-left', 'EOG-central', 'EOG-right'])\n",
        "\n",
        "    # High Pass Filtering 4-40 Hz\n",
        "    raw.filter(l_freq=4, h_freq=40, method='iir')\n",
        "\n",
        "    # Notch filter for Removal of Line Voltage\n",
        "    raw.notch_filter(freqs=50)\n",
        "\n",
        "    # Saving the modified raw data to a file with .fif suffix\n",
        "    new_file_path = os.path.join(cleaned_data_folder, file[:-4] + '.fif')\n",
        "    raw.save(new_file_path, overwrite=True)\n",
        "    # Appending data to the list\n",
        "    raw_list.append(raw)\n",
        "\n",
        "final_raw = mne.concatenate_raws(raw_list)\n",
        "new_file_path = os.path.join(cleaned_data_folder, 'First_Session_Subjects.fif')\n",
        "final_raw.save(new_file_path, overwrite=True)\n"
      ]
    },
    {
      "cell_type": "code",
      "execution_count": 19,
      "metadata": {},
      "outputs": [
        {
          "data": {
            "text/html": [
              "<script type=\"text/javascript\">\n",
              "    // must be `var` (not `const`) because this can get embedded multiple times on a page\n",
              "var toggleVisibility = (className) => {\n",
              "\n",
              "    const elements = document.querySelectorAll(`.${className}`);\n",
              "\n",
              "    elements.forEach(element => {\n",
              "        if (element.classList.contains(\"mne-repr-section-header\")) {\n",
              "            return  // Don't collapse the section header row\n",
              "        }\n",
              "        element.classList.toggle(\"mne-repr-collapsed\");\n",
              "    });\n",
              "\n",
              "    // trigger caret to rotate\n",
              "    var sel = `.mne-repr-section-header.${className} > th.mne-repr-section-toggle > button`;\n",
              "    const button = document.querySelector(sel);\n",
              "    button.classList.toggle(\"collapsed\");\n",
              "\n",
              "    // adjust tooltip\n",
              "    sel = `tr.mne-repr-section-header.${className}`;\n",
              "    const secHeadRow = document.querySelector(sel);\n",
              "    secHeadRow.classList.toggle(\"collapsed\");\n",
              "    secHeadRow.title = secHeadRow.title === \"Hide section\" ? \"Show section\" : \"Hide section\";\n",
              "}\n",
              "</script>\n",
              "\n",
              "<style type=\"text/css\">\n",
              "    /*\n",
              "Styles in this section apply both to the sphinx-built website docs and to notebooks\n",
              "rendered in an IDE or in Jupyter. In our web docs, styles here are complemented by\n",
              "doc/_static/styles.css and other CSS files (e.g. from the sphinx theme, sphinx-gallery,\n",
              "or bootstrap). In IDEs/Jupyter, those style files are unavailable, so only the rules in\n",
              "this file apply (plus whatever default styling the IDE applies).\n",
              "*/\n",
              ".mne-repr-table {\n",
              "    display: inline;  /* prevent using full container width */\n",
              "}\n",
              ".mne-repr-table tr.mne-repr-section-header > th {\n",
              "    padding-top: 1rem;\n",
              "    text-align: left;\n",
              "    vertical-align: middle;\n",
              "}\n",
              ".mne-repr-section-toggle > button {\n",
              "    all: unset;\n",
              "    display: block;\n",
              "    height: 1rem;\n",
              "    width: 1rem;\n",
              "}\n",
              ".mne-repr-section-toggle > button > svg {\n",
              "    height: 60%;\n",
              "}\n",
              "\n",
              "/* transition (rotation) effects on the collapser button */\n",
              ".mne-repr-section-toggle > button.collapsed > svg {\n",
              "    transition: 0.1s ease-out;\n",
              "    transform: rotate(-90deg);\n",
              "}\n",
              ".mne-repr-section-toggle > button:not(.collapsed) > svg {\n",
              "    transition: 0.1s ease-out;\n",
              "    transform: rotate(0deg);\n",
              "}\n",
              "\n",
              "/* hide collapsed table rows */\n",
              ".mne-repr-collapsed {\n",
              "    display: none;\n",
              "}\n",
              "\n",
              "\n",
              "@layer {\n",
              "    /*\n",
              "    Selectors in a `@layer` will always be lower-precedence than selectors outside the\n",
              "    layer. So even though e.g. `div.output_html` is present in the sphinx-rendered\n",
              "    website docs, the styles here won't take effect there as long as some other rule\n",
              "    somewhere in the page's CSS targets the same element.\n",
              "\n",
              "    In IDEs or Jupyter notebooks, though, the CSS files from the sphinx theme,\n",
              "    sphinx-gallery, and bootstrap are unavailable, so these styles will apply.\n",
              "\n",
              "    Notes:\n",
              "\n",
              "    - the selector `.accordion-body` is for MNE Reports\n",
              "    - the selector `.output_html` is for VSCode's notebook interface\n",
              "    - the selector `.jp-RenderedHTML` is for Jupyter notebook\n",
              "    - variables starting with `--theme-` are VSCode-specific.\n",
              "    - variables starting with `--jp-` are Jupyter styles, *some of which* are also\n",
              "      available in VSCode. Here we try the `--theme-` variable first, then fall back to\n",
              "      the `--jp-` ones.\n",
              "    */\n",
              "    .mne-repr-table {\n",
              "        --mne-toggle-color: var(--theme-foreground, var(--jp-ui-font-color1));\n",
              "        --mne-button-bg-color: var(--theme-button-background, var(--jp-info-color0, var(--jp-content-link-color)));\n",
              "        --mne-button-fg-color: var(--theme-button-foreground, var(--jp-ui-inverse-font-color0, var(--jp-editor-background)));\n",
              "        --mne-button-hover-bg-color: var(--theme-button-hover-background, var(--jp-info-color1));\n",
              "        --mne-button-radius: var(--jp-border-radius, 0.25rem);\n",
              "    }\n",
              "    /* chevron position/alignment; in VSCode it looks ok without adjusting */\n",
              "    .accordion-body .mne-repr-section-toggle > button,\n",
              "    .jp-RenderedHTML .mne-repr-section-toggle > button {\n",
              "        padding: 0 0 45% 25% !important;\n",
              "    }\n",
              "    /* chevron color; MNE Report doesn't have light/dark mode */\n",
              "    div.output_html .mne-repr-section-toggle > button > svg > path,\n",
              "    .jp-RenderedHTML .mne-repr-section-toggle > button > svg > path {\n",
              "        fill: var(--mne-toggle-color);\n",
              "    }\n",
              "    .accordion-body .mne-ch-names-btn,\n",
              "    div.output_html .mne-ch-names-btn,\n",
              "    .jp-RenderedHTML .mne-ch-names-btn {\n",
              "        -webkit-border-radius: var(--mne-button-radius);\n",
              "        -moz-border-radius: var(--mne-button-radius);\n",
              "        border-radius: var(--mne-button-radius);\n",
              "        border: none;\n",
              "        background-image: none;\n",
              "        background-color: var(--mne-button-bg-color);\n",
              "        color: var(--mne-button-fg-color);\n",
              "        font-size: inherit;\n",
              "        min-width: 1.5rem;\n",
              "        padding: 0.25rem;\n",
              "        text-align: center;\n",
              "        text-decoration: none;\n",
              "    }\n",
              "    .accordion-body .mne-ch-names-btn:hover,\n",
              "    div.output_html .mne.ch-names-btn:hover,\n",
              "    .jp-RenderedHTML .mne-ch-names-btn:hover {\n",
              "        background-color: var(--mne-button-hover-bg-color);\n",
              "        text-decoration: underline;\n",
              "    }\n",
              "    .accordion-body .mne-ch-names-btn:focus-visible,\n",
              "    div.output_html .mne-ch-names-btn:focus-visible,\n",
              "    .jp-RenderedHTML .mne-ch-names-btn:focus-visible {\n",
              "        outline: 0.1875rem solid var(--mne-button-bg-color) !important;\n",
              "        outline-offset: 0.1875rem !important;\n",
              "    }\n",
              "}\n",
              "</style>\n",
              "\n",
              "\n",
              "\n",
              "<table class=\"table mne-repr-table\">\n",
              "    \n",
              "\n",
              "\n",
              "\n",
              "\n",
              "\n",
              "\n",
              "\n",
              "<tr class=\"mne-repr-section-header general-2a0e6c7d-7a67-4cef-b26f-a0d339284470\"\n",
              "     title=\"Hide section\" \n",
              "    onclick=\"toggleVisibility('general-2a0e6c7d-7a67-4cef-b26f-a0d339284470')\">\n",
              "    <th class=\"mne-repr-section-toggle\">\n",
              "        <button >\n",
              "            <svg xmlns=\"http://www.w3.org/2000/svg\" viewBox=\"0 0 512 512\"><!--!Font Awesome Free 6.6.0 by @fontawesome - https://fontawesome.com License - https://fontawesome.com/license/free Copyright 2024 Fonticons, Inc.--><path d=\"M233.4 406.6c12.5 12.5 32.8 12.5 45.3 0l192-192c12.5-12.5 12.5-32.8 0-45.3s-32.8-12.5-45.3 0L256 338.7 86.6 169.4c-12.5-12.5-32.8-12.5-45.3 0s-12.5 32.8 0 45.3l192 192z\"/></svg>\n",
              "        </button>\n",
              "    </th>\n",
              "    <th colspan=\"2\">\n",
              "        <strong>General</strong>\n",
              "    </th>\n",
              "</tr>\n",
              "\n",
              "\n",
              "<tr class=\"repr-element general-2a0e6c7d-7a67-4cef-b26f-a0d339284470 \">\n",
              "    <td class=\"mne-repr-section-toggle\"></td>\n",
              "    <td>Filename(s)</td>\n",
              "    <td>\n",
              "        \n",
              "        A03T.gdf\n",
              "        <br />\n",
              "        \n",
              "        A07T.gdf\n",
              "        <br />\n",
              "        \n",
              "        A02T.gdf\n",
              "        <br />\n",
              "        \n",
              "        A06T.gdf\n",
              "        <br />\n",
              "        \n",
              "        A08T.gdf\n",
              "        <br />\n",
              "        \n",
              "        A04T.gdf\n",
              "        <br />\n",
              "        \n",
              "        A01T.gdf\n",
              "        <br />\n",
              "        \n",
              "        A05T.gdf\n",
              "        <br />\n",
              "        \n",
              "        A09T.gdf\n",
              "        \n",
              "        \n",
              "    </td>\n",
              "</tr>\n",
              "\n",
              "<tr class=\"repr-element general-2a0e6c7d-7a67-4cef-b26f-a0d339284470 \">\n",
              "    <td class=\"mne-repr-section-toggle\"></td>\n",
              "    <td>MNE object type</td>\n",
              "    <td>RawGDF</td>\n",
              "</tr>\n",
              "<tr class=\"repr-element general-2a0e6c7d-7a67-4cef-b26f-a0d339284470 \">\n",
              "    <td class=\"mne-repr-section-toggle\"></td>\n",
              "    <td>Measurement date</td>\n",
              "    \n",
              "    <td>2004-11-09 at 12:00:00 UTC</td>\n",
              "    \n",
              "</tr>\n",
              "<tr class=\"repr-element general-2a0e6c7d-7a67-4cef-b26f-a0d339284470 \">\n",
              "    <td class=\"mne-repr-section-toggle\"></td>\n",
              "    <td>Participant</td>\n",
              "    \n",
              "    \n",
              "    <td>A03</td>\n",
              "    \n",
              "    \n",
              "</tr>\n",
              "<tr class=\"repr-element general-2a0e6c7d-7a67-4cef-b26f-a0d339284470 \">\n",
              "    <td class=\"mne-repr-section-toggle\"></td>\n",
              "    <td>Experimenter</td>\n",
              "    \n",
              "    <td>Unknown</td>\n",
              "    \n",
              "</tr>\n",
              "    \n",
              "\n",
              "\n",
              "\n",
              "\n",
              "\n",
              "\n",
              "\n",
              "<tr class=\"mne-repr-section-header acquisition-8f22d841-edd0-4dee-8197-16be392309ee\"\n",
              "     title=\"Hide section\" \n",
              "    onclick=\"toggleVisibility('acquisition-8f22d841-edd0-4dee-8197-16be392309ee')\">\n",
              "    <th class=\"mne-repr-section-toggle\">\n",
              "        <button >\n",
              "            <svg xmlns=\"http://www.w3.org/2000/svg\" viewBox=\"0 0 512 512\"><!--!Font Awesome Free 6.6.0 by @fontawesome - https://fontawesome.com License - https://fontawesome.com/license/free Copyright 2024 Fonticons, Inc.--><path d=\"M233.4 406.6c12.5 12.5 32.8 12.5 45.3 0l192-192c12.5-12.5 12.5-32.8 0-45.3s-32.8-12.5-45.3 0L256 338.7 86.6 169.4c-12.5-12.5-32.8-12.5-45.3 0s-12.5 32.8 0 45.3l192 192z\"/></svg>\n",
              "        </button>\n",
              "    </th>\n",
              "    <th colspan=\"2\">\n",
              "        <strong>Acquisition</strong>\n",
              "    </th>\n",
              "</tr>\n",
              "\n",
              "\n",
              "<tr class=\"repr-element acquisition-8f22d841-edd0-4dee-8197-16be392309ee \">\n",
              "    <td class=\"mne-repr-section-toggle\"></td>\n",
              "    <td>Duration</td>\n",
              "    <td>06:40:24 (HH:MM:SS)</td>\n",
              "</tr>\n",
              "\n",
              "\n",
              "\n",
              "\n",
              "\n",
              "\n",
              "\n",
              "\n",
              "<tr class=\"repr-element acquisition-8f22d841-edd0-4dee-8197-16be392309ee \">\n",
              "    <td class=\"mne-repr-section-toggle\"></td>\n",
              "    <td>Sampling frequency</td>\n",
              "    <td>250.00 Hz</td>\n",
              "</tr>\n",
              "\n",
              "\n",
              "<tr class=\"repr-element acquisition-8f22d841-edd0-4dee-8197-16be392309ee \">\n",
              "    <td class=\"mne-repr-section-toggle\"></td>\n",
              "    <td>Time points</td>\n",
              "    <td>6,005,911</td>\n",
              "</tr>\n",
              "\n",
              "\n",
              "    \n",
              "\n",
              "\n",
              "\n",
              "\n",
              "\n",
              "\n",
              "\n",
              "<tr class=\"mne-repr-section-header channels-fa6c3bd2-1815-4f84-b046-18fcc5a8f6e4\"\n",
              "     title=\"Hide section\" \n",
              "    onclick=\"toggleVisibility('channels-fa6c3bd2-1815-4f84-b046-18fcc5a8f6e4')\">\n",
              "    <th class=\"mne-repr-section-toggle\">\n",
              "        <button >\n",
              "            <svg xmlns=\"http://www.w3.org/2000/svg\" viewBox=\"0 0 512 512\"><!--!Font Awesome Free 6.6.0 by @fontawesome - https://fontawesome.com License - https://fontawesome.com/license/free Copyright 2024 Fonticons, Inc.--><path d=\"M233.4 406.6c12.5 12.5 32.8 12.5 45.3 0l192-192c12.5-12.5 12.5-32.8 0-45.3s-32.8-12.5-45.3 0L256 338.7 86.6 169.4c-12.5-12.5-32.8-12.5-45.3 0s-12.5 32.8 0 45.3l192 192z\"/></svg>\n",
              "        </button>\n",
              "    </th>\n",
              "    <th colspan=\"2\">\n",
              "        <strong>Channels</strong>\n",
              "    </th>\n",
              "</tr>\n",
              "\n",
              "\n",
              "    \n",
              "<tr class=\"repr-element channels-fa6c3bd2-1815-4f84-b046-18fcc5a8f6e4 \">\n",
              "    <td class=\"mne-repr-section-toggle\"></td>\n",
              "    <td>EEG</td>\n",
              "    <td>\n",
              "        <button class=\"mne-ch-names-btn sd-sphinx-override sd-btn sd-btn-info sd-text-wrap sd-shadow-sm\" onclick=\"alert('Good EEG:\\n\\nEEG-Fz, EEG-0, EEG-1, EEG-2, EEG-3, EEG-4, EEG-5, EEG-C3, EEG-6, EEG-Cz, EEG-7, EEG-C4, EEG-8, EEG-9, EEG-10, EEG-11, EEG-12, EEG-13, EEG-14, EEG-Pz, EEG-15, EEG-16')\" title=\"(Click to open in popup)&#13;&#13;EEG-Fz, EEG-0, EEG-1, EEG-2, EEG-3, EEG-4, EEG-5, EEG-C3, EEG-6, EEG-Cz, EEG-7, EEG-C4, EEG-8, EEG-9, EEG-10, EEG-11, EEG-12, EEG-13, EEG-14, EEG-Pz, EEG-15, EEG-16\">\n",
              "            22\n",
              "        </button>\n",
              "\n",
              "        \n",
              "    </td>\n",
              "</tr>\n",
              "\n",
              "\n",
              "<tr class=\"repr-element channels-fa6c3bd2-1815-4f84-b046-18fcc5a8f6e4 \">\n",
              "    <td class=\"mne-repr-section-toggle\"></td>\n",
              "    <td>Head & sensor digitization</td>\n",
              "    \n",
              "    <td>Not available</td>\n",
              "    \n",
              "</tr>\n",
              "    \n",
              "\n",
              "\n",
              "\n",
              "\n",
              "\n",
              "\n",
              "\n",
              "<tr class=\"mne-repr-section-header filters-93b48d2f-c91f-4060-818a-d9eb74c863b4\"\n",
              "     title=\"Hide section\" \n",
              "    onclick=\"toggleVisibility('filters-93b48d2f-c91f-4060-818a-d9eb74c863b4')\">\n",
              "    <th class=\"mne-repr-section-toggle\">\n",
              "        <button >\n",
              "            <svg xmlns=\"http://www.w3.org/2000/svg\" viewBox=\"0 0 512 512\"><!--!Font Awesome Free 6.6.0 by @fontawesome - https://fontawesome.com License - https://fontawesome.com/license/free Copyright 2024 Fonticons, Inc.--><path d=\"M233.4 406.6c12.5 12.5 32.8 12.5 45.3 0l192-192c12.5-12.5 12.5-32.8 0-45.3s-32.8-12.5-45.3 0L256 338.7 86.6 169.4c-12.5-12.5-32.8-12.5-45.3 0s-12.5 32.8 0 45.3l192 192z\"/></svg>\n",
              "        </button>\n",
              "    </th>\n",
              "    <th colspan=\"2\">\n",
              "        <strong>Filters</strong>\n",
              "    </th>\n",
              "</tr>\n",
              "\n",
              "\n",
              "<tr class=\"repr-element filters-93b48d2f-c91f-4060-818a-d9eb74c863b4 \">\n",
              "    <td class=\"mne-repr-section-toggle\"></td>\n",
              "    <td>Highpass</td>\n",
              "    <td>4.00 Hz</td>\n",
              "</tr>\n",
              "\n",
              "\n",
              "<tr class=\"repr-element filters-93b48d2f-c91f-4060-818a-d9eb74c863b4 \">\n",
              "    <td class=\"mne-repr-section-toggle\"></td>\n",
              "    <td>Lowpass</td>\n",
              "    <td>40.00 Hz</td>\n",
              "</tr>\n",
              "\n",
              "\n",
              "</table>"
            ],
            "text/plain": [
              "<RawGDF | A03T.gdf, 22 x 6005911 (24023.6 s), ~1008.1 MiB, data loaded>"
            ]
          },
          "execution_count": 19,
          "metadata": {},
          "output_type": "execute_result"
        }
      ],
      "source": [
        "final_raw"
      ]
    },
    {
      "cell_type": "markdown",
      "metadata": {
        "id": "wNqq3V3rCiPn"
      },
      "source": [
        "**List of the events**  \n",
        "'1023': 1 Rejected trial  \n",
        "'1072': 2 Eye movements  \n",
        "'276': 3 Idling EEG (eyes open)  \n",
        "'277': 4 Idling EEG (eyes closed)  \n",
        "'32766': 5 Start of a new run  \n",
        "'768': 6 Start of a trial  \n",
        "'769': 7 Cue onset **Left** (class 1) : 0  \n",
        "'770': 8 Cue onset **Right** (class 2) : 1  \n",
        "'771': 9 Cue onset **Foot** (class 3) : 2  \n",
        "'772': 10 Cue onset **Tongue** (class 4): 3"
      ]
    },
    {
      "cell_type": "code",
      "execution_count": 20,
      "metadata": {
        "colab": {
          "base_uri": "https://localhost:8080/"
        },
        "id": "-9RZjQbWCoc0",
        "outputId": "fbbd728f-9f7f-457e-d4c9-eaefe67bafa1"
      },
      "outputs": [
        {
          "name": "stdout",
          "output_type": "stream",
          "text": [
            "Used Annotations descriptions: ['1023', '1072', '276', '277', '32766', '768', '769', '770', '771', '772']\n"
          ]
        },
        {
          "data": {
            "text/plain": [
              "{'1023': 1,\n",
              " '1072': 2,\n",
              " '276': 3,\n",
              " '277': 4,\n",
              " '32766': 5,\n",
              " '768': 6,\n",
              " '769': 7,\n",
              " '770': 8,\n",
              " '771': 9,\n",
              " '772': 10}"
            ]
          },
          "execution_count": 20,
          "metadata": {},
          "output_type": "execute_result"
        }
      ],
      "source": [
        "events = mne.events_from_annotations(final_raw)\n",
        "events[1]"
      ]
    },
    {
      "cell_type": "markdown",
      "metadata": {
        "id": "PJAI_olujhxI"
      },
      "source": [
        "**Time choice:**  \n",
        "[0.s, 4s] Post Cue on set:  [2s, 6s]"
      ]
    },
    {
      "cell_type": "code",
      "execution_count": 21,
      "metadata": {
        "colab": {
          "base_uri": "https://localhost:8080/"
        },
        "id": "OaAuA1mQCqcP",
        "outputId": "4d33fb54-48f8-4eb9-c516-1b97747e39d6"
      },
      "outputs": [
        {
          "name": "stdout",
          "output_type": "stream",
          "text": [
            "Not setting metadata\n",
            "1296 matching events found\n"
          ]
        },
        {
          "name": "stdout",
          "output_type": "stream",
          "text": [
            "No baseline correction applied\n",
            "0 projection items activated\n",
            "Using data from preloaded Raw for 1296 events and 1001 original time points ...\n",
            "0 bad epochs dropped\n"
          ]
        }
      ],
      "source": [
        "# epochs = mne.Epochs(final_raw, events[0], event_id=[7, 8, 9, 10], tmin=0, tmax=4, reject=None, baseline=None, preload=True)\n",
        "# left & right only\n",
        "epochs = mne.Epochs(final_raw, events[0], event_id=[7, 8], tmin=0, tmax=4, reject=None, baseline=None, preload=True)\n",
        "first_session_data = epochs.get_data(copy=True)\n",
        "first_session_labels = epochs.events[:,-1]"
      ]
    },
    {
      "cell_type": "code",
      "execution_count": 17,
      "metadata": {},
      "outputs": [
        {
          "ename": "NameError",
          "evalue": "name 'first_session_data' is not defined",
          "output_type": "error",
          "traceback": [
            "\u001b[0;31m---------------------------------------------------------------------------\u001b[0m",
            "\u001b[0;31mNameError\u001b[0m                                 Traceback (most recent call last)",
            "Cell \u001b[0;32mIn[17], line 1\u001b[0m\n\u001b[0;32m----> 1\u001b[0m \u001b[43mfirst_session_data\u001b[49m\n",
            "\u001b[0;31mNameError\u001b[0m: name 'first_session_data' is not defined"
          ]
        }
      ],
      "source": [
        "first_session_data"
      ]
    },
    {
      "cell_type": "code",
      "execution_count": 22,
      "metadata": {
        "colab": {
          "base_uri": "https://localhost:8080/"
        },
        "id": "rVNRjQbfCs3-",
        "outputId": "041d64ef-2b44-49e8-d554-90bc0992bc36"
      },
      "outputs": [
        {
          "name": "stdout",
          "output_type": "stream",
          "text": [
            "First_session_dataset shape: (1296, 22, 1001)\n"
          ]
        }
      ],
      "source": [
        "print(\"First_session_dataset shape:\",first_session_data.shape)"
      ]
    },
    {
      "cell_type": "markdown",
      "metadata": {},
      "source": [
        "# session_data \n",
        "- [trial, channels, timepoints in epoch]"
      ]
    },
    {
      "cell_type": "code",
      "execution_count": 23,
      "metadata": {},
      "outputs": [
        {
          "data": {
            "text/plain": [
              "array([-4.96891398e-06, -3.99181947e-06,  2.16056820e-07, ...,\n",
              "        4.64398077e-06,  3.25708167e-06,  3.32457170e-07])"
            ]
          },
          "execution_count": 23,
          "metadata": {},
          "output_type": "execute_result"
        }
      ],
      "source": [
        "first_session_data[0][0]"
      ]
    },
    {
      "cell_type": "code",
      "execution_count": 24,
      "metadata": {},
      "outputs": [
        {
          "data": {
            "text/plain": [
              "(1296,)"
            ]
          },
          "execution_count": 24,
          "metadata": {},
          "output_type": "execute_result"
        }
      ],
      "source": [
        "first_session_labels.shape"
      ]
    },
    {
      "cell_type": "markdown",
      "metadata": {
        "id": "JJva8vhuMAtc"
      },
      "source": [
        "## Second Session"
      ]
    },
    {
      "cell_type": "markdown",
      "metadata": {
        "id": "bzQH8SI9MI72"
      },
      "source": [
        "### Extracting Labels for datas with \"E.gdf\" prefix"
      ]
    },
    {
      "cell_type": "code",
      "execution_count": null,
      "metadata": {
        "colab": {
          "base_uri": "https://localhost:8080/",
          "height": 108
        },
        "id": "MjLuwdcgMD_l",
        "outputId": "be18a549-c7b2-4c6a-aa71-312a29c8e3a2"
      },
      "outputs": [
        {
          "name": "stderr",
          "output_type": "stream",
          "text": [
            "Downloading...\n",
            "From: https://drive.google.com/uc?id=11Ke2Xta1kv2xu2Mybuu_X51zJYjQ-VFo&export=download\n",
            "To: /mnt/cogsci/home/ybo/189/content/true_labels.zip\n",
            "100%|██████████| 7.20k/7.20k [00:00<00:00, 20.0MB/s]\n"
          ]
        },
        {
          "data": {
            "text/plain": [
              "'/mnt/cogsci/home/ybo/189/content/true_labels.zip'"
            ]
          },
          "execution_count": 12,
          "metadata": {},
          "output_type": "execute_result"
        },
        {
          "ename": "",
          "evalue": "",
          "output_type": "error",
          "traceback": [
            "\u001b[1;31mnotebook controller is DISPOSED. \n",
            "\u001b[1;31mView Jupyter <a href='command:jupyter.viewOutput'>log</a> for further details."
          ]
        }
      ],
      "source": [
        "# Replace this with your actual shareable link\n",
        "shareable_link = 'https://drive.google.com/file/d/11Ke2Xta1kv2xu2Mybuu_X51zJYjQ-VFo/view?usp=drive_link'\n",
        "\n",
        "# Extract file ID from the shareable link\n",
        "file_id = shareable_link.split('/d/')[1].split('/view')[0]\n",
        "\n",
        "# Create the direct download link\n",
        "download_url = f'https://drive.google.com/uc?id={file_id}&export=download'\n",
        "\n",
        "# Specify the output file path\n",
        "output_file = cwd+'/content/true_labels.zip'\n",
        "\n",
        "# Download the file\n",
        "gdown.download(download_url, output_file, quiet=False)"
      ]
    },
    {
      "cell_type": "code",
      "execution_count": null,
      "metadata": {
        "id": "03wA4VGpMZNS"
      },
      "outputs": [
        {
          "ename": "",
          "evalue": "",
          "output_type": "error",
          "traceback": [
            "\u001b[1;31mnotebook controller is DISPOSED. \n",
            "\u001b[1;31mView Jupyter <a href='command:jupyter.viewOutput'>log</a> for further details."
          ]
        }
      ],
      "source": [
        "%%capture\n",
        "!unzip /content/true_labels.zip -d second_session_labels"
      ]
    },
    {
      "cell_type": "markdown",
      "metadata": {
        "id": "1iijTs3RMdCo"
      },
      "source": [
        "### Extracting datas of second session"
      ]
    },
    {
      "cell_type": "code",
      "execution_count": 50,
      "metadata": {
        "colab": {
          "base_uri": "https://localhost:8080/"
        },
        "id": "GbOQB2gDMgOf",
        "outputId": "323909f4-addc-4880-c4ae-7a5dbf1172ed"
      },
      "outputs": [
        {
          "name": "stdout",
          "output_type": "stream",
          "text": [
            "Extracting EDF parameters from /mnt/cogsci/home/ybo/189/content/raw_data/A09E.gdf...\n",
            "GDF file detected\n",
            "Setting channel info structure...\n",
            "Could not determine channel type of the following channels, they will be set as EEG:\n",
            "EEG-Fz, EEG, EEG, EEG, EEG, EEG, EEG, EEG-C3, EEG, EEG-Cz, EEG, EEG-C4, EEG, EEG, EEG, EEG, EEG, EEG, EEG, EEG-Pz, EEG, EEG\n",
            "Creating raw.info structure...\n",
            "Reading 0 ... 675097  =      0.000 ...  2700.388 secs...\n"
          ]
        },
        {
          "name": "stderr",
          "output_type": "stream",
          "text": [
            "/home/ybo/miniconda3/envs/myenv/lib/python3.12/contextlib.py:144: RuntimeWarning: Channel names are not unique, found duplicates for: {'EEG'}. Applying running numbers for duplicates.\n",
            "  next(self.gen)\n"
          ]
        },
        {
          "name": "stdout",
          "output_type": "stream",
          "text": [
            "Filtering raw data in 1 contiguous segment\n",
            "Setting up band-pass filter from 4 - 40 Hz\n",
            "\n",
            "IIR filter parameters\n",
            "---------------------\n",
            "Butterworth bandpass zero-phase (two-pass forward and reverse) non-causal filter:\n",
            "- Filter order 16 (effective, after forward-backward)\n",
            "- Cutoffs at 4.00, 40.00 Hz: -6.02, -6.02 dB\n",
            "\n",
            "Overwriting existing file.\n",
            "Writing /mnt/cogsci/home/ybo/189/content/cleaned_data/second_session/A09E.fif\n",
            "Closing /mnt/cogsci/home/ybo/189/content/cleaned_data/second_session/A09E.fif\n",
            "[done]\n",
            "data:A09E.gdf, label:A09E.mat\n",
            "[1. 2. 2. 1. 2. 1. 2. 3. 2. 4. 1. 3. 2. 1. 4. 4. 4. 4. 4. 1. 3. 2. 1. 1.\n",
            " 3. 4. 1. 3. 3. 3. 1. 2. 1. 2. 2. 1. 2. 3. 2. 3. 3. 4. 3. 3. 4. 4. 4. 4.\n",
            " 4. 3. 2. 1. 1. 2. 3. 4. 2. 3. 1. 1. 1. 4. 2. 2. 1. 1. 3. 1. 2. 4. 4. 3.\n",
            " 1. 4. 4. 2. 4. 4. 2. 1. 2. 3. 3. 3. 4. 3. 1. 4. 2. 3. 2. 3. 4. 2. 3. 1.\n",
            " 1. 1. 4. 2. 1. 3. 1. 3. 2. 4. 1. 3. 3. 1. 3. 2. 4. 4. 4. 3. 1. 4. 2. 4.\n",
            " 2. 1. 3. 2. 1. 3. 3. 1. 3. 4. 4. 2. 1. 2. 4. 2. 4. 3. 2. 2. 2. 3. 4. 1.\n",
            " 2. 4. 1. 3. 3. 4. 1. 1. 3. 2. 4. 4. 4. 2. 1. 3. 2. 4. 1. 4. 3. 2. 4. 4.\n",
            " 1. 2. 2. 3. 4. 2. 1. 1. 4. 2. 1. 3. 2. 2. 3. 1. 4. 3. 3. 3. 3. 1. 2. 1.\n",
            " 2. 1. 1. 3. 3. 2. 3. 4. 1. 4. 1. 1. 2. 4. 3. 2. 4. 3. 4. 3. 4. 2. 2. 4.\n",
            " 1. 2. 2. 2. 3. 4. 1. 4. 1. 3. 1. 4. 1. 3. 1. 2. 3. 3. 4. 1. 2. 4. 2. 3.\n",
            " 3. 1. 4. 2. 4. 1. 1. 3. 3. 2. 4. 2. 2. 1. 2. 4. 4. 2. 2. 2. 2. 4. 4. 3.\n",
            " 4. 1. 2. 3. 2. 1. 4. 1. 4. 1. 1. 1. 1. 3. 3. 4. 2. 3. 3. 3. 4. 3. 1. 3.]\n",
            "Extracting EDF parameters from /mnt/cogsci/home/ybo/189/content/raw_data/A05E.gdf...\n",
            "GDF file detected\n"
          ]
        },
        {
          "name": "stderr",
          "output_type": "stream",
          "text": [
            "/tmp/ipykernel_2845688/4058047235.py:32: RuntimeWarning: This filename (/mnt/cogsci/home/ybo/189/content/cleaned_data/second_session/A09E.fif) does not conform to MNE naming conventions. All raw files should end with raw.fif, raw_sss.fif, raw_tsss.fif, _meg.fif, _eeg.fif, _ieeg.fif, raw.fif.gz, raw_sss.fif.gz, raw_tsss.fif.gz, _meg.fif.gz, _eeg.fif.gz or _ieeg.fif.gz\n",
            "  raw.save(new_file_path, overwrite=True)\n"
          ]
        },
        {
          "name": "stdout",
          "output_type": "stream",
          "text": [
            "Setting channel info structure...\n",
            "Could not determine channel type of the following channels, they will be set as EEG:\n",
            "EEG-Fz, EEG, EEG, EEG, EEG, EEG, EEG, EEG-C3, EEG, EEG-Cz, EEG, EEG-C4, EEG, EEG, EEG, EEG, EEG, EEG, EEG, EEG-Pz, EEG, EEG\n",
            "Creating raw.info structure...\n",
            "Reading 0 ... 679862  =      0.000 ...  2719.448 secs...\n"
          ]
        },
        {
          "name": "stderr",
          "output_type": "stream",
          "text": [
            "/home/ybo/miniconda3/envs/myenv/lib/python3.12/contextlib.py:144: RuntimeWarning: Channel names are not unique, found duplicates for: {'EEG'}. Applying running numbers for duplicates.\n",
            "  next(self.gen)\n"
          ]
        },
        {
          "name": "stdout",
          "output_type": "stream",
          "text": [
            "Filtering raw data in 1 contiguous segment\n",
            "Setting up band-pass filter from 4 - 40 Hz\n",
            "\n",
            "IIR filter parameters\n",
            "---------------------\n",
            "Butterworth bandpass zero-phase (two-pass forward and reverse) non-causal filter:\n",
            "- Filter order 16 (effective, after forward-backward)\n",
            "- Cutoffs at 4.00, 40.00 Hz: -6.02, -6.02 dB\n",
            "\n",
            "Overwriting existing file.\n",
            "Writing /mnt/cogsci/home/ybo/189/content/cleaned_data/second_session/A05E.fif\n",
            "Closing /mnt/cogsci/home/ybo/189/content/cleaned_data/second_session/A05E.fif\n",
            "[done]\n",
            "data:A05E.gdf, label:A05E.mat\n",
            "[1. 2. 2. 1. 2. 1. 2. 3. 2. 4. 1. 3. 2. 1. 4. 4. 4. 4. 4. 1. 3. 2. 1. 1.\n",
            " 3. 4. 1. 3. 3. 3. 1. 2. 1. 2. 2. 1. 2. 3. 2. 3. 3. 4. 3. 3. 4. 4. 4. 4.\n",
            " 4. 3. 2. 1. 1. 2. 3. 4. 2. 3. 1. 1. 1. 4. 2. 2. 1. 1. 3. 1. 2. 4. 4. 3.\n",
            " 1. 4. 4. 2. 4. 4. 2. 1. 2. 3. 3. 3. 4. 3. 1. 4. 2. 3. 2. 3. 4. 2. 3. 1.\n",
            " 1. 1. 4. 2. 1. 3. 1. 3. 2. 4. 1. 3. 3. 1. 3. 2. 4. 4. 4. 3. 1. 4. 2. 4.\n",
            " 2. 1. 3. 2. 1. 3. 3. 1. 3. 4. 4. 2. 1. 2. 4. 2. 4. 3. 2. 2. 2. 3. 4. 1.\n",
            " 2. 4. 1. 3. 3. 4. 1. 1. 3. 2. 4. 4. 4. 2. 1. 3. 2. 4. 1. 4. 3. 2. 4. 4.\n",
            " 1. 2. 2. 3. 4. 2. 1. 1. 4. 2. 1. 3. 2. 2. 3. 1. 4. 3. 3. 3. 3. 1. 2. 1.\n",
            " 2. 1. 1. 3. 3. 2. 3. 4. 1. 4. 1. 1. 2. 4. 3. 2. 4. 3. 4. 3. 4. 2. 2. 4.\n",
            " 1. 2. 2. 2. 3. 4. 1. 4. 1. 3. 1. 4. 1. 3. 1. 2. 3. 3. 4. 1. 2. 4. 2. 3.\n",
            " 3. 1. 4. 2. 4. 1. 1. 3. 3. 2. 4. 2. 2. 1. 2. 4. 4. 2. 2. 2. 2. 4. 4. 3.\n",
            " 4. 1. 2. 3. 2. 1. 4. 1. 4. 1. 1. 1. 1. 3. 3. 4. 2. 3. 3. 3. 4. 3. 1. 3.\n",
            " 1. 2. 2. 1. 2. 1. 2. 3. 2. 4. 1. 3. 2. 1. 4. 4. 4. 4. 4. 1. 3. 2. 1. 1.\n",
            " 3. 4. 1. 3. 3. 3. 1. 2. 1. 2. 2. 1. 2. 3. 2. 3. 3. 4. 3. 3. 4. 4. 4. 4.\n",
            " 4. 3. 2. 1. 1. 2. 3. 4. 2. 3. 1. 1. 1. 4. 2. 2. 1. 1. 3. 1. 2. 4. 4. 3.\n",
            " 1. 4. 4. 2. 4. 4. 2. 1. 2. 3. 3. 3. 4. 3. 1. 4. 2. 3. 2. 3. 4. 2. 3. 1.\n",
            " 1. 1. 4. 2. 1. 3. 1. 3. 2. 4. 1. 3. 3. 1. 3. 2. 4. 4. 4. 3. 1. 4. 2. 4.\n",
            " 2. 1. 3. 2. 1. 3. 3. 1. 3. 4. 4. 2. 1. 2. 4. 2. 4. 3. 2. 2. 2. 3. 4. 1.\n",
            " 2. 4. 1. 3. 3. 4. 1. 1. 3. 2. 4. 4. 4. 2. 1. 3. 2. 4. 1. 4. 3. 2. 4. 4.\n",
            " 1. 2. 2. 3. 4. 2. 1. 1. 4. 2. 1. 3. 2. 2. 3. 1. 4. 3. 3. 3. 3. 1. 2. 1.\n",
            " 2. 1. 1. 3. 3. 2. 3. 4. 1. 4. 1. 1. 2. 4. 3. 2. 4. 3. 4. 3. 4. 2. 2. 4.\n",
            " 1. 2. 2. 2. 3. 4. 1. 4. 1. 3. 1. 4. 1. 3. 1. 2. 3. 3. 4. 1. 2. 4. 2. 3.\n",
            " 3. 1. 4. 2. 4. 1. 1. 3. 3. 2. 4. 2. 2. 1. 2. 4. 4. 2. 2. 2. 2. 4. 4. 3.\n",
            " 4. 1. 2. 3. 2. 1. 4. 1. 4. 1. 1. 1. 1. 3. 3. 4. 2. 3. 3. 3. 4. 3. 1. 3.]\n",
            "Extracting EDF parameters from /mnt/cogsci/home/ybo/189/content/raw_data/A01E.gdf...\n",
            "GDF file detected\n"
          ]
        },
        {
          "name": "stderr",
          "output_type": "stream",
          "text": [
            "/tmp/ipykernel_2845688/4058047235.py:32: RuntimeWarning: This filename (/mnt/cogsci/home/ybo/189/content/cleaned_data/second_session/A05E.fif) does not conform to MNE naming conventions. All raw files should end with raw.fif, raw_sss.fif, raw_tsss.fif, _meg.fif, _eeg.fif, _ieeg.fif, raw.fif.gz, raw_sss.fif.gz, raw_tsss.fif.gz, _meg.fif.gz, _eeg.fif.gz or _ieeg.fif.gz\n",
            "  raw.save(new_file_path, overwrite=True)\n"
          ]
        },
        {
          "name": "stdout",
          "output_type": "stream",
          "text": [
            "Setting channel info structure...\n",
            "Could not determine channel type of the following channels, they will be set as EEG:\n",
            "EEG-Fz, EEG, EEG, EEG, EEG, EEG, EEG, EEG-C3, EEG, EEG-Cz, EEG, EEG-C4, EEG, EEG, EEG, EEG, EEG, EEG, EEG, EEG-Pz, EEG, EEG\n",
            "Creating raw.info structure...\n",
            "Reading 0 ... 686999  =      0.000 ...  2747.996 secs...\n"
          ]
        },
        {
          "name": "stderr",
          "output_type": "stream",
          "text": [
            "/home/ybo/miniconda3/envs/myenv/lib/python3.12/contextlib.py:144: RuntimeWarning: Channel names are not unique, found duplicates for: {'EEG'}. Applying running numbers for duplicates.\n",
            "  next(self.gen)\n"
          ]
        },
        {
          "name": "stdout",
          "output_type": "stream",
          "text": [
            "Filtering raw data in 1 contiguous segment\n",
            "Setting up band-pass filter from 4 - 40 Hz\n",
            "\n",
            "IIR filter parameters\n",
            "---------------------\n",
            "Butterworth bandpass zero-phase (two-pass forward and reverse) non-causal filter:\n",
            "- Filter order 16 (effective, after forward-backward)\n",
            "- Cutoffs at 4.00, 40.00 Hz: -6.02, -6.02 dB\n",
            "\n",
            "Overwriting existing file.\n",
            "Writing /mnt/cogsci/home/ybo/189/content/cleaned_data/second_session/A01E.fif\n",
            "Closing /mnt/cogsci/home/ybo/189/content/cleaned_data/second_session/A01E.fif\n",
            "[done]\n",
            "data:A01E.gdf, label:A01E.mat\n",
            "[1. 2. 2. 1. 2. 1. 2. 3. 2. 4. 1. 3. 2. 1. 4. 4. 4. 4. 4. 1. 3. 2. 1. 1.\n",
            " 3. 4. 1. 3. 3. 3. 1. 2. 1. 2. 2. 1. 2. 3. 2. 3. 3. 4. 3. 3. 4. 4. 4. 4.\n",
            " 4. 3. 2. 1. 1. 2. 3. 4. 2. 3. 1. 1. 1. 4. 2. 2. 1. 1. 3. 1. 2. 4. 4. 3.\n",
            " 1. 4. 4. 2. 4. 4. 2. 1. 2. 3. 3. 3. 4. 3. 1. 4. 2. 3. 2. 3. 4. 2. 3. 1.\n",
            " 1. 1. 4. 2. 1. 3. 1. 3. 2. 4. 1. 3. 3. 1. 3. 2. 4. 4. 4. 3. 1. 4. 2. 4.\n",
            " 2. 1. 3. 2. 1. 3. 3. 1. 3. 4. 4. 2. 1. 2. 4. 2. 4. 3. 2. 2. 2. 3. 4. 1.\n",
            " 2. 4. 1. 3. 3. 4. 1. 1. 3. 2. 4. 4. 4. 2. 1. 3. 2. 4. 1. 4. 3. 2. 4. 4.\n",
            " 1. 2. 2. 3. 4. 2. 1. 1. 4. 2. 1. 3. 2. 2. 3. 1. 4. 3. 3. 3. 3. 1. 2. 1.\n",
            " 2. 1. 1. 3. 3. 2. 3. 4. 1. 4. 1. 1. 2. 4. 3. 2. 4. 3. 4. 3. 4. 2. 2. 4.\n",
            " 1. 2. 2. 2. 3. 4. 1. 4. 1. 3. 1. 4. 1. 3. 1. 2. 3. 3. 4. 1. 2. 4. 2. 3.\n",
            " 3. 1. 4. 2. 4. 1. 1. 3. 3. 2. 4. 2. 2. 1. 2. 4. 4. 2. 2. 2. 2. 4. 4. 3.\n",
            " 4. 1. 2. 3. 2. 1. 4. 1. 4. 1. 1. 1. 1. 3. 3. 4. 2. 3. 3. 3. 4. 3. 1. 3.\n",
            " 1. 2. 2. 1. 2. 1. 2. 3. 2. 4. 1. 3. 2. 1. 4. 4. 4. 4. 4. 1. 3. 2. 1. 1.\n",
            " 3. 4. 1. 3. 3. 3. 1. 2. 1. 2. 2. 1. 2. 3. 2. 3. 3. 4. 3. 3. 4. 4. 4. 4.\n",
            " 4. 3. 2. 1. 1. 2. 3. 4. 2. 3. 1. 1. 1. 4. 2. 2. 1. 1. 3. 1. 2. 4. 4. 3.\n",
            " 1. 4. 4. 2. 4. 4. 2. 1. 2. 3. 3. 3. 4. 3. 1. 4. 2. 3. 2. 3. 4. 2. 3. 1.\n",
            " 1. 1. 4. 2. 1. 3. 1. 3. 2. 4. 1. 3. 3. 1. 3. 2. 4. 4. 4. 3. 1. 4. 2. 4.\n",
            " 2. 1. 3. 2. 1. 3. 3. 1. 3. 4. 4. 2. 1. 2. 4. 2. 4. 3. 2. 2. 2. 3. 4. 1.\n",
            " 2. 4. 1. 3. 3. 4. 1. 1. 3. 2. 4. 4. 4. 2. 1. 3. 2. 4. 1. 4. 3. 2. 4. 4.\n",
            " 1. 2. 2. 3. 4. 2. 1. 1. 4. 2. 1. 3. 2. 2. 3. 1. 4. 3. 3. 3. 3. 1. 2. 1.\n",
            " 2. 1. 1. 3. 3. 2. 3. 4. 1. 4. 1. 1. 2. 4. 3. 2. 4. 3. 4. 3. 4. 2. 2. 4.\n",
            " 1. 2. 2. 2. 3. 4. 1. 4. 1. 3. 1. 4. 1. 3. 1. 2. 3. 3. 4. 1. 2. 4. 2. 3.\n",
            " 3. 1. 4. 2. 4. 1. 1. 3. 3. 2. 4. 2. 2. 1. 2. 4. 4. 2. 2. 2. 2. 4. 4. 3.\n",
            " 4. 1. 2. 3. 2. 1. 4. 1. 4. 1. 1. 1. 1. 3. 3. 4. 2. 3. 3. 3. 4. 3. 1. 3.\n",
            " 1. 2. 2. 1. 2. 1. 2. 3. 2. 4. 1. 3. 2. 1. 4. 4. 4. 4. 4. 1. 3. 2. 1. 1.\n",
            " 3. 4. 1. 3. 3. 3. 1. 2. 1. 2. 2. 1. 2. 3. 2. 3. 3. 4. 3. 3. 4. 4. 4. 4.\n",
            " 4. 3. 2. 1. 1. 2. 3. 4. 2. 3. 1. 1. 1. 4. 2. 2. 1. 1. 3. 1. 2. 4. 4. 3.\n",
            " 1. 4. 4. 2. 4. 4. 2. 1. 2. 3. 3. 3. 4. 3. 1. 4. 2. 3. 2. 3. 4. 2. 3. 1.\n",
            " 1. 1. 4. 2. 1. 3. 1. 3. 2. 4. 1. 3. 3. 1. 3. 2. 4. 4. 4. 3. 1. 4. 2. 4.\n",
            " 2. 1. 3. 2. 1. 3. 3. 1. 3. 4. 4. 2. 1. 2. 4. 2. 4. 3. 2. 2. 2. 3. 4. 1.\n",
            " 2. 4. 1. 3. 3. 4. 1. 1. 3. 2. 4. 4. 4. 2. 1. 3. 2. 4. 1. 4. 3. 2. 4. 4.\n",
            " 1. 2. 2. 3. 4. 2. 1. 1. 4. 2. 1. 3. 2. 2. 3. 1. 4. 3. 3. 3. 3. 1. 2. 1.\n",
            " 2. 1. 1. 3. 3. 2. 3. 4. 1. 4. 1. 1. 2. 4. 3. 2. 4. 3. 4. 3. 4. 2. 2. 4.\n",
            " 1. 2. 2. 2. 3. 4. 1. 4. 1. 3. 1. 4. 1. 3. 1. 2. 3. 3. 4. 1. 2. 4. 2. 3.\n",
            " 3. 1. 4. 2. 4. 1. 1. 3. 3. 2. 4. 2. 2. 1. 2. 4. 4. 2. 2. 2. 2. 4. 4. 3.\n",
            " 4. 1. 2. 3. 2. 1. 4. 1. 4. 1. 1. 1. 1. 3. 3. 4. 2. 3. 3. 3. 4. 3. 1. 3.]\n",
            "Extracting EDF parameters from /mnt/cogsci/home/ybo/189/content/raw_data/A04E.gdf...\n"
          ]
        },
        {
          "name": "stderr",
          "output_type": "stream",
          "text": [
            "/tmp/ipykernel_2845688/4058047235.py:32: RuntimeWarning: This filename (/mnt/cogsci/home/ybo/189/content/cleaned_data/second_session/A01E.fif) does not conform to MNE naming conventions. All raw files should end with raw.fif, raw_sss.fif, raw_tsss.fif, _meg.fif, _eeg.fif, _ieeg.fif, raw.fif.gz, raw_sss.fif.gz, raw_tsss.fif.gz, _meg.fif.gz, _eeg.fif.gz or _ieeg.fif.gz\n",
            "  raw.save(new_file_path, overwrite=True)\n"
          ]
        },
        {
          "name": "stdout",
          "output_type": "stream",
          "text": [
            "GDF file detected\n",
            "Setting channel info structure...\n",
            "Could not determine channel type of the following channels, they will be set as EEG:\n",
            "EEG-Fz, EEG, EEG, EEG, EEG, EEG, EEG, EEG-C3, EEG, EEG-Cz, EEG, EEG-C4, EEG, EEG, EEG, EEG, EEG, EEG, EEG, EEG-Pz, EEG, EEG\n",
            "Creating raw.info structure...\n",
            "Reading 0 ... 660046  =      0.000 ...  2640.184 secs...\n"
          ]
        },
        {
          "name": "stderr",
          "output_type": "stream",
          "text": [
            "/home/ybo/miniconda3/envs/myenv/lib/python3.12/contextlib.py:144: RuntimeWarning: Channel names are not unique, found duplicates for: {'EEG'}. Applying running numbers for duplicates.\n",
            "  next(self.gen)\n"
          ]
        },
        {
          "name": "stdout",
          "output_type": "stream",
          "text": [
            "Filtering raw data in 1 contiguous segment\n",
            "Setting up band-pass filter from 4 - 40 Hz\n",
            "\n",
            "IIR filter parameters\n",
            "---------------------\n",
            "Butterworth bandpass zero-phase (two-pass forward and reverse) non-causal filter:\n",
            "- Filter order 16 (effective, after forward-backward)\n",
            "- Cutoffs at 4.00, 40.00 Hz: -6.02, -6.02 dB\n",
            "\n",
            "Overwriting existing file.\n",
            "Writing /mnt/cogsci/home/ybo/189/content/cleaned_data/second_session/A04E.fif\n",
            "Closing /mnt/cogsci/home/ybo/189/content/cleaned_data/second_session/A04E.fif\n",
            "[done]\n",
            "data:A04E.gdf, label:A04E.mat\n",
            "[1. 2. 2. ... 1. 2. 1.]\n",
            "Extracting EDF parameters from /mnt/cogsci/home/ybo/189/content/raw_data/A08E.gdf...\n",
            "GDF file detected\n",
            "Setting channel info structure...\n",
            "Could not determine channel type of the following channels, they will be set as EEG:\n",
            "EEG-Fz, EEG, EEG, EEG, EEG, EEG, EEG, EEG-C3, EEG, EEG-Cz, EEG, EEG-C4, EEG, EEG, EEG, EEG, EEG, EEG, EEG, EEG-Pz, EEG, EEG\n",
            "Creating raw.info structure...\n",
            "Reading 0 ... 687791  =      0.000 ...  2751.164 secs...\n"
          ]
        },
        {
          "name": "stderr",
          "output_type": "stream",
          "text": [
            "/tmp/ipykernel_2845688/4058047235.py:32: RuntimeWarning: This filename (/mnt/cogsci/home/ybo/189/content/cleaned_data/second_session/A04E.fif) does not conform to MNE naming conventions. All raw files should end with raw.fif, raw_sss.fif, raw_tsss.fif, _meg.fif, _eeg.fif, _ieeg.fif, raw.fif.gz, raw_sss.fif.gz, raw_tsss.fif.gz, _meg.fif.gz, _eeg.fif.gz or _ieeg.fif.gz\n",
            "  raw.save(new_file_path, overwrite=True)\n",
            "/home/ybo/miniconda3/envs/myenv/lib/python3.12/contextlib.py:144: RuntimeWarning: Channel names are not unique, found duplicates for: {'EEG'}. Applying running numbers for duplicates.\n",
            "  next(self.gen)\n"
          ]
        },
        {
          "name": "stdout",
          "output_type": "stream",
          "text": [
            "Filtering raw data in 1 contiguous segment\n",
            "Setting up band-pass filter from 4 - 40 Hz\n",
            "\n",
            "IIR filter parameters\n",
            "---------------------\n",
            "Butterworth bandpass zero-phase (two-pass forward and reverse) non-causal filter:\n",
            "- Filter order 16 (effective, after forward-backward)\n",
            "- Cutoffs at 4.00, 40.00 Hz: -6.02, -6.02 dB\n",
            "\n",
            "Overwriting existing file.\n",
            "Writing /mnt/cogsci/home/ybo/189/content/cleaned_data/second_session/A08E.fif\n",
            "Closing /mnt/cogsci/home/ybo/189/content/cleaned_data/second_session/A08E.fif\n",
            "[done]\n",
            "data:A08E.gdf, label:A08E.mat\n",
            "[1. 2. 2. ... 3. 1. 3.]\n",
            "Extracting EDF parameters from /mnt/cogsci/home/ybo/189/content/raw_data/A06E.gdf...\n",
            "GDF file detected\n",
            "Setting channel info structure...\n",
            "Could not determine channel type of the following channels, they will be set as EEG:\n",
            "EEG-Fz, EEG, EEG, EEG, EEG, EEG, EEG, EEG-C3, EEG, EEG-Cz, EEG, EEG-C4, EEG, EEG, EEG, EEG, EEG, EEG, EEG, EEG-Pz, EEG, EEG\n",
            "Creating raw.info structure...\n",
            "Reading 0 ... 666372  =      0.000 ...  2665.488 secs...\n"
          ]
        },
        {
          "name": "stderr",
          "output_type": "stream",
          "text": [
            "/tmp/ipykernel_2845688/4058047235.py:32: RuntimeWarning: This filename (/mnt/cogsci/home/ybo/189/content/cleaned_data/second_session/A08E.fif) does not conform to MNE naming conventions. All raw files should end with raw.fif, raw_sss.fif, raw_tsss.fif, _meg.fif, _eeg.fif, _ieeg.fif, raw.fif.gz, raw_sss.fif.gz, raw_tsss.fif.gz, _meg.fif.gz, _eeg.fif.gz or _ieeg.fif.gz\n",
            "  raw.save(new_file_path, overwrite=True)\n",
            "/home/ybo/miniconda3/envs/myenv/lib/python3.12/contextlib.py:144: RuntimeWarning: Channel names are not unique, found duplicates for: {'EEG'}. Applying running numbers for duplicates.\n",
            "  next(self.gen)\n"
          ]
        },
        {
          "name": "stdout",
          "output_type": "stream",
          "text": [
            "Filtering raw data in 1 contiguous segment\n",
            "Setting up band-pass filter from 4 - 40 Hz\n",
            "\n",
            "IIR filter parameters\n",
            "---------------------\n",
            "Butterworth bandpass zero-phase (two-pass forward and reverse) non-causal filter:\n",
            "- Filter order 16 (effective, after forward-backward)\n",
            "- Cutoffs at 4.00, 40.00 Hz: -6.02, -6.02 dB\n",
            "\n",
            "Overwriting existing file.\n",
            "Writing /mnt/cogsci/home/ybo/189/content/cleaned_data/second_session/A06E.fif\n",
            "Closing /mnt/cogsci/home/ybo/189/content/cleaned_data/second_session/A06E.fif\n",
            "[done]\n",
            "data:A06E.gdf, label:A06E.mat\n",
            "[1. 2. 2. ... 3. 1. 3.]\n",
            "Extracting EDF parameters from /mnt/cogsci/home/ybo/189/content/raw_data/A02E.gdf...\n",
            "GDF file detected\n",
            "Setting channel info structure...\n",
            "Could not determine channel type of the following channels, they will be set as EEG:\n",
            "EEG-Fz, EEG, EEG, EEG, EEG, EEG, EEG, EEG-C3, EEG, EEG-Cz, EEG, EEG-C4, EEG, EEG, EEG, EEG, EEG, EEG, EEG, EEG-Pz, EEG, EEG\n",
            "Creating raw.info structure...\n",
            "Reading 0 ... 662665  =      0.000 ...  2650.660 secs...\n"
          ]
        },
        {
          "name": "stderr",
          "output_type": "stream",
          "text": [
            "/tmp/ipykernel_2845688/4058047235.py:32: RuntimeWarning: This filename (/mnt/cogsci/home/ybo/189/content/cleaned_data/second_session/A06E.fif) does not conform to MNE naming conventions. All raw files should end with raw.fif, raw_sss.fif, raw_tsss.fif, _meg.fif, _eeg.fif, _ieeg.fif, raw.fif.gz, raw_sss.fif.gz, raw_tsss.fif.gz, _meg.fif.gz, _eeg.fif.gz or _ieeg.fif.gz\n",
            "  raw.save(new_file_path, overwrite=True)\n",
            "/home/ybo/miniconda3/envs/myenv/lib/python3.12/contextlib.py:144: RuntimeWarning: Channel names are not unique, found duplicates for: {'EEG'}. Applying running numbers for duplicates.\n",
            "  next(self.gen)\n"
          ]
        },
        {
          "name": "stdout",
          "output_type": "stream",
          "text": [
            "Filtering raw data in 1 contiguous segment\n",
            "Setting up band-pass filter from 4 - 40 Hz\n",
            "\n",
            "IIR filter parameters\n",
            "---------------------\n",
            "Butterworth bandpass zero-phase (two-pass forward and reverse) non-causal filter:\n",
            "- Filter order 16 (effective, after forward-backward)\n",
            "- Cutoffs at 4.00, 40.00 Hz: -6.02, -6.02 dB\n",
            "\n",
            "Overwriting existing file.\n",
            "Writing /mnt/cogsci/home/ybo/189/content/cleaned_data/second_session/A02E.fif\n",
            "Closing /mnt/cogsci/home/ybo/189/content/cleaned_data/second_session/A02E.fif\n",
            "[done]\n",
            "data:A02E.gdf, label:A02E.mat\n",
            "[1. 2. 2. ... 3. 1. 3.]\n",
            "Extracting EDF parameters from /mnt/cogsci/home/ybo/189/content/raw_data/A07E.gdf...\n",
            "GDF file detected\n",
            "Setting channel info structure...\n",
            "Could not determine channel type of the following channels, they will be set as EEG:\n",
            "EEG-Fz, EEG, EEG, EEG, EEG, EEG, EEG, EEG-C3, EEG, EEG-Cz, EEG, EEG-C4, EEG, EEG, EEG, EEG, EEG, EEG, EEG, EEG-Pz, EEG, EEG\n",
            "Creating raw.info structure...\n",
            "Reading 0 ... 673134  =      0.000 ...  2692.536 secs...\n"
          ]
        },
        {
          "name": "stderr",
          "output_type": "stream",
          "text": [
            "/tmp/ipykernel_2845688/4058047235.py:32: RuntimeWarning: This filename (/mnt/cogsci/home/ybo/189/content/cleaned_data/second_session/A02E.fif) does not conform to MNE naming conventions. All raw files should end with raw.fif, raw_sss.fif, raw_tsss.fif, _meg.fif, _eeg.fif, _ieeg.fif, raw.fif.gz, raw_sss.fif.gz, raw_tsss.fif.gz, _meg.fif.gz, _eeg.fif.gz or _ieeg.fif.gz\n",
            "  raw.save(new_file_path, overwrite=True)\n",
            "/home/ybo/miniconda3/envs/myenv/lib/python3.12/contextlib.py:144: RuntimeWarning: Channel names are not unique, found duplicates for: {'EEG'}. Applying running numbers for duplicates.\n",
            "  next(self.gen)\n"
          ]
        },
        {
          "name": "stdout",
          "output_type": "stream",
          "text": [
            "Filtering raw data in 1 contiguous segment\n",
            "Setting up band-pass filter from 4 - 40 Hz\n",
            "\n",
            "IIR filter parameters\n",
            "---------------------\n",
            "Butterworth bandpass zero-phase (two-pass forward and reverse) non-causal filter:\n",
            "- Filter order 16 (effective, after forward-backward)\n",
            "- Cutoffs at 4.00, 40.00 Hz: -6.02, -6.02 dB\n",
            "\n",
            "Overwriting existing file.\n",
            "Writing /mnt/cogsci/home/ybo/189/content/cleaned_data/second_session/A07E.fif\n",
            "Closing /mnt/cogsci/home/ybo/189/content/cleaned_data/second_session/A07E.fif\n",
            "[done]\n",
            "data:A07E.gdf, label:A07E.mat\n",
            "[1. 2. 2. ... 3. 1. 3.]\n",
            "Extracting EDF parameters from /mnt/cogsci/home/ybo/189/content/raw_data/A03E.gdf...\n"
          ]
        },
        {
          "name": "stderr",
          "output_type": "stream",
          "text": [
            "/tmp/ipykernel_2845688/4058047235.py:32: RuntimeWarning: This filename (/mnt/cogsci/home/ybo/189/content/cleaned_data/second_session/A07E.fif) does not conform to MNE naming conventions. All raw files should end with raw.fif, raw_sss.fif, raw_tsss.fif, _meg.fif, _eeg.fif, _ieeg.fif, raw.fif.gz, raw_sss.fif.gz, raw_tsss.fif.gz, _meg.fif.gz, _eeg.fif.gz or _ieeg.fif.gz\n",
            "  raw.save(new_file_path, overwrite=True)\n"
          ]
        },
        {
          "name": "stdout",
          "output_type": "stream",
          "text": [
            "GDF file detected\n",
            "Setting channel info structure...\n",
            "Could not determine channel type of the following channels, they will be set as EEG:\n",
            "EEG-Fz, EEG, EEG, EEG, EEG, EEG, EEG, EEG-C3, EEG, EEG-Cz, EEG, EEG-C4, EEG, EEG, EEG, EEG, EEG, EEG, EEG, EEG-Pz, EEG, EEG\n",
            "Creating raw.info structure...\n",
            "Reading 0 ... 648774  =      0.000 ...  2595.096 secs...\n"
          ]
        },
        {
          "name": "stderr",
          "output_type": "stream",
          "text": [
            "/home/ybo/miniconda3/envs/myenv/lib/python3.12/contextlib.py:144: RuntimeWarning: Channel names are not unique, found duplicates for: {'EEG'}. Applying running numbers for duplicates.\n",
            "  next(self.gen)\n"
          ]
        },
        {
          "name": "stdout",
          "output_type": "stream",
          "text": [
            "Filtering raw data in 1 contiguous segment\n",
            "Setting up band-pass filter from 4 - 40 Hz\n",
            "\n",
            "IIR filter parameters\n",
            "---------------------\n",
            "Butterworth bandpass zero-phase (two-pass forward and reverse) non-causal filter:\n",
            "- Filter order 16 (effective, after forward-backward)\n",
            "- Cutoffs at 4.00, 40.00 Hz: -6.02, -6.02 dB\n",
            "\n",
            "Overwriting existing file.\n",
            "Writing /mnt/cogsci/home/ybo/189/content/cleaned_data/second_session/A03E.fif\n",
            "Closing /mnt/cogsci/home/ybo/189/content/cleaned_data/second_session/A03E.fif\n",
            "[done]\n"
          ]
        },
        {
          "name": "stderr",
          "output_type": "stream",
          "text": [
            "/tmp/ipykernel_2845688/4058047235.py:32: RuntimeWarning: This filename (/mnt/cogsci/home/ybo/189/content/cleaned_data/second_session/A03E.fif) does not conform to MNE naming conventions. All raw files should end with raw.fif, raw_sss.fif, raw_tsss.fif, _meg.fif, _eeg.fif, _ieeg.fif, raw.fif.gz, raw_sss.fif.gz, raw_tsss.fif.gz, _meg.fif.gz, _eeg.fif.gz or _ieeg.fif.gz\n",
            "  raw.save(new_file_path, overwrite=True)\n"
          ]
        },
        {
          "name": "stdout",
          "output_type": "stream",
          "text": [
            "data:A03E.gdf, label:A03E.mat\n",
            "[1. 2. 2. ... 3. 1. 3.]\n",
            "Overwriting existing file.\n",
            "Writing /mnt/cogsci/home/ybo/189/content/cleaned_data/second_session/Second_Session_Subjects.fif\n"
          ]
        },
        {
          "name": "stderr",
          "output_type": "stream",
          "text": [
            "/tmp/ipykernel_2845688/4058047235.py:64: RuntimeWarning: This filename (/mnt/cogsci/home/ybo/189/content/cleaned_data/second_session/Second_Session_Subjects.fif) does not conform to MNE naming conventions. All raw files should end with raw.fif, raw_sss.fif, raw_tsss.fif, _meg.fif, _eeg.fif, _ieeg.fif, raw.fif.gz, raw_sss.fif.gz, raw_tsss.fif.gz, _meg.fif.gz, _eeg.fif.gz or _ieeg.fif.gz\n",
            "  final_raw.save(new_file_path, overwrite=True)\n"
          ]
        },
        {
          "name": "stdout",
          "output_type": "stream",
          "text": [
            "Closing /mnt/cogsci/home/ybo/189/content/cleaned_data/second_session/Second_Session_Subjects.fif\n",
            "[done]\n"
          ]
        },
        {
          "data": {
            "text/plain": [
              "[PosixPath('/mnt/cogsci/home/ybo/189/content/cleaned_data/second_session/Second_Session_Subjects.fif')]"
            ]
          },
          "execution_count": 50,
          "metadata": {},
          "output_type": "execute_result"
        }
      ],
      "source": [
        "raw_data_folder = cwd+'/content/raw_data/'\n",
        "cleaned_data_folder = cwd+'/content/cleaned_data/second_session/'\n",
        "mat_folder = cwd+'/content/second_session_labels/'\n",
        "\n",
        "\n",
        "\n",
        "\n",
        "# Selecting files with suffix 'E.mat'\n",
        "mat_files = os.listdir(mat_folder)\n",
        "filtered_math_labels = [file for file in mat_files if file.endswith('E.mat')]\n",
        "\n",
        "# Selecting files with suffix 'E.gdf'\n",
        "files = os.listdir(raw_data_folder)\n",
        "filtered_files = [file for file in files if file.endswith('E.gdf')]\n",
        "\n",
        "raw_list = []\n",
        "second_session_labels = np.array([])\n",
        "# Iterating through filtered files\n",
        "for file in filtered_files:\n",
        "    file_path = os.path.join(raw_data_folder, file)\n",
        "\n",
        "    # Reading raw data\n",
        "    raw = mne.io.read_raw_gdf(file_path, eog=['EOG-left', 'EOG-central', 'EOG-right'], preload=True)\n",
        "    # Droping EOG channels\n",
        "    raw.drop_channels(['EOG-left', 'EOG-central', 'EOG-right'])\n",
        "\n",
        "    # High Pass Filtering 4-40 Hz\n",
        "    raw.filter(l_freq=4, h_freq=40, method='iir')\n",
        "\n",
        "    # Saving the modified raw data to a file with .fif suffix\n",
        "    new_file_path = os.path.join(cleaned_data_folder, file[:-4] + '.fif')\n",
        "    raw.save(new_file_path, overwrite=True)\n",
        "    # Appending data to t he list\n",
        "    raw_list.append(raw)\n",
        "\n",
        "    # Mat files for the labels\n",
        "    mat_file_name = file.replace('.gdf', '.mat')\n",
        "    mat_file_path = os.path.join(mat_folder, mat_file_name)\n",
        "    print(f\"data:{file}, label:{mat_file_name}\")\n",
        "\n",
        "    if os.path.exists(mat_file_path):\n",
        "        mat_data = scipy.io.loadmat(mat_file_path)\n",
        "        class_labels = mat_data.get('classlabel', [])\n",
        "        # only care about Left (1) and Right (2) classes!!\n",
        "        # valid_indices = np.isin(class_labels, [1, 2]).flatten()\n",
        "        # class_labels = class_labels[valid_indices]\n",
        "\n",
        "        # Check if 'classlabel' key exists and is not empty\n",
        "        if class_labels.size > 0:\n",
        "             # Convert to a NumPy array and flatten\n",
        "            class_labels_array = np.array(class_labels, dtype=int).flatten()\n",
        "            # Concatenate with the existing test_labels array\n",
        "            second_session_labels = np.concatenate((second_session_labels, class_labels_array))\n",
        "            print(second_session_labels)\n",
        "\n",
        "            # label_dict[file[:-4]] = class_labels_array\n",
        "        else:\n",
        "            print(f\"Warning: 'classlabel' not found or empty in {mat_file_name}.\")\n",
        "    else:\n",
        "        print(f\"Warning: {mat_file_name} not found.\")\n",
        "\n",
        "final_raw = mne.concatenate_raws(raw_list)\n",
        "new_file_path = os.path.join(cleaned_data_folder, 'Second_Session_Subjects.fif')\n",
        "final_raw.save(new_file_path, overwrite=True)"
      ]
    },
    {
      "cell_type": "markdown",
      "metadata": {},
      "source": [
        "## filtered L vs. R classes only (class 1 & 2)"
      ]
    },
    {
      "cell_type": "markdown",
      "metadata": {
        "id": "kgSKXweNM87Q"
      },
      "source": [
        "**List of the events**  \n",
        "'1023': 1 Rejected trial  \n",
        "'1072': 2 Eye movements  \n",
        "'276': 3 Idling EEG (eyes open)  \n",
        "'277': 4 Idling EEG (eyes closed)  \n",
        "'32766': 5 Start of a new run  \n",
        "'768': 6 Start of a trial  \n",
        "'783': 7 Cue unknown"
      ]
    },
    {
      "cell_type": "code",
      "execution_count": 32,
      "metadata": {
        "colab": {
          "base_uri": "https://localhost:8080/"
        },
        "id": "KIuyfy9DNAvO",
        "outputId": "884cb7c0-7643-420e-ecee-05e0aecbf6fb"
      },
      "outputs": [
        {
          "name": "stdout",
          "output_type": "stream",
          "text": [
            "Used Annotations descriptions: ['1023', '1072', '276', '277', '32766', '768', '783']\n"
          ]
        },
        {
          "data": {
            "text/plain": [
              "{'1023': 1, '1072': 2, '276': 3, '277': 4, '32766': 5, '768': 6, '783': 7}"
            ]
          },
          "execution_count": 32,
          "metadata": {},
          "output_type": "execute_result"
        }
      ],
      "source": [
        "events = mne.events_from_annotations(final_raw)\n",
        "events[1]"
      ]
    },
    {
      "cell_type": "markdown",
      "metadata": {},
      "source": [
        "- Extract Events from Annotations\n",
        "- Filter Event (labels 1 and 2)."
      ]
    },
    {
      "cell_type": "code",
      "execution_count": 37,
      "metadata": {
        "colab": {
          "base_uri": "https://localhost:8080/"
        },
        "id": "KGDah5f4NCBr",
        "outputId": "348a121b-d355-4239-9798-dcd0b10cd16a"
      },
      "outputs": [
        {
          "name": "stdout",
          "output_type": "stream",
          "text": [
            "Not setting metadata\n",
            "2592 matching events found\n",
            "No baseline correction applied\n",
            "0 projection items activated\n",
            "Using data from preloaded Raw for 2592 events and 1001 original time points ...\n"
          ]
        },
        {
          "name": "stdout",
          "output_type": "stream",
          "text": [
            "0 bad epochs dropped\n"
          ]
        }
      ],
      "source": [
        "epochs = mne.Epochs(final_raw, events[0], event_id=7, tmin=0, tmax=4, reject=None, baseline=None, preload=None)\n",
        "# event 7 is the label free data\n",
        "second_session_data = epochs.get_data(copy=True)"
      ]
    },
    {
      "cell_type": "code",
      "execution_count": 51,
      "metadata": {},
      "outputs": [
        {
          "name": "stdout",
          "output_type": "stream",
          "text": [
            "(1296, 22, 1001)\n",
            "(2592,)\n"
          ]
        },
        {
          "ename": "IndexError",
          "evalue": "boolean index did not match indexed array along dimension 0; dimension is 1296 but corresponding boolean dimension is 2592",
          "output_type": "error",
          "traceback": [
            "\u001b[0;31m---------------------------------------------------------------------------\u001b[0m",
            "\u001b[0;31mIndexError\u001b[0m                                Traceback (most recent call last)",
            "Cell \u001b[0;32mIn[51], line 9\u001b[0m\n\u001b[1;32m      6\u001b[0m mask \u001b[38;5;241m=\u001b[39m (second_session_labels \u001b[38;5;241m==\u001b[39m \u001b[38;5;241m1\u001b[39m) \u001b[38;5;241m|\u001b[39m (second_session_labels \u001b[38;5;241m==\u001b[39m \u001b[38;5;241m2\u001b[39m)\n\u001b[1;32m      8\u001b[0m \u001b[38;5;66;03m# Apply the mask to the data array to filter it\u001b[39;00m\n\u001b[0;32m----> 9\u001b[0m second_session_data_filtered \u001b[38;5;241m=\u001b[39m \u001b[43msecond_session_data\u001b[49m\u001b[43m[\u001b[49m\u001b[43mmask\u001b[49m\u001b[43m]\u001b[49m\n\u001b[1;32m     10\u001b[0m second_session_labels_filtered \u001b[38;5;241m=\u001b[39m second_session_labels[mask]\n\u001b[1;32m     11\u001b[0m \u001b[38;5;28mprint\u001b[39m(\u001b[38;5;124m\"\u001b[39m\u001b[38;5;124m----\u001b[39m\u001b[38;5;124m\"\u001b[39m)\n",
            "\u001b[0;31mIndexError\u001b[0m: boolean index did not match indexed array along dimension 0; dimension is 1296 but corresponding boolean dimension is 2592"
          ]
        }
      ],
      "source": [
        "print(second_session_data.shape)\n",
        "print(second_session_labels.shape)\n",
        "\n",
        "\n",
        "## Filter out only L & R classes\n",
        "mask = (second_session_labels == 1) | (second_session_labels == 2)\n",
        "\n",
        "# Apply the mask to the data array to filter it\n",
        "second_session_data_filtered = second_session_data[mask]\n",
        "second_session_labels_filtered = second_session_labels[mask]\n",
        "print(\"----\")\n",
        "print(second_session_data_filtered.shape)\n",
        "# print(second_session_labels.shape)"
      ]
    },
    {
      "cell_type": "markdown",
      "metadata": {
        "id": "nA0Hr5BMPE5e"
      },
      "source": [
        "### Structuring Data"
      ]
    },
    {
      "cell_type": "code",
      "execution_count": 59,
      "metadata": {
        "colab": {
          "base_uri": "https://localhost:8080/"
        },
        "id": "D5dF6ZydC2PP",
        "outputId": "67fafc85-ff3d-48f3-f08a-3abc663df0b3"
      },
      "outputs": [
        {
          "name": "stdout",
          "output_type": "stream",
          "text": [
            "Size of X_train: torch.Size([2332, 1, 22, 1001])\n",
            "Size of X_test: torch.Size([260, 1, 22, 1001])\n",
            "Size of y_train: torch.Size([2332])\n",
            "Size of y_test: torch.Size([260])\n"
          ]
        }
      ],
      "source": [
        "# Choosing Device\n",
        "device = torch.device(\"cuda\" if torch.cuda.is_available() else \"cpu\")\n",
        "\n",
        "# Loss Function\n",
        "criterion = nn.CrossEntropyLoss()\n",
        "\n",
        "# Normalizing Labels to [0, 1, 2, 3]\n",
        "y_train = first_session_labels - np.min(first_session_labels)\n",
        "y_test = second_session_labels_filtered - np.min(second_session_labels_filtered)\n",
        "\n",
        "# Normalizing Input features: z-score(mean=0, std=1)\n",
        "X_first_session = (first_session_data - np.mean(first_session_data)) / np.std(first_session_data)\n",
        "X_second_session = (second_session_data_filtered - np.mean(second_session_data_filtered)) / np.std(second_session_data_filtered)\n",
        "\n",
        "X = np.concatenate((X_first_session, X_second_session))\n",
        "y = np.concatenate((y_train, y_test))\n",
        "\n",
        "# Spliting  Data: 90% for Train and 10% for Test\n",
        "X_train, X_test, y_train, y_test = train_test_split(X, y, test_size=0.1, random_state=42, stratify=y)\n",
        "\n",
        "# Converting to Tensor\n",
        "X_train = torch.Tensor(X_train).unsqueeze(1).to(device)\n",
        "X_test = torch.Tensor(X_test).unsqueeze(1).to(device)\n",
        "y_train = torch.LongTensor(y_train).to(device)\n",
        "y_test = torch.LongTensor(y_test).to(device)\n",
        "\n",
        "# Creating Tensor Dataset\n",
        "train_dataset = TensorDataset(X_train, y_train)\n",
        "test_dataset = TensorDataset(X_test, y_test)\n",
        "\n",
        "# Printing the sizes\n",
        "print(\"Size of X_train:\", X_train.size())\n",
        "print(\"Size of X_test:\", X_test.size())\n",
        "print(\"Size of y_train:\", y_train.size())\n",
        "print(\"Size of y_test:\", y_test.size())\n"
      ]
    },
    {
      "cell_type": "markdown",
      "metadata": {
        "id": "xyXDZiZ4E4a_"
      },
      "source": [
        "# Training Class"
      ]
    },
    {
      "cell_type": "code",
      "execution_count": 60,
      "metadata": {
        "id": "F3nUwuQHE8Hi"
      },
      "outputs": [],
      "source": [
        "import time\n",
        "class TrainModel():\n",
        "    def __init__(self,):\n",
        "        self.device = torch.device(\"cuda\" if torch.cuda.is_available() else \"cpu\")\n",
        "\n",
        "    def train_model(self, model, train_dataset, learning_rate=0.001, batch_size=64, epochs=500):\n",
        "        model = model.to(self.device)\n",
        "        criterion = nn.CrossEntropyLoss()\n",
        "        optimizer = optim.Adam(model.parameters(), lr=learning_rate)\n",
        "        train_loader = DataLoader(train_dataset, batch_size=batch_size, shuffle=True)\n",
        "        highest_train_accuracy = 0.0\n",
        "\n",
        "        # Start time tracking\n",
        "        start_time = time.time()\n",
        "        for epoch in range(epochs):\n",
        "            model.train()\n",
        "            running_loss = 0.0\n",
        "            correct = 0\n",
        "            total = 0\n",
        "            for inputs, labels in train_loader:\n",
        "                inputs = inputs.to(self.device)\n",
        "                labels = labels.to(self.device)\n",
        "\n",
        "                optimizer.zero_grad()\n",
        "                outputs = model(inputs)\n",
        "                loss = criterion(outputs, labels)\n",
        "                loss.backward()\n",
        "                optimizer.step()\n",
        "\n",
        "                running_loss += loss.item() * inputs.size(0)\n",
        "                _, predicted = torch.max(outputs, 1)\n",
        "                total += labels.size(0)\n",
        "                correct += (predicted == labels).sum().item()\n",
        "\n",
        "            epoch_loss = running_loss / len(train_loader.dataset)\n",
        "            epoch_accuracy = correct / total\n",
        "            if epoch_accuracy > highest_train_accuracy:\n",
        "                highest_train_accuracy = epoch_accuracy\n",
        "            # Calculate elapsed time\n",
        "            elapsed_time = time.time() - start_time\n",
        "            print(f\"Epoch {epoch+1}/{epochs}, Loss: {epoch_loss:.4f}, Accuracy: {(epoch_accuracy*100):.2f}%, Time Elapsed: {elapsed_time:.2f} seconds\")\n",
        "\n",
        "        average_loss = running_loss / len(train_loader.dataset)\n",
        "        print(\"Average Loss:\", average_loss)\n",
        "        print(\"Highest Train Accuracy:\", highest_train_accuracy)\n",
        "\n",
        "        # Saving model\n",
        "        torch.save(model.state_dict(), 'eegnet_model.pth')\n",
        "        return model\n"
      ]
    },
    {
      "cell_type": "markdown",
      "metadata": {
        "id": "ObMKFBTxFLBJ"
      },
      "source": [
        "# Evaluating Model"
      ]
    },
    {
      "cell_type": "code",
      "execution_count": 61,
      "metadata": {
        "id": "GxVYOQ_YFM4b"
      },
      "outputs": [],
      "source": [
        "class EvalModel():\n",
        "    def __init__(self, model):\n",
        "        self.model = model.to(device)\n",
        "        self.device = torch.device(\"cuda\" if torch.cuda.is_available() else \"cpu\")\n",
        "    def test_model(self, test_dataset):\n",
        "        self.model.eval()\n",
        "        correct = 0\n",
        "        total = 0\n",
        "        test_loader = DataLoader(test_dataset, batch_size=1, shuffle=False)\n",
        "\n",
        "        with torch.no_grad():\n",
        "            for inputs, labels in test_loader:\n",
        "                inputs = inputs.to(self.device)\n",
        "                labels = labels.to(self.device)\n",
        "                outputs = self.model(inputs)\n",
        "                _, predicted = torch.max(outputs.data, 1)\n",
        "                total += labels.size(0)\n",
        "                correct += (predicted == labels).sum().item()\n",
        "\n",
        "        accuracy = (correct / total) * 100\n",
        "        print(\"/------------------------------/\")\n",
        "        print(f\"Test Accuracy: {accuracy:.2f}%\")\n",
        "        print(\"/------------------------------/\")\n",
        "        return accuracy\n",
        "\n",
        "    def plot_confusion_matrix(self, test_dataset, classes):\n",
        "        self.model.eval()\n",
        "        y_pred = []\n",
        "        y_true = []\n",
        "        test_loader = DataLoader(test_dataset, batch_size=1, shuffle=False)\n",
        "\n",
        "        with torch.no_grad():\n",
        "            for inputs, labels in test_loader:\n",
        "                inputs = inputs.to(self.device)\n",
        "                labels = labels.to(self.device)\n",
        "                outputs = self.model(inputs)\n",
        "                _, predicted = torch.max(outputs.data, 1)\n",
        "                y_pred.append(predicted.item())\n",
        "                y_true.append(labels.item())\n",
        "\n",
        "        cf_matrix = confusion_matrix(y_true, y_pred)\n",
        "        cf_matrix = cf_matrix.astype('float') / cf_matrix.sum(axis=1)[:, np.newaxis]\n",
        "\n",
        "        df_cm = pd.DataFrame(cf_matrix, index=classes, columns=classes)\n",
        "\n",
        "        plt.figure(figsize=(10, 7))\n",
        "        sn.heatmap(df_cm, annot=True, cmap='Blues', fmt='.2f')\n",
        "        plt.xlabel('Predicted labels')\n",
        "        plt.ylabel('True labels')\n",
        "        plt.title('Confusion Matrix')\n",
        "        plt.savefig('confusion_matrix_model.png')\n",
        "        plt.show()\n"
      ]
    },
    {
      "cell_type": "markdown",
      "metadata": {
        "id": "vR2z57zqC5iS"
      },
      "source": [
        "# EEGNet Model"
      ]
    },
    {
      "cell_type": "code",
      "execution_count": 62,
      "metadata": {
        "id": "SmFhrHzSC8BE"
      },
      "outputs": [],
      "source": [
        "class EEGNetModel(nn.Module): # EEGNET-8,2\n",
        "    def __init__(self, chans=22, classes=2, time_points=1001, temp_kernel=32,\n",
        "                 f1=16, f2=32, d=2, pk1=8, pk2=16, dropout_rate=0.5, max_norm1=1, max_norm2=0.25):\n",
        "        super(EEGNetModel, self).__init__()\n",
        "        # Calculating FC input features\n",
        "        linear_size = (time_points//(pk1*pk2))*f2\n",
        "\n",
        "        # Temporal Filters\n",
        "        self.block1 = nn.Sequential(\n",
        "            nn.Conv2d(1, f1, (1, temp_kernel), padding='same', bias=False),\n",
        "            nn.BatchNorm2d(f1),\n",
        "        )\n",
        "        # Spatial Filters\n",
        "        self.block2 = nn.Sequential(\n",
        "            nn.Conv2d(f1, d * f1, (chans, 1), groups=f1, bias=False), # Depthwise Conv\n",
        "            nn.BatchNorm2d(d * f1),\n",
        "            nn.ELU(),\n",
        "            nn.AvgPool2d((1, pk1)),\n",
        "            nn.Dropout(dropout_rate)\n",
        "        )\n",
        "        self.block3 = nn.Sequential(\n",
        "            nn.Conv2d(d * f1, f2, (1, 16),  groups=f2, bias=False, padding='same'), # Separable Conv\n",
        "            nn.Conv2d(f2, f2, kernel_size=1, bias=False), # Pointwise Conv\n",
        "            nn.BatchNorm2d(f2),\n",
        "            nn.ELU(),\n",
        "            nn.AvgPool2d((1, pk2)),\n",
        "            nn.Dropout(dropout_rate)\n",
        "        )\n",
        "        self.flatten = nn.Flatten()\n",
        "        self.fc = nn.Linear(linear_size, classes)\n",
        "\n",
        "        # Apply max_norm constraint to the depthwise layer in block2\n",
        "        self._apply_max_norm(self.block2[0], max_norm1)\n",
        "\n",
        "        # Apply max_norm constraint to the linear layer\n",
        "        self._apply_max_norm(self.fc, max_norm2)\n",
        "\n",
        "    def _apply_max_norm(self, layer, max_norm):\n",
        "        for name, param in layer.named_parameters():\n",
        "            if 'weight' in name:\n",
        "                param.data = torch.renorm(param.data, p=2, dim=0, maxnorm=max_norm)\n",
        "\n",
        "    def forward(self, x):\n",
        "        x = self.block1(x)\n",
        "        x = self.block2(x)\n",
        "        x = self.block3(x)\n",
        "        x = self.flatten(x)\n",
        "        x = self.fc(x)\n",
        "        return x\n"
      ]
    },
    {
      "cell_type": "markdown",
      "metadata": {
        "id": "M49ks2b8C_dP"
      },
      "source": [
        "## Model Summery"
      ]
    },
    {
      "cell_type": "code",
      "execution_count": 63,
      "metadata": {
        "colab": {
          "base_uri": "https://localhost:8080/"
        },
        "id": "7NdOeIRtDAOn",
        "outputId": "35ec6ad5-7e2c-4f99-cae0-e83ffd549797"
      },
      "outputs": [
        {
          "name": "stdout",
          "output_type": "stream",
          "text": [
            "==========================================================================================\n",
            "Layer (type:depth-idx)                   Output Shape              Param #\n",
            "==========================================================================================\n",
            "├─Sequential: 1-1                        [-1, 16, 22, 1001]        --\n",
            "|    └─Conv2d: 2-1                       [-1, 16, 22, 1001]        512\n",
            "|    └─BatchNorm2d: 2-2                  [-1, 16, 22, 1001]        32\n",
            "├─Sequential: 1-2                        [-1, 32, 1, 125]          --\n",
            "|    └─Conv2d: 2-3                       [-1, 32, 1, 1001]         704\n",
            "|    └─BatchNorm2d: 2-4                  [-1, 32, 1, 1001]         64\n",
            "|    └─ELU: 2-5                          [-1, 32, 1, 1001]         --\n",
            "|    └─AvgPool2d: 2-6                    [-1, 32, 1, 125]          --\n",
            "|    └─Dropout: 2-7                      [-1, 32, 1, 125]          --\n",
            "├─Sequential: 1-3                        [-1, 32, 1, 7]            --\n",
            "|    └─Conv2d: 2-8                       [-1, 32, 1, 125]          512\n",
            "|    └─Conv2d: 2-9                       [-1, 32, 1, 125]          1,024\n",
            "|    └─BatchNorm2d: 2-10                 [-1, 32, 1, 125]          64\n",
            "|    └─ELU: 2-11                         [-1, 32, 1, 125]          --\n",
            "|    └─AvgPool2d: 2-12                   [-1, 32, 1, 7]            --\n",
            "|    └─Dropout: 2-13                     [-1, 32, 1, 7]            --\n",
            "├─Flatten: 1-4                           [-1, 224]                 --\n",
            "├─Linear: 1-5                            [-1, 2]                   450\n",
            "==========================================================================================\n",
            "Total params: 3,362\n",
            "Trainable params: 3,362\n",
            "Non-trainable params: 0\n",
            "Total mult-adds (M): 12.18\n",
            "==========================================================================================\n",
            "Input size (MB): 0.08\n",
            "Forward/backward pass size (MB): 5.96\n",
            "Params size (MB): 0.01\n",
            "Estimated Total Size (MB): 6.05\n",
            "==========================================================================================\n"
          ]
        },
        {
          "name": "stderr",
          "output_type": "stream",
          "text": [
            "/home/ybo/miniconda3/envs/myenv/lib/python3.12/site-packages/torch/nn/modules/conv.py:549: UserWarning: Using padding='same' with even kernel lengths and odd dilation may require a zero-padded copy of the input be created (Triggered internally at /opt/conda/conda-bld/pytorch_1729647378361/work/aten/src/ATen/native/Convolution.cpp:1036.)\n",
            "  return F.conv2d(\n"
          ]
        },
        {
          "data": {
            "text/plain": [
              "==========================================================================================\n",
              "Layer (type:depth-idx)                   Output Shape              Param #\n",
              "==========================================================================================\n",
              "├─Sequential: 1-1                        [-1, 16, 22, 1001]        --\n",
              "|    └─Conv2d: 2-1                       [-1, 16, 22, 1001]        512\n",
              "|    └─BatchNorm2d: 2-2                  [-1, 16, 22, 1001]        32\n",
              "├─Sequential: 1-2                        [-1, 32, 1, 125]          --\n",
              "|    └─Conv2d: 2-3                       [-1, 32, 1, 1001]         704\n",
              "|    └─BatchNorm2d: 2-4                  [-1, 32, 1, 1001]         64\n",
              "|    └─ELU: 2-5                          [-1, 32, 1, 1001]         --\n",
              "|    └─AvgPool2d: 2-6                    [-1, 32, 1, 125]          --\n",
              "|    └─Dropout: 2-7                      [-1, 32, 1, 125]          --\n",
              "├─Sequential: 1-3                        [-1, 32, 1, 7]            --\n",
              "|    └─Conv2d: 2-8                       [-1, 32, 1, 125]          512\n",
              "|    └─Conv2d: 2-9                       [-1, 32, 1, 125]          1,024\n",
              "|    └─BatchNorm2d: 2-10                 [-1, 32, 1, 125]          64\n",
              "|    └─ELU: 2-11                         [-1, 32, 1, 125]          --\n",
              "|    └─AvgPool2d: 2-12                   [-1, 32, 1, 7]            --\n",
              "|    └─Dropout: 2-13                     [-1, 32, 1, 7]            --\n",
              "├─Flatten: 1-4                           [-1, 224]                 --\n",
              "├─Linear: 1-5                            [-1, 2]                   450\n",
              "==========================================================================================\n",
              "Total params: 3,362\n",
              "Trainable params: 3,362\n",
              "Non-trainable params: 0\n",
              "Total mult-adds (M): 12.18\n",
              "==========================================================================================\n",
              "Input size (MB): 0.08\n",
              "Forward/backward pass size (MB): 5.96\n",
              "Params size (MB): 0.01\n",
              "Estimated Total Size (MB): 6.05\n",
              "=========================================================================================="
            ]
          },
          "execution_count": 63,
          "metadata": {},
          "output_type": "execute_result"
        }
      ],
      "source": [
        "input_size = (1, 22, 1001)\n",
        "eegnet_model = EEGNetModel().to(device)\n",
        "summary(eegnet_model, input_size)"
      ]
    },
    {
      "cell_type": "markdown",
      "metadata": {
        "id": "95r4EymoDCIv"
      },
      "source": [
        "## Training Model"
      ]
    },
    {
      "cell_type": "code",
      "execution_count": 64,
      "metadata": {
        "colab": {
          "base_uri": "https://localhost:8080/"
        },
        "id": "TJzl6On9DFcp",
        "outputId": "7c7e7ca1-e094-478a-f7df-171e12388792"
      },
      "outputs": [
        {
          "name": "stdout",
          "output_type": "stream",
          "text": [
            "Epoch 1/500, Loss: 0.6922, Accuracy: 51.20%, Time Elapsed: 0.54 seconds\n",
            "Epoch 2/500, Loss: 0.6850, Accuracy: 53.86%, Time Elapsed: 0.82 seconds\n",
            "Epoch 3/500, Loss: 0.6640, Accuracy: 60.72%, Time Elapsed: 1.10 seconds\n",
            "Epoch 4/500, Loss: 0.6138, Accuracy: 64.49%, Time Elapsed: 1.38 seconds\n",
            "Epoch 5/500, Loss: 0.5770, Accuracy: 67.97%, Time Elapsed: 1.66 seconds\n",
            "Epoch 6/500, Loss: 0.5600, Accuracy: 68.83%, Time Elapsed: 1.94 seconds\n",
            "Epoch 7/500, Loss: 0.5462, Accuracy: 69.77%, Time Elapsed: 2.22 seconds\n",
            "Epoch 8/500, Loss: 0.5297, Accuracy: 71.44%, Time Elapsed: 2.50 seconds\n",
            "Epoch 9/500, Loss: 0.5301, Accuracy: 71.31%, Time Elapsed: 2.78 seconds\n",
            "Epoch 10/500, Loss: 0.5420, Accuracy: 69.85%, Time Elapsed: 3.06 seconds\n",
            "Epoch 11/500, Loss: 0.5142, Accuracy: 71.70%, Time Elapsed: 3.34 seconds\n",
            "Epoch 12/500, Loss: 0.5172, Accuracy: 71.23%, Time Elapsed: 3.62 seconds\n",
            "Epoch 13/500, Loss: 0.5181, Accuracy: 72.00%, Time Elapsed: 3.89 seconds\n",
            "Epoch 14/500, Loss: 0.5126, Accuracy: 72.51%, Time Elapsed: 4.17 seconds\n",
            "Epoch 15/500, Loss: 0.5206, Accuracy: 71.66%, Time Elapsed: 4.45 seconds\n",
            "Epoch 16/500, Loss: 0.5070, Accuracy: 72.43%, Time Elapsed: 4.73 seconds\n",
            "Epoch 17/500, Loss: 0.5016, Accuracy: 72.64%, Time Elapsed: 5.01 seconds\n",
            "Epoch 18/500, Loss: 0.4886, Accuracy: 75.34%, Time Elapsed: 5.29 seconds\n",
            "Epoch 19/500, Loss: 0.4942, Accuracy: 72.73%, Time Elapsed: 5.57 seconds\n",
            "Epoch 20/500, Loss: 0.4975, Accuracy: 73.20%, Time Elapsed: 5.85 seconds\n",
            "Epoch 21/500, Loss: 0.4871, Accuracy: 73.46%, Time Elapsed: 6.12 seconds\n",
            "Epoch 22/500, Loss: 0.4871, Accuracy: 73.76%, Time Elapsed: 6.40 seconds\n",
            "Epoch 23/500, Loss: 0.4987, Accuracy: 72.86%, Time Elapsed: 6.68 seconds\n",
            "Epoch 24/500, Loss: 0.4864, Accuracy: 74.31%, Time Elapsed: 6.96 seconds\n",
            "Epoch 25/500, Loss: 0.4905, Accuracy: 73.89%, Time Elapsed: 7.23 seconds\n",
            "Epoch 26/500, Loss: 0.4904, Accuracy: 73.84%, Time Elapsed: 7.51 seconds\n",
            "Epoch 27/500, Loss: 0.4926, Accuracy: 74.27%, Time Elapsed: 7.79 seconds\n",
            "Epoch 28/500, Loss: 0.4841, Accuracy: 74.19%, Time Elapsed: 8.07 seconds\n",
            "Epoch 29/500, Loss: 0.4883, Accuracy: 74.06%, Time Elapsed: 8.35 seconds\n",
            "Epoch 30/500, Loss: 0.4795, Accuracy: 74.49%, Time Elapsed: 8.63 seconds\n",
            "Epoch 31/500, Loss: 0.4776, Accuracy: 73.76%, Time Elapsed: 8.90 seconds\n",
            "Epoch 32/500, Loss: 0.4739, Accuracy: 75.21%, Time Elapsed: 9.18 seconds\n",
            "Epoch 33/500, Loss: 0.4849, Accuracy: 74.66%, Time Elapsed: 9.46 seconds\n",
            "Epoch 34/500, Loss: 0.4785, Accuracy: 73.97%, Time Elapsed: 9.74 seconds\n",
            "Epoch 35/500, Loss: 0.4774, Accuracy: 74.74%, Time Elapsed: 10.02 seconds\n",
            "Epoch 36/500, Loss: 0.4676, Accuracy: 76.42%, Time Elapsed: 10.29 seconds\n",
            "Epoch 37/500, Loss: 0.4601, Accuracy: 75.39%, Time Elapsed: 10.57 seconds\n",
            "Epoch 38/500, Loss: 0.4557, Accuracy: 76.24%, Time Elapsed: 10.85 seconds\n",
            "Epoch 39/500, Loss: 0.4861, Accuracy: 74.74%, Time Elapsed: 11.13 seconds\n",
            "Epoch 40/500, Loss: 0.4600, Accuracy: 76.50%, Time Elapsed: 11.41 seconds\n",
            "Epoch 41/500, Loss: 0.4651, Accuracy: 75.51%, Time Elapsed: 11.68 seconds\n",
            "Epoch 42/500, Loss: 0.4636, Accuracy: 76.03%, Time Elapsed: 11.96 seconds\n",
            "Epoch 43/500, Loss: 0.4608, Accuracy: 76.50%, Time Elapsed: 12.24 seconds\n",
            "Epoch 44/500, Loss: 0.4552, Accuracy: 76.76%, Time Elapsed: 12.52 seconds\n",
            "Epoch 45/500, Loss: 0.4553, Accuracy: 77.49%, Time Elapsed: 12.79 seconds\n",
            "Epoch 46/500, Loss: 0.4541, Accuracy: 77.62%, Time Elapsed: 13.07 seconds\n",
            "Epoch 47/500, Loss: 0.4616, Accuracy: 76.54%, Time Elapsed: 13.35 seconds\n",
            "Epoch 48/500, Loss: 0.4504, Accuracy: 76.89%, Time Elapsed: 13.63 seconds\n",
            "Epoch 49/500, Loss: 0.4516, Accuracy: 76.63%, Time Elapsed: 13.91 seconds\n",
            "Epoch 50/500, Loss: 0.4447, Accuracy: 77.74%, Time Elapsed: 14.18 seconds\n",
            "Epoch 51/500, Loss: 0.4535, Accuracy: 77.49%, Time Elapsed: 14.46 seconds\n",
            "Epoch 52/500, Loss: 0.4464, Accuracy: 77.27%, Time Elapsed: 14.74 seconds\n",
            "Epoch 53/500, Loss: 0.4545, Accuracy: 78.64%, Time Elapsed: 15.02 seconds\n",
            "Epoch 54/500, Loss: 0.4450, Accuracy: 78.22%, Time Elapsed: 15.30 seconds\n",
            "Epoch 55/500, Loss: 0.4542, Accuracy: 77.57%, Time Elapsed: 15.57 seconds\n",
            "Epoch 56/500, Loss: 0.4387, Accuracy: 77.87%, Time Elapsed: 15.85 seconds\n",
            "Epoch 57/500, Loss: 0.4393, Accuracy: 78.95%, Time Elapsed: 16.13 seconds\n",
            "Epoch 58/500, Loss: 0.4342, Accuracy: 78.39%, Time Elapsed: 16.41 seconds\n",
            "Epoch 59/500, Loss: 0.4571, Accuracy: 77.36%, Time Elapsed: 16.68 seconds\n",
            "Epoch 60/500, Loss: 0.4407, Accuracy: 78.47%, Time Elapsed: 16.96 seconds\n",
            "Epoch 61/500, Loss: 0.4191, Accuracy: 80.36%, Time Elapsed: 17.24 seconds\n",
            "Epoch 62/500, Loss: 0.4402, Accuracy: 77.32%, Time Elapsed: 17.52 seconds\n",
            "Epoch 63/500, Loss: 0.4313, Accuracy: 79.37%, Time Elapsed: 17.80 seconds\n",
            "Epoch 64/500, Loss: 0.4333, Accuracy: 78.47%, Time Elapsed: 18.07 seconds\n",
            "Epoch 65/500, Loss: 0.4308, Accuracy: 78.09%, Time Elapsed: 18.35 seconds\n",
            "Epoch 66/500, Loss: 0.4310, Accuracy: 79.16%, Time Elapsed: 18.63 seconds\n",
            "Epoch 67/500, Loss: 0.4243, Accuracy: 79.63%, Time Elapsed: 18.91 seconds\n",
            "Epoch 68/500, Loss: 0.4252, Accuracy: 80.06%, Time Elapsed: 19.19 seconds\n",
            "Epoch 69/500, Loss: 0.4163, Accuracy: 79.67%, Time Elapsed: 19.46 seconds\n",
            "Epoch 70/500, Loss: 0.4329, Accuracy: 78.82%, Time Elapsed: 19.74 seconds\n",
            "Epoch 71/500, Loss: 0.4359, Accuracy: 78.90%, Time Elapsed: 20.02 seconds\n",
            "Epoch 72/500, Loss: 0.4184, Accuracy: 79.67%, Time Elapsed: 20.30 seconds\n",
            "Epoch 73/500, Loss: 0.4183, Accuracy: 79.46%, Time Elapsed: 20.58 seconds\n",
            "Epoch 74/500, Loss: 0.4374, Accuracy: 79.25%, Time Elapsed: 20.85 seconds\n",
            "Epoch 75/500, Loss: 0.4303, Accuracy: 78.56%, Time Elapsed: 21.13 seconds\n",
            "Epoch 76/500, Loss: 0.4146, Accuracy: 80.57%, Time Elapsed: 21.41 seconds\n",
            "Epoch 77/500, Loss: 0.4094, Accuracy: 81.05%, Time Elapsed: 21.69 seconds\n",
            "Epoch 78/500, Loss: 0.4120, Accuracy: 80.62%, Time Elapsed: 21.96 seconds\n",
            "Epoch 79/500, Loss: 0.4116, Accuracy: 80.57%, Time Elapsed: 22.24 seconds\n",
            "Epoch 80/500, Loss: 0.4022, Accuracy: 81.26%, Time Elapsed: 22.52 seconds\n",
            "Epoch 81/500, Loss: 0.3962, Accuracy: 80.96%, Time Elapsed: 22.80 seconds\n",
            "Epoch 82/500, Loss: 0.3984, Accuracy: 81.52%, Time Elapsed: 23.08 seconds\n",
            "Epoch 83/500, Loss: 0.4072, Accuracy: 80.83%, Time Elapsed: 23.35 seconds\n",
            "Epoch 84/500, Loss: 0.3958, Accuracy: 80.75%, Time Elapsed: 23.63 seconds\n",
            "Epoch 85/500, Loss: 0.3977, Accuracy: 81.69%, Time Elapsed: 23.91 seconds\n",
            "Epoch 86/500, Loss: 0.3953, Accuracy: 80.75%, Time Elapsed: 24.19 seconds\n",
            "Epoch 87/500, Loss: 0.3966, Accuracy: 81.90%, Time Elapsed: 24.47 seconds\n",
            "Epoch 88/500, Loss: 0.3951, Accuracy: 80.96%, Time Elapsed: 24.75 seconds\n",
            "Epoch 89/500, Loss: 0.3863, Accuracy: 82.12%, Time Elapsed: 25.02 seconds\n",
            "Epoch 90/500, Loss: 0.3792, Accuracy: 81.48%, Time Elapsed: 25.30 seconds\n",
            "Epoch 91/500, Loss: 0.3680, Accuracy: 83.58%, Time Elapsed: 25.58 seconds\n",
            "Epoch 92/500, Loss: 0.3833, Accuracy: 83.32%, Time Elapsed: 25.86 seconds\n",
            "Epoch 93/500, Loss: 0.3913, Accuracy: 81.22%, Time Elapsed: 26.14 seconds\n",
            "Epoch 94/500, Loss: 0.3725, Accuracy: 83.02%, Time Elapsed: 26.41 seconds\n",
            "Epoch 95/500, Loss: 0.3797, Accuracy: 81.52%, Time Elapsed: 26.69 seconds\n",
            "Epoch 96/500, Loss: 0.3853, Accuracy: 81.56%, Time Elapsed: 26.97 seconds\n",
            "Epoch 97/500, Loss: 0.3614, Accuracy: 84.22%, Time Elapsed: 27.25 seconds\n",
            "Epoch 98/500, Loss: 0.3669, Accuracy: 83.83%, Time Elapsed: 27.53 seconds\n",
            "Epoch 99/500, Loss: 0.3611, Accuracy: 84.09%, Time Elapsed: 27.80 seconds\n",
            "Epoch 100/500, Loss: 0.3686, Accuracy: 82.68%, Time Elapsed: 28.08 seconds\n",
            "Epoch 101/500, Loss: 0.3488, Accuracy: 84.26%, Time Elapsed: 28.36 seconds\n",
            "Epoch 102/500, Loss: 0.3814, Accuracy: 83.10%, Time Elapsed: 28.64 seconds\n",
            "Epoch 103/500, Loss: 0.3656, Accuracy: 83.75%, Time Elapsed: 28.91 seconds\n",
            "Epoch 104/500, Loss: 0.3502, Accuracy: 84.39%, Time Elapsed: 29.19 seconds\n",
            "Epoch 105/500, Loss: 0.3625, Accuracy: 83.83%, Time Elapsed: 29.47 seconds\n",
            "Epoch 106/500, Loss: 0.3629, Accuracy: 83.36%, Time Elapsed: 29.75 seconds\n",
            "Epoch 107/500, Loss: 0.3704, Accuracy: 83.19%, Time Elapsed: 30.03 seconds\n",
            "Epoch 108/500, Loss: 0.3681, Accuracy: 83.88%, Time Elapsed: 30.30 seconds\n",
            "Epoch 109/500, Loss: 0.3587, Accuracy: 84.56%, Time Elapsed: 30.58 seconds\n",
            "Epoch 110/500, Loss: 0.3633, Accuracy: 83.96%, Time Elapsed: 30.86 seconds\n",
            "Epoch 111/500, Loss: 0.3612, Accuracy: 83.88%, Time Elapsed: 31.14 seconds\n",
            "Epoch 112/500, Loss: 0.3608, Accuracy: 83.92%, Time Elapsed: 31.42 seconds\n",
            "Epoch 113/500, Loss: 0.3644, Accuracy: 83.49%, Time Elapsed: 31.69 seconds\n",
            "Epoch 114/500, Loss: 0.3528, Accuracy: 84.65%, Time Elapsed: 31.97 seconds\n",
            "Epoch 115/500, Loss: 0.3323, Accuracy: 86.28%, Time Elapsed: 32.25 seconds\n",
            "Epoch 116/500, Loss: 0.3421, Accuracy: 85.08%, Time Elapsed: 32.53 seconds\n",
            "Epoch 117/500, Loss: 0.3467, Accuracy: 84.52%, Time Elapsed: 32.81 seconds\n",
            "Epoch 118/500, Loss: 0.3479, Accuracy: 84.13%, Time Elapsed: 33.08 seconds\n",
            "Epoch 119/500, Loss: 0.3524, Accuracy: 84.52%, Time Elapsed: 33.36 seconds\n",
            "Epoch 120/500, Loss: 0.3575, Accuracy: 83.53%, Time Elapsed: 33.64 seconds\n",
            "Epoch 121/500, Loss: 0.3439, Accuracy: 84.82%, Time Elapsed: 33.92 seconds\n",
            "Epoch 122/500, Loss: 0.3541, Accuracy: 84.48%, Time Elapsed: 34.20 seconds\n",
            "Epoch 123/500, Loss: 0.3420, Accuracy: 84.78%, Time Elapsed: 34.47 seconds\n",
            "Epoch 124/500, Loss: 0.3448, Accuracy: 84.13%, Time Elapsed: 34.75 seconds\n",
            "Epoch 125/500, Loss: 0.3372, Accuracy: 85.55%, Time Elapsed: 35.03 seconds\n",
            "Epoch 126/500, Loss: 0.3132, Accuracy: 86.41%, Time Elapsed: 35.31 seconds\n",
            "Epoch 127/500, Loss: 0.3375, Accuracy: 84.78%, Time Elapsed: 35.59 seconds\n",
            "Epoch 128/500, Loss: 0.3450, Accuracy: 84.13%, Time Elapsed: 35.86 seconds\n",
            "Epoch 129/500, Loss: 0.3322, Accuracy: 85.29%, Time Elapsed: 36.14 seconds\n",
            "Epoch 130/500, Loss: 0.3338, Accuracy: 85.55%, Time Elapsed: 36.42 seconds\n",
            "Epoch 131/500, Loss: 0.3429, Accuracy: 85.25%, Time Elapsed: 36.70 seconds\n",
            "Epoch 132/500, Loss: 0.3418, Accuracy: 85.12%, Time Elapsed: 36.97 seconds\n",
            "Epoch 133/500, Loss: 0.3375, Accuracy: 85.51%, Time Elapsed: 37.25 seconds\n",
            "Epoch 134/500, Loss: 0.3770, Accuracy: 83.66%, Time Elapsed: 37.53 seconds\n",
            "Epoch 135/500, Loss: 0.3356, Accuracy: 85.16%, Time Elapsed: 37.81 seconds\n",
            "Epoch 136/500, Loss: 0.3302, Accuracy: 86.15%, Time Elapsed: 38.09 seconds\n",
            "Epoch 137/500, Loss: 0.3370, Accuracy: 85.33%, Time Elapsed: 38.36 seconds\n",
            "Epoch 138/500, Loss: 0.3291, Accuracy: 85.29%, Time Elapsed: 38.64 seconds\n",
            "Epoch 139/500, Loss: 0.3415, Accuracy: 85.08%, Time Elapsed: 38.92 seconds\n",
            "Epoch 140/500, Loss: 0.3204, Accuracy: 86.23%, Time Elapsed: 39.20 seconds\n",
            "Epoch 141/500, Loss: 0.3194, Accuracy: 86.02%, Time Elapsed: 39.48 seconds\n",
            "Epoch 142/500, Loss: 0.3302, Accuracy: 85.08%, Time Elapsed: 39.75 seconds\n",
            "Epoch 143/500, Loss: 0.3299, Accuracy: 86.19%, Time Elapsed: 40.03 seconds\n",
            "Epoch 144/500, Loss: 0.3375, Accuracy: 85.16%, Time Elapsed: 40.31 seconds\n",
            "Epoch 145/500, Loss: 0.3370, Accuracy: 85.42%, Time Elapsed: 40.59 seconds\n",
            "Epoch 146/500, Loss: 0.3192, Accuracy: 85.68%, Time Elapsed: 40.87 seconds\n",
            "Epoch 147/500, Loss: 0.3343, Accuracy: 85.21%, Time Elapsed: 41.14 seconds\n",
            "Epoch 148/500, Loss: 0.3273, Accuracy: 85.25%, Time Elapsed: 41.42 seconds\n",
            "Epoch 149/500, Loss: 0.3250, Accuracy: 85.93%, Time Elapsed: 41.70 seconds\n",
            "Epoch 150/500, Loss: 0.3152, Accuracy: 85.68%, Time Elapsed: 41.98 seconds\n",
            "Epoch 151/500, Loss: 0.3395, Accuracy: 85.29%, Time Elapsed: 42.26 seconds\n",
            "Epoch 152/500, Loss: 0.3157, Accuracy: 86.02%, Time Elapsed: 42.53 seconds\n",
            "Epoch 153/500, Loss: 0.3216, Accuracy: 86.54%, Time Elapsed: 42.81 seconds\n",
            "Epoch 154/500, Loss: 0.3124, Accuracy: 86.41%, Time Elapsed: 43.09 seconds\n",
            "Epoch 155/500, Loss: 0.3146, Accuracy: 86.49%, Time Elapsed: 43.37 seconds\n",
            "Epoch 156/500, Loss: 0.3164, Accuracy: 85.93%, Time Elapsed: 43.65 seconds\n",
            "Epoch 157/500, Loss: 0.3172, Accuracy: 86.36%, Time Elapsed: 43.92 seconds\n",
            "Epoch 158/500, Loss: 0.3322, Accuracy: 84.39%, Time Elapsed: 44.20 seconds\n",
            "Epoch 159/500, Loss: 0.2969, Accuracy: 87.01%, Time Elapsed: 44.48 seconds\n",
            "Epoch 160/500, Loss: 0.3206, Accuracy: 86.19%, Time Elapsed: 44.76 seconds\n",
            "Epoch 161/500, Loss: 0.3175, Accuracy: 86.88%, Time Elapsed: 45.04 seconds\n",
            "Epoch 162/500, Loss: 0.3115, Accuracy: 86.79%, Time Elapsed: 45.31 seconds\n",
            "Epoch 163/500, Loss: 0.3144, Accuracy: 85.59%, Time Elapsed: 45.59 seconds\n",
            "Epoch 164/500, Loss: 0.3200, Accuracy: 86.32%, Time Elapsed: 45.87 seconds\n",
            "Epoch 165/500, Loss: 0.3259, Accuracy: 85.98%, Time Elapsed: 46.15 seconds\n",
            "Epoch 166/500, Loss: 0.3139, Accuracy: 86.62%, Time Elapsed: 46.43 seconds\n",
            "Epoch 167/500, Loss: 0.3160, Accuracy: 86.41%, Time Elapsed: 46.70 seconds\n",
            "Epoch 168/500, Loss: 0.3163, Accuracy: 86.19%, Time Elapsed: 46.98 seconds\n",
            "Epoch 169/500, Loss: 0.3179, Accuracy: 85.68%, Time Elapsed: 47.26 seconds\n",
            "Epoch 170/500, Loss: 0.3090, Accuracy: 86.66%, Time Elapsed: 47.54 seconds\n",
            "Epoch 171/500, Loss: 0.3081, Accuracy: 86.23%, Time Elapsed: 47.82 seconds\n",
            "Epoch 172/500, Loss: 0.3119, Accuracy: 85.55%, Time Elapsed: 48.09 seconds\n",
            "Epoch 173/500, Loss: 0.3035, Accuracy: 86.19%, Time Elapsed: 48.37 seconds\n",
            "Epoch 174/500, Loss: 0.3051, Accuracy: 86.71%, Time Elapsed: 48.65 seconds\n",
            "Epoch 175/500, Loss: 0.3004, Accuracy: 86.96%, Time Elapsed: 48.93 seconds\n",
            "Epoch 176/500, Loss: 0.3055, Accuracy: 86.62%, Time Elapsed: 49.21 seconds\n",
            "Epoch 177/500, Loss: 0.3110, Accuracy: 87.14%, Time Elapsed: 49.48 seconds\n",
            "Epoch 178/500, Loss: 0.3057, Accuracy: 86.62%, Time Elapsed: 49.76 seconds\n",
            "Epoch 179/500, Loss: 0.2943, Accuracy: 87.69%, Time Elapsed: 50.04 seconds\n",
            "Epoch 180/500, Loss: 0.3085, Accuracy: 86.84%, Time Elapsed: 50.32 seconds\n",
            "Epoch 181/500, Loss: 0.3018, Accuracy: 86.84%, Time Elapsed: 50.60 seconds\n",
            "Epoch 182/500, Loss: 0.3109, Accuracy: 85.89%, Time Elapsed: 50.87 seconds\n",
            "Epoch 183/500, Loss: 0.3044, Accuracy: 86.79%, Time Elapsed: 51.15 seconds\n",
            "Epoch 184/500, Loss: 0.3114, Accuracy: 87.09%, Time Elapsed: 51.43 seconds\n",
            "Epoch 185/500, Loss: 0.2988, Accuracy: 87.26%, Time Elapsed: 51.71 seconds\n",
            "Epoch 186/500, Loss: 0.3042, Accuracy: 86.96%, Time Elapsed: 51.99 seconds\n",
            "Epoch 187/500, Loss: 0.2946, Accuracy: 86.92%, Time Elapsed: 52.26 seconds\n",
            "Epoch 188/500, Loss: 0.3145, Accuracy: 86.28%, Time Elapsed: 52.54 seconds\n",
            "Epoch 189/500, Loss: 0.2897, Accuracy: 87.31%, Time Elapsed: 52.82 seconds\n",
            "Epoch 190/500, Loss: 0.3210, Accuracy: 86.23%, Time Elapsed: 53.10 seconds\n",
            "Epoch 191/500, Loss: 0.3089, Accuracy: 87.01%, Time Elapsed: 53.38 seconds\n",
            "Epoch 192/500, Loss: 0.3037, Accuracy: 86.58%, Time Elapsed: 53.66 seconds\n",
            "Epoch 193/500, Loss: 0.3181, Accuracy: 86.36%, Time Elapsed: 53.93 seconds\n",
            "Epoch 194/500, Loss: 0.2870, Accuracy: 88.25%, Time Elapsed: 54.21 seconds\n",
            "Epoch 195/500, Loss: 0.3052, Accuracy: 87.74%, Time Elapsed: 54.49 seconds\n",
            "Epoch 196/500, Loss: 0.3050, Accuracy: 87.05%, Time Elapsed: 54.77 seconds\n",
            "Epoch 197/500, Loss: 0.2965, Accuracy: 87.78%, Time Elapsed: 55.05 seconds\n",
            "Epoch 198/500, Loss: 0.2950, Accuracy: 87.52%, Time Elapsed: 55.32 seconds\n",
            "Epoch 199/500, Loss: 0.2950, Accuracy: 87.14%, Time Elapsed: 55.60 seconds\n",
            "Epoch 200/500, Loss: 0.2718, Accuracy: 88.21%, Time Elapsed: 55.88 seconds\n",
            "Epoch 201/500, Loss: 0.2925, Accuracy: 87.56%, Time Elapsed: 56.16 seconds\n",
            "Epoch 202/500, Loss: 0.2825, Accuracy: 87.69%, Time Elapsed: 56.44 seconds\n",
            "Epoch 203/500, Loss: 0.2885, Accuracy: 87.52%, Time Elapsed: 56.71 seconds\n",
            "Epoch 204/500, Loss: 0.3016, Accuracy: 87.48%, Time Elapsed: 56.99 seconds\n",
            "Epoch 205/500, Loss: 0.2934, Accuracy: 87.44%, Time Elapsed: 57.27 seconds\n",
            "Epoch 206/500, Loss: 0.2997, Accuracy: 87.05%, Time Elapsed: 57.55 seconds\n",
            "Epoch 207/500, Loss: 0.3007, Accuracy: 86.88%, Time Elapsed: 57.83 seconds\n",
            "Epoch 208/500, Loss: 0.3128, Accuracy: 86.32%, Time Elapsed: 58.11 seconds\n",
            "Epoch 209/500, Loss: 0.2916, Accuracy: 86.84%, Time Elapsed: 58.39 seconds\n",
            "Epoch 210/500, Loss: 0.2926, Accuracy: 87.86%, Time Elapsed: 58.66 seconds\n",
            "Epoch 211/500, Loss: 0.2861, Accuracy: 88.04%, Time Elapsed: 58.94 seconds\n",
            "Epoch 212/500, Loss: 0.2915, Accuracy: 87.31%, Time Elapsed: 59.22 seconds\n",
            "Epoch 213/500, Loss: 0.2831, Accuracy: 88.12%, Time Elapsed: 59.50 seconds\n",
            "Epoch 214/500, Loss: 0.2817, Accuracy: 88.94%, Time Elapsed: 59.78 seconds\n",
            "Epoch 215/500, Loss: 0.2988, Accuracy: 87.14%, Time Elapsed: 60.05 seconds\n",
            "Epoch 216/500, Loss: 0.2758, Accuracy: 88.12%, Time Elapsed: 60.33 seconds\n",
            "Epoch 217/500, Loss: 0.2871, Accuracy: 87.35%, Time Elapsed: 60.61 seconds\n",
            "Epoch 218/500, Loss: 0.2711, Accuracy: 88.25%, Time Elapsed: 60.89 seconds\n",
            "Epoch 219/500, Loss: 0.2938, Accuracy: 87.01%, Time Elapsed: 61.17 seconds\n",
            "Epoch 220/500, Loss: 0.3095, Accuracy: 86.66%, Time Elapsed: 61.44 seconds\n",
            "Epoch 221/500, Loss: 0.2824, Accuracy: 88.12%, Time Elapsed: 61.72 seconds\n",
            "Epoch 222/500, Loss: 0.2969, Accuracy: 87.05%, Time Elapsed: 62.00 seconds\n",
            "Epoch 223/500, Loss: 0.2855, Accuracy: 88.04%, Time Elapsed: 62.28 seconds\n",
            "Epoch 224/500, Loss: 0.2768, Accuracy: 88.16%, Time Elapsed: 62.56 seconds\n",
            "Epoch 225/500, Loss: 0.2937, Accuracy: 87.35%, Time Elapsed: 62.83 seconds\n",
            "Epoch 226/500, Loss: 0.2840, Accuracy: 87.39%, Time Elapsed: 63.11 seconds\n",
            "Epoch 227/500, Loss: 0.2895, Accuracy: 87.91%, Time Elapsed: 63.39 seconds\n",
            "Epoch 228/500, Loss: 0.2857, Accuracy: 88.08%, Time Elapsed: 63.67 seconds\n",
            "Epoch 229/500, Loss: 0.2910, Accuracy: 87.44%, Time Elapsed: 63.95 seconds\n",
            "Epoch 230/500, Loss: 0.2799, Accuracy: 87.74%, Time Elapsed: 64.22 seconds\n",
            "Epoch 231/500, Loss: 0.2947, Accuracy: 87.44%, Time Elapsed: 64.50 seconds\n",
            "Epoch 232/500, Loss: 0.2817, Accuracy: 88.04%, Time Elapsed: 64.78 seconds\n",
            "Epoch 233/500, Loss: 0.2709, Accuracy: 88.34%, Time Elapsed: 65.06 seconds\n",
            "Epoch 234/500, Loss: 0.2754, Accuracy: 88.34%, Time Elapsed: 65.34 seconds\n",
            "Epoch 235/500, Loss: 0.2877, Accuracy: 87.56%, Time Elapsed: 65.61 seconds\n",
            "Epoch 236/500, Loss: 0.2736, Accuracy: 88.59%, Time Elapsed: 65.89 seconds\n",
            "Epoch 237/500, Loss: 0.2898, Accuracy: 87.31%, Time Elapsed: 66.17 seconds\n",
            "Epoch 238/500, Loss: 0.2853, Accuracy: 87.82%, Time Elapsed: 66.45 seconds\n",
            "Epoch 239/500, Loss: 0.2914, Accuracy: 87.48%, Time Elapsed: 66.73 seconds\n",
            "Epoch 240/500, Loss: 0.2843, Accuracy: 87.82%, Time Elapsed: 67.01 seconds\n",
            "Epoch 241/500, Loss: 0.2746, Accuracy: 87.82%, Time Elapsed: 67.28 seconds\n",
            "Epoch 242/500, Loss: 0.2879, Accuracy: 87.69%, Time Elapsed: 67.56 seconds\n",
            "Epoch 243/500, Loss: 0.2941, Accuracy: 87.35%, Time Elapsed: 67.84 seconds\n",
            "Epoch 244/500, Loss: 0.2835, Accuracy: 87.65%, Time Elapsed: 68.12 seconds\n",
            "Epoch 245/500, Loss: 0.2902, Accuracy: 87.82%, Time Elapsed: 68.40 seconds\n",
            "Epoch 246/500, Loss: 0.2908, Accuracy: 87.44%, Time Elapsed: 68.67 seconds\n",
            "Epoch 247/500, Loss: 0.2680, Accuracy: 88.12%, Time Elapsed: 68.95 seconds\n",
            "Epoch 248/500, Loss: 0.2863, Accuracy: 88.25%, Time Elapsed: 69.23 seconds\n",
            "Epoch 249/500, Loss: 0.2954, Accuracy: 88.21%, Time Elapsed: 69.51 seconds\n",
            "Epoch 250/500, Loss: 0.2831, Accuracy: 88.72%, Time Elapsed: 69.79 seconds\n",
            "Epoch 251/500, Loss: 0.2628, Accuracy: 88.72%, Time Elapsed: 70.07 seconds\n",
            "Epoch 252/500, Loss: 0.2815, Accuracy: 87.95%, Time Elapsed: 70.34 seconds\n",
            "Epoch 253/500, Loss: 0.2745, Accuracy: 88.64%, Time Elapsed: 70.62 seconds\n",
            "Epoch 254/500, Loss: 0.2790, Accuracy: 87.99%, Time Elapsed: 70.90 seconds\n",
            "Epoch 255/500, Loss: 0.2828, Accuracy: 87.99%, Time Elapsed: 71.18 seconds\n",
            "Epoch 256/500, Loss: 0.2779, Accuracy: 88.55%, Time Elapsed: 71.46 seconds\n",
            "Epoch 257/500, Loss: 0.2782, Accuracy: 87.95%, Time Elapsed: 71.73 seconds\n",
            "Epoch 258/500, Loss: 0.2657, Accuracy: 88.12%, Time Elapsed: 72.01 seconds\n",
            "Epoch 259/500, Loss: 0.2666, Accuracy: 88.72%, Time Elapsed: 72.29 seconds\n",
            "Epoch 260/500, Loss: 0.2839, Accuracy: 87.31%, Time Elapsed: 72.57 seconds\n",
            "Epoch 261/500, Loss: 0.2769, Accuracy: 88.16%, Time Elapsed: 72.85 seconds\n",
            "Epoch 262/500, Loss: 0.2719, Accuracy: 88.25%, Time Elapsed: 73.12 seconds\n",
            "Epoch 263/500, Loss: 0.2782, Accuracy: 88.29%, Time Elapsed: 73.40 seconds\n",
            "Epoch 264/500, Loss: 0.2955, Accuracy: 87.56%, Time Elapsed: 73.68 seconds\n",
            "Epoch 265/500, Loss: 0.2759, Accuracy: 87.18%, Time Elapsed: 73.96 seconds\n",
            "Epoch 266/500, Loss: 0.2740, Accuracy: 87.82%, Time Elapsed: 74.24 seconds\n",
            "Epoch 267/500, Loss: 0.2769, Accuracy: 87.95%, Time Elapsed: 74.52 seconds\n",
            "Epoch 268/500, Loss: 0.2735, Accuracy: 88.12%, Time Elapsed: 74.79 seconds\n",
            "Epoch 269/500, Loss: 0.2793, Accuracy: 88.59%, Time Elapsed: 75.07 seconds\n",
            "Epoch 270/500, Loss: 0.2647, Accuracy: 88.98%, Time Elapsed: 75.35 seconds\n",
            "Epoch 271/500, Loss: 0.2552, Accuracy: 88.51%, Time Elapsed: 75.63 seconds\n",
            "Epoch 272/500, Loss: 0.2653, Accuracy: 87.99%, Time Elapsed: 75.91 seconds\n",
            "Epoch 273/500, Loss: 0.2643, Accuracy: 89.02%, Time Elapsed: 76.18 seconds\n",
            "Epoch 274/500, Loss: 0.2685, Accuracy: 88.46%, Time Elapsed: 76.46 seconds\n",
            "Epoch 275/500, Loss: 0.2631, Accuracy: 88.98%, Time Elapsed: 76.74 seconds\n",
            "Epoch 276/500, Loss: 0.2596, Accuracy: 89.32%, Time Elapsed: 77.02 seconds\n",
            "Epoch 277/500, Loss: 0.2736, Accuracy: 88.34%, Time Elapsed: 77.30 seconds\n",
            "Epoch 278/500, Loss: 0.2849, Accuracy: 88.08%, Time Elapsed: 77.57 seconds\n",
            "Epoch 279/500, Loss: 0.2632, Accuracy: 89.15%, Time Elapsed: 77.85 seconds\n",
            "Epoch 280/500, Loss: 0.2700, Accuracy: 88.59%, Time Elapsed: 78.13 seconds\n",
            "Epoch 281/500, Loss: 0.2689, Accuracy: 88.29%, Time Elapsed: 78.41 seconds\n",
            "Epoch 282/500, Loss: 0.2720, Accuracy: 88.46%, Time Elapsed: 78.69 seconds\n",
            "Epoch 283/500, Loss: 0.2702, Accuracy: 87.82%, Time Elapsed: 78.96 seconds\n",
            "Epoch 284/500, Loss: 0.2586, Accuracy: 88.81%, Time Elapsed: 79.24 seconds\n",
            "Epoch 285/500, Loss: 0.2675, Accuracy: 89.07%, Time Elapsed: 79.52 seconds\n",
            "Epoch 286/500, Loss: 0.2860, Accuracy: 87.22%, Time Elapsed: 79.80 seconds\n",
            "Epoch 287/500, Loss: 0.2750, Accuracy: 87.74%, Time Elapsed: 80.08 seconds\n",
            "Epoch 288/500, Loss: 0.2725, Accuracy: 88.16%, Time Elapsed: 80.35 seconds\n",
            "Epoch 289/500, Loss: 0.2703, Accuracy: 88.12%, Time Elapsed: 80.63 seconds\n",
            "Epoch 290/500, Loss: 0.2653, Accuracy: 88.46%, Time Elapsed: 80.91 seconds\n",
            "Epoch 291/500, Loss: 0.2714, Accuracy: 88.89%, Time Elapsed: 81.19 seconds\n",
            "Epoch 292/500, Loss: 0.2776, Accuracy: 88.34%, Time Elapsed: 81.47 seconds\n",
            "Epoch 293/500, Loss: 0.2555, Accuracy: 88.59%, Time Elapsed: 81.75 seconds\n",
            "Epoch 294/500, Loss: 0.2724, Accuracy: 88.04%, Time Elapsed: 82.02 seconds\n",
            "Epoch 295/500, Loss: 0.2737, Accuracy: 88.16%, Time Elapsed: 82.30 seconds\n",
            "Epoch 296/500, Loss: 0.2652, Accuracy: 87.95%, Time Elapsed: 82.58 seconds\n",
            "Epoch 297/500, Loss: 0.2527, Accuracy: 89.79%, Time Elapsed: 82.86 seconds\n",
            "Epoch 298/500, Loss: 0.2722, Accuracy: 88.85%, Time Elapsed: 83.13 seconds\n",
            "Epoch 299/500, Loss: 0.2580, Accuracy: 88.38%, Time Elapsed: 83.41 seconds\n",
            "Epoch 300/500, Loss: 0.2593, Accuracy: 88.51%, Time Elapsed: 83.69 seconds\n",
            "Epoch 301/500, Loss: 0.2640, Accuracy: 89.07%, Time Elapsed: 83.97 seconds\n",
            "Epoch 302/500, Loss: 0.2667, Accuracy: 88.94%, Time Elapsed: 84.25 seconds\n",
            "Epoch 303/500, Loss: 0.2632, Accuracy: 88.42%, Time Elapsed: 84.52 seconds\n",
            "Epoch 304/500, Loss: 0.2660, Accuracy: 88.68%, Time Elapsed: 84.80 seconds\n",
            "Epoch 305/500, Loss: 0.2646, Accuracy: 88.55%, Time Elapsed: 85.08 seconds\n",
            "Epoch 306/500, Loss: 0.2705, Accuracy: 89.19%, Time Elapsed: 85.36 seconds\n",
            "Epoch 307/500, Loss: 0.2495, Accuracy: 89.15%, Time Elapsed: 85.63 seconds\n",
            "Epoch 308/500, Loss: 0.2731, Accuracy: 88.29%, Time Elapsed: 85.91 seconds\n",
            "Epoch 309/500, Loss: 0.2734, Accuracy: 88.21%, Time Elapsed: 86.19 seconds\n",
            "Epoch 310/500, Loss: 0.2614, Accuracy: 89.11%, Time Elapsed: 86.47 seconds\n",
            "Epoch 311/500, Loss: 0.2537, Accuracy: 89.58%, Time Elapsed: 86.75 seconds\n",
            "Epoch 312/500, Loss: 0.2649, Accuracy: 89.11%, Time Elapsed: 87.02 seconds\n",
            "Epoch 313/500, Loss: 0.2774, Accuracy: 87.56%, Time Elapsed: 87.30 seconds\n",
            "Epoch 314/500, Loss: 0.2573, Accuracy: 89.32%, Time Elapsed: 87.58 seconds\n",
            "Epoch 315/500, Loss: 0.2591, Accuracy: 89.41%, Time Elapsed: 87.86 seconds\n",
            "Epoch 316/500, Loss: 0.2683, Accuracy: 88.89%, Time Elapsed: 88.13 seconds\n",
            "Epoch 317/500, Loss: 0.2729, Accuracy: 88.55%, Time Elapsed: 88.41 seconds\n",
            "Epoch 318/500, Loss: 0.2650, Accuracy: 88.64%, Time Elapsed: 88.69 seconds\n",
            "Epoch 319/500, Loss: 0.2559, Accuracy: 89.37%, Time Elapsed: 88.97 seconds\n",
            "Epoch 320/500, Loss: 0.2699, Accuracy: 87.14%, Time Elapsed: 89.24 seconds\n",
            "Epoch 321/500, Loss: 0.2541, Accuracy: 89.54%, Time Elapsed: 89.52 seconds\n",
            "Epoch 322/500, Loss: 0.2692, Accuracy: 87.91%, Time Elapsed: 89.80 seconds\n",
            "Epoch 323/500, Loss: 0.2606, Accuracy: 88.81%, Time Elapsed: 90.08 seconds\n",
            "Epoch 324/500, Loss: 0.2591, Accuracy: 88.64%, Time Elapsed: 90.35 seconds\n",
            "Epoch 325/500, Loss: 0.2717, Accuracy: 88.55%, Time Elapsed: 90.63 seconds\n",
            "Epoch 326/500, Loss: 0.2564, Accuracy: 89.49%, Time Elapsed: 90.91 seconds\n",
            "Epoch 327/500, Loss: 0.2825, Accuracy: 88.21%, Time Elapsed: 91.19 seconds\n",
            "Epoch 328/500, Loss: 0.2701, Accuracy: 88.64%, Time Elapsed: 91.47 seconds\n",
            "Epoch 329/500, Loss: 0.2663, Accuracy: 87.95%, Time Elapsed: 91.74 seconds\n",
            "Epoch 330/500, Loss: 0.2623, Accuracy: 88.98%, Time Elapsed: 92.02 seconds\n",
            "Epoch 331/500, Loss: 0.2525, Accuracy: 88.81%, Time Elapsed: 92.30 seconds\n",
            "Epoch 332/500, Loss: 0.2556, Accuracy: 88.81%, Time Elapsed: 92.58 seconds\n",
            "Epoch 333/500, Loss: 0.2580, Accuracy: 88.46%, Time Elapsed: 92.85 seconds\n",
            "Epoch 334/500, Loss: 0.2598, Accuracy: 89.58%, Time Elapsed: 93.13 seconds\n",
            "Epoch 335/500, Loss: 0.2680, Accuracy: 89.75%, Time Elapsed: 93.41 seconds\n",
            "Epoch 336/500, Loss: 0.2588, Accuracy: 89.07%, Time Elapsed: 93.69 seconds\n",
            "Epoch 337/500, Loss: 0.2496, Accuracy: 88.77%, Time Elapsed: 93.97 seconds\n",
            "Epoch 338/500, Loss: 0.2720, Accuracy: 89.24%, Time Elapsed: 94.24 seconds\n",
            "Epoch 339/500, Loss: 0.2511, Accuracy: 88.94%, Time Elapsed: 94.52 seconds\n",
            "Epoch 340/500, Loss: 0.2581, Accuracy: 89.19%, Time Elapsed: 94.80 seconds\n",
            "Epoch 341/500, Loss: 0.2833, Accuracy: 87.61%, Time Elapsed: 95.08 seconds\n",
            "Epoch 342/500, Loss: 0.2839, Accuracy: 87.69%, Time Elapsed: 95.35 seconds\n",
            "Epoch 343/500, Loss: 0.2690, Accuracy: 87.52%, Time Elapsed: 95.63 seconds\n",
            "Epoch 344/500, Loss: 0.2571, Accuracy: 88.77%, Time Elapsed: 95.91 seconds\n",
            "Epoch 345/500, Loss: 0.2536, Accuracy: 89.24%, Time Elapsed: 96.19 seconds\n",
            "Epoch 346/500, Loss: 0.2621, Accuracy: 88.89%, Time Elapsed: 96.46 seconds\n",
            "Epoch 347/500, Loss: 0.2414, Accuracy: 89.11%, Time Elapsed: 96.74 seconds\n",
            "Epoch 348/500, Loss: 0.2376, Accuracy: 89.67%, Time Elapsed: 97.02 seconds\n",
            "Epoch 349/500, Loss: 0.2724, Accuracy: 88.51%, Time Elapsed: 97.30 seconds\n",
            "Epoch 350/500, Loss: 0.2606, Accuracy: 88.77%, Time Elapsed: 97.58 seconds\n",
            "Epoch 351/500, Loss: 0.2472, Accuracy: 89.58%, Time Elapsed: 97.85 seconds\n",
            "Epoch 352/500, Loss: 0.2356, Accuracy: 90.01%, Time Elapsed: 98.13 seconds\n",
            "Epoch 353/500, Loss: 0.2676, Accuracy: 89.41%, Time Elapsed: 98.41 seconds\n",
            "Epoch 354/500, Loss: 0.2599, Accuracy: 88.64%, Time Elapsed: 98.69 seconds\n",
            "Epoch 355/500, Loss: 0.2682, Accuracy: 88.46%, Time Elapsed: 98.96 seconds\n",
            "Epoch 356/500, Loss: 0.2544, Accuracy: 88.89%, Time Elapsed: 99.24 seconds\n",
            "Epoch 357/500, Loss: 0.2507, Accuracy: 89.24%, Time Elapsed: 99.52 seconds\n",
            "Epoch 358/500, Loss: 0.2556, Accuracy: 89.58%, Time Elapsed: 99.80 seconds\n",
            "Epoch 359/500, Loss: 0.2507, Accuracy: 89.79%, Time Elapsed: 100.07 seconds\n",
            "Epoch 360/500, Loss: 0.2482, Accuracy: 88.89%, Time Elapsed: 100.35 seconds\n",
            "Epoch 361/500, Loss: 0.2412, Accuracy: 89.62%, Time Elapsed: 100.63 seconds\n",
            "Epoch 362/500, Loss: 0.2482, Accuracy: 89.71%, Time Elapsed: 100.91 seconds\n",
            "Epoch 363/500, Loss: 0.2445, Accuracy: 89.54%, Time Elapsed: 101.19 seconds\n",
            "Epoch 364/500, Loss: 0.2561, Accuracy: 89.41%, Time Elapsed: 101.46 seconds\n",
            "Epoch 365/500, Loss: 0.2397, Accuracy: 89.71%, Time Elapsed: 101.74 seconds\n",
            "Epoch 366/500, Loss: 0.2417, Accuracy: 89.54%, Time Elapsed: 102.02 seconds\n",
            "Epoch 367/500, Loss: 0.2412, Accuracy: 90.14%, Time Elapsed: 102.30 seconds\n",
            "Epoch 368/500, Loss: 0.2561, Accuracy: 88.59%, Time Elapsed: 102.57 seconds\n",
            "Epoch 369/500, Loss: 0.2420, Accuracy: 89.92%, Time Elapsed: 102.85 seconds\n",
            "Epoch 370/500, Loss: 0.2321, Accuracy: 90.05%, Time Elapsed: 103.13 seconds\n",
            "Epoch 371/500, Loss: 0.2399, Accuracy: 89.88%, Time Elapsed: 103.41 seconds\n",
            "Epoch 372/500, Loss: 0.2378, Accuracy: 89.79%, Time Elapsed: 103.68 seconds\n",
            "Epoch 373/500, Loss: 0.2497, Accuracy: 89.58%, Time Elapsed: 103.96 seconds\n",
            "Epoch 374/500, Loss: 0.2540, Accuracy: 89.45%, Time Elapsed: 104.24 seconds\n",
            "Epoch 375/500, Loss: 0.2497, Accuracy: 89.24%, Time Elapsed: 104.52 seconds\n",
            "Epoch 376/500, Loss: 0.2300, Accuracy: 89.84%, Time Elapsed: 104.80 seconds\n",
            "Epoch 377/500, Loss: 0.2658, Accuracy: 88.94%, Time Elapsed: 105.07 seconds\n",
            "Epoch 378/500, Loss: 0.2372, Accuracy: 89.97%, Time Elapsed: 105.35 seconds\n",
            "Epoch 379/500, Loss: 0.2411, Accuracy: 90.09%, Time Elapsed: 105.63 seconds\n",
            "Epoch 380/500, Loss: 0.2623, Accuracy: 89.07%, Time Elapsed: 105.91 seconds\n",
            "Epoch 381/500, Loss: 0.2555, Accuracy: 89.88%, Time Elapsed: 106.18 seconds\n",
            "Epoch 382/500, Loss: 0.2489, Accuracy: 89.62%, Time Elapsed: 106.46 seconds\n",
            "Epoch 383/500, Loss: 0.2440, Accuracy: 89.97%, Time Elapsed: 106.74 seconds\n",
            "Epoch 384/500, Loss: 0.2730, Accuracy: 88.46%, Time Elapsed: 107.02 seconds\n",
            "Epoch 385/500, Loss: 0.2632, Accuracy: 88.89%, Time Elapsed: 107.30 seconds\n",
            "Epoch 386/500, Loss: 0.2507, Accuracy: 89.02%, Time Elapsed: 107.57 seconds\n",
            "Epoch 387/500, Loss: 0.2478, Accuracy: 90.18%, Time Elapsed: 107.85 seconds\n",
            "Epoch 388/500, Loss: 0.2385, Accuracy: 89.92%, Time Elapsed: 108.13 seconds\n",
            "Epoch 389/500, Loss: 0.2564, Accuracy: 88.59%, Time Elapsed: 108.41 seconds\n",
            "Epoch 390/500, Loss: 0.2468, Accuracy: 89.11%, Time Elapsed: 108.68 seconds\n",
            "Epoch 391/500, Loss: 0.2483, Accuracy: 89.62%, Time Elapsed: 108.96 seconds\n",
            "Epoch 392/500, Loss: 0.2510, Accuracy: 89.11%, Time Elapsed: 109.24 seconds\n",
            "Epoch 393/500, Loss: 0.2496, Accuracy: 90.05%, Time Elapsed: 109.52 seconds\n",
            "Epoch 394/500, Loss: 0.2498, Accuracy: 89.75%, Time Elapsed: 109.79 seconds\n",
            "Epoch 395/500, Loss: 0.2520, Accuracy: 89.37%, Time Elapsed: 110.07 seconds\n",
            "Epoch 396/500, Loss: 0.2475, Accuracy: 89.32%, Time Elapsed: 110.35 seconds\n",
            "Epoch 397/500, Loss: 0.2491, Accuracy: 89.75%, Time Elapsed: 110.63 seconds\n",
            "Epoch 398/500, Loss: 0.2416, Accuracy: 89.67%, Time Elapsed: 110.91 seconds\n",
            "Epoch 399/500, Loss: 0.2594, Accuracy: 88.68%, Time Elapsed: 111.18 seconds\n",
            "Epoch 400/500, Loss: 0.2667, Accuracy: 89.15%, Time Elapsed: 111.46 seconds\n",
            "Epoch 401/500, Loss: 0.2528, Accuracy: 89.32%, Time Elapsed: 111.74 seconds\n",
            "Epoch 402/500, Loss: 0.2329, Accuracy: 90.82%, Time Elapsed: 112.02 seconds\n",
            "Epoch 403/500, Loss: 0.2473, Accuracy: 89.45%, Time Elapsed: 112.29 seconds\n",
            "Epoch 404/500, Loss: 0.2600, Accuracy: 89.41%, Time Elapsed: 112.57 seconds\n",
            "Epoch 405/500, Loss: 0.2450, Accuracy: 89.58%, Time Elapsed: 112.85 seconds\n",
            "Epoch 406/500, Loss: 0.2639, Accuracy: 88.72%, Time Elapsed: 113.13 seconds\n",
            "Epoch 407/500, Loss: 0.2422, Accuracy: 90.14%, Time Elapsed: 113.40 seconds\n",
            "Epoch 408/500, Loss: 0.2590, Accuracy: 89.24%, Time Elapsed: 113.68 seconds\n",
            "Epoch 409/500, Loss: 0.2553, Accuracy: 89.15%, Time Elapsed: 113.96 seconds\n",
            "Epoch 410/500, Loss: 0.2459, Accuracy: 89.67%, Time Elapsed: 114.24 seconds\n",
            "Epoch 411/500, Loss: 0.2780, Accuracy: 88.16%, Time Elapsed: 114.52 seconds\n",
            "Epoch 412/500, Loss: 0.2501, Accuracy: 89.28%, Time Elapsed: 114.79 seconds\n",
            "Epoch 413/500, Loss: 0.2327, Accuracy: 90.82%, Time Elapsed: 115.07 seconds\n",
            "Epoch 414/500, Loss: 0.2450, Accuracy: 89.75%, Time Elapsed: 115.35 seconds\n",
            "Epoch 415/500, Loss: 0.2516, Accuracy: 89.97%, Time Elapsed: 115.63 seconds\n",
            "Epoch 416/500, Loss: 0.2425, Accuracy: 89.71%, Time Elapsed: 115.90 seconds\n",
            "Epoch 417/500, Loss: 0.2456, Accuracy: 89.37%, Time Elapsed: 116.18 seconds\n",
            "Epoch 418/500, Loss: 0.2724, Accuracy: 87.78%, Time Elapsed: 116.46 seconds\n",
            "Epoch 419/500, Loss: 0.2614, Accuracy: 88.68%, Time Elapsed: 116.74 seconds\n",
            "Epoch 420/500, Loss: 0.2518, Accuracy: 89.62%, Time Elapsed: 117.01 seconds\n",
            "Epoch 421/500, Loss: 0.2470, Accuracy: 89.11%, Time Elapsed: 117.29 seconds\n",
            "Epoch 422/500, Loss: 0.2369, Accuracy: 90.09%, Time Elapsed: 117.57 seconds\n",
            "Epoch 423/500, Loss: 0.2604, Accuracy: 89.62%, Time Elapsed: 117.85 seconds\n",
            "Epoch 424/500, Loss: 0.2366, Accuracy: 89.58%, Time Elapsed: 118.13 seconds\n",
            "Epoch 425/500, Loss: 0.2367, Accuracy: 89.67%, Time Elapsed: 118.40 seconds\n",
            "Epoch 426/500, Loss: 0.2498, Accuracy: 89.07%, Time Elapsed: 118.68 seconds\n",
            "Epoch 427/500, Loss: 0.2417, Accuracy: 89.97%, Time Elapsed: 118.96 seconds\n",
            "Epoch 428/500, Loss: 0.2476, Accuracy: 89.24%, Time Elapsed: 119.24 seconds\n",
            "Epoch 429/500, Loss: 0.2455, Accuracy: 89.24%, Time Elapsed: 119.51 seconds\n",
            "Epoch 430/500, Loss: 0.2312, Accuracy: 90.91%, Time Elapsed: 119.79 seconds\n",
            "Epoch 431/500, Loss: 0.2286, Accuracy: 90.31%, Time Elapsed: 120.07 seconds\n",
            "Epoch 432/500, Loss: 0.2254, Accuracy: 90.91%, Time Elapsed: 120.35 seconds\n",
            "Epoch 433/500, Loss: 0.2417, Accuracy: 90.39%, Time Elapsed: 120.62 seconds\n",
            "Epoch 434/500, Loss: 0.2478, Accuracy: 89.97%, Time Elapsed: 120.90 seconds\n",
            "Epoch 435/500, Loss: 0.2506, Accuracy: 89.71%, Time Elapsed: 121.18 seconds\n",
            "Epoch 436/500, Loss: 0.2640, Accuracy: 89.37%, Time Elapsed: 121.46 seconds\n",
            "Epoch 437/500, Loss: 0.2484, Accuracy: 89.54%, Time Elapsed: 121.74 seconds\n",
            "Epoch 438/500, Loss: 0.2872, Accuracy: 88.55%, Time Elapsed: 122.01 seconds\n",
            "Epoch 439/500, Loss: 0.2388, Accuracy: 90.09%, Time Elapsed: 122.29 seconds\n",
            "Epoch 440/500, Loss: 0.2485, Accuracy: 90.27%, Time Elapsed: 122.57 seconds\n",
            "Epoch 441/500, Loss: 0.2232, Accuracy: 90.44%, Time Elapsed: 122.85 seconds\n",
            "Epoch 442/500, Loss: 0.2545, Accuracy: 89.15%, Time Elapsed: 123.12 seconds\n",
            "Epoch 443/500, Loss: 0.2428, Accuracy: 89.11%, Time Elapsed: 123.40 seconds\n",
            "Epoch 444/500, Loss: 0.2490, Accuracy: 89.45%, Time Elapsed: 123.68 seconds\n",
            "Epoch 445/500, Loss: 0.2668, Accuracy: 89.11%, Time Elapsed: 123.96 seconds\n",
            "Epoch 446/500, Loss: 0.2423, Accuracy: 89.88%, Time Elapsed: 124.23 seconds\n",
            "Epoch 447/500, Loss: 0.2277, Accuracy: 90.05%, Time Elapsed: 124.51 seconds\n",
            "Epoch 448/500, Loss: 0.2315, Accuracy: 90.27%, Time Elapsed: 124.79 seconds\n",
            "Epoch 449/500, Loss: 0.2436, Accuracy: 89.71%, Time Elapsed: 125.07 seconds\n",
            "Epoch 450/500, Loss: 0.2500, Accuracy: 89.19%, Time Elapsed: 125.34 seconds\n",
            "Epoch 451/500, Loss: 0.2456, Accuracy: 89.92%, Time Elapsed: 125.62 seconds\n",
            "Epoch 452/500, Loss: 0.2401, Accuracy: 91.04%, Time Elapsed: 125.90 seconds\n",
            "Epoch 453/500, Loss: 0.2296, Accuracy: 90.39%, Time Elapsed: 126.18 seconds\n",
            "Epoch 454/500, Loss: 0.2486, Accuracy: 89.84%, Time Elapsed: 126.46 seconds\n",
            "Epoch 455/500, Loss: 0.2396, Accuracy: 90.65%, Time Elapsed: 126.73 seconds\n",
            "Epoch 456/500, Loss: 0.2319, Accuracy: 90.74%, Time Elapsed: 127.01 seconds\n",
            "Epoch 457/500, Loss: 0.2526, Accuracy: 89.88%, Time Elapsed: 127.29 seconds\n",
            "Epoch 458/500, Loss: 0.2505, Accuracy: 89.71%, Time Elapsed: 127.57 seconds\n",
            "Epoch 459/500, Loss: 0.2580, Accuracy: 88.77%, Time Elapsed: 127.84 seconds\n",
            "Epoch 460/500, Loss: 0.2385, Accuracy: 90.27%, Time Elapsed: 128.12 seconds\n",
            "Epoch 461/500, Loss: 0.2321, Accuracy: 91.04%, Time Elapsed: 128.40 seconds\n",
            "Epoch 462/500, Loss: 0.2395, Accuracy: 89.97%, Time Elapsed: 128.68 seconds\n",
            "Epoch 463/500, Loss: 0.2396, Accuracy: 89.92%, Time Elapsed: 128.95 seconds\n",
            "Epoch 464/500, Loss: 0.2499, Accuracy: 90.09%, Time Elapsed: 129.23 seconds\n",
            "Epoch 465/500, Loss: 0.2253, Accuracy: 90.35%, Time Elapsed: 129.51 seconds\n",
            "Epoch 466/500, Loss: 0.2518, Accuracy: 89.84%, Time Elapsed: 129.79 seconds\n",
            "Epoch 467/500, Loss: 0.2425, Accuracy: 89.15%, Time Elapsed: 130.07 seconds\n",
            "Epoch 468/500, Loss: 0.2355, Accuracy: 90.14%, Time Elapsed: 130.34 seconds\n",
            "Epoch 469/500, Loss: 0.2413, Accuracy: 90.09%, Time Elapsed: 130.62 seconds\n",
            "Epoch 470/500, Loss: 0.2537, Accuracy: 88.81%, Time Elapsed: 130.90 seconds\n",
            "Epoch 471/500, Loss: 0.2310, Accuracy: 90.39%, Time Elapsed: 131.18 seconds\n",
            "Epoch 472/500, Loss: 0.2432, Accuracy: 90.01%, Time Elapsed: 131.45 seconds\n",
            "Epoch 473/500, Loss: 0.2350, Accuracy: 90.18%, Time Elapsed: 131.73 seconds\n",
            "Epoch 474/500, Loss: 0.2493, Accuracy: 89.58%, Time Elapsed: 132.01 seconds\n",
            "Epoch 475/500, Loss: 0.2610, Accuracy: 88.16%, Time Elapsed: 132.29 seconds\n",
            "Epoch 476/500, Loss: 0.2267, Accuracy: 90.18%, Time Elapsed: 132.56 seconds\n",
            "Epoch 477/500, Loss: 0.2450, Accuracy: 89.92%, Time Elapsed: 132.84 seconds\n",
            "Epoch 478/500, Loss: 0.2436, Accuracy: 89.75%, Time Elapsed: 133.12 seconds\n",
            "Epoch 479/500, Loss: 0.2339, Accuracy: 90.27%, Time Elapsed: 133.40 seconds\n",
            "Epoch 480/500, Loss: 0.2550, Accuracy: 89.49%, Time Elapsed: 133.68 seconds\n",
            "Epoch 481/500, Loss: 0.2487, Accuracy: 89.24%, Time Elapsed: 133.95 seconds\n",
            "Epoch 482/500, Loss: 0.2428, Accuracy: 89.75%, Time Elapsed: 134.23 seconds\n",
            "Epoch 483/500, Loss: 0.2417, Accuracy: 90.44%, Time Elapsed: 134.51 seconds\n",
            "Epoch 484/500, Loss: 0.2481, Accuracy: 90.05%, Time Elapsed: 134.79 seconds\n",
            "Epoch 485/500, Loss: 0.2357, Accuracy: 89.84%, Time Elapsed: 135.06 seconds\n",
            "Epoch 486/500, Loss: 0.2256, Accuracy: 90.52%, Time Elapsed: 135.34 seconds\n",
            "Epoch 487/500, Loss: 0.2419, Accuracy: 89.67%, Time Elapsed: 135.62 seconds\n",
            "Epoch 488/500, Loss: 0.2459, Accuracy: 89.97%, Time Elapsed: 135.90 seconds\n",
            "Epoch 489/500, Loss: 0.2326, Accuracy: 90.14%, Time Elapsed: 136.18 seconds\n",
            "Epoch 490/500, Loss: 0.2210, Accuracy: 90.69%, Time Elapsed: 136.45 seconds\n",
            "Epoch 491/500, Loss: 0.2491, Accuracy: 89.02%, Time Elapsed: 136.73 seconds\n",
            "Epoch 492/500, Loss: 0.2513, Accuracy: 89.67%, Time Elapsed: 137.01 seconds\n",
            "Epoch 493/500, Loss: 0.2521, Accuracy: 90.05%, Time Elapsed: 137.29 seconds\n",
            "Epoch 494/500, Loss: 0.2297, Accuracy: 90.44%, Time Elapsed: 137.56 seconds\n",
            "Epoch 495/500, Loss: 0.2340, Accuracy: 90.91%, Time Elapsed: 137.84 seconds\n",
            "Epoch 496/500, Loss: 0.2378, Accuracy: 90.57%, Time Elapsed: 138.12 seconds\n",
            "Epoch 497/500, Loss: 0.2305, Accuracy: 89.75%, Time Elapsed: 138.40 seconds\n",
            "Epoch 498/500, Loss: 0.2272, Accuracy: 90.69%, Time Elapsed: 138.67 seconds\n",
            "Epoch 499/500, Loss: 0.2213, Accuracy: 90.22%, Time Elapsed: 138.95 seconds\n",
            "Epoch 500/500, Loss: 0.2501, Accuracy: 89.75%, Time Elapsed: 139.23 seconds\n",
            "Average Loss: 0.25013889794079763\n",
            "Highest Train Accuracy: 0.910377358490566\n"
          ]
        }
      ],
      "source": [
        "eegnet_model = EEGNetModel().to(device)\n",
        "\n",
        "# Training Hyperparameters\n",
        "EPOCHS = 500\n",
        "BATCH_SIZE = 64\n",
        "LEARNING_RATE = 0.001\n",
        "trainer = TrainModel()\n",
        "trained_eegnet_model = trainer.train_model(eegnet_model, train_dataset, learning_rate=LEARNING_RATE,\n",
        "                                   batch_size=BATCH_SIZE, epochs=EPOCHS)\n",
        "torch.save(trained_eegnet_model.state_dict(), 'eegnet_model.pth')\n"
      ]
    },
    {
      "cell_type": "markdown",
      "metadata": {
        "id": "-3fKnNHxDKwn"
      },
      "source": [
        "## Evaluating Model"
      ]
    },
    {
      "cell_type": "code",
      "execution_count": 66,
      "metadata": {
        "colab": {
          "base_uri": "https://localhost:8080/",
          "height": 695
        },
        "id": "aHsstvZSDLb1",
        "outputId": "62367285-83e7-4ed4-db94-376f791fcfec"
      },
      "outputs": [
        {
          "name": "stdout",
          "output_type": "stream",
          "text": [
            "/------------------------------/\n",
            "Test Accuracy: 89.62%\n",
            "/------------------------------/\n"
          ]
        },
        {
          "data": {
            "image/png": "[encoded data removed]",
            "text/plain": [
              "<Figure size 1000x700 with 2 Axes>"
            ]
          },
          "metadata": {},
          "output_type": "display_data"
        }
      ],
      "source": [
        "classes_list = ['Left', 'Right']#, 'Foot', 'Tongue']\n",
        "eval_model = EvalModel(trained_eegnet_model)\n",
        "test_accuracy = eval_model.test_model(test_dataset)\n",
        "eval_model.plot_confusion_matrix(test_dataset, classes_list)\n"
      ]
    }
  ],
  "metadata": {
    "accelerator": "GPU",
    "colab": {
      "authorship_tag": "ABX9TyOuzENxctn49HNjNmnJOE11",
      "gpuType": "T4",
      "include_colab_link": true,
      "provenance": []
    },
    "kernelspec": {
      "display_name": "Python 3",
      "name": "python3"
    },
    "language_info": {
      "codemirror_mode": {
        "name": "ipython",
        "version": 3
      },
      "file_extension": ".py",
      "mimetype": "text/x-python",
      "name": "python",
      "nbconvert_exporter": "python",
      "pygments_lexer": "ipython3",
      "version": "3.12.2"
    }
  },
  "nbformat": 4,
  "nbformat_minor": 0
}
