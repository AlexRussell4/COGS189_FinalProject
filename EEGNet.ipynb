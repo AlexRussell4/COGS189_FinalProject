{
  "cells": [
    {
      "cell_type": "markdown",
      "metadata": {
        "colab_type": "text",
        "id": "view-in-github"
      },
      "source": [
        "<a href=\"https://colab.research.google.com/github/amrzhd/EEGNet/blob/main/EEGNet.ipynb\" target=\"_parent\"><img src=\"https://colab.research.google.com/assets/colab-badge.svg\" alt=\"Open In Colab\"/></a>"
      ]
    },
    {
      "cell_type": "markdown",
      "metadata": {
        "id": "x_5wKiVyBTzL"
      },
      "source": [
        "# Motor Imagery Task Classification\n"
      ]
    },
    {
      "cell_type": "markdown",
      "metadata": {
        "id": "O-3Lg9veBge0"
      },
      "source": [
        "# Extracting Data"
      ]
    },
    {
      "cell_type": "markdown",
      "metadata": {
        "id": "W4JrI64nBl52"
      },
      "source": [
        "## Downloading BCI Competition IV 2a Dataset"
      ]
    },
    {
      "cell_type": "code",
      "execution_count": 1,
      "metadata": {
        "colab": {
          "base_uri": "https://localhost:8080/"
        },
        "id": "_6jNZi8rBNjN",
        "outputId": "88ac3846-5abc-411f-93f2-f4e96daeed4e"
      },
      "outputs": [
        {
          "name": "stdout",
          "output_type": "stream",
          "text": [
            "--2025-03-16 20:13:13--  https://www.bbci.de/competition/download/competition_iv/BCICIV_2a_gdf.zip\n",
            "Resolving webproxy.ucsd.edu (webproxy.ucsd.edu)... 132.239.1.230, 132.239.1.231\n",
            "Connecting to webproxy.ucsd.edu (webproxy.ucsd.edu)|132.239.1.230|:3128... connected.\n",
            "Proxy request sent, awaiting response... 200 OK\n",
            "Length: 439968864 (420M) [application/zip]\n",
            "Saving to: ‘BCICIV_2a_gdf.zip’\n",
            "\n",
            "BCICIV_2a_gdf.zip   100%[===================>] 419.59M  16.3MB/s    in 27s     \n",
            "\n",
            "2025-03-16 20:13:41 (15.7 MB/s) - ‘BCICIV_2a_gdf.zip’ saved [439968864/439968864]\n",
            "\n"
          ]
        }
      ],
      "source": [
        "!wget https://www.bbci.de/competition/download/competition_iv/BCICIV_2a_gdf.zip"
      ]
    },
    {
      "cell_type": "code",
      "execution_count": 2,
      "metadata": {
        "id": "5DbydQswB27q"
      },
      "outputs": [
        {
          "name": "stdout",
          "output_type": "stream",
          "text": [
            "mkdir: cannot create directory ‘/content’: Permission denied\n"
          ]
        }
      ],
      "source": [
        "!mkdir -p /content/cleaned_data/"
      ]
    },
    {
      "cell_type": "code",
      "execution_count": 10,
      "metadata": {
        "id": "50hgj12yB54U"
      },
      "outputs": [],
      "source": [
        "%%capture\n",
        "!unzip /content/BCICIV_2a_gdf.zip -d raw_data"
      ]
    },
    {
      "cell_type": "markdown",
      "metadata": {
        "id": "Y_mkff9aB-9w"
      },
      "source": [
        "# Installing Packages"
      ]
    },
    {
      "cell_type": "code",
      "execution_count": 4,
      "metadata": {
        "id": "mqHVmwYyCBsB"
      },
      "outputs": [],
      "source": [
        "%%capture\n",
        "!pip install mne"
      ]
    },
    {
      "cell_type": "code",
      "execution_count": 5,
      "metadata": {
        "id": "ueJFbf8KCCPw"
      },
      "outputs": [],
      "source": [
        "%%capture\n",
        "!pip install torch-summary"
      ]
    },
    {
      "cell_type": "markdown",
      "metadata": {
        "id": "crxgIV9ICD2T"
      },
      "source": [
        "# Libraries Used"
      ]
    },
    {
      "cell_type": "code",
      "execution_count": 2,
      "metadata": {
        "id": "CEp96MytCGei"
      },
      "outputs": [],
      "source": [
        "import os\n",
        "import mne\n",
        "import math\n",
        "import copy\n",
        "import gdown\n",
        "import random\n",
        "import scipy.io\n",
        "import numpy as np\n",
        "import pandas as pd\n",
        "import seaborn as sn\n",
        "import matplotlib.pyplot as plt\n",
        "\n",
        "# Torch\n",
        "import torch\n",
        "import torch.nn as nn\n",
        "import torch.optim as optim\n",
        "import torch.nn.functional as F\n",
        "from torchsummary import summary\n",
        "from torch.autograd import Variable\n",
        "from torch.utils.data import DataLoader, TensorDataset, random_split\n",
        "\n",
        "# Scikit-Learn\n",
        "from sklearn.feature_selection import mutual_info_classif\n",
        "from sklearn.metrics import confusion_matrix, accuracy_score\n",
        "from sklearn.model_selection import train_test_split"
      ]
    },
    {
      "cell_type": "markdown",
      "metadata": {
        "id": "nn8IHP2_CQbH"
      },
      "source": [
        "# Building Dataset"
      ]
    },
    {
      "cell_type": "code",
      "execution_count": 2,
      "metadata": {
        "id": "JFtUH89-G48b"
      },
      "outputs": [
        {
          "name": "stdout",
          "output_type": "stream",
          "text": [
            "mkdir: cannot create directory ‘/content’: Permission denied\n",
            "mkdir: cannot create directory ‘/content’: Permission denied\n"
          ]
        }
      ],
      "source": [
        "!mkdir -p /content/cleaned_data/first_session\n",
        "!mkdir -p /content/cleaned_data/second_session"
      ]
    },
    {
      "cell_type": "markdown",
      "metadata": {
        "id": "f6Bmm_acGc4g"
      },
      "source": [
        "## First Session"
      ]
    },
    {
      "cell_type": "code",
      "execution_count": 107,
      "metadata": {},
      "outputs": [
        {
          "name": "stdout",
          "output_type": "stream",
          "text": [
            "Extracting EDF parameters from /mnt/cogsci/home/ybo/189/content/raw_data/A03T.gdf...\n",
            "GDF file detected\n",
            "Setting channel info structure...\n",
            "Could not determine channel type of the following channels, they will be set as EEG:\n",
            "EEG-Fz, EEG, EEG, EEG, EEG, EEG, EEG, EEG-C3, EEG, EEG-Cz, EEG, EEG-C4, EEG, EEG, EEG, EEG, EEG, EEG, EEG, EEG-Pz, EEG, EEG\n",
            "Creating raw.info structure...\n",
            "Reading 0 ... 660529  =      0.000 ...  2642.116 secs...\n"
          ]
        },
        {
          "name": "stderr",
          "output_type": "stream",
          "text": [
            "/home/ybo/miniconda3/envs/myenv/lib/python3.12/contextlib.py:144: RuntimeWarning: Channel names are not unique, found duplicates for: {'EEG'}. Applying running numbers for duplicates.\n",
            "  next(self.gen)\n"
          ]
        },
        {
          "name": "stdout",
          "output_type": "stream",
          "text": [
            "Filtering raw data in 1 contiguous segment\n",
            "Setting up band-pass filter from 4 - 40 Hz\n",
            "\n",
            "IIR filter parameters\n",
            "---------------------\n",
            "Butterworth bandpass zero-phase (two-pass forward and reverse) non-causal filter:\n",
            "- Filter order 16 (effective, after forward-backward)\n",
            "- Cutoffs at 4.00, 40.00 Hz: -6.02, -6.02 dB\n",
            "\n",
            "Filtering raw data in 1 contiguous segment\n",
            "Setting up band-stop filter from 49 - 51 Hz\n",
            "\n",
            "FIR filter parameters\n",
            "---------------------\n",
            "Designing a one-pass, zero-phase, non-causal bandstop filter:\n",
            "- Windowed time-domain design (firwin) method\n",
            "- Hamming window with 0.0194 passband ripple and 53 dB stopband attenuation\n",
            "- Lower passband edge: 49.38\n",
            "- Lower transition bandwidth: 0.50 Hz (-6 dB cutoff frequency: 49.12 Hz)\n",
            "- Upper passband edge: 50.62 Hz\n",
            "- Upper transition bandwidth: 0.50 Hz (-6 dB cutoff frequency: 50.88 Hz)\n",
            "- Filter length: 1651 samples (6.604 s)\n",
            "\n",
            "Writing /mnt/cogsci/home/ybo/189/content/cleaned_data/first_session/A03T.fif\n"
          ]
        },
        {
          "name": "stderr",
          "output_type": "stream",
          "text": [
            "[Parallel(n_jobs=1)]: Done  17 tasks      | elapsed:    0.1s\n",
            "/tmp/ipykernel_2845688/1506553248.py:29: RuntimeWarning: This filename (/mnt/cogsci/home/ybo/189/content/cleaned_data/first_session/A03T.fif) does not conform to MNE naming conventions. All raw files should end with raw.fif, raw_sss.fif, raw_tsss.fif, _meg.fif, _eeg.fif, _ieeg.fif, raw.fif.gz, raw_sss.fif.gz, raw_tsss.fif.gz, _meg.fif.gz, _eeg.fif.gz or _ieeg.fif.gz\n",
            "  raw.save(new_file_path, overwrite=True)\n"
          ]
        },
        {
          "name": "stdout",
          "output_type": "stream",
          "text": [
            "Closing /mnt/cogsci/home/ybo/189/content/cleaned_data/first_session/A03T.fif\n",
            "[done]\n",
            "Extracting EDF parameters from /mnt/cogsci/home/ybo/189/content/raw_data/A07T.gdf...\n",
            "GDF file detected\n",
            "Setting channel info structure...\n",
            "Could not determine channel type of the following channels, they will be set as EEG:\n",
            "EEG-Fz, EEG, EEG, EEG, EEG, EEG, EEG, EEG-C3, EEG, EEG-Cz, EEG, EEG-C4, EEG, EEG, EEG, EEG, EEG, EEG, EEG, EEG-Pz, EEG, EEG\n",
            "Creating raw.info structure...\n",
            "Reading 0 ... 681070  =      0.000 ...  2724.280 secs...\n"
          ]
        },
        {
          "name": "stderr",
          "output_type": "stream",
          "text": [
            "/home/ybo/miniconda3/envs/myenv/lib/python3.12/contextlib.py:144: RuntimeWarning: Channel names are not unique, found duplicates for: {'EEG'}. Applying running numbers for duplicates.\n",
            "  next(self.gen)\n"
          ]
        },
        {
          "name": "stdout",
          "output_type": "stream",
          "text": [
            "Filtering raw data in 1 contiguous segment\n",
            "Setting up band-pass filter from 4 - 40 Hz\n",
            "\n",
            "IIR filter parameters\n",
            "---------------------\n",
            "Butterworth bandpass zero-phase (two-pass forward and reverse) non-causal filter:\n",
            "- Filter order 16 (effective, after forward-backward)\n",
            "- Cutoffs at 4.00, 40.00 Hz: -6.02, -6.02 dB\n",
            "\n",
            "Filtering raw data in 1 contiguous segment\n",
            "Setting up band-stop filter from 49 - 51 Hz\n",
            "\n",
            "FIR filter parameters\n",
            "---------------------\n",
            "Designing a one-pass, zero-phase, non-causal bandstop filter:\n",
            "- Windowed time-domain design (firwin) method\n",
            "- Hamming window with 0.0194 passband ripple and 53 dB stopband attenuation\n",
            "- Lower passband edge: 49.38\n",
            "- Lower transition bandwidth: 0.50 Hz (-6 dB cutoff frequency: 49.12 Hz)\n",
            "- Upper passband edge: 50.62 Hz\n",
            "- Upper transition bandwidth: 0.50 Hz (-6 dB cutoff frequency: 50.88 Hz)\n",
            "- Filter length: 1651 samples (6.604 s)\n",
            "\n",
            "Writing /mnt/cogsci/home/ybo/189/content/cleaned_data/first_session/A07T.fif\n"
          ]
        },
        {
          "name": "stderr",
          "output_type": "stream",
          "text": [
            "[Parallel(n_jobs=1)]: Done  17 tasks      | elapsed:    0.2s\n",
            "/tmp/ipykernel_2845688/1506553248.py:29: RuntimeWarning: This filename (/mnt/cogsci/home/ybo/189/content/cleaned_data/first_session/A07T.fif) does not conform to MNE naming conventions. All raw files should end with raw.fif, raw_sss.fif, raw_tsss.fif, _meg.fif, _eeg.fif, _ieeg.fif, raw.fif.gz, raw_sss.fif.gz, raw_tsss.fif.gz, _meg.fif.gz, _eeg.fif.gz or _ieeg.fif.gz\n",
            "  raw.save(new_file_path, overwrite=True)\n"
          ]
        },
        {
          "name": "stdout",
          "output_type": "stream",
          "text": [
            "Closing /mnt/cogsci/home/ybo/189/content/cleaned_data/first_session/A07T.fif\n",
            "[done]\n",
            "Extracting EDF parameters from /mnt/cogsci/home/ybo/189/content/raw_data/A02T.gdf...\n",
            "GDF file detected\n",
            "Setting channel info structure...\n",
            "Could not determine channel type of the following channels, they will be set as EEG:\n",
            "EEG-Fz, EEG, EEG, EEG, EEG, EEG, EEG, EEG-C3, EEG, EEG-Cz, EEG, EEG-C4, EEG, EEG, EEG, EEG, EEG, EEG, EEG, EEG-Pz, EEG, EEG\n",
            "Creating raw.info structure...\n",
            "Reading 0 ... 677168  =      0.000 ...  2708.672 secs...\n"
          ]
        },
        {
          "name": "stderr",
          "output_type": "stream",
          "text": [
            "/home/ybo/miniconda3/envs/myenv/lib/python3.12/contextlib.py:144: RuntimeWarning: Channel names are not unique, found duplicates for: {'EEG'}. Applying running numbers for duplicates.\n",
            "  next(self.gen)\n"
          ]
        },
        {
          "name": "stdout",
          "output_type": "stream",
          "text": [
            "Filtering raw data in 1 contiguous segment\n",
            "Setting up band-pass filter from 4 - 40 Hz\n",
            "\n",
            "IIR filter parameters\n",
            "---------------------\n",
            "Butterworth bandpass zero-phase (two-pass forward and reverse) non-causal filter:\n",
            "- Filter order 16 (effective, after forward-backward)\n",
            "- Cutoffs at 4.00, 40.00 Hz: -6.02, -6.02 dB\n",
            "\n",
            "Filtering raw data in 1 contiguous segment\n",
            "Setting up band-stop filter from 49 - 51 Hz\n",
            "\n",
            "FIR filter parameters\n",
            "---------------------\n",
            "Designing a one-pass, zero-phase, non-causal bandstop filter:\n",
            "- Windowed time-domain design (firwin) method\n",
            "- Hamming window with 0.0194 passband ripple and 53 dB stopband attenuation\n",
            "- Lower passband edge: 49.38\n",
            "- Lower transition bandwidth: 0.50 Hz (-6 dB cutoff frequency: 49.12 Hz)\n",
            "- Upper passband edge: 50.62 Hz\n",
            "- Upper transition bandwidth: 0.50 Hz (-6 dB cutoff frequency: 50.88 Hz)\n",
            "- Filter length: 1651 samples (6.604 s)\n",
            "\n",
            "Writing /mnt/cogsci/home/ybo/189/content/cleaned_data/first_session/A02T.fif\n"
          ]
        },
        {
          "name": "stderr",
          "output_type": "stream",
          "text": [
            "[Parallel(n_jobs=1)]: Done  17 tasks      | elapsed:    0.2s\n",
            "/tmp/ipykernel_2845688/1506553248.py:29: RuntimeWarning: This filename (/mnt/cogsci/home/ybo/189/content/cleaned_data/first_session/A02T.fif) does not conform to MNE naming conventions. All raw files should end with raw.fif, raw_sss.fif, raw_tsss.fif, _meg.fif, _eeg.fif, _ieeg.fif, raw.fif.gz, raw_sss.fif.gz, raw_tsss.fif.gz, _meg.fif.gz, _eeg.fif.gz or _ieeg.fif.gz\n",
            "  raw.save(new_file_path, overwrite=True)\n"
          ]
        },
        {
          "name": "stdout",
          "output_type": "stream",
          "text": [
            "Closing /mnt/cogsci/home/ybo/189/content/cleaned_data/first_session/A02T.fif\n",
            "[done]\n",
            "Extracting EDF parameters from /mnt/cogsci/home/ybo/189/content/raw_data/A06T.gdf...\n",
            "GDF file detected\n",
            "Setting channel info structure...\n",
            "Could not determine channel type of the following channels, they will be set as EEG:\n",
            "EEG-Fz, EEG, EEG, EEG, EEG, EEG, EEG, EEG-C3, EEG, EEG-Cz, EEG, EEG-C4, EEG, EEG, EEG, EEG, EEG, EEG, EEG, EEG-Pz, EEG, EEG\n",
            "Creating raw.info structure...\n",
            "Reading 0 ... 678979  =      0.000 ...  2715.916 secs...\n"
          ]
        },
        {
          "name": "stderr",
          "output_type": "stream",
          "text": [
            "/home/ybo/miniconda3/envs/myenv/lib/python3.12/contextlib.py:144: RuntimeWarning: Channel names are not unique, found duplicates for: {'EEG'}. Applying running numbers for duplicates.\n",
            "  next(self.gen)\n"
          ]
        },
        {
          "name": "stdout",
          "output_type": "stream",
          "text": [
            "Filtering raw data in 1 contiguous segment\n",
            "Setting up band-pass filter from 4 - 40 Hz\n",
            "\n",
            "IIR filter parameters\n",
            "---------------------\n",
            "Butterworth bandpass zero-phase (two-pass forward and reverse) non-causal filter:\n",
            "- Filter order 16 (effective, after forward-backward)\n",
            "- Cutoffs at 4.00, 40.00 Hz: -6.02, -6.02 dB\n",
            "\n",
            "Filtering raw data in 1 contiguous segment\n",
            "Setting up band-stop filter from 49 - 51 Hz\n",
            "\n",
            "FIR filter parameters\n",
            "---------------------\n",
            "Designing a one-pass, zero-phase, non-causal bandstop filter:\n",
            "- Windowed time-domain design (firwin) method\n",
            "- Hamming window with 0.0194 passband ripple and 53 dB stopband attenuation\n",
            "- Lower passband edge: 49.38\n",
            "- Lower transition bandwidth: 0.50 Hz (-6 dB cutoff frequency: 49.12 Hz)\n",
            "- Upper passband edge: 50.62 Hz\n",
            "- Upper transition bandwidth: 0.50 Hz (-6 dB cutoff frequency: 50.88 Hz)\n",
            "- Filter length: 1651 samples (6.604 s)\n",
            "\n",
            "Writing /mnt/cogsci/home/ybo/189/content/cleaned_data/first_session/A06T.fif\n"
          ]
        },
        {
          "name": "stderr",
          "output_type": "stream",
          "text": [
            "[Parallel(n_jobs=1)]: Done  17 tasks      | elapsed:    0.2s\n",
            "/tmp/ipykernel_2845688/1506553248.py:29: RuntimeWarning: This filename (/mnt/cogsci/home/ybo/189/content/cleaned_data/first_session/A06T.fif) does not conform to MNE naming conventions. All raw files should end with raw.fif, raw_sss.fif, raw_tsss.fif, _meg.fif, _eeg.fif, _ieeg.fif, raw.fif.gz, raw_sss.fif.gz, raw_tsss.fif.gz, _meg.fif.gz, _eeg.fif.gz or _ieeg.fif.gz\n",
            "  raw.save(new_file_path, overwrite=True)\n"
          ]
        },
        {
          "name": "stdout",
          "output_type": "stream",
          "text": [
            "Closing /mnt/cogsci/home/ybo/189/content/cleaned_data/first_session/A06T.fif\n",
            "[done]\n",
            "Extracting EDF parameters from /mnt/cogsci/home/ybo/189/content/raw_data/A08T.gdf...\n",
            "GDF file detected\n",
            "Setting channel info structure...\n",
            "Could not determine channel type of the following channels, they will be set as EEG:\n",
            "EEG-Fz, EEG, EEG, EEG, EEG, EEG, EEG, EEG-C3, EEG, EEG-Cz, EEG, EEG-C4, EEG, EEG, EEG, EEG, EEG, EEG, EEG, EEG-Pz, EEG, EEG\n",
            "Creating raw.info structure...\n",
            "Reading 0 ... 675269  =      0.000 ...  2701.076 secs...\n"
          ]
        },
        {
          "name": "stderr",
          "output_type": "stream",
          "text": [
            "/home/ybo/miniconda3/envs/myenv/lib/python3.12/contextlib.py:144: RuntimeWarning: Channel names are not unique, found duplicates for: {'EEG'}. Applying running numbers for duplicates.\n",
            "  next(self.gen)\n"
          ]
        },
        {
          "name": "stdout",
          "output_type": "stream",
          "text": [
            "Filtering raw data in 1 contiguous segment\n",
            "Setting up band-pass filter from 4 - 40 Hz\n",
            "\n",
            "IIR filter parameters\n",
            "---------------------\n",
            "Butterworth bandpass zero-phase (two-pass forward and reverse) non-causal filter:\n",
            "- Filter order 16 (effective, after forward-backward)\n",
            "- Cutoffs at 4.00, 40.00 Hz: -6.02, -6.02 dB\n",
            "\n",
            "Filtering raw data in 1 contiguous segment\n",
            "Setting up band-stop filter from 49 - 51 Hz\n",
            "\n",
            "FIR filter parameters\n",
            "---------------------\n",
            "Designing a one-pass, zero-phase, non-causal bandstop filter:\n",
            "- Windowed time-domain design (firwin) method\n",
            "- Hamming window with 0.0194 passband ripple and 53 dB stopband attenuation\n",
            "- Lower passband edge: 49.38\n",
            "- Lower transition bandwidth: 0.50 Hz (-6 dB cutoff frequency: 49.12 Hz)\n",
            "- Upper passband edge: 50.62 Hz\n",
            "- Upper transition bandwidth: 0.50 Hz (-6 dB cutoff frequency: 50.88 Hz)\n",
            "- Filter length: 1651 samples (6.604 s)\n",
            "\n",
            "Writing /mnt/cogsci/home/ybo/189/content/cleaned_data/first_session/A08T.fif\n"
          ]
        },
        {
          "name": "stderr",
          "output_type": "stream",
          "text": [
            "[Parallel(n_jobs=1)]: Done  17 tasks      | elapsed:    0.2s\n",
            "/tmp/ipykernel_2845688/1506553248.py:29: RuntimeWarning: This filename (/mnt/cogsci/home/ybo/189/content/cleaned_data/first_session/A08T.fif) does not conform to MNE naming conventions. All raw files should end with raw.fif, raw_sss.fif, raw_tsss.fif, _meg.fif, _eeg.fif, _ieeg.fif, raw.fif.gz, raw_sss.fif.gz, raw_tsss.fif.gz, _meg.fif.gz, _eeg.fif.gz or _ieeg.fif.gz\n",
            "  raw.save(new_file_path, overwrite=True)\n"
          ]
        },
        {
          "name": "stdout",
          "output_type": "stream",
          "text": [
            "Closing /mnt/cogsci/home/ybo/189/content/cleaned_data/first_session/A08T.fif\n",
            "[done]\n",
            "Extracting EDF parameters from /mnt/cogsci/home/ybo/189/content/raw_data/A04T.gdf...\n",
            "GDF file detected\n",
            "Setting channel info structure...\n",
            "Could not determine channel type of the following channels, they will be set as EEG:\n",
            "EEG-Fz, EEG, EEG, EEG, EEG, EEG, EEG, EEG-C3, EEG, EEG-Cz, EEG, EEG-C4, EEG, EEG, EEG, EEG, EEG, EEG, EEG, EEG-Pz, EEG, EEG\n",
            "Creating raw.info structure...\n",
            "Reading 0 ... 600914  =      0.000 ...  2403.656 secs...\n"
          ]
        },
        {
          "name": "stderr",
          "output_type": "stream",
          "text": [
            "/home/ybo/miniconda3/envs/myenv/lib/python3.12/contextlib.py:144: RuntimeWarning: Channel names are not unique, found duplicates for: {'EEG'}. Applying running numbers for duplicates.\n",
            "  next(self.gen)\n"
          ]
        },
        {
          "name": "stdout",
          "output_type": "stream",
          "text": [
            "Filtering raw data in 1 contiguous segment\n",
            "Setting up band-pass filter from 4 - 40 Hz\n",
            "\n",
            "IIR filter parameters\n",
            "---------------------\n",
            "Butterworth bandpass zero-phase (two-pass forward and reverse) non-causal filter:\n",
            "- Filter order 16 (effective, after forward-backward)\n",
            "- Cutoffs at 4.00, 40.00 Hz: -6.02, -6.02 dB\n",
            "\n",
            "Filtering raw data in 1 contiguous segment\n",
            "Setting up band-stop filter from 49 - 51 Hz\n",
            "\n",
            "FIR filter parameters\n",
            "---------------------\n",
            "Designing a one-pass, zero-phase, non-causal bandstop filter:\n",
            "- Windowed time-domain design (firwin) method\n",
            "- Hamming window with 0.0194 passband ripple and 53 dB stopband attenuation\n",
            "- Lower passband edge: 49.38\n",
            "- Lower transition bandwidth: 0.50 Hz (-6 dB cutoff frequency: 49.12 Hz)\n",
            "- Upper passband edge: 50.62 Hz\n",
            "- Upper transition bandwidth: 0.50 Hz (-6 dB cutoff frequency: 50.88 Hz)\n",
            "- Filter length: 1651 samples (6.604 s)\n",
            "\n",
            "Writing /mnt/cogsci/home/ybo/189/content/cleaned_data/first_session/A04T.fif\n"
          ]
        },
        {
          "name": "stderr",
          "output_type": "stream",
          "text": [
            "[Parallel(n_jobs=1)]: Done  17 tasks      | elapsed:    0.1s\n",
            "/tmp/ipykernel_2845688/1506553248.py:29: RuntimeWarning: This filename (/mnt/cogsci/home/ybo/189/content/cleaned_data/first_session/A04T.fif) does not conform to MNE naming conventions. All raw files should end with raw.fif, raw_sss.fif, raw_tsss.fif, _meg.fif, _eeg.fif, _ieeg.fif, raw.fif.gz, raw_sss.fif.gz, raw_tsss.fif.gz, _meg.fif.gz, _eeg.fif.gz or _ieeg.fif.gz\n",
            "  raw.save(new_file_path, overwrite=True)\n"
          ]
        },
        {
          "name": "stdout",
          "output_type": "stream",
          "text": [
            "Closing /mnt/cogsci/home/ybo/189/content/cleaned_data/first_session/A04T.fif\n",
            "[done]\n",
            "Extracting EDF parameters from /mnt/cogsci/home/ybo/189/content/raw_data/A01T.gdf...\n",
            "GDF file detected\n",
            "Setting channel info structure...\n",
            "Could not determine channel type of the following channels, they will be set as EEG:\n",
            "EEG-Fz, EEG, EEG, EEG, EEG, EEG, EEG, EEG-C3, EEG, EEG-Cz, EEG, EEG-C4, EEG, EEG, EEG, EEG, EEG, EEG, EEG, EEG-Pz, EEG, EEG\n",
            "Creating raw.info structure...\n",
            "Reading 0 ... 672527  =      0.000 ...  2690.108 secs...\n"
          ]
        },
        {
          "name": "stderr",
          "output_type": "stream",
          "text": [
            "/home/ybo/miniconda3/envs/myenv/lib/python3.12/contextlib.py:144: RuntimeWarning: Channel names are not unique, found duplicates for: {'EEG'}. Applying running numbers for duplicates.\n",
            "  next(self.gen)\n"
          ]
        },
        {
          "name": "stdout",
          "output_type": "stream",
          "text": [
            "Filtering raw data in 1 contiguous segment\n",
            "Setting up band-pass filter from 4 - 40 Hz\n",
            "\n",
            "IIR filter parameters\n",
            "---------------------\n",
            "Butterworth bandpass zero-phase (two-pass forward and reverse) non-causal filter:\n",
            "- Filter order 16 (effective, after forward-backward)\n",
            "- Cutoffs at 4.00, 40.00 Hz: -6.02, -6.02 dB\n",
            "\n",
            "Filtering raw data in 1 contiguous segment\n",
            "Setting up band-stop filter from 49 - 51 Hz\n",
            "\n",
            "FIR filter parameters\n",
            "---------------------\n",
            "Designing a one-pass, zero-phase, non-causal bandstop filter:\n",
            "- Windowed time-domain design (firwin) method\n",
            "- Hamming window with 0.0194 passband ripple and 53 dB stopband attenuation\n",
            "- Lower passband edge: 49.38\n",
            "- Lower transition bandwidth: 0.50 Hz (-6 dB cutoff frequency: 49.12 Hz)\n",
            "- Upper passband edge: 50.62 Hz\n",
            "- Upper transition bandwidth: 0.50 Hz (-6 dB cutoff frequency: 50.88 Hz)\n",
            "- Filter length: 1651 samples (6.604 s)\n",
            "\n",
            "Writing /mnt/cogsci/home/ybo/189/content/cleaned_data/first_session/A01T.fif\n"
          ]
        },
        {
          "name": "stderr",
          "output_type": "stream",
          "text": [
            "[Parallel(n_jobs=1)]: Done  17 tasks      | elapsed:    0.1s\n",
            "/tmp/ipykernel_2845688/1506553248.py:29: RuntimeWarning: This filename (/mnt/cogsci/home/ybo/189/content/cleaned_data/first_session/A01T.fif) does not conform to MNE naming conventions. All raw files should end with raw.fif, raw_sss.fif, raw_tsss.fif, _meg.fif, _eeg.fif, _ieeg.fif, raw.fif.gz, raw_sss.fif.gz, raw_tsss.fif.gz, _meg.fif.gz, _eeg.fif.gz or _ieeg.fif.gz\n",
            "  raw.save(new_file_path, overwrite=True)\n"
          ]
        },
        {
          "name": "stdout",
          "output_type": "stream",
          "text": [
            "Closing /mnt/cogsci/home/ybo/189/content/cleaned_data/first_session/A01T.fif\n",
            "[done]\n",
            "Extracting EDF parameters from /mnt/cogsci/home/ybo/189/content/raw_data/A05T.gdf...\n",
            "GDF file detected\n",
            "Setting channel info structure...\n",
            "Could not determine channel type of the following channels, they will be set as EEG:\n",
            "EEG-Fz, EEG, EEG, EEG, EEG, EEG, EEG, EEG-C3, EEG, EEG-Cz, EEG, EEG-C4, EEG, EEG, EEG, EEG, EEG, EEG, EEG, EEG-Pz, EEG, EEG\n",
            "Creating raw.info structure...\n",
            "Reading 0 ... 686119  =      0.000 ...  2744.476 secs...\n"
          ]
        },
        {
          "name": "stderr",
          "output_type": "stream",
          "text": [
            "/home/ybo/miniconda3/envs/myenv/lib/python3.12/contextlib.py:144: RuntimeWarning: Channel names are not unique, found duplicates for: {'EEG'}. Applying running numbers for duplicates.\n",
            "  next(self.gen)\n"
          ]
        },
        {
          "name": "stdout",
          "output_type": "stream",
          "text": [
            "Filtering raw data in 1 contiguous segment\n",
            "Setting up band-pass filter from 4 - 40 Hz\n",
            "\n",
            "IIR filter parameters\n",
            "---------------------\n",
            "Butterworth bandpass zero-phase (two-pass forward and reverse) non-causal filter:\n",
            "- Filter order 16 (effective, after forward-backward)\n",
            "- Cutoffs at 4.00, 40.00 Hz: -6.02, -6.02 dB\n",
            "\n",
            "Filtering raw data in 1 contiguous segment\n",
            "Setting up band-stop filter from 49 - 51 Hz\n",
            "\n",
            "FIR filter parameters\n",
            "---------------------\n",
            "Designing a one-pass, zero-phase, non-causal bandstop filter:\n",
            "- Windowed time-domain design (firwin) method\n",
            "- Hamming window with 0.0194 passband ripple and 53 dB stopband attenuation\n",
            "- Lower passband edge: 49.38\n",
            "- Lower transition bandwidth: 0.50 Hz (-6 dB cutoff frequency: 49.12 Hz)\n",
            "- Upper passband edge: 50.62 Hz\n",
            "- Upper transition bandwidth: 0.50 Hz (-6 dB cutoff frequency: 50.88 Hz)\n",
            "- Filter length: 1651 samples (6.604 s)\n",
            "\n",
            "Writing /mnt/cogsci/home/ybo/189/content/cleaned_data/first_session/A05T.fif\n"
          ]
        },
        {
          "name": "stderr",
          "output_type": "stream",
          "text": [
            "[Parallel(n_jobs=1)]: Done  17 tasks      | elapsed:    0.2s\n",
            "/tmp/ipykernel_2845688/1506553248.py:29: RuntimeWarning: This filename (/mnt/cogsci/home/ybo/189/content/cleaned_data/first_session/A05T.fif) does not conform to MNE naming conventions. All raw files should end with raw.fif, raw_sss.fif, raw_tsss.fif, _meg.fif, _eeg.fif, _ieeg.fif, raw.fif.gz, raw_sss.fif.gz, raw_tsss.fif.gz, _meg.fif.gz, _eeg.fif.gz or _ieeg.fif.gz\n",
            "  raw.save(new_file_path, overwrite=True)\n"
          ]
        },
        {
          "name": "stdout",
          "output_type": "stream",
          "text": [
            "Closing /mnt/cogsci/home/ybo/189/content/cleaned_data/first_session/A05T.fif\n",
            "[done]\n",
            "Extracting EDF parameters from /mnt/cogsci/home/ybo/189/content/raw_data/A09T.gdf...\n",
            "GDF file detected\n",
            "Setting channel info structure...\n",
            "Could not determine channel type of the following channels, they will be set as EEG:\n",
            "EEG-Fz, EEG, EEG, EEG, EEG, EEG, EEG, EEG-C3, EEG, EEG-Cz, EEG, EEG-C4, EEG, EEG, EEG, EEG, EEG, EEG, EEG, EEG-Pz, EEG, EEG\n",
            "Creating raw.info structure...\n",
            "Reading 0 ... 673327  =      0.000 ...  2693.308 secs...\n"
          ]
        },
        {
          "name": "stderr",
          "output_type": "stream",
          "text": [
            "/home/ybo/miniconda3/envs/myenv/lib/python3.12/contextlib.py:144: RuntimeWarning: Channel names are not unique, found duplicates for: {'EEG'}. Applying running numbers for duplicates.\n",
            "  next(self.gen)\n"
          ]
        },
        {
          "name": "stdout",
          "output_type": "stream",
          "text": [
            "Filtering raw data in 1 contiguous segment\n",
            "Setting up band-pass filter from 4 - 40 Hz\n",
            "\n",
            "IIR filter parameters\n",
            "---------------------\n",
            "Butterworth bandpass zero-phase (two-pass forward and reverse) non-causal filter:\n",
            "- Filter order 16 (effective, after forward-backward)\n",
            "- Cutoffs at 4.00, 40.00 Hz: -6.02, -6.02 dB\n",
            "\n",
            "Filtering raw data in 1 contiguous segment\n",
            "Setting up band-stop filter from 49 - 51 Hz\n",
            "\n",
            "FIR filter parameters\n",
            "---------------------\n",
            "Designing a one-pass, zero-phase, non-causal bandstop filter:\n",
            "- Windowed time-domain design (firwin) method\n",
            "- Hamming window with 0.0194 passband ripple and 53 dB stopband attenuation\n",
            "- Lower passband edge: 49.38\n",
            "- Lower transition bandwidth: 0.50 Hz (-6 dB cutoff frequency: 49.12 Hz)\n",
            "- Upper passband edge: 50.62 Hz\n",
            "- Upper transition bandwidth: 0.50 Hz (-6 dB cutoff frequency: 50.88 Hz)\n",
            "- Filter length: 1651 samples (6.604 s)\n",
            "\n",
            "Writing /mnt/cogsci/home/ybo/189/content/cleaned_data/first_session/A09T.fif\n"
          ]
        },
        {
          "name": "stderr",
          "output_type": "stream",
          "text": [
            "[Parallel(n_jobs=1)]: Done  17 tasks      | elapsed:    0.2s\n",
            "/tmp/ipykernel_2845688/1506553248.py:29: RuntimeWarning: This filename (/mnt/cogsci/home/ybo/189/content/cleaned_data/first_session/A09T.fif) does not conform to MNE naming conventions. All raw files should end with raw.fif, raw_sss.fif, raw_tsss.fif, _meg.fif, _eeg.fif, _ieeg.fif, raw.fif.gz, raw_sss.fif.gz, raw_tsss.fif.gz, _meg.fif.gz, _eeg.fif.gz or _ieeg.fif.gz\n",
            "  raw.save(new_file_path, overwrite=True)\n"
          ]
        },
        {
          "name": "stdout",
          "output_type": "stream",
          "text": [
            "Closing /mnt/cogsci/home/ybo/189/content/cleaned_data/first_session/A09T.fif\n",
            "[done]\n",
            "Writing /mnt/cogsci/home/ybo/189/content/cleaned_data/first_session/First_Session_Subjects.fif\n"
          ]
        },
        {
          "name": "stderr",
          "output_type": "stream",
          "text": [
            "/tmp/ipykernel_2845688/1506553248.py:35: RuntimeWarning: This filename (/mnt/cogsci/home/ybo/189/content/cleaned_data/first_session/First_Session_Subjects.fif) does not conform to MNE naming conventions. All raw files should end with raw.fif, raw_sss.fif, raw_tsss.fif, _meg.fif, _eeg.fif, _ieeg.fif, raw.fif.gz, raw_sss.fif.gz, raw_tsss.fif.gz, _meg.fif.gz, _eeg.fif.gz or _ieeg.fif.gz\n",
            "  final_raw.save(new_file_path, overwrite=True)\n"
          ]
        },
        {
          "name": "stdout",
          "output_type": "stream",
          "text": [
            "Closing /mnt/cogsci/home/ybo/189/content/cleaned_data/first_session/First_Session_Subjects.fif\n",
            "[done]\n"
          ]
        },
        {
          "data": {
            "text/plain": [
              "[PosixPath('/mnt/cogsci/home/ybo/189/content/cleaned_data/first_session/First_Session_Subjects.fif')]"
            ]
          },
          "execution_count": 107,
          "metadata": {},
          "output_type": "execute_result"
        }
      ],
      "source": [
        "import os\n",
        "cwd = os.getcwd()\n",
        "raw_data_folder = cwd+'/content/raw_data/'\n",
        "cleaned_data_folder =  cwd+'/content/cleaned_data/first_session/'\n",
        "files = os.listdir(raw_data_folder)\n",
        "\n",
        "# Selecting files with suffix 'T.gdf'\n",
        "filtered_files = [file for file in files if file.endswith('T.gdf')]\n",
        "\n",
        "raw_list = []\n",
        "\n",
        "# Iterating through filtered files\n",
        "for file in filtered_files:\n",
        "    file_path = os.path.join(raw_data_folder, file)\n",
        "\n",
        "    # Reading raw data\n",
        "    raw = mne.io.read_raw_gdf(file_path, eog=['EOG-left', 'EOG-central', 'EOG-right'], preload=True)\n",
        "    # Droping EOG channels\n",
        "    raw.drop_channels(['EOG-left', 'EOG-central', 'EOG-right'])\n",
        "\n",
        "    # High Pass Filtering 4-40 Hz\n",
        "    raw.filter(l_freq=4, h_freq=40, method='iir')\n",
        "\n",
        "    # Notch filter for Removal of Line Voltage\n",
        "    raw.notch_filter(freqs=50)\n",
        "\n",
        "    # Saving the modified raw data to a file with .fif suffix\n",
        "    new_file_path = os.path.join(cleaned_data_folder, file[:-4] + '.fif')\n",
        "    raw.save(new_file_path, overwrite=True)\n",
        "    # Appending data to the list\n",
        "    raw_list.append(raw)\n",
        "\n",
        "final_raw = mne.concatenate_raws(raw_list)\n",
        "new_file_path = os.path.join(cleaned_data_folder, 'First_Session_Subjects.fif')\n",
        "final_raw.save(new_file_path, overwrite=True)\n"
      ]
    },
    {
      "cell_type": "code",
      "execution_count": 19,
      "metadata": {},
      "outputs": [
        {
          "data": {
            "text/html": [
              "<script type=\"text/javascript\">\n",
              "    // must be `var` (not `const`) because this can get embedded multiple times on a page\n",
              "var toggleVisibility = (className) => {\n",
              "\n",
              "    const elements = document.querySelectorAll(`.${className}`);\n",
              "\n",
              "    elements.forEach(element => {\n",
              "        if (element.classList.contains(\"mne-repr-section-header\")) {\n",
              "            return  // Don't collapse the section header row\n",
              "        }\n",
              "        element.classList.toggle(\"mne-repr-collapsed\");\n",
              "    });\n",
              "\n",
              "    // trigger caret to rotate\n",
              "    var sel = `.mne-repr-section-header.${className} > th.mne-repr-section-toggle > button`;\n",
              "    const button = document.querySelector(sel);\n",
              "    button.classList.toggle(\"collapsed\");\n",
              "\n",
              "    // adjust tooltip\n",
              "    sel = `tr.mne-repr-section-header.${className}`;\n",
              "    const secHeadRow = document.querySelector(sel);\n",
              "    secHeadRow.classList.toggle(\"collapsed\");\n",
              "    secHeadRow.title = secHeadRow.title === \"Hide section\" ? \"Show section\" : \"Hide section\";\n",
              "}\n",
              "</script>\n",
              "\n",
              "<style type=\"text/css\">\n",
              "    /*\n",
              "Styles in this section apply both to the sphinx-built website docs and to notebooks\n",
              "rendered in an IDE or in Jupyter. In our web docs, styles here are complemented by\n",
              "doc/_static/styles.css and other CSS files (e.g. from the sphinx theme, sphinx-gallery,\n",
              "or bootstrap). In IDEs/Jupyter, those style files are unavailable, so only the rules in\n",
              "this file apply (plus whatever default styling the IDE applies).\n",
              "*/\n",
              ".mne-repr-table {\n",
              "    display: inline;  /* prevent using full container width */\n",
              "}\n",
              ".mne-repr-table tr.mne-repr-section-header > th {\n",
              "    padding-top: 1rem;\n",
              "    text-align: left;\n",
              "    vertical-align: middle;\n",
              "}\n",
              ".mne-repr-section-toggle > button {\n",
              "    all: unset;\n",
              "    display: block;\n",
              "    height: 1rem;\n",
              "    width: 1rem;\n",
              "}\n",
              ".mne-repr-section-toggle > button > svg {\n",
              "    height: 60%;\n",
              "}\n",
              "\n",
              "/* transition (rotation) effects on the collapser button */\n",
              ".mne-repr-section-toggle > button.collapsed > svg {\n",
              "    transition: 0.1s ease-out;\n",
              "    transform: rotate(-90deg);\n",
              "}\n",
              ".mne-repr-section-toggle > button:not(.collapsed) > svg {\n",
              "    transition: 0.1s ease-out;\n",
              "    transform: rotate(0deg);\n",
              "}\n",
              "\n",
              "/* hide collapsed table rows */\n",
              ".mne-repr-collapsed {\n",
              "    display: none;\n",
              "}\n",
              "\n",
              "\n",
              "@layer {\n",
              "    /*\n",
              "    Selectors in a `@layer` will always be lower-precedence than selectors outside the\n",
              "    layer. So even though e.g. `div.output_html` is present in the sphinx-rendered\n",
              "    website docs, the styles here won't take effect there as long as some other rule\n",
              "    somewhere in the page's CSS targets the same element.\n",
              "\n",
              "    In IDEs or Jupyter notebooks, though, the CSS files from the sphinx theme,\n",
              "    sphinx-gallery, and bootstrap are unavailable, so these styles will apply.\n",
              "\n",
              "    Notes:\n",
              "\n",
              "    - the selector `.accordion-body` is for MNE Reports\n",
              "    - the selector `.output_html` is for VSCode's notebook interface\n",
              "    - the selector `.jp-RenderedHTML` is for Jupyter notebook\n",
              "    - variables starting with `--theme-` are VSCode-specific.\n",
              "    - variables starting with `--jp-` are Jupyter styles, *some of which* are also\n",
              "      available in VSCode. Here we try the `--theme-` variable first, then fall back to\n",
              "      the `--jp-` ones.\n",
              "    */\n",
              "    .mne-repr-table {\n",
              "        --mne-toggle-color: var(--theme-foreground, var(--jp-ui-font-color1));\n",
              "        --mne-button-bg-color: var(--theme-button-background, var(--jp-info-color0, var(--jp-content-link-color)));\n",
              "        --mne-button-fg-color: var(--theme-button-foreground, var(--jp-ui-inverse-font-color0, var(--jp-editor-background)));\n",
              "        --mne-button-hover-bg-color: var(--theme-button-hover-background, var(--jp-info-color1));\n",
              "        --mne-button-radius: var(--jp-border-radius, 0.25rem);\n",
              "    }\n",
              "    /* chevron position/alignment; in VSCode it looks ok without adjusting */\n",
              "    .accordion-body .mne-repr-section-toggle > button,\n",
              "    .jp-RenderedHTML .mne-repr-section-toggle > button {\n",
              "        padding: 0 0 45% 25% !important;\n",
              "    }\n",
              "    /* chevron color; MNE Report doesn't have light/dark mode */\n",
              "    div.output_html .mne-repr-section-toggle > button > svg > path,\n",
              "    .jp-RenderedHTML .mne-repr-section-toggle > button > svg > path {\n",
              "        fill: var(--mne-toggle-color);\n",
              "    }\n",
              "    .accordion-body .mne-ch-names-btn,\n",
              "    div.output_html .mne-ch-names-btn,\n",
              "    .jp-RenderedHTML .mne-ch-names-btn {\n",
              "        -webkit-border-radius: var(--mne-button-radius);\n",
              "        -moz-border-radius: var(--mne-button-radius);\n",
              "        border-radius: var(--mne-button-radius);\n",
              "        border: none;\n",
              "        background-image: none;\n",
              "        background-color: var(--mne-button-bg-color);\n",
              "        color: var(--mne-button-fg-color);\n",
              "        font-size: inherit;\n",
              "        min-width: 1.5rem;\n",
              "        padding: 0.25rem;\n",
              "        text-align: center;\n",
              "        text-decoration: none;\n",
              "    }\n",
              "    .accordion-body .mne-ch-names-btn:hover,\n",
              "    div.output_html .mne.ch-names-btn:hover,\n",
              "    .jp-RenderedHTML .mne-ch-names-btn:hover {\n",
              "        background-color: var(--mne-button-hover-bg-color);\n",
              "        text-decoration: underline;\n",
              "    }\n",
              "    .accordion-body .mne-ch-names-btn:focus-visible,\n",
              "    div.output_html .mne-ch-names-btn:focus-visible,\n",
              "    .jp-RenderedHTML .mne-ch-names-btn:focus-visible {\n",
              "        outline: 0.1875rem solid var(--mne-button-bg-color) !important;\n",
              "        outline-offset: 0.1875rem !important;\n",
              "    }\n",
              "}\n",
              "</style>\n",
              "\n",
              "\n",
              "\n",
              "<table class=\"table mne-repr-table\">\n",
              "    \n",
              "\n",
              "\n",
              "\n",
              "\n",
              "\n",
              "\n",
              "\n",
              "<tr class=\"mne-repr-section-header general-2a0e6c7d-7a67-4cef-b26f-a0d339284470\"\n",
              "     title=\"Hide section\" \n",
              "    onclick=\"toggleVisibility('general-2a0e6c7d-7a67-4cef-b26f-a0d339284470')\">\n",
              "    <th class=\"mne-repr-section-toggle\">\n",
              "        <button >\n",
              "            <svg xmlns=\"http://www.w3.org/2000/svg\" viewBox=\"0 0 512 512\"><!--!Font Awesome Free 6.6.0 by @fontawesome - https://fontawesome.com License - https://fontawesome.com/license/free Copyright 2024 Fonticons, Inc.--><path d=\"M233.4 406.6c12.5 12.5 32.8 12.5 45.3 0l192-192c12.5-12.5 12.5-32.8 0-45.3s-32.8-12.5-45.3 0L256 338.7 86.6 169.4c-12.5-12.5-32.8-12.5-45.3 0s-12.5 32.8 0 45.3l192 192z\"/></svg>\n",
              "        </button>\n",
              "    </th>\n",
              "    <th colspan=\"2\">\n",
              "        <strong>General</strong>\n",
              "    </th>\n",
              "</tr>\n",
              "\n",
              "\n",
              "<tr class=\"repr-element general-2a0e6c7d-7a67-4cef-b26f-a0d339284470 \">\n",
              "    <td class=\"mne-repr-section-toggle\"></td>\n",
              "    <td>Filename(s)</td>\n",
              "    <td>\n",
              "        \n",
              "        A03T.gdf\n",
              "        <br />\n",
              "        \n",
              "        A07T.gdf\n",
              "        <br />\n",
              "        \n",
              "        A02T.gdf\n",
              "        <br />\n",
              "        \n",
              "        A06T.gdf\n",
              "        <br />\n",
              "        \n",
              "        A08T.gdf\n",
              "        <br />\n",
              "        \n",
              "        A04T.gdf\n",
              "        <br />\n",
              "        \n",
              "        A01T.gdf\n",
              "        <br />\n",
              "        \n",
              "        A05T.gdf\n",
              "        <br />\n",
              "        \n",
              "        A09T.gdf\n",
              "        \n",
              "        \n",
              "    </td>\n",
              "</tr>\n",
              "\n",
              "<tr class=\"repr-element general-2a0e6c7d-7a67-4cef-b26f-a0d339284470 \">\n",
              "    <td class=\"mne-repr-section-toggle\"></td>\n",
              "    <td>MNE object type</td>\n",
              "    <td>RawGDF</td>\n",
              "</tr>\n",
              "<tr class=\"repr-element general-2a0e6c7d-7a67-4cef-b26f-a0d339284470 \">\n",
              "    <td class=\"mne-repr-section-toggle\"></td>\n",
              "    <td>Measurement date</td>\n",
              "    \n",
              "    <td>2004-11-09 at 12:00:00 UTC</td>\n",
              "    \n",
              "</tr>\n",
              "<tr class=\"repr-element general-2a0e6c7d-7a67-4cef-b26f-a0d339284470 \">\n",
              "    <td class=\"mne-repr-section-toggle\"></td>\n",
              "    <td>Participant</td>\n",
              "    \n",
              "    \n",
              "    <td>A03</td>\n",
              "    \n",
              "    \n",
              "</tr>\n",
              "<tr class=\"repr-element general-2a0e6c7d-7a67-4cef-b26f-a0d339284470 \">\n",
              "    <td class=\"mne-repr-section-toggle\"></td>\n",
              "    <td>Experimenter</td>\n",
              "    \n",
              "    <td>Unknown</td>\n",
              "    \n",
              "</tr>\n",
              "    \n",
              "\n",
              "\n",
              "\n",
              "\n",
              "\n",
              "\n",
              "\n",
              "<tr class=\"mne-repr-section-header acquisition-8f22d841-edd0-4dee-8197-16be392309ee\"\n",
              "     title=\"Hide section\" \n",
              "    onclick=\"toggleVisibility('acquisition-8f22d841-edd0-4dee-8197-16be392309ee')\">\n",
              "    <th class=\"mne-repr-section-toggle\">\n",
              "        <button >\n",
              "            <svg xmlns=\"http://www.w3.org/2000/svg\" viewBox=\"0 0 512 512\"><!--!Font Awesome Free 6.6.0 by @fontawesome - https://fontawesome.com License - https://fontawesome.com/license/free Copyright 2024 Fonticons, Inc.--><path d=\"M233.4 406.6c12.5 12.5 32.8 12.5 45.3 0l192-192c12.5-12.5 12.5-32.8 0-45.3s-32.8-12.5-45.3 0L256 338.7 86.6 169.4c-12.5-12.5-32.8-12.5-45.3 0s-12.5 32.8 0 45.3l192 192z\"/></svg>\n",
              "        </button>\n",
              "    </th>\n",
              "    <th colspan=\"2\">\n",
              "        <strong>Acquisition</strong>\n",
              "    </th>\n",
              "</tr>\n",
              "\n",
              "\n",
              "<tr class=\"repr-element acquisition-8f22d841-edd0-4dee-8197-16be392309ee \">\n",
              "    <td class=\"mne-repr-section-toggle\"></td>\n",
              "    <td>Duration</td>\n",
              "    <td>06:40:24 (HH:MM:SS)</td>\n",
              "</tr>\n",
              "\n",
              "\n",
              "\n",
              "\n",
              "\n",
              "\n",
              "\n",
              "\n",
              "<tr class=\"repr-element acquisition-8f22d841-edd0-4dee-8197-16be392309ee \">\n",
              "    <td class=\"mne-repr-section-toggle\"></td>\n",
              "    <td>Sampling frequency</td>\n",
              "    <td>250.00 Hz</td>\n",
              "</tr>\n",
              "\n",
              "\n",
              "<tr class=\"repr-element acquisition-8f22d841-edd0-4dee-8197-16be392309ee \">\n",
              "    <td class=\"mne-repr-section-toggle\"></td>\n",
              "    <td>Time points</td>\n",
              "    <td>6,005,911</td>\n",
              "</tr>\n",
              "\n",
              "\n",
              "    \n",
              "\n",
              "\n",
              "\n",
              "\n",
              "\n",
              "\n",
              "\n",
              "<tr class=\"mne-repr-section-header channels-fa6c3bd2-1815-4f84-b046-18fcc5a8f6e4\"\n",
              "     title=\"Hide section\" \n",
              "    onclick=\"toggleVisibility('channels-fa6c3bd2-1815-4f84-b046-18fcc5a8f6e4')\">\n",
              "    <th class=\"mne-repr-section-toggle\">\n",
              "        <button >\n",
              "            <svg xmlns=\"http://www.w3.org/2000/svg\" viewBox=\"0 0 512 512\"><!--!Font Awesome Free 6.6.0 by @fontawesome - https://fontawesome.com License - https://fontawesome.com/license/free Copyright 2024 Fonticons, Inc.--><path d=\"M233.4 406.6c12.5 12.5 32.8 12.5 45.3 0l192-192c12.5-12.5 12.5-32.8 0-45.3s-32.8-12.5-45.3 0L256 338.7 86.6 169.4c-12.5-12.5-32.8-12.5-45.3 0s-12.5 32.8 0 45.3l192 192z\"/></svg>\n",
              "        </button>\n",
              "    </th>\n",
              "    <th colspan=\"2\">\n",
              "        <strong>Channels</strong>\n",
              "    </th>\n",
              "</tr>\n",
              "\n",
              "\n",
              "    \n",
              "<tr class=\"repr-element channels-fa6c3bd2-1815-4f84-b046-18fcc5a8f6e4 \">\n",
              "    <td class=\"mne-repr-section-toggle\"></td>\n",
              "    <td>EEG</td>\n",
              "    <td>\n",
              "        <button class=\"mne-ch-names-btn sd-sphinx-override sd-btn sd-btn-info sd-text-wrap sd-shadow-sm\" onclick=\"alert('Good EEG:\\n\\nEEG-Fz, EEG-0, EEG-1, EEG-2, EEG-3, EEG-4, EEG-5, EEG-C3, EEG-6, EEG-Cz, EEG-7, EEG-C4, EEG-8, EEG-9, EEG-10, EEG-11, EEG-12, EEG-13, EEG-14, EEG-Pz, EEG-15, EEG-16')\" title=\"(Click to open in popup)&#13;&#13;EEG-Fz, EEG-0, EEG-1, EEG-2, EEG-3, EEG-4, EEG-5, EEG-C3, EEG-6, EEG-Cz, EEG-7, EEG-C4, EEG-8, EEG-9, EEG-10, EEG-11, EEG-12, EEG-13, EEG-14, EEG-Pz, EEG-15, EEG-16\">\n",
              "            22\n",
              "        </button>\n",
              "\n",
              "        \n",
              "    </td>\n",
              "</tr>\n",
              "\n",
              "\n",
              "<tr class=\"repr-element channels-fa6c3bd2-1815-4f84-b046-18fcc5a8f6e4 \">\n",
              "    <td class=\"mne-repr-section-toggle\"></td>\n",
              "    <td>Head & sensor digitization</td>\n",
              "    \n",
              "    <td>Not available</td>\n",
              "    \n",
              "</tr>\n",
              "    \n",
              "\n",
              "\n",
              "\n",
              "\n",
              "\n",
              "\n",
              "\n",
              "<tr class=\"mne-repr-section-header filters-93b48d2f-c91f-4060-818a-d9eb74c863b4\"\n",
              "     title=\"Hide section\" \n",
              "    onclick=\"toggleVisibility('filters-93b48d2f-c91f-4060-818a-d9eb74c863b4')\">\n",
              "    <th class=\"mne-repr-section-toggle\">\n",
              "        <button >\n",
              "            <svg xmlns=\"http://www.w3.org/2000/svg\" viewBox=\"0 0 512 512\"><!--!Font Awesome Free 6.6.0 by @fontawesome - https://fontawesome.com License - https://fontawesome.com/license/free Copyright 2024 Fonticons, Inc.--><path d=\"M233.4 406.6c12.5 12.5 32.8 12.5 45.3 0l192-192c12.5-12.5 12.5-32.8 0-45.3s-32.8-12.5-45.3 0L256 338.7 86.6 169.4c-12.5-12.5-32.8-12.5-45.3 0s-12.5 32.8 0 45.3l192 192z\"/></svg>\n",
              "        </button>\n",
              "    </th>\n",
              "    <th colspan=\"2\">\n",
              "        <strong>Filters</strong>\n",
              "    </th>\n",
              "</tr>\n",
              "\n",
              "\n",
              "<tr class=\"repr-element filters-93b48d2f-c91f-4060-818a-d9eb74c863b4 \">\n",
              "    <td class=\"mne-repr-section-toggle\"></td>\n",
              "    <td>Highpass</td>\n",
              "    <td>4.00 Hz</td>\n",
              "</tr>\n",
              "\n",
              "\n",
              "<tr class=\"repr-element filters-93b48d2f-c91f-4060-818a-d9eb74c863b4 \">\n",
              "    <td class=\"mne-repr-section-toggle\"></td>\n",
              "    <td>Lowpass</td>\n",
              "    <td>40.00 Hz</td>\n",
              "</tr>\n",
              "\n",
              "\n",
              "</table>"
            ],
            "text/plain": [
              "<RawGDF | A03T.gdf, 22 x 6005911 (24023.6 s), ~1008.1 MiB, data loaded>"
            ]
          },
          "execution_count": 19,
          "metadata": {},
          "output_type": "execute_result"
        }
      ],
      "source": [
        "final_raw"
      ]
    },
    {
      "cell_type": "markdown",
      "metadata": {
        "id": "wNqq3V3rCiPn"
      },
      "source": [
        "**List of the events**  \n",
        "'1023': 1 Rejected trial  \n",
        "'1072': 2 Eye movements  \n",
        "'276': 3 Idling EEG (eyes open)  \n",
        "'277': 4 Idling EEG (eyes closed)  \n",
        "'32766': 5 Start of a new run  \n",
        "'768': 6 Start of a trial  \n",
        "'769': 7 Cue onset **Left** (class 1) : 0  \n",
        "'770': 8 Cue onset **Right** (class 2) : 1  \n",
        "'771': 9 Cue onset **Foot** (class 3) : 2  \n",
        "'772': 10 Cue onset **Tongue** (class 4): 3"
      ]
    },
    {
      "cell_type": "code",
      "execution_count": 20,
      "metadata": {
        "colab": {
          "base_uri": "https://localhost:8080/"
        },
        "id": "-9RZjQbWCoc0",
        "outputId": "fbbd728f-9f7f-457e-d4c9-eaefe67bafa1"
      },
      "outputs": [
        {
          "name": "stdout",
          "output_type": "stream",
          "text": [
            "Used Annotations descriptions: ['1023', '1072', '276', '277', '32766', '768', '769', '770', '771', '772']\n"
          ]
        },
        {
          "data": {
            "text/plain": [
              "{'1023': 1,\n",
              " '1072': 2,\n",
              " '276': 3,\n",
              " '277': 4,\n",
              " '32766': 5,\n",
              " '768': 6,\n",
              " '769': 7,\n",
              " '770': 8,\n",
              " '771': 9,\n",
              " '772': 10}"
            ]
          },
          "execution_count": 20,
          "metadata": {},
          "output_type": "execute_result"
        }
      ],
      "source": [
        "events = mne.events_from_annotations(final_raw)\n",
        "events[1]"
      ]
    },
    {
      "cell_type": "markdown",
      "metadata": {
        "id": "PJAI_olujhxI"
      },
      "source": [
        "**Time choice:**  \n",
        "[0.s, 4s] Post Cue on set:  [2s, 6s]"
      ]
    },
    {
      "cell_type": "code",
      "execution_count": 21,
      "metadata": {
        "colab": {
          "base_uri": "https://localhost:8080/"
        },
        "id": "OaAuA1mQCqcP",
        "outputId": "4d33fb54-48f8-4eb9-c516-1b97747e39d6"
      },
      "outputs": [
        {
          "name": "stdout",
          "output_type": "stream",
          "text": [
            "Not setting metadata\n",
            "1296 matching events found\n"
          ]
        },
        {
          "name": "stdout",
          "output_type": "stream",
          "text": [
            "No baseline correction applied\n",
            "0 projection items activated\n",
            "Using data from preloaded Raw for 1296 events and 1001 original time points ...\n",
            "0 bad epochs dropped\n"
          ]
        }
      ],
      "source": [
        "# epochs = mne.Epochs(final_raw, events[0], event_id=[7, 8, 9, 10], tmin=0, tmax=4, reject=None, baseline=None, preload=True)\n",
        "# left & right only\n",
        "epochs = mne.Epochs(final_raw, events[0], event_id=[7, 8], tmin=0, tmax=4, reject=None, baseline=None, preload=True)\n",
        "first_session_data = epochs.get_data(copy=True)\n",
        "first_session_labels = epochs.events[:,-1]"
      ]
    },
    {
      "cell_type": "code",
      "execution_count": 17,
      "metadata": {},
      "outputs": [
        {
          "ename": "NameError",
          "evalue": "name 'first_session_data' is not defined",
          "output_type": "error",
          "traceback": [
            "\u001b[0;31m---------------------------------------------------------------------------\u001b[0m",
            "\u001b[0;31mNameError\u001b[0m                                 Traceback (most recent call last)",
            "Cell \u001b[0;32mIn[17], line 1\u001b[0m\n\u001b[0;32m----> 1\u001b[0m \u001b[43mfirst_session_data\u001b[49m\n",
            "\u001b[0;31mNameError\u001b[0m: name 'first_session_data' is not defined"
          ]
        }
      ],
      "source": [
        "first_session_data"
      ]
    },
    {
      "cell_type": "code",
      "execution_count": 22,
      "metadata": {
        "colab": {
          "base_uri": "https://localhost:8080/"
        },
        "id": "rVNRjQbfCs3-",
        "outputId": "041d64ef-2b44-49e8-d554-90bc0992bc36"
      },
      "outputs": [
        {
          "name": "stdout",
          "output_type": "stream",
          "text": [
            "First_session_dataset shape: (1296, 22, 1001)\n"
          ]
        }
      ],
      "source": [
        "print(\"First_session_dataset shape:\",first_session_data.shape)"
      ]
    },
    {
      "cell_type": "markdown",
      "metadata": {},
      "source": [
        "# session_data \n",
        "- [trial, channels, timepoints in epoch]"
      ]
    },
    {
      "cell_type": "code",
      "execution_count": 23,
      "metadata": {},
      "outputs": [
        {
          "data": {
            "text/plain": [
              "array([-4.96891398e-06, -3.99181947e-06,  2.16056820e-07, ...,\n",
              "        4.64398077e-06,  3.25708167e-06,  3.32457170e-07])"
            ]
          },
          "execution_count": 23,
          "metadata": {},
          "output_type": "execute_result"
        }
      ],
      "source": [
        "first_session_data[0][0]"
      ]
    },
    {
      "cell_type": "code",
      "execution_count": 24,
      "metadata": {},
      "outputs": [
        {
          "data": {
            "text/plain": [
              "(1296,)"
            ]
          },
          "execution_count": 24,
          "metadata": {},
          "output_type": "execute_result"
        }
      ],
      "source": [
        "first_session_labels.shape"
      ]
    },
    {
      "cell_type": "markdown",
      "metadata": {
        "id": "JJva8vhuMAtc"
      },
      "source": [
        "## Second Session"
      ]
    },
    {
      "cell_type": "markdown",
      "metadata": {
        "id": "bzQH8SI9MI72"
      },
      "source": [
        "### Extracting Labels for datas with \"E.gdf\" prefix"
      ]
    },
    {
      "cell_type": "code",
      "execution_count": null,
      "metadata": {
        "colab": {
          "base_uri": "https://localhost:8080/",
          "height": 108
        },
        "id": "MjLuwdcgMD_l",
        "outputId": "be18a549-c7b2-4c6a-aa71-312a29c8e3a2"
      },
      "outputs": [
        {
          "name": "stderr",
          "output_type": "stream",
          "text": [
            "Downloading...\n",
            "From: https://drive.google.com/uc?id=11Ke2Xta1kv2xu2Mybuu_X51zJYjQ-VFo&export=download\n",
            "To: /mnt/cogsci/home/ybo/189/content/true_labels.zip\n",
            "100%|██████████| 7.20k/7.20k [00:00<00:00, 20.0MB/s]\n"
          ]
        },
        {
          "data": {
            "text/plain": [
              "'/mnt/cogsci/home/ybo/189/content/true_labels.zip'"
            ]
          },
          "execution_count": 12,
          "metadata": {},
          "output_type": "execute_result"
        },
        {
          "ename": "",
          "evalue": "",
          "output_type": "error",
          "traceback": [
            "\u001b[1;31mnotebook controller is DISPOSED. \n",
            "\u001b[1;31mView Jupyter <a href='command:jupyter.viewOutput'>log</a> for further details."
          ]
        }
      ],
      "source": [
        "# Replace this with your actual shareable link\n",
        "shareable_link = 'https://drive.google.com/file/d/11Ke2Xta1kv2xu2Mybuu_X51zJYjQ-VFo/view?usp=drive_link'\n",
        "\n",
        "# Extract file ID from the shareable link\n",
        "file_id = shareable_link.split('/d/')[1].split('/view')[0]\n",
        "\n",
        "# Create the direct download link\n",
        "download_url = f'https://drive.google.com/uc?id={file_id}&export=download'\n",
        "\n",
        "# Specify the output file path\n",
        "output_file = cwd+'/content/true_labels.zip'\n",
        "\n",
        "# Download the file\n",
        "gdown.download(download_url, output_file, quiet=False)"
      ]
    },
    {
      "cell_type": "code",
      "execution_count": null,
      "metadata": {
        "id": "03wA4VGpMZNS"
      },
      "outputs": [
        {
          "ename": "",
          "evalue": "",
          "output_type": "error",
          "traceback": [
            "\u001b[1;31mnotebook controller is DISPOSED. \n",
            "\u001b[1;31mView Jupyter <a href='command:jupyter.viewOutput'>log</a> for further details."
          ]
        }
      ],
      "source": [
        "%%capture\n",
        "!unzip /content/true_labels.zip -d second_session_labels"
      ]
    },
    {
      "cell_type": "markdown",
      "metadata": {
        "id": "1iijTs3RMdCo"
      },
      "source": [
        "### Extracting datas of second session"
      ]
    },
    {
      "cell_type": "code",
      "execution_count": 110,
      "metadata": {
        "colab": {
          "base_uri": "https://localhost:8080/"
        },
        "id": "GbOQB2gDMgOf",
        "outputId": "323909f4-addc-4880-c4ae-7a5dbf1172ed"
      },
      "outputs": [
        {
          "name": "stdout",
          "output_type": "stream",
          "text": [
            "Extracting EDF parameters from /mnt/cogsci/home/ybo/189/content/raw_data/A09E.gdf...\n",
            "GDF file detected\n",
            "Setting channel info structure...\n",
            "Could not determine channel type of the following channels, they will be set as EEG:\n",
            "EEG-Fz, EEG, EEG, EEG, EEG, EEG, EEG, EEG-C3, EEG, EEG-Cz, EEG, EEG-C4, EEG, EEG, EEG, EEG, EEG, EEG, EEG, EEG-Pz, EEG, EEG\n",
            "Creating raw.info structure...\n",
            "Reading 0 ... 675097  =      0.000 ...  2700.388 secs...\n"
          ]
        },
        {
          "name": "stderr",
          "output_type": "stream",
          "text": [
            "/home/ybo/miniconda3/envs/myenv/lib/python3.12/contextlib.py:144: RuntimeWarning: Channel names are not unique, found duplicates for: {'EEG'}. Applying running numbers for duplicates.\n",
            "  next(self.gen)\n"
          ]
        },
        {
          "name": "stdout",
          "output_type": "stream",
          "text": [
            "Filtering raw data in 1 contiguous segment\n",
            "Setting up band-pass filter from 4 - 40 Hz\n",
            "\n",
            "IIR filter parameters\n",
            "---------------------\n",
            "Butterworth bandpass zero-phase (two-pass forward and reverse) non-causal filter:\n",
            "- Filter order 16 (effective, after forward-backward)\n",
            "- Cutoffs at 4.00, 40.00 Hz: -6.02, -6.02 dB\n",
            "\n",
            "Overwriting existing file.\n",
            "Writing /mnt/cogsci/home/ybo/189/content/cleaned_data/second_session/A09E.fif\n",
            "Closing /mnt/cogsci/home/ybo/189/content/cleaned_data/second_session/A09E.fif\n",
            "[done]\n",
            "data:A09E.gdf, label:A09E.mat\n",
            "[1. 2. 2. 1. 2. 1. 2. 3. 2. 4. 1. 3. 2. 1. 4. 4. 4. 4. 4. 1. 3. 2. 1. 1.\n",
            " 3. 4. 1. 3. 3. 3. 1. 2. 1. 2. 2. 1. 2. 3. 2. 3. 3. 4. 3. 3. 4. 4. 4. 4.\n",
            " 4. 3. 2. 1. 1. 2. 3. 4. 2. 3. 1. 1. 1. 4. 2. 2. 1. 1. 3. 1. 2. 4. 4. 3.\n",
            " 1. 4. 4. 2. 4. 4. 2. 1. 2. 3. 3. 3. 4. 3. 1. 4. 2. 3. 2. 3. 4. 2. 3. 1.\n",
            " 1. 1. 4. 2. 1. 3. 1. 3. 2. 4. 1. 3. 3. 1. 3. 2. 4. 4. 4. 3. 1. 4. 2. 4.\n",
            " 2. 1. 3. 2. 1. 3. 3. 1. 3. 4. 4. 2. 1. 2. 4. 2. 4. 3. 2. 2. 2. 3. 4. 1.\n",
            " 2. 4. 1. 3. 3. 4. 1. 1. 3. 2. 4. 4. 4. 2. 1. 3. 2. 4. 1. 4. 3. 2. 4. 4.\n",
            " 1. 2. 2. 3. 4. 2. 1. 1. 4. 2. 1. 3. 2. 2. 3. 1. 4. 3. 3. 3. 3. 1. 2. 1.\n",
            " 2. 1. 1. 3. 3. 2. 3. 4. 1. 4. 1. 1. 2. 4. 3. 2. 4. 3. 4. 3. 4. 2. 2. 4.\n",
            " 1. 2. 2. 2. 3. 4. 1. 4. 1. 3. 1. 4. 1. 3. 1. 2. 3. 3. 4. 1. 2. 4. 2. 3.\n",
            " 3. 1. 4. 2. 4. 1. 1. 3. 3. 2. 4. 2. 2. 1. 2. 4. 4. 2. 2. 2. 2. 4. 4. 3.\n",
            " 4. 1. 2. 3. 2. 1. 4. 1. 4. 1. 1. 1. 1. 3. 3. 4. 2. 3. 3. 3. 4. 3. 1. 3.]\n",
            "Extracting EDF parameters from /mnt/cogsci/home/ybo/189/content/raw_data/A05E.gdf...\n",
            "GDF file detected\n",
            "Setting channel info structure...\n",
            "Could not determine channel type of the following channels, they will be set as EEG:\n",
            "EEG-Fz, EEG, EEG, EEG, EEG, EEG, EEG, EEG-C3, EEG, EEG-Cz, EEG, EEG-C4, EEG, EEG, EEG, EEG, EEG, EEG, EEG, EEG-Pz, EEG, EEG\n",
            "Creating raw.info structure...\n",
            "Reading 0 ... 679862  =      0.000 ...  2719.448 secs...\n"
          ]
        },
        {
          "name": "stderr",
          "output_type": "stream",
          "text": [
            "/tmp/ipykernel_2845688/4058047235.py:32: RuntimeWarning: This filename (/mnt/cogsci/home/ybo/189/content/cleaned_data/second_session/A09E.fif) does not conform to MNE naming conventions. All raw files should end with raw.fif, raw_sss.fif, raw_tsss.fif, _meg.fif, _eeg.fif, _ieeg.fif, raw.fif.gz, raw_sss.fif.gz, raw_tsss.fif.gz, _meg.fif.gz, _eeg.fif.gz or _ieeg.fif.gz\n",
            "  raw.save(new_file_path, overwrite=True)\n",
            "/home/ybo/miniconda3/envs/myenv/lib/python3.12/contextlib.py:144: RuntimeWarning: Channel names are not unique, found duplicates for: {'EEG'}. Applying running numbers for duplicates.\n",
            "  next(self.gen)\n"
          ]
        },
        {
          "name": "stdout",
          "output_type": "stream",
          "text": [
            "Filtering raw data in 1 contiguous segment\n",
            "Setting up band-pass filter from 4 - 40 Hz\n",
            "\n",
            "IIR filter parameters\n",
            "---------------------\n",
            "Butterworth bandpass zero-phase (two-pass forward and reverse) non-causal filter:\n",
            "- Filter order 16 (effective, after forward-backward)\n",
            "- Cutoffs at 4.00, 40.00 Hz: -6.02, -6.02 dB\n",
            "\n",
            "Overwriting existing file.\n",
            "Writing /mnt/cogsci/home/ybo/189/content/cleaned_data/second_session/A05E.fif\n",
            "Closing /mnt/cogsci/home/ybo/189/content/cleaned_data/second_session/A05E.fif\n",
            "[done]\n",
            "data:A05E.gdf, label:A05E.mat\n",
            "[1. 2. 2. 1. 2. 1. 2. 3. 2. 4. 1. 3. 2. 1. 4. 4. 4. 4. 4. 1. 3. 2. 1. 1.\n",
            " 3. 4. 1. 3. 3. 3. 1. 2. 1. 2. 2. 1. 2. 3. 2. 3. 3. 4. 3. 3. 4. 4. 4. 4.\n",
            " 4. 3. 2. 1. 1. 2. 3. 4. 2. 3. 1. 1. 1. 4. 2. 2. 1. 1. 3. 1. 2. 4. 4. 3.\n",
            " 1. 4. 4. 2. 4. 4. 2. 1. 2. 3. 3. 3. 4. 3. 1. 4. 2. 3. 2. 3. 4. 2. 3. 1.\n",
            " 1. 1. 4. 2. 1. 3. 1. 3. 2. 4. 1. 3. 3. 1. 3. 2. 4. 4. 4. 3. 1. 4. 2. 4.\n",
            " 2. 1. 3. 2. 1. 3. 3. 1. 3. 4. 4. 2. 1. 2. 4. 2. 4. 3. 2. 2. 2. 3. 4. 1.\n",
            " 2. 4. 1. 3. 3. 4. 1. 1. 3. 2. 4. 4. 4. 2. 1. 3. 2. 4. 1. 4. 3. 2. 4. 4.\n",
            " 1. 2. 2. 3. 4. 2. 1. 1. 4. 2. 1. 3. 2. 2. 3. 1. 4. 3. 3. 3. 3. 1. 2. 1.\n",
            " 2. 1. 1. 3. 3. 2. 3. 4. 1. 4. 1. 1. 2. 4. 3. 2. 4. 3. 4. 3. 4. 2. 2. 4.\n",
            " 1. 2. 2. 2. 3. 4. 1. 4. 1. 3. 1. 4. 1. 3. 1. 2. 3. 3. 4. 1. 2. 4. 2. 3.\n",
            " 3. 1. 4. 2. 4. 1. 1. 3. 3. 2. 4. 2. 2. 1. 2. 4. 4. 2. 2. 2. 2. 4. 4. 3.\n",
            " 4. 1. 2. 3. 2. 1. 4. 1. 4. 1. 1. 1. 1. 3. 3. 4. 2. 3. 3. 3. 4. 3. 1. 3.\n",
            " 1. 2. 2. 1. 2. 1. 2. 3. 2. 4. 1. 3. 2. 1. 4. 4. 4. 4. 4. 1. 3. 2. 1. 1.\n",
            " 3. 4. 1. 3. 3. 3. 1. 2. 1. 2. 2. 1. 2. 3. 2. 3. 3. 4. 3. 3. 4. 4. 4. 4.\n",
            " 4. 3. 2. 1. 1. 2. 3. 4. 2. 3. 1. 1. 1. 4. 2. 2. 1. 1. 3. 1. 2. 4. 4. 3.\n",
            " 1. 4. 4. 2. 4. 4. 2. 1. 2. 3. 3. 3. 4. 3. 1. 4. 2. 3. 2. 3. 4. 2. 3. 1.\n",
            " 1. 1. 4. 2. 1. 3. 1. 3. 2. 4. 1. 3. 3. 1. 3. 2. 4. 4. 4. 3. 1. 4. 2. 4.\n",
            " 2. 1. 3. 2. 1. 3. 3. 1. 3. 4. 4. 2. 1. 2. 4. 2. 4. 3. 2. 2. 2. 3. 4. 1.\n",
            " 2. 4. 1. 3. 3. 4. 1. 1. 3. 2. 4. 4. 4. 2. 1. 3. 2. 4. 1. 4. 3. 2. 4. 4.\n",
            " 1. 2. 2. 3. 4. 2. 1. 1. 4. 2. 1. 3. 2. 2. 3. 1. 4. 3. 3. 3. 3. 1. 2. 1.\n",
            " 2. 1. 1. 3. 3. 2. 3. 4. 1. 4. 1. 1. 2. 4. 3. 2. 4. 3. 4. 3. 4. 2. 2. 4.\n",
            " 1. 2. 2. 2. 3. 4. 1. 4. 1. 3. 1. 4. 1. 3. 1. 2. 3. 3. 4. 1. 2. 4. 2. 3.\n",
            " 3. 1. 4. 2. 4. 1. 1. 3. 3. 2. 4. 2. 2. 1. 2. 4. 4. 2. 2. 2. 2. 4. 4. 3.\n",
            " 4. 1. 2. 3. 2. 1. 4. 1. 4. 1. 1. 1. 1. 3. 3. 4. 2. 3. 3. 3. 4. 3. 1. 3.]\n",
            "Extracting EDF parameters from /mnt/cogsci/home/ybo/189/content/raw_data/A01E.gdf...\n",
            "GDF file detected\n"
          ]
        },
        {
          "name": "stderr",
          "output_type": "stream",
          "text": [
            "/tmp/ipykernel_2845688/4058047235.py:32: RuntimeWarning: This filename (/mnt/cogsci/home/ybo/189/content/cleaned_data/second_session/A05E.fif) does not conform to MNE naming conventions. All raw files should end with raw.fif, raw_sss.fif, raw_tsss.fif, _meg.fif, _eeg.fif, _ieeg.fif, raw.fif.gz, raw_sss.fif.gz, raw_tsss.fif.gz, _meg.fif.gz, _eeg.fif.gz or _ieeg.fif.gz\n",
            "  raw.save(new_file_path, overwrite=True)\n"
          ]
        },
        {
          "name": "stdout",
          "output_type": "stream",
          "text": [
            "Setting channel info structure...\n",
            "Could not determine channel type of the following channels, they will be set as EEG:\n",
            "EEG-Fz, EEG, EEG, EEG, EEG, EEG, EEG, EEG-C3, EEG, EEG-Cz, EEG, EEG-C4, EEG, EEG, EEG, EEG, EEG, EEG, EEG, EEG-Pz, EEG, EEG\n",
            "Creating raw.info structure...\n",
            "Reading 0 ... 686999  =      0.000 ...  2747.996 secs...\n"
          ]
        },
        {
          "name": "stderr",
          "output_type": "stream",
          "text": [
            "/home/ybo/miniconda3/envs/myenv/lib/python3.12/contextlib.py:144: RuntimeWarning: Channel names are not unique, found duplicates for: {'EEG'}. Applying running numbers for duplicates.\n",
            "  next(self.gen)\n"
          ]
        },
        {
          "name": "stdout",
          "output_type": "stream",
          "text": [
            "Filtering raw data in 1 contiguous segment\n",
            "Setting up band-pass filter from 4 - 40 Hz\n",
            "\n",
            "IIR filter parameters\n",
            "---------------------\n",
            "Butterworth bandpass zero-phase (two-pass forward and reverse) non-causal filter:\n",
            "- Filter order 16 (effective, after forward-backward)\n",
            "- Cutoffs at 4.00, 40.00 Hz: -6.02, -6.02 dB\n",
            "\n",
            "Overwriting existing file.\n",
            "Writing /mnt/cogsci/home/ybo/189/content/cleaned_data/second_session/A01E.fif\n"
          ]
        },
        {
          "name": "stderr",
          "output_type": "stream",
          "text": [
            "/tmp/ipykernel_2845688/4058047235.py:32: RuntimeWarning: This filename (/mnt/cogsci/home/ybo/189/content/cleaned_data/second_session/A01E.fif) does not conform to MNE naming conventions. All raw files should end with raw.fif, raw_sss.fif, raw_tsss.fif, _meg.fif, _eeg.fif, _ieeg.fif, raw.fif.gz, raw_sss.fif.gz, raw_tsss.fif.gz, _meg.fif.gz, _eeg.fif.gz or _ieeg.fif.gz\n",
            "  raw.save(new_file_path, overwrite=True)\n"
          ]
        },
        {
          "name": "stdout",
          "output_type": "stream",
          "text": [
            "Closing /mnt/cogsci/home/ybo/189/content/cleaned_data/second_session/A01E.fif\n",
            "[done]\n",
            "data:A01E.gdf, label:A01E.mat\n",
            "[1. 2. 2. 1. 2. 1. 2. 3. 2. 4. 1. 3. 2. 1. 4. 4. 4. 4. 4. 1. 3. 2. 1. 1.\n",
            " 3. 4. 1. 3. 3. 3. 1. 2. 1. 2. 2. 1. 2. 3. 2. 3. 3. 4. 3. 3. 4. 4. 4. 4.\n",
            " 4. 3. 2. 1. 1. 2. 3. 4. 2. 3. 1. 1. 1. 4. 2. 2. 1. 1. 3. 1. 2. 4. 4. 3.\n",
            " 1. 4. 4. 2. 4. 4. 2. 1. 2. 3. 3. 3. 4. 3. 1. 4. 2. 3. 2. 3. 4. 2. 3. 1.\n",
            " 1. 1. 4. 2. 1. 3. 1. 3. 2. 4. 1. 3. 3. 1. 3. 2. 4. 4. 4. 3. 1. 4. 2. 4.\n",
            " 2. 1. 3. 2. 1. 3. 3. 1. 3. 4. 4. 2. 1. 2. 4. 2. 4. 3. 2. 2. 2. 3. 4. 1.\n",
            " 2. 4. 1. 3. 3. 4. 1. 1. 3. 2. 4. 4. 4. 2. 1. 3. 2. 4. 1. 4. 3. 2. 4. 4.\n",
            " 1. 2. 2. 3. 4. 2. 1. 1. 4. 2. 1. 3. 2. 2. 3. 1. 4. 3. 3. 3. 3. 1. 2. 1.\n",
            " 2. 1. 1. 3. 3. 2. 3. 4. 1. 4. 1. 1. 2. 4. 3. 2. 4. 3. 4. 3. 4. 2. 2. 4.\n",
            " 1. 2. 2. 2. 3. 4. 1. 4. 1. 3. 1. 4. 1. 3. 1. 2. 3. 3. 4. 1. 2. 4. 2. 3.\n",
            " 3. 1. 4. 2. 4. 1. 1. 3. 3. 2. 4. 2. 2. 1. 2. 4. 4. 2. 2. 2. 2. 4. 4. 3.\n",
            " 4. 1. 2. 3. 2. 1. 4. 1. 4. 1. 1. 1. 1. 3. 3. 4. 2. 3. 3. 3. 4. 3. 1. 3.\n",
            " 1. 2. 2. 1. 2. 1. 2. 3. 2. 4. 1. 3. 2. 1. 4. 4. 4. 4. 4. 1. 3. 2. 1. 1.\n",
            " 3. 4. 1. 3. 3. 3. 1. 2. 1. 2. 2. 1. 2. 3. 2. 3. 3. 4. 3. 3. 4. 4. 4. 4.\n",
            " 4. 3. 2. 1. 1. 2. 3. 4. 2. 3. 1. 1. 1. 4. 2. 2. 1. 1. 3. 1. 2. 4. 4. 3.\n",
            " 1. 4. 4. 2. 4. 4. 2. 1. 2. 3. 3. 3. 4. 3. 1. 4. 2. 3. 2. 3. 4. 2. 3. 1.\n",
            " 1. 1. 4. 2. 1. 3. 1. 3. 2. 4. 1. 3. 3. 1. 3. 2. 4. 4. 4. 3. 1. 4. 2. 4.\n",
            " 2. 1. 3. 2. 1. 3. 3. 1. 3. 4. 4. 2. 1. 2. 4. 2. 4. 3. 2. 2. 2. 3. 4. 1.\n",
            " 2. 4. 1. 3. 3. 4. 1. 1. 3. 2. 4. 4. 4. 2. 1. 3. 2. 4. 1. 4. 3. 2. 4. 4.\n",
            " 1. 2. 2. 3. 4. 2. 1. 1. 4. 2. 1. 3. 2. 2. 3. 1. 4. 3. 3. 3. 3. 1. 2. 1.\n",
            " 2. 1. 1. 3. 3. 2. 3. 4. 1. 4. 1. 1. 2. 4. 3. 2. 4. 3. 4. 3. 4. 2. 2. 4.\n",
            " 1. 2. 2. 2. 3. 4. 1. 4. 1. 3. 1. 4. 1. 3. 1. 2. 3. 3. 4. 1. 2. 4. 2. 3.\n",
            " 3. 1. 4. 2. 4. 1. 1. 3. 3. 2. 4. 2. 2. 1. 2. 4. 4. 2. 2. 2. 2. 4. 4. 3.\n",
            " 4. 1. 2. 3. 2. 1. 4. 1. 4. 1. 1. 1. 1. 3. 3. 4. 2. 3. 3. 3. 4. 3. 1. 3.\n",
            " 1. 2. 2. 1. 2. 1. 2. 3. 2. 4. 1. 3. 2. 1. 4. 4. 4. 4. 4. 1. 3. 2. 1. 1.\n",
            " 3. 4. 1. 3. 3. 3. 1. 2. 1. 2. 2. 1. 2. 3. 2. 3. 3. 4. 3. 3. 4. 4. 4. 4.\n",
            " 4. 3. 2. 1. 1. 2. 3. 4. 2. 3. 1. 1. 1. 4. 2. 2. 1. 1. 3. 1. 2. 4. 4. 3.\n",
            " 1. 4. 4. 2. 4. 4. 2. 1. 2. 3. 3. 3. 4. 3. 1. 4. 2. 3. 2. 3. 4. 2. 3. 1.\n",
            " 1. 1. 4. 2. 1. 3. 1. 3. 2. 4. 1. 3. 3. 1. 3. 2. 4. 4. 4. 3. 1. 4. 2. 4.\n",
            " 2. 1. 3. 2. 1. 3. 3. 1. 3. 4. 4. 2. 1. 2. 4. 2. 4. 3. 2. 2. 2. 3. 4. 1.\n",
            " 2. 4. 1. 3. 3. 4. 1. 1. 3. 2. 4. 4. 4. 2. 1. 3. 2. 4. 1. 4. 3. 2. 4. 4.\n",
            " 1. 2. 2. 3. 4. 2. 1. 1. 4. 2. 1. 3. 2. 2. 3. 1. 4. 3. 3. 3. 3. 1. 2. 1.\n",
            " 2. 1. 1. 3. 3. 2. 3. 4. 1. 4. 1. 1. 2. 4. 3. 2. 4. 3. 4. 3. 4. 2. 2. 4.\n",
            " 1. 2. 2. 2. 3. 4. 1. 4. 1. 3. 1. 4. 1. 3. 1. 2. 3. 3. 4. 1. 2. 4. 2. 3.\n",
            " 3. 1. 4. 2. 4. 1. 1. 3. 3. 2. 4. 2. 2. 1. 2. 4. 4. 2. 2. 2. 2. 4. 4. 3.\n",
            " 4. 1. 2. 3. 2. 1. 4. 1. 4. 1. 1. 1. 1. 3. 3. 4. 2. 3. 3. 3. 4. 3. 1. 3.]\n",
            "Extracting EDF parameters from /mnt/cogsci/home/ybo/189/content/raw_data/A04E.gdf...\n",
            "GDF file detected\n",
            "Setting channel info structure...\n",
            "Could not determine channel type of the following channels, they will be set as EEG:\n",
            "EEG-Fz, EEG, EEG, EEG, EEG, EEG, EEG, EEG-C3, EEG, EEG-Cz, EEG, EEG-C4, EEG, EEG, EEG, EEG, EEG, EEG, EEG, EEG-Pz, EEG, EEG\n",
            "Creating raw.info structure...\n",
            "Reading 0 ... 660046  =      0.000 ...  2640.184 secs...\n"
          ]
        },
        {
          "name": "stderr",
          "output_type": "stream",
          "text": [
            "/home/ybo/miniconda3/envs/myenv/lib/python3.12/contextlib.py:144: RuntimeWarning: Channel names are not unique, found duplicates for: {'EEG'}. Applying running numbers for duplicates.\n",
            "  next(self.gen)\n"
          ]
        },
        {
          "name": "stdout",
          "output_type": "stream",
          "text": [
            "Filtering raw data in 1 contiguous segment\n",
            "Setting up band-pass filter from 4 - 40 Hz\n",
            "\n",
            "IIR filter parameters\n",
            "---------------------\n",
            "Butterworth bandpass zero-phase (two-pass forward and reverse) non-causal filter:\n",
            "- Filter order 16 (effective, after forward-backward)\n",
            "- Cutoffs at 4.00, 40.00 Hz: -6.02, -6.02 dB\n",
            "\n",
            "Overwriting existing file.\n",
            "Writing /mnt/cogsci/home/ybo/189/content/cleaned_data/second_session/A04E.fif\n",
            "Closing /mnt/cogsci/home/ybo/189/content/cleaned_data/second_session/A04E.fif\n",
            "[done]\n",
            "data:A04E.gdf, label:A04E.mat\n",
            "[1. 2. 2. ... 1. 2. 1.]\n",
            "Extracting EDF parameters from /mnt/cogsci/home/ybo/189/content/raw_data/A08E.gdf...\n",
            "GDF file detected\n",
            "Setting channel info structure...\n"
          ]
        },
        {
          "name": "stderr",
          "output_type": "stream",
          "text": [
            "/tmp/ipykernel_2845688/4058047235.py:32: RuntimeWarning: This filename (/mnt/cogsci/home/ybo/189/content/cleaned_data/second_session/A04E.fif) does not conform to MNE naming conventions. All raw files should end with raw.fif, raw_sss.fif, raw_tsss.fif, _meg.fif, _eeg.fif, _ieeg.fif, raw.fif.gz, raw_sss.fif.gz, raw_tsss.fif.gz, _meg.fif.gz, _eeg.fif.gz or _ieeg.fif.gz\n",
            "  raw.save(new_file_path, overwrite=True)\n"
          ]
        },
        {
          "name": "stdout",
          "output_type": "stream",
          "text": [
            "Could not determine channel type of the following channels, they will be set as EEG:\n",
            "EEG-Fz, EEG, EEG, EEG, EEG, EEG, EEG, EEG-C3, EEG, EEG-Cz, EEG, EEG-C4, EEG, EEG, EEG, EEG, EEG, EEG, EEG, EEG-Pz, EEG, EEG\n",
            "Creating raw.info structure...\n",
            "Reading 0 ... 687791  =      0.000 ...  2751.164 secs...\n"
          ]
        },
        {
          "name": "stderr",
          "output_type": "stream",
          "text": [
            "/home/ybo/miniconda3/envs/myenv/lib/python3.12/contextlib.py:144: RuntimeWarning: Channel names are not unique, found duplicates for: {'EEG'}. Applying running numbers for duplicates.\n",
            "  next(self.gen)\n"
          ]
        },
        {
          "name": "stdout",
          "output_type": "stream",
          "text": [
            "Filtering raw data in 1 contiguous segment\n",
            "Setting up band-pass filter from 4 - 40 Hz\n",
            "\n",
            "IIR filter parameters\n",
            "---------------------\n",
            "Butterworth bandpass zero-phase (two-pass forward and reverse) non-causal filter:\n",
            "- Filter order 16 (effective, after forward-backward)\n",
            "- Cutoffs at 4.00, 40.00 Hz: -6.02, -6.02 dB\n",
            "\n",
            "Overwriting existing file.\n",
            "Writing /mnt/cogsci/home/ybo/189/content/cleaned_data/second_session/A08E.fif\n"
          ]
        },
        {
          "name": "stderr",
          "output_type": "stream",
          "text": [
            "/tmp/ipykernel_2845688/4058047235.py:32: RuntimeWarning: This filename (/mnt/cogsci/home/ybo/189/content/cleaned_data/second_session/A08E.fif) does not conform to MNE naming conventions. All raw files should end with raw.fif, raw_sss.fif, raw_tsss.fif, _meg.fif, _eeg.fif, _ieeg.fif, raw.fif.gz, raw_sss.fif.gz, raw_tsss.fif.gz, _meg.fif.gz, _eeg.fif.gz or _ieeg.fif.gz\n",
            "  raw.save(new_file_path, overwrite=True)\n"
          ]
        },
        {
          "name": "stdout",
          "output_type": "stream",
          "text": [
            "Closing /mnt/cogsci/home/ybo/189/content/cleaned_data/second_session/A08E.fif\n",
            "[done]\n",
            "data:A08E.gdf, label:A08E.mat\n",
            "[1. 2. 2. ... 3. 1. 3.]\n",
            "Extracting EDF parameters from /mnt/cogsci/home/ybo/189/content/raw_data/A06E.gdf...\n",
            "GDF file detected\n",
            "Setting channel info structure...\n",
            "Could not determine channel type of the following channels, they will be set as EEG:\n",
            "EEG-Fz, EEG, EEG, EEG, EEG, EEG, EEG, EEG-C3, EEG, EEG-Cz, EEG, EEG-C4, EEG, EEG, EEG, EEG, EEG, EEG, EEG, EEG-Pz, EEG, EEG\n",
            "Creating raw.info structure...\n",
            "Reading 0 ... 666372  =      0.000 ...  2665.488 secs...\n"
          ]
        },
        {
          "name": "stderr",
          "output_type": "stream",
          "text": [
            "/home/ybo/miniconda3/envs/myenv/lib/python3.12/contextlib.py:144: RuntimeWarning: Channel names are not unique, found duplicates for: {'EEG'}. Applying running numbers for duplicates.\n",
            "  next(self.gen)\n"
          ]
        },
        {
          "name": "stdout",
          "output_type": "stream",
          "text": [
            "Filtering raw data in 1 contiguous segment\n",
            "Setting up band-pass filter from 4 - 40 Hz\n",
            "\n",
            "IIR filter parameters\n",
            "---------------------\n",
            "Butterworth bandpass zero-phase (two-pass forward and reverse) non-causal filter:\n",
            "- Filter order 16 (effective, after forward-backward)\n",
            "- Cutoffs at 4.00, 40.00 Hz: -6.02, -6.02 dB\n",
            "\n",
            "Overwriting existing file.\n",
            "Writing /mnt/cogsci/home/ybo/189/content/cleaned_data/second_session/A06E.fif\n",
            "Closing /mnt/cogsci/home/ybo/189/content/cleaned_data/second_session/A06E.fif\n",
            "[done]\n",
            "data:A06E.gdf, label:A06E.mat\n",
            "[1. 2. 2. ... 3. 1. 3.]\n",
            "Extracting EDF parameters from /mnt/cogsci/home/ybo/189/content/raw_data/A02E.gdf...\n",
            "GDF file detected\n",
            "Setting channel info structure...\n",
            "Could not determine channel type of the following channels, they will be set as EEG:\n",
            "EEG-Fz, EEG, EEG, EEG, EEG, EEG, EEG, EEG-C3, EEG, EEG-Cz, EEG, EEG-C4, EEG, EEG, EEG, EEG, EEG, EEG, EEG, EEG-Pz, EEG, EEG\n",
            "Creating raw.info structure...\n",
            "Reading 0 ... 662665  =      0.000 ...  2650.660 secs...\n"
          ]
        },
        {
          "name": "stderr",
          "output_type": "stream",
          "text": [
            "/tmp/ipykernel_2845688/4058047235.py:32: RuntimeWarning: This filename (/mnt/cogsci/home/ybo/189/content/cleaned_data/second_session/A06E.fif) does not conform to MNE naming conventions. All raw files should end with raw.fif, raw_sss.fif, raw_tsss.fif, _meg.fif, _eeg.fif, _ieeg.fif, raw.fif.gz, raw_sss.fif.gz, raw_tsss.fif.gz, _meg.fif.gz, _eeg.fif.gz or _ieeg.fif.gz\n",
            "  raw.save(new_file_path, overwrite=True)\n",
            "/home/ybo/miniconda3/envs/myenv/lib/python3.12/contextlib.py:144: RuntimeWarning: Channel names are not unique, found duplicates for: {'EEG'}. Applying running numbers for duplicates.\n",
            "  next(self.gen)\n"
          ]
        },
        {
          "name": "stdout",
          "output_type": "stream",
          "text": [
            "Filtering raw data in 1 contiguous segment\n",
            "Setting up band-pass filter from 4 - 40 Hz\n",
            "\n",
            "IIR filter parameters\n",
            "---------------------\n",
            "Butterworth bandpass zero-phase (two-pass forward and reverse) non-causal filter:\n",
            "- Filter order 16 (effective, after forward-backward)\n",
            "- Cutoffs at 4.00, 40.00 Hz: -6.02, -6.02 dB\n",
            "\n",
            "Overwriting existing file.\n",
            "Writing /mnt/cogsci/home/ybo/189/content/cleaned_data/second_session/A02E.fif\n",
            "Closing /mnt/cogsci/home/ybo/189/content/cleaned_data/second_session/A02E.fif\n",
            "[done]\n",
            "data:A02E.gdf, label:A02E.mat\n",
            "[1. 2. 2. ... 3. 1. 3.]\n",
            "Extracting EDF parameters from /mnt/cogsci/home/ybo/189/content/raw_data/A07E.gdf...\n",
            "GDF file detected\n",
            "Setting channel info structure...\n",
            "Could not determine channel type of the following channels, they will be set as EEG:\n",
            "EEG-Fz, EEG, EEG, EEG, EEG, EEG, EEG, EEG-C3, EEG, EEG-Cz, EEG, EEG-C4, EEG, EEG, EEG, EEG, EEG, EEG, EEG, EEG-Pz, EEG, EEG\n",
            "Creating raw.info structure...\n",
            "Reading 0 ... 673134  =      0.000 ...  2692.536 secs...\n"
          ]
        },
        {
          "name": "stderr",
          "output_type": "stream",
          "text": [
            "/tmp/ipykernel_2845688/4058047235.py:32: RuntimeWarning: This filename (/mnt/cogsci/home/ybo/189/content/cleaned_data/second_session/A02E.fif) does not conform to MNE naming conventions. All raw files should end with raw.fif, raw_sss.fif, raw_tsss.fif, _meg.fif, _eeg.fif, _ieeg.fif, raw.fif.gz, raw_sss.fif.gz, raw_tsss.fif.gz, _meg.fif.gz, _eeg.fif.gz or _ieeg.fif.gz\n",
            "  raw.save(new_file_path, overwrite=True)\n",
            "/home/ybo/miniconda3/envs/myenv/lib/python3.12/contextlib.py:144: RuntimeWarning: Channel names are not unique, found duplicates for: {'EEG'}. Applying running numbers for duplicates.\n",
            "  next(self.gen)\n"
          ]
        },
        {
          "name": "stdout",
          "output_type": "stream",
          "text": [
            "Filtering raw data in 1 contiguous segment\n",
            "Setting up band-pass filter from 4 - 40 Hz\n",
            "\n",
            "IIR filter parameters\n",
            "---------------------\n",
            "Butterworth bandpass zero-phase (two-pass forward and reverse) non-causal filter:\n",
            "- Filter order 16 (effective, after forward-backward)\n",
            "- Cutoffs at 4.00, 40.00 Hz: -6.02, -6.02 dB\n",
            "\n",
            "Overwriting existing file.\n",
            "Writing /mnt/cogsci/home/ybo/189/content/cleaned_data/second_session/A07E.fif\n",
            "Closing /mnt/cogsci/home/ybo/189/content/cleaned_data/second_session/A07E.fif\n",
            "[done]\n",
            "data:A07E.gdf, label:A07E.mat\n",
            "[1. 2. 2. ... 3. 1. 3.]\n",
            "Extracting EDF parameters from /mnt/cogsci/home/ybo/189/content/raw_data/A03E.gdf...\n",
            "GDF file detected\n",
            "Setting channel info structure...\n"
          ]
        },
        {
          "name": "stderr",
          "output_type": "stream",
          "text": [
            "/tmp/ipykernel_2845688/4058047235.py:32: RuntimeWarning: This filename (/mnt/cogsci/home/ybo/189/content/cleaned_data/second_session/A07E.fif) does not conform to MNE naming conventions. All raw files should end with raw.fif, raw_sss.fif, raw_tsss.fif, _meg.fif, _eeg.fif, _ieeg.fif, raw.fif.gz, raw_sss.fif.gz, raw_tsss.fif.gz, _meg.fif.gz, _eeg.fif.gz or _ieeg.fif.gz\n",
            "  raw.save(new_file_path, overwrite=True)\n"
          ]
        },
        {
          "name": "stdout",
          "output_type": "stream",
          "text": [
            "Could not determine channel type of the following channels, they will be set as EEG:\n",
            "EEG-Fz, EEG, EEG, EEG, EEG, EEG, EEG, EEG-C3, EEG, EEG-Cz, EEG, EEG-C4, EEG, EEG, EEG, EEG, EEG, EEG, EEG, EEG-Pz, EEG, EEG\n",
            "Creating raw.info structure...\n",
            "Reading 0 ... 648774  =      0.000 ...  2595.096 secs...\n"
          ]
        },
        {
          "name": "stderr",
          "output_type": "stream",
          "text": [
            "/home/ybo/miniconda3/envs/myenv/lib/python3.12/contextlib.py:144: RuntimeWarning: Channel names are not unique, found duplicates for: {'EEG'}. Applying running numbers for duplicates.\n",
            "  next(self.gen)\n"
          ]
        },
        {
          "name": "stdout",
          "output_type": "stream",
          "text": [
            "Filtering raw data in 1 contiguous segment\n",
            "Setting up band-pass filter from 4 - 40 Hz\n",
            "\n",
            "IIR filter parameters\n",
            "---------------------\n",
            "Butterworth bandpass zero-phase (two-pass forward and reverse) non-causal filter:\n",
            "- Filter order 16 (effective, after forward-backward)\n",
            "- Cutoffs at 4.00, 40.00 Hz: -6.02, -6.02 dB\n",
            "\n",
            "Overwriting existing file.\n",
            "Writing /mnt/cogsci/home/ybo/189/content/cleaned_data/second_session/A03E.fif\n",
            "Closing /mnt/cogsci/home/ybo/189/content/cleaned_data/second_session/A03E.fif\n",
            "[done]\n"
          ]
        },
        {
          "name": "stderr",
          "output_type": "stream",
          "text": [
            "/tmp/ipykernel_2845688/4058047235.py:32: RuntimeWarning: This filename (/mnt/cogsci/home/ybo/189/content/cleaned_data/second_session/A03E.fif) does not conform to MNE naming conventions. All raw files should end with raw.fif, raw_sss.fif, raw_tsss.fif, _meg.fif, _eeg.fif, _ieeg.fif, raw.fif.gz, raw_sss.fif.gz, raw_tsss.fif.gz, _meg.fif.gz, _eeg.fif.gz or _ieeg.fif.gz\n",
            "  raw.save(new_file_path, overwrite=True)\n"
          ]
        },
        {
          "name": "stdout",
          "output_type": "stream",
          "text": [
            "data:A03E.gdf, label:A03E.mat\n",
            "[1. 2. 2. ... 3. 1. 3.]\n",
            "Overwriting existing file.\n",
            "Writing /mnt/cogsci/home/ybo/189/content/cleaned_data/second_session/Second_Session_Subjects.fif\n"
          ]
        },
        {
          "name": "stderr",
          "output_type": "stream",
          "text": [
            "/tmp/ipykernel_2845688/4058047235.py:64: RuntimeWarning: This filename (/mnt/cogsci/home/ybo/189/content/cleaned_data/second_session/Second_Session_Subjects.fif) does not conform to MNE naming conventions. All raw files should end with raw.fif, raw_sss.fif, raw_tsss.fif, _meg.fif, _eeg.fif, _ieeg.fif, raw.fif.gz, raw_sss.fif.gz, raw_tsss.fif.gz, _meg.fif.gz, _eeg.fif.gz or _ieeg.fif.gz\n",
            "  final_raw.save(new_file_path, overwrite=True)\n"
          ]
        },
        {
          "name": "stdout",
          "output_type": "stream",
          "text": [
            "Closing /mnt/cogsci/home/ybo/189/content/cleaned_data/second_session/Second_Session_Subjects.fif\n",
            "[done]\n"
          ]
        },
        {
          "data": {
            "text/plain": [
              "[PosixPath('/mnt/cogsci/home/ybo/189/content/cleaned_data/second_session/Second_Session_Subjects.fif')]"
            ]
          },
          "execution_count": 110,
          "metadata": {},
          "output_type": "execute_result"
        }
      ],
      "source": [
        "raw_data_folder = cwd+'/content/raw_data/'\n",
        "cleaned_data_folder = cwd+'/content/cleaned_data/second_session/'\n",
        "mat_folder = cwd+'/content/second_session_labels/'\n",
        "\n",
        "\n",
        "\n",
        "\n",
        "# Selecting files with suffix 'E.mat'\n",
        "mat_files = os.listdir(mat_folder)\n",
        "filtered_math_labels = [file for file in mat_files if file.endswith('E.mat')]\n",
        "\n",
        "# Selecting files with suffix 'E.gdf'\n",
        "files = os.listdir(raw_data_folder)\n",
        "filtered_files = [file for file in files if file.endswith('E.gdf')]\n",
        "\n",
        "raw_list = []\n",
        "second_session_labels = np.array([])\n",
        "# Iterating through filtered files\n",
        "for file in filtered_files:\n",
        "    file_path = os.path.join(raw_data_folder, file)\n",
        "\n",
        "    # Reading raw data\n",
        "    raw = mne.io.read_raw_gdf(file_path, eog=['EOG-left', 'EOG-central', 'EOG-right'], preload=True)\n",
        "    # Droping EOG channels\n",
        "    raw.drop_channels(['EOG-left', 'EOG-central', 'EOG-right'])\n",
        "\n",
        "    # High Pass Filtering 4-40 Hz\n",
        "    raw.filter(l_freq=4, h_freq=40, method='iir')\n",
        "\n",
        "    # Saving the modified raw data to a file with .fif suffix\n",
        "    new_file_path = os.path.join(cleaned_data_folder, file[:-4] + '.fif')\n",
        "    raw.save(new_file_path, overwrite=True)\n",
        "    # Appending data to t he list\n",
        "    raw_list.append(raw)\n",
        "\n",
        "    # Mat files for the labels\n",
        "    mat_file_name = file.replace('.gdf', '.mat')\n",
        "    mat_file_path = os.path.join(mat_folder, mat_file_name)\n",
        "    print(f\"data:{file}, label:{mat_file_name}\")\n",
        "\n",
        "    if os.path.exists(mat_file_path):\n",
        "        mat_data = scipy.io.loadmat(mat_file_path)\n",
        "        class_labels = mat_data.get('classlabel', [])\n",
        "        # only care about Left (1) and Right (2) classes!!\n",
        "        # valid_indices = np.isin(class_labels, [1, 2]).flatten()\n",
        "        # class_labels = class_labels[valid_indices]\n",
        "\n",
        "        # Check if 'classlabel' key exists and is not empty\n",
        "        if class_labels.size > 0:\n",
        "             # Convert to a NumPy array and flatten\n",
        "            class_labels_array = np.array(class_labels, dtype=int).flatten()\n",
        "            # Concatenate with the existing test_labels array\n",
        "            second_session_labels = np.concatenate((second_session_labels, class_labels_array))\n",
        "            print(second_session_labels)\n",
        "\n",
        "            # label_dict[file[:-4]] = class_labels_array\n",
        "        else:\n",
        "            print(f\"Warning: 'classlabel' not found or empty in {mat_file_name}.\")\n",
        "    else:\n",
        "        print(f\"Warning: {mat_file_name} not found.\")\n",
        "\n",
        "final_raw = mne.concatenate_raws(raw_list)\n",
        "new_file_path = os.path.join(cleaned_data_folder, 'Second_Session_Subjects.fif')\n",
        "final_raw.save(new_file_path, overwrite=True)"
      ]
    },
    {
      "cell_type": "markdown",
      "metadata": {},
      "source": [
        "## filtered L vs. R classes only (class 1 & 2)"
      ]
    },
    {
      "cell_type": "markdown",
      "metadata": {
        "id": "kgSKXweNM87Q"
      },
      "source": [
        "**List of the events**  \n",
        "'1023': 1 Rejected trial  \n",
        "'1072': 2 Eye movements  \n",
        "'276': 3 Idling EEG (eyes open)  \n",
        "'277': 4 Idling EEG (eyes closed)  \n",
        "'32766': 5 Start of a new run  \n",
        "'768': 6 Start of a trial  \n",
        "'783': 7 Cue unknown"
      ]
    },
    {
      "cell_type": "code",
      "execution_count": 32,
      "metadata": {
        "colab": {
          "base_uri": "https://localhost:8080/"
        },
        "id": "KIuyfy9DNAvO",
        "outputId": "884cb7c0-7643-420e-ecee-05e0aecbf6fb"
      },
      "outputs": [
        {
          "name": "stdout",
          "output_type": "stream",
          "text": [
            "Used Annotations descriptions: ['1023', '1072', '276', '277', '32766', '768', '783']\n"
          ]
        },
        {
          "data": {
            "text/plain": [
              "{'1023': 1, '1072': 2, '276': 3, '277': 4, '32766': 5, '768': 6, '783': 7}"
            ]
          },
          "execution_count": 32,
          "metadata": {},
          "output_type": "execute_result"
        }
      ],
      "source": [
        "events = mne.events_from_annotations(final_raw)\n",
        "events[1]"
      ]
    },
    {
      "cell_type": "markdown",
      "metadata": {},
      "source": [
        "- Extract Events from Annotations\n",
        "- Filter Event (labels 1 and 2)."
      ]
    },
    {
      "cell_type": "code",
      "execution_count": 37,
      "metadata": {
        "colab": {
          "base_uri": "https://localhost:8080/"
        },
        "id": "KGDah5f4NCBr",
        "outputId": "348a121b-d355-4239-9798-dcd0b10cd16a"
      },
      "outputs": [
        {
          "name": "stdout",
          "output_type": "stream",
          "text": [
            "Not setting metadata\n",
            "2592 matching events found\n",
            "No baseline correction applied\n",
            "0 projection items activated\n",
            "Using data from preloaded Raw for 2592 events and 1001 original time points ...\n"
          ]
        },
        {
          "name": "stdout",
          "output_type": "stream",
          "text": [
            "0 bad epochs dropped\n"
          ]
        }
      ],
      "source": [
        "epochs = mne.Epochs(final_raw, events[0], event_id=7, tmin=0, tmax=4, reject=None, baseline=None, preload=None)\n",
        "# event 7 is the label free data\n",
        "second_session_data = epochs.get_data(copy=True)"
      ]
    },
    {
      "cell_type": "code",
      "execution_count": 73,
      "metadata": {},
      "outputs": [],
      "source": [
        "print(second_session_data.shape)\n",
        "print(second_session_labels.shape)\n",
        "\n",
        "\n",
        "## Filter out only L & R classes\n",
        "mask = (second_session_labels == 1) | (second_session_labels == 2)\n",
        "\n",
        "# Apply the mask to the data array to filter it\n",
        "second_session_data_filtered = second_session_data[mask]\n",
        "second_session_labels_filtered = second_session_labels[mask]\n",
        "print(\"----\")\n",
        "print(second_session_data_filtered.shape)\n",
        "# print(second_session_labels.shape)"
      ]
    },
    {
      "cell_type": "markdown",
      "metadata": {
        "id": "nA0Hr5BMPE5e"
      },
      "source": [
        "### Structuring Data"
      ]
    },
    {
      "cell_type": "code",
      "execution_count": 59,
      "metadata": {
        "colab": {
          "base_uri": "https://localhost:8080/"
        },
        "id": "D5dF6ZydC2PP",
        "outputId": "67fafc85-ff3d-48f3-f08a-3abc663df0b3"
      },
      "outputs": [
        {
          "name": "stdout",
          "output_type": "stream",
          "text": [
            "Size of X_train: torch.Size([2332, 1, 22, 1001])\n",
            "Size of X_test: torch.Size([260, 1, 22, 1001])\n",
            "Size of y_train: torch.Size([2332])\n",
            "Size of y_test: torch.Size([260])\n"
          ]
        }
      ],
      "source": [
        "# Choosing Device\n",
        "device = torch.device(\"cuda\" if torch.cuda.is_available() else \"cpu\")\n",
        "\n",
        "# Loss Function\n",
        "criterion = nn.CrossEntropyLoss()\n",
        "\n",
        "# Normalizing Labels to [0, 1, 2, 3]\n",
        "y_train = first_session_labels - np.min(first_session_labels)\n",
        "y_test = second_session_labels_filtered - np.min(second_session_labels_filtered)\n",
        "\n",
        "# Normalizing Input features: z-score(mean=0, std=1)\n",
        "X_first_session = (first_session_data - np.mean(first_session_data)) / np.std(first_session_data)\n",
        "X_second_session = (second_session_data_filtered - np.mean(second_session_data_filtered)) / np.std(second_session_data_filtered)\n",
        "\n",
        "X = np.concatenate((X_first_session, X_second_session))\n",
        "y = np.concatenate((y_train, y_test))\n",
        "\n",
        "# Spliting  Data: 90% for Train and 10% for Test\n",
        "X_train, X_test, y_train, y_test = train_test_split(X, y, test_size=0.1, random_state=42, stratify=y)\n",
        "\n",
        "# Converting to Tensor\n",
        "X_train = torch.Tensor(X_train).unsqueeze(1).to(device)\n",
        "X_test = torch.Tensor(X_test).unsqueeze(1).to(device)\n",
        "y_train = torch.LongTensor(y_train).to(device)\n",
        "y_test = torch.LongTensor(y_test).to(device)\n",
        "\n",
        "# Creating Tensor Dataset\n",
        "train_dataset = TensorDataset(X_train, y_train)\n",
        "test_dataset = TensorDataset(X_test, y_test)\n",
        "\n",
        "# Printing the sizes\n",
        "print(\"Size of X_train:\", X_train.size())\n",
        "print(\"Size of X_test:\", X_test.size())\n",
        "print(\"Size of y_train:\", y_train.size())\n",
        "print(\"Size of y_test:\", y_test.size())\n"
      ]
    },
    {
      "cell_type": "markdown",
      "metadata": {},
      "source": [
        "# Pipline process and save data per subject (both train and eval, sperated)"
      ]
    },
    {
      "cell_type": "code",
      "execution_count": 104,
      "metadata": {},
      "outputs": [],
      "source": [
        "import os\n",
        "import mne\n",
        "import numpy as np\n",
        "import scipy.io\n",
        "from sklearn.utils import shuffle\n",
        "from sklearn.model_selection import train_test_split\n",
        "\n",
        "def process_and_save_subject_data(subject_id):\n",
        "    cwd = os.getcwd()\n",
        "    raw_data_folder = os.path.join(cwd, 'content', 'raw_data')\n",
        "    # cleaned_data_folder = os.path.join(cwd, 'content', 'cleaned_data', 'first_session' if is_training else 'second_session')\n",
        "    cleaned_data_folder = os.path.join(cwd, 'content', 'cleaned_data')\n",
        "    mat_folder = os.path.join(cwd, 'content', 'second_session_labels')\n",
        "\n",
        "    # processing for both training (first session) and testing (second session)\n",
        "    sessions = {'T': 'first_session', 'E': 'second_session'}\n",
        "    data_list = []\n",
        "    labels_list = []\n",
        "\n",
        "    for suffix, session in sessions.items():\n",
        "        file_path = os.path.join(raw_data_folder, f'{subject_id}{suffix}.gdf')\n",
        "        raw = mne.io.read_raw_gdf(file_path, eog=['EOG-left', 'EOG-central', 'EOG-right'], preload=True)\n",
        "        raw.drop_channels(['EOG-left', 'EOG-central', 'EOG-right'])\n",
        "        raw.filter(l_freq=4, h_freq=40, method='iir')\n",
        "        raw.notch_filter(freqs=50)\n",
        "\n",
        "        if suffix == 'T':\n",
        "\n",
        "\n",
        "            events = mne.events_from_annotations(raw)\n",
        "            epochs = mne.Epochs(raw, events[0], event_id=[7, 8], tmin=0, tmax=4, reject=None, baseline=None, preload=True)\n",
        "            session_data = epochs.get_data()\n",
        "            event_id_map = {'7': 0, '8': 1}\n",
        "            labels = epochs.events[:, -1]\n",
        "            session_labels = np.array([event_id_map[str(label)] if str(label) in event_id_map else label for label in labels])\n",
        "        else:\n",
        "            mat_file_path = os.path.join(mat_folder, f'{subject_id}{suffix}.mat')\n",
        "            mat_data = scipy.io.loadmat(mat_file_path)\n",
        "            class_labels = mat_data['classlabel'].squeeze()\n",
        "\n",
        "            events = mne.events_from_annotations(raw)\n",
        "            # 7 is proper usauble trials\n",
        "            epochs = mne.Epochs(raw, events[0], event_id=7, tmin=0, tmax=4, reject=None, baseline=None, preload=None)\n",
        "            data = epochs.get_data()\n",
        "\n",
        "            # remap class labels 1 and 2 to 0 and 1 for consistent with training\n",
        "            mask = (class_labels == 1) | (class_labels == 2)\n",
        "            session_data = data[mask]\n",
        "            session_labels = class_labels[mask] - 1\n",
        "        data_list.append(session_data)\n",
        "        labels_list.append(session_labels)\n",
        "\n",
        "    # combine, shuffle, then split the data\n",
        "    combined_data = np.concatenate(data_list, axis=0)\n",
        "    combined_labels = np.concatenate(labels_list, axis=0)\n",
        "    combined_data, combined_labels = shuffle(combined_data, combined_labels, random_state=42)\n",
        "\n",
        "    # new_file_path = os.path.join(cleaned_data_folder, f'{subject_id}_{file_suffix[:-4]}_subjects.fif')\n",
        "    # final_raw = mne.concatenate_raws([raw])\n",
        "    # final_raw.save(new_file_path, overwrite=True)\n",
        "\n",
        "    X_train, X_test, y_train, y_test = train_test_split(combined_data, combined_labels, test_size=0.2, random_state=42, stratify=combined_labels)\n",
        "\n",
        "    # Save processed data\n",
        "    np.save(os.path.join(cleaned_data_folder, f'{subject_id}_combined_train_data.npy'), X_train)\n",
        "    np.save(os.path.join(cleaned_data_folder, f'{subject_id}_combined_train_labels.npy'), y_train)\n",
        "    np.save(os.path.join(cleaned_data_folder, f'{subject_id}_combined_test_data.npy'), X_test)\n",
        "    np.save(os.path.join(cleaned_data_folder, f'{subject_id}_combined_test_labels.npy'), y_test)\n",
        "    \n",
        "    # # save the numpy arrays\n",
        "    # np.save(os.path.join(cleaned_data_folder, f'{subject_id}_{file_suffix[:-4]}_data.npy'), data)\n",
        "    # np.save(os.path.join(cleaned_data_folder, f'{subject_id}_{file_suffix[:-4]}_labels.npy'), labels)\n"
      ]
    },
    {
      "cell_type": "code",
      "execution_count": 109,
      "metadata": {},
      "outputs": [
        {
          "name": "stdout",
          "output_type": "stream",
          "text": [
            "Extracting EDF parameters from /mnt/cogsci/home/ybo/189/content/raw_data/A01T.gdf...\n",
            "GDF file detected\n",
            "Setting channel info structure...\n",
            "Could not determine channel type of the following channels, they will be set as EEG:\n",
            "EEG-Fz, EEG, EEG, EEG, EEG, EEG, EEG, EEG-C3, EEG, EEG-Cz, EEG, EEG-C4, EEG, EEG, EEG, EEG, EEG, EEG, EEG, EEG-Pz, EEG, EEG\n",
            "Creating raw.info structure...\n",
            "Reading 0 ... 672527  =      0.000 ...  2690.108 secs...\n"
          ]
        },
        {
          "name": "stderr",
          "output_type": "stream",
          "text": [
            "/home/ybo/miniconda3/envs/myenv/lib/python3.12/contextlib.py:144: RuntimeWarning: Channel names are not unique, found duplicates for: {'EEG'}. Applying running numbers for duplicates.\n",
            "  next(self.gen)\n"
          ]
        },
        {
          "name": "stdout",
          "output_type": "stream",
          "text": [
            "Filtering raw data in 1 contiguous segment\n",
            "Setting up band-pass filter from 4 - 40 Hz\n",
            "\n",
            "IIR filter parameters\n",
            "---------------------\n",
            "Butterworth bandpass zero-phase (two-pass forward and reverse) non-causal filter:\n",
            "- Filter order 16 (effective, after forward-backward)\n",
            "- Cutoffs at 4.00, 40.00 Hz: -6.02, -6.02 dB\n",
            "\n",
            "Filtering raw data in 1 contiguous segment\n",
            "Setting up band-stop filter from 49 - 51 Hz\n",
            "\n",
            "FIR filter parameters\n",
            "---------------------\n",
            "Designing a one-pass, zero-phase, non-causal bandstop filter:\n",
            "- Windowed time-domain design (firwin) method\n",
            "- Hamming window with 0.0194 passband ripple and 53 dB stopband attenuation\n",
            "- Lower passband edge: 49.38\n",
            "- Lower transition bandwidth: 0.50 Hz (-6 dB cutoff frequency: 49.12 Hz)\n",
            "- Upper passband edge: 50.62 Hz\n",
            "- Upper transition bandwidth: 0.50 Hz (-6 dB cutoff frequency: 50.88 Hz)\n",
            "- Filter length: 1651 samples (6.604 s)\n",
            "\n",
            "Used Annotations descriptions: ['1023', '1072', '276', '277', '32766', '768', '769', '770', '771', '772']\n",
            "Not setting metadata\n",
            "144 matching events found\n",
            "No baseline correction applied\n",
            "0 projection items activated\n",
            "Using data from preloaded Raw for 144 events and 1001 original time points ...\n",
            "0 bad epochs dropped\n",
            "Extracting EDF parameters from /mnt/cogsci/home/ybo/189/content/raw_data/A01E.gdf...\n",
            "GDF file detected\n",
            "Setting channel info structure...\n",
            "Could not determine channel type of the following channels, they will be set as EEG:\n",
            "EEG-Fz, EEG, EEG, EEG, EEG, EEG, EEG, EEG-C3, EEG, EEG-Cz, EEG, EEG-C4, EEG, EEG, EEG, EEG, EEG, EEG, EEG, EEG-Pz, EEG, EEG\n",
            "Creating raw.info structure...\n",
            "Reading 0 ... 686999  =      0.000 ...  2747.996 secs...\n"
          ]
        },
        {
          "name": "stderr",
          "output_type": "stream",
          "text": [
            "[Parallel(n_jobs=1)]: Done  17 tasks      | elapsed:    0.2s\n",
            "/home/ybo/miniconda3/envs/myenv/lib/python3.12/contextlib.py:144: RuntimeWarning: Channel names are not unique, found duplicates for: {'EEG'}. Applying running numbers for duplicates.\n",
            "  next(self.gen)\n"
          ]
        },
        {
          "name": "stdout",
          "output_type": "stream",
          "text": [
            "Filtering raw data in 1 contiguous segment\n",
            "Setting up band-pass filter from 4 - 40 Hz\n",
            "\n",
            "IIR filter parameters\n",
            "---------------------\n",
            "Butterworth bandpass zero-phase (two-pass forward and reverse) non-causal filter:\n",
            "- Filter order 16 (effective, after forward-backward)\n",
            "- Cutoffs at 4.00, 40.00 Hz: -6.02, -6.02 dB\n",
            "\n",
            "Filtering raw data in 1 contiguous segment\n",
            "Setting up band-stop filter from 49 - 51 Hz\n",
            "\n",
            "FIR filter parameters\n",
            "---------------------\n",
            "Designing a one-pass, zero-phase, non-causal bandstop filter:\n",
            "- Windowed time-domain design (firwin) method\n",
            "- Hamming window with 0.0194 passband ripple and 53 dB stopband attenuation\n",
            "- Lower passband edge: 49.38\n",
            "- Lower transition bandwidth: 0.50 Hz (-6 dB cutoff frequency: 49.12 Hz)\n",
            "- Upper passband edge: 50.62 Hz\n",
            "- Upper transition bandwidth: 0.50 Hz (-6 dB cutoff frequency: 50.88 Hz)\n",
            "- Filter length: 1651 samples (6.604 s)\n",
            "\n",
            "Used Annotations descriptions: ['1023', '1072', '276', '277', '32766', '768', '783']\n",
            "Not setting metadata\n",
            "288 matching events found\n",
            "No baseline correction applied\n",
            "0 projection items activated\n",
            "Using data from preloaded Raw for 288 events and 1001 original time points ...\n",
            "0 bad epochs dropped\n",
            "Extracting EDF parameters from /mnt/cogsci/home/ybo/189/content/raw_data/A02T.gdf...\n",
            "GDF file detected\n",
            "Setting channel info structure...\n",
            "Could not determine channel type of the following channels, they will be set as EEG:\n",
            "EEG-Fz, EEG, EEG, EEG, EEG, EEG, EEG, EEG-C3, EEG, EEG-Cz, EEG, EEG-C4, EEG, EEG, EEG, EEG, EEG, EEG, EEG, EEG-Pz, EEG, EEG\n",
            "Creating raw.info structure...\n",
            "Reading 0 ... 677168  =      0.000 ...  2708.672 secs...\n"
          ]
        },
        {
          "name": "stderr",
          "output_type": "stream",
          "text": [
            "[Parallel(n_jobs=1)]: Done  17 tasks      | elapsed:    0.2s\n",
            "/home/ybo/miniconda3/envs/myenv/lib/python3.12/contextlib.py:144: RuntimeWarning: Channel names are not unique, found duplicates for: {'EEG'}. Applying running numbers for duplicates.\n",
            "  next(self.gen)\n"
          ]
        },
        {
          "name": "stdout",
          "output_type": "stream",
          "text": [
            "Filtering raw data in 1 contiguous segment\n",
            "Setting up band-pass filter from 4 - 40 Hz\n",
            "\n",
            "IIR filter parameters\n",
            "---------------------\n",
            "Butterworth bandpass zero-phase (two-pass forward and reverse) non-causal filter:\n",
            "- Filter order 16 (effective, after forward-backward)\n",
            "- Cutoffs at 4.00, 40.00 Hz: -6.02, -6.02 dB\n",
            "\n",
            "Filtering raw data in 1 contiguous segment\n",
            "Setting up band-stop filter from 49 - 51 Hz\n",
            "\n",
            "FIR filter parameters\n",
            "---------------------\n",
            "Designing a one-pass, zero-phase, non-causal bandstop filter:\n",
            "- Windowed time-domain design (firwin) method\n",
            "- Hamming window with 0.0194 passband ripple and 53 dB stopband attenuation\n",
            "- Lower passband edge: 49.38\n",
            "- Lower transition bandwidth: 0.50 Hz (-6 dB cutoff frequency: 49.12 Hz)\n",
            "- Upper passband edge: 50.62 Hz\n",
            "- Upper transition bandwidth: 0.50 Hz (-6 dB cutoff frequency: 50.88 Hz)\n",
            "- Filter length: 1651 samples (6.604 s)\n",
            "\n",
            "Used Annotations descriptions: ['1023', '1072', '276', '277', '32766', '768', '769', '770', '771', '772']\n",
            "Not setting metadata\n",
            "144 matching events found\n",
            "No baseline correction applied\n",
            "0 projection items activated\n",
            "Using data from preloaded Raw for 144 events and 1001 original time points ...\n",
            "0 bad epochs dropped\n",
            "Extracting EDF parameters from /mnt/cogsci/home/ybo/189/content/raw_data/A02E.gdf...\n",
            "GDF file detected\n",
            "Setting channel info structure...\n",
            "Could not determine channel type of the following channels, they will be set as EEG:\n",
            "EEG-Fz, EEG, EEG, EEG, EEG, EEG, EEG, EEG-C3, EEG, EEG-Cz, EEG, EEG-C4, EEG, EEG, EEG, EEG, EEG, EEG, EEG, EEG-Pz, EEG, EEG\n",
            "Creating raw.info structure...\n",
            "Reading 0 ... 662665  =      0.000 ...  2650.660 secs...\n"
          ]
        },
        {
          "name": "stderr",
          "output_type": "stream",
          "text": [
            "[Parallel(n_jobs=1)]: Done  17 tasks      | elapsed:    0.2s\n",
            "/home/ybo/miniconda3/envs/myenv/lib/python3.12/contextlib.py:144: RuntimeWarning: Channel names are not unique, found duplicates for: {'EEG'}. Applying running numbers for duplicates.\n",
            "  next(self.gen)\n"
          ]
        },
        {
          "name": "stdout",
          "output_type": "stream",
          "text": [
            "Filtering raw data in 1 contiguous segment\n",
            "Setting up band-pass filter from 4 - 40 Hz\n",
            "\n",
            "IIR filter parameters\n",
            "---------------------\n",
            "Butterworth bandpass zero-phase (two-pass forward and reverse) non-causal filter:\n",
            "- Filter order 16 (effective, after forward-backward)\n",
            "- Cutoffs at 4.00, 40.00 Hz: -6.02, -6.02 dB\n",
            "\n",
            "Filtering raw data in 1 contiguous segment\n",
            "Setting up band-stop filter from 49 - 51 Hz\n",
            "\n",
            "FIR filter parameters\n",
            "---------------------\n",
            "Designing a one-pass, zero-phase, non-causal bandstop filter:\n",
            "- Windowed time-domain design (firwin) method\n",
            "- Hamming window with 0.0194 passband ripple and 53 dB stopband attenuation\n",
            "- Lower passband edge: 49.38\n",
            "- Lower transition bandwidth: 0.50 Hz (-6 dB cutoff frequency: 49.12 Hz)\n",
            "- Upper passband edge: 50.62 Hz\n",
            "- Upper transition bandwidth: 0.50 Hz (-6 dB cutoff frequency: 50.88 Hz)\n",
            "- Filter length: 1651 samples (6.604 s)\n",
            "\n",
            "Used Annotations descriptions: ['1023', '1072', '276', '277', '32766', '768', '783']\n",
            "Not setting metadata\n",
            "288 matching events found\n",
            "No baseline correction applied\n",
            "0 projection items activated\n",
            "Using data from preloaded Raw for 288 events and 1001 original time points ...\n",
            "0 bad epochs dropped\n",
            "Extracting EDF parameters from /mnt/cogsci/home/ybo/189/content/raw_data/A03T.gdf...\n",
            "GDF file detected\n",
            "Setting channel info structure...\n",
            "Could not determine channel type of the following channels, they will be set as EEG:\n",
            "EEG-Fz, EEG, EEG, EEG, EEG, EEG, EEG, EEG-C3, EEG, EEG-Cz, EEG, EEG-C4, EEG, EEG, EEG, EEG, EEG, EEG, EEG, EEG-Pz, EEG, EEG\n",
            "Creating raw.info structure...\n",
            "Reading 0 ... 660529  =      0.000 ...  2642.116 secs...\n"
          ]
        },
        {
          "name": "stderr",
          "output_type": "stream",
          "text": [
            "[Parallel(n_jobs=1)]: Done  17 tasks      | elapsed:    0.2s\n",
            "/home/ybo/miniconda3/envs/myenv/lib/python3.12/contextlib.py:144: RuntimeWarning: Channel names are not unique, found duplicates for: {'EEG'}. Applying running numbers for duplicates.\n",
            "  next(self.gen)\n"
          ]
        },
        {
          "name": "stdout",
          "output_type": "stream",
          "text": [
            "Filtering raw data in 1 contiguous segment\n",
            "Setting up band-pass filter from 4 - 40 Hz\n",
            "\n",
            "IIR filter parameters\n",
            "---------------------\n",
            "Butterworth bandpass zero-phase (two-pass forward and reverse) non-causal filter:\n",
            "- Filter order 16 (effective, after forward-backward)\n",
            "- Cutoffs at 4.00, 40.00 Hz: -6.02, -6.02 dB\n",
            "\n",
            "Filtering raw data in 1 contiguous segment\n",
            "Setting up band-stop filter from 49 - 51 Hz\n",
            "\n",
            "FIR filter parameters\n",
            "---------------------\n",
            "Designing a one-pass, zero-phase, non-causal bandstop filter:\n",
            "- Windowed time-domain design (firwin) method\n",
            "- Hamming window with 0.0194 passband ripple and 53 dB stopband attenuation\n",
            "- Lower passband edge: 49.38\n",
            "- Lower transition bandwidth: 0.50 Hz (-6 dB cutoff frequency: 49.12 Hz)\n",
            "- Upper passband edge: 50.62 Hz\n",
            "- Upper transition bandwidth: 0.50 Hz (-6 dB cutoff frequency: 50.88 Hz)\n",
            "- Filter length: 1651 samples (6.604 s)\n",
            "\n",
            "Used Annotations descriptions: ['1023', '1072', '276', '277', '32766', '768', '769', '770', '771', '772']\n",
            "Not setting metadata\n",
            "144 matching events found\n",
            "No baseline correction applied\n",
            "0 projection items activated\n",
            "Using data from preloaded Raw for 144 events and 1001 original time points ...\n",
            "0 bad epochs dropped\n",
            "Extracting EDF parameters from /mnt/cogsci/home/ybo/189/content/raw_data/A03E.gdf...\n",
            "GDF file detected\n",
            "Setting channel info structure...\n",
            "Could not determine channel type of the following channels, they will be set as EEG:\n",
            "EEG-Fz, EEG, EEG, EEG, EEG, EEG, EEG, EEG-C3, EEG, EEG-Cz, EEG, EEG-C4, EEG, EEG, EEG, EEG, EEG, EEG, EEG, EEG-Pz, EEG, EEG\n",
            "Creating raw.info structure...\n",
            "Reading 0 ... 648774  =      0.000 ...  2595.096 secs...\n"
          ]
        },
        {
          "name": "stderr",
          "output_type": "stream",
          "text": [
            "[Parallel(n_jobs=1)]: Done  17 tasks      | elapsed:    0.1s\n",
            "/home/ybo/miniconda3/envs/myenv/lib/python3.12/contextlib.py:144: RuntimeWarning: Channel names are not unique, found duplicates for: {'EEG'}. Applying running numbers for duplicates.\n",
            "  next(self.gen)\n"
          ]
        },
        {
          "name": "stdout",
          "output_type": "stream",
          "text": [
            "Filtering raw data in 1 contiguous segment\n",
            "Setting up band-pass filter from 4 - 40 Hz\n",
            "\n",
            "IIR filter parameters\n",
            "---------------------\n",
            "Butterworth bandpass zero-phase (two-pass forward and reverse) non-causal filter:\n",
            "- Filter order 16 (effective, after forward-backward)\n",
            "- Cutoffs at 4.00, 40.00 Hz: -6.02, -6.02 dB\n",
            "\n",
            "Filtering raw data in 1 contiguous segment\n",
            "Setting up band-stop filter from 49 - 51 Hz\n",
            "\n",
            "FIR filter parameters\n",
            "---------------------\n",
            "Designing a one-pass, zero-phase, non-causal bandstop filter:\n",
            "- Windowed time-domain design (firwin) method\n",
            "- Hamming window with 0.0194 passband ripple and 53 dB stopband attenuation\n",
            "- Lower passband edge: 49.38\n",
            "- Lower transition bandwidth: 0.50 Hz (-6 dB cutoff frequency: 49.12 Hz)\n",
            "- Upper passband edge: 50.62 Hz\n",
            "- Upper transition bandwidth: 0.50 Hz (-6 dB cutoff frequency: 50.88 Hz)\n",
            "- Filter length: 1651 samples (6.604 s)\n",
            "\n",
            "Used Annotations descriptions: ['1023', '1072', '276', '277', '32766', '768', '783']\n",
            "Not setting metadata\n",
            "288 matching events found\n",
            "No baseline correction applied\n",
            "0 projection items activated\n",
            "Using data from preloaded Raw for 288 events and 1001 original time points ...\n",
            "0 bad epochs dropped\n",
            "Extracting EDF parameters from /mnt/cogsci/home/ybo/189/content/raw_data/A04T.gdf...\n",
            "GDF file detected\n",
            "Setting channel info structure...\n",
            "Could not determine channel type of the following channels, they will be set as EEG:\n",
            "EEG-Fz, EEG, EEG, EEG, EEG, EEG, EEG, EEG-C3, EEG, EEG-Cz, EEG, EEG-C4, EEG, EEG, EEG, EEG, EEG, EEG, EEG, EEG-Pz, EEG, EEG\n",
            "Creating raw.info structure...\n",
            "Reading 0 ... 600914  =      0.000 ...  2403.656 secs...\n"
          ]
        },
        {
          "name": "stderr",
          "output_type": "stream",
          "text": [
            "[Parallel(n_jobs=1)]: Done  17 tasks      | elapsed:    0.1s\n",
            "/home/ybo/miniconda3/envs/myenv/lib/python3.12/contextlib.py:144: RuntimeWarning: Channel names are not unique, found duplicates for: {'EEG'}. Applying running numbers for duplicates.\n",
            "  next(self.gen)\n"
          ]
        },
        {
          "name": "stdout",
          "output_type": "stream",
          "text": [
            "Filtering raw data in 1 contiguous segment\n",
            "Setting up band-pass filter from 4 - 40 Hz\n",
            "\n",
            "IIR filter parameters\n",
            "---------------------\n",
            "Butterworth bandpass zero-phase (two-pass forward and reverse) non-causal filter:\n",
            "- Filter order 16 (effective, after forward-backward)\n",
            "- Cutoffs at 4.00, 40.00 Hz: -6.02, -6.02 dB\n",
            "\n",
            "Filtering raw data in 1 contiguous segment\n",
            "Setting up band-stop filter from 49 - 51 Hz\n",
            "\n",
            "FIR filter parameters\n",
            "---------------------\n",
            "Designing a one-pass, zero-phase, non-causal bandstop filter:\n",
            "- Windowed time-domain design (firwin) method\n",
            "- Hamming window with 0.0194 passband ripple and 53 dB stopband attenuation\n",
            "- Lower passband edge: 49.38\n",
            "- Lower transition bandwidth: 0.50 Hz (-6 dB cutoff frequency: 49.12 Hz)\n",
            "- Upper passband edge: 50.62 Hz\n",
            "- Upper transition bandwidth: 0.50 Hz (-6 dB cutoff frequency: 50.88 Hz)\n",
            "- Filter length: 1651 samples (6.604 s)\n",
            "\n",
            "Used Annotations descriptions: ['1023', '1072', '32766', '768', '769', '770', '771', '772']\n",
            "Not setting metadata\n",
            "144 matching events found\n",
            "No baseline correction applied\n",
            "0 projection items activated\n",
            "Using data from preloaded Raw for 144 events and 1001 original time points ...\n",
            "0 bad epochs dropped\n",
            "Extracting EDF parameters from /mnt/cogsci/home/ybo/189/content/raw_data/A04E.gdf...\n",
            "GDF file detected\n",
            "Setting channel info structure...\n",
            "Could not determine channel type of the following channels, they will be set as EEG:\n",
            "EEG-Fz, EEG, EEG, EEG, EEG, EEG, EEG, EEG-C3, EEG, EEG-Cz, EEG, EEG-C4, EEG, EEG, EEG, EEG, EEG, EEG, EEG, EEG-Pz, EEG, EEG\n",
            "Creating raw.info structure...\n",
            "Reading 0 ... 660046  =      0.000 ...  2640.184 secs...\n"
          ]
        },
        {
          "name": "stderr",
          "output_type": "stream",
          "text": [
            "[Parallel(n_jobs=1)]: Done  17 tasks      | elapsed:    0.1s\n",
            "/home/ybo/miniconda3/envs/myenv/lib/python3.12/contextlib.py:144: RuntimeWarning: Channel names are not unique, found duplicates for: {'EEG'}. Applying running numbers for duplicates.\n",
            "  next(self.gen)\n"
          ]
        },
        {
          "name": "stdout",
          "output_type": "stream",
          "text": [
            "Filtering raw data in 1 contiguous segment\n",
            "Setting up band-pass filter from 4 - 40 Hz\n",
            "\n",
            "IIR filter parameters\n",
            "---------------------\n",
            "Butterworth bandpass zero-phase (two-pass forward and reverse) non-causal filter:\n",
            "- Filter order 16 (effective, after forward-backward)\n",
            "- Cutoffs at 4.00, 40.00 Hz: -6.02, -6.02 dB\n",
            "\n",
            "Filtering raw data in 1 contiguous segment\n",
            "Setting up band-stop filter from 49 - 51 Hz\n",
            "\n",
            "FIR filter parameters\n",
            "---------------------\n",
            "Designing a one-pass, zero-phase, non-causal bandstop filter:\n",
            "- Windowed time-domain design (firwin) method\n",
            "- Hamming window with 0.0194 passband ripple and 53 dB stopband attenuation\n",
            "- Lower passband edge: 49.38\n",
            "- Lower transition bandwidth: 0.50 Hz (-6 dB cutoff frequency: 49.12 Hz)\n",
            "- Upper passband edge: 50.62 Hz\n",
            "- Upper transition bandwidth: 0.50 Hz (-6 dB cutoff frequency: 50.88 Hz)\n",
            "- Filter length: 1651 samples (6.604 s)\n",
            "\n",
            "Used Annotations descriptions: ['1023', '1072', '276', '277', '32766', '768', '783']\n",
            "Not setting metadata\n",
            "288 matching events found\n",
            "No baseline correction applied\n",
            "0 projection items activated\n",
            "Using data from preloaded Raw for 288 events and 1001 original time points ...\n",
            "0 bad epochs dropped\n",
            "Extracting EDF parameters from /mnt/cogsci/home/ybo/189/content/raw_data/A05T.gdf...\n",
            "GDF file detected\n",
            "Setting channel info structure...\n",
            "Could not determine channel type of the following channels, they will be set as EEG:\n",
            "EEG-Fz, EEG, EEG, EEG, EEG, EEG, EEG, EEG-C3, EEG, EEG-Cz, EEG, EEG-C4, EEG, EEG, EEG, EEG, EEG, EEG, EEG, EEG-Pz, EEG, EEG\n",
            "Creating raw.info structure...\n",
            "Reading 0 ... 686119  =      0.000 ...  2744.476 secs...\n"
          ]
        },
        {
          "name": "stderr",
          "output_type": "stream",
          "text": [
            "[Parallel(n_jobs=1)]: Done  17 tasks      | elapsed:    0.1s\n",
            "/home/ybo/miniconda3/envs/myenv/lib/python3.12/contextlib.py:144: RuntimeWarning: Channel names are not unique, found duplicates for: {'EEG'}. Applying running numbers for duplicates.\n",
            "  next(self.gen)\n"
          ]
        },
        {
          "name": "stdout",
          "output_type": "stream",
          "text": [
            "Filtering raw data in 1 contiguous segment\n",
            "Setting up band-pass filter from 4 - 40 Hz\n",
            "\n",
            "IIR filter parameters\n",
            "---------------------\n",
            "Butterworth bandpass zero-phase (two-pass forward and reverse) non-causal filter:\n",
            "- Filter order 16 (effective, after forward-backward)\n",
            "- Cutoffs at 4.00, 40.00 Hz: -6.02, -6.02 dB\n",
            "\n",
            "Filtering raw data in 1 contiguous segment\n",
            "Setting up band-stop filter from 49 - 51 Hz\n",
            "\n",
            "FIR filter parameters\n",
            "---------------------\n",
            "Designing a one-pass, zero-phase, non-causal bandstop filter:\n",
            "- Windowed time-domain design (firwin) method\n",
            "- Hamming window with 0.0194 passband ripple and 53 dB stopband attenuation\n",
            "- Lower passband edge: 49.38\n",
            "- Lower transition bandwidth: 0.50 Hz (-6 dB cutoff frequency: 49.12 Hz)\n",
            "- Upper passband edge: 50.62 Hz\n",
            "- Upper transition bandwidth: 0.50 Hz (-6 dB cutoff frequency: 50.88 Hz)\n",
            "- Filter length: 1651 samples (6.604 s)\n",
            "\n",
            "Used Annotations descriptions: ['1023', '1072', '276', '277', '32766', '768', '769', '770', '771', '772']\n",
            "Not setting metadata\n",
            "144 matching events found\n",
            "No baseline correction applied\n",
            "0 projection items activated\n",
            "Using data from preloaded Raw for 144 events and 1001 original time points ...\n",
            "0 bad epochs dropped\n",
            "Extracting EDF parameters from /mnt/cogsci/home/ybo/189/content/raw_data/A05E.gdf...\n",
            "GDF file detected\n",
            "Setting channel info structure...\n",
            "Could not determine channel type of the following channels, they will be set as EEG:\n",
            "EEG-Fz, EEG, EEG, EEG, EEG, EEG, EEG, EEG-C3, EEG, EEG-Cz, EEG, EEG-C4, EEG, EEG, EEG, EEG, EEG, EEG, EEG, EEG-Pz, EEG, EEG\n",
            "Creating raw.info structure...\n",
            "Reading 0 ... 679862  =      0.000 ...  2719.448 secs...\n"
          ]
        },
        {
          "name": "stderr",
          "output_type": "stream",
          "text": [
            "[Parallel(n_jobs=1)]: Done  17 tasks      | elapsed:    0.2s\n",
            "/home/ybo/miniconda3/envs/myenv/lib/python3.12/contextlib.py:144: RuntimeWarning: Channel names are not unique, found duplicates for: {'EEG'}. Applying running numbers for duplicates.\n",
            "  next(self.gen)\n"
          ]
        },
        {
          "name": "stdout",
          "output_type": "stream",
          "text": [
            "Filtering raw data in 1 contiguous segment\n",
            "Setting up band-pass filter from 4 - 40 Hz\n",
            "\n",
            "IIR filter parameters\n",
            "---------------------\n",
            "Butterworth bandpass zero-phase (two-pass forward and reverse) non-causal filter:\n",
            "- Filter order 16 (effective, after forward-backward)\n",
            "- Cutoffs at 4.00, 40.00 Hz: -6.02, -6.02 dB\n",
            "\n",
            "Filtering raw data in 1 contiguous segment\n",
            "Setting up band-stop filter from 49 - 51 Hz\n",
            "\n",
            "FIR filter parameters\n",
            "---------------------\n",
            "Designing a one-pass, zero-phase, non-causal bandstop filter:\n",
            "- Windowed time-domain design (firwin) method\n",
            "- Hamming window with 0.0194 passband ripple and 53 dB stopband attenuation\n",
            "- Lower passband edge: 49.38\n",
            "- Lower transition bandwidth: 0.50 Hz (-6 dB cutoff frequency: 49.12 Hz)\n",
            "- Upper passband edge: 50.62 Hz\n",
            "- Upper transition bandwidth: 0.50 Hz (-6 dB cutoff frequency: 50.88 Hz)\n",
            "- Filter length: 1651 samples (6.604 s)\n",
            "\n",
            "Used Annotations descriptions: ['1023', '1072', '276', '277', '32766', '768', '783']\n",
            "Not setting metadata\n",
            "288 matching events found\n",
            "No baseline correction applied\n",
            "0 projection items activated\n",
            "Using data from preloaded Raw for 288 events and 1001 original time points ...\n",
            "0 bad epochs dropped\n",
            "Extracting EDF parameters from /mnt/cogsci/home/ybo/189/content/raw_data/A06T.gdf...\n",
            "GDF file detected\n",
            "Setting channel info structure...\n",
            "Could not determine channel type of the following channels, they will be set as EEG:\n",
            "EEG-Fz, EEG, EEG, EEG, EEG, EEG, EEG, EEG-C3, EEG, EEG-Cz, EEG, EEG-C4, EEG, EEG, EEG, EEG, EEG, EEG, EEG, EEG-Pz, EEG, EEG\n",
            "Creating raw.info structure...\n",
            "Reading 0 ... 678979  =      0.000 ...  2715.916 secs...\n"
          ]
        },
        {
          "name": "stderr",
          "output_type": "stream",
          "text": [
            "[Parallel(n_jobs=1)]: Done  17 tasks      | elapsed:    0.2s\n",
            "/home/ybo/miniconda3/envs/myenv/lib/python3.12/contextlib.py:144: RuntimeWarning: Channel names are not unique, found duplicates for: {'EEG'}. Applying running numbers for duplicates.\n",
            "  next(self.gen)\n"
          ]
        },
        {
          "name": "stdout",
          "output_type": "stream",
          "text": [
            "Filtering raw data in 1 contiguous segment\n",
            "Setting up band-pass filter from 4 - 40 Hz\n",
            "\n",
            "IIR filter parameters\n",
            "---------------------\n",
            "Butterworth bandpass zero-phase (two-pass forward and reverse) non-causal filter:\n",
            "- Filter order 16 (effective, after forward-backward)\n",
            "- Cutoffs at 4.00, 40.00 Hz: -6.02, -6.02 dB\n",
            "\n",
            "Filtering raw data in 1 contiguous segment\n",
            "Setting up band-stop filter from 49 - 51 Hz\n",
            "\n",
            "FIR filter parameters\n",
            "---------------------\n",
            "Designing a one-pass, zero-phase, non-causal bandstop filter:\n",
            "- Windowed time-domain design (firwin) method\n",
            "- Hamming window with 0.0194 passband ripple and 53 dB stopband attenuation\n",
            "- Lower passband edge: 49.38\n",
            "- Lower transition bandwidth: 0.50 Hz (-6 dB cutoff frequency: 49.12 Hz)\n",
            "- Upper passband edge: 50.62 Hz\n",
            "- Upper transition bandwidth: 0.50 Hz (-6 dB cutoff frequency: 50.88 Hz)\n",
            "- Filter length: 1651 samples (6.604 s)\n",
            "\n",
            "Used Annotations descriptions: ['1023', '1072', '276', '277', '32766', '768', '769', '770', '771', '772']\n",
            "Not setting metadata\n",
            "144 matching events found\n",
            "No baseline correction applied\n",
            "0 projection items activated\n",
            "Using data from preloaded Raw for 144 events and 1001 original time points ...\n",
            "0 bad epochs dropped\n",
            "Extracting EDF parameters from /mnt/cogsci/home/ybo/189/content/raw_data/A06E.gdf...\n",
            "GDF file detected\n",
            "Setting channel info structure...\n",
            "Could not determine channel type of the following channels, they will be set as EEG:\n",
            "EEG-Fz, EEG, EEG, EEG, EEG, EEG, EEG, EEG-C3, EEG, EEG-Cz, EEG, EEG-C4, EEG, EEG, EEG, EEG, EEG, EEG, EEG, EEG-Pz, EEG, EEG\n",
            "Creating raw.info structure...\n",
            "Reading 0 ... 666372  =      0.000 ...  2665.488 secs...\n"
          ]
        },
        {
          "name": "stderr",
          "output_type": "stream",
          "text": [
            "[Parallel(n_jobs=1)]: Done  17 tasks      | elapsed:    0.2s\n",
            "/home/ybo/miniconda3/envs/myenv/lib/python3.12/contextlib.py:144: RuntimeWarning: Channel names are not unique, found duplicates for: {'EEG'}. Applying running numbers for duplicates.\n",
            "  next(self.gen)\n"
          ]
        },
        {
          "name": "stdout",
          "output_type": "stream",
          "text": [
            "Filtering raw data in 1 contiguous segment\n",
            "Setting up band-pass filter from 4 - 40 Hz\n",
            "\n",
            "IIR filter parameters\n",
            "---------------------\n",
            "Butterworth bandpass zero-phase (two-pass forward and reverse) non-causal filter:\n",
            "- Filter order 16 (effective, after forward-backward)\n",
            "- Cutoffs at 4.00, 40.00 Hz: -6.02, -6.02 dB\n",
            "\n",
            "Filtering raw data in 1 contiguous segment\n",
            "Setting up band-stop filter from 49 - 51 Hz\n",
            "\n",
            "FIR filter parameters\n",
            "---------------------\n",
            "Designing a one-pass, zero-phase, non-causal bandstop filter:\n",
            "- Windowed time-domain design (firwin) method\n",
            "- Hamming window with 0.0194 passband ripple and 53 dB stopband attenuation\n",
            "- Lower passband edge: 49.38\n",
            "- Lower transition bandwidth: 0.50 Hz (-6 dB cutoff frequency: 49.12 Hz)\n",
            "- Upper passband edge: 50.62 Hz\n",
            "- Upper transition bandwidth: 0.50 Hz (-6 dB cutoff frequency: 50.88 Hz)\n",
            "- Filter length: 1651 samples (6.604 s)\n",
            "\n",
            "Used Annotations descriptions: ['1023', '1072', '276', '277', '32766', '768', '783']\n",
            "Not setting metadata\n",
            "288 matching events found\n",
            "No baseline correction applied\n",
            "0 projection items activated\n",
            "Using data from preloaded Raw for 288 events and 1001 original time points ...\n",
            "0 bad epochs dropped\n",
            "Extracting EDF parameters from /mnt/cogsci/home/ybo/189/content/raw_data/A07T.gdf...\n",
            "GDF file detected\n",
            "Setting channel info structure...\n",
            "Could not determine channel type of the following channels, they will be set as EEG:\n",
            "EEG-Fz, EEG, EEG, EEG, EEG, EEG, EEG, EEG-C3, EEG, EEG-Cz, EEG, EEG-C4, EEG, EEG, EEG, EEG, EEG, EEG, EEG, EEG-Pz, EEG, EEG\n",
            "Creating raw.info structure...\n",
            "Reading 0 ... 681070  =      0.000 ...  2724.280 secs...\n"
          ]
        },
        {
          "name": "stderr",
          "output_type": "stream",
          "text": [
            "[Parallel(n_jobs=1)]: Done  17 tasks      | elapsed:    0.1s\n",
            "/home/ybo/miniconda3/envs/myenv/lib/python3.12/contextlib.py:144: RuntimeWarning: Channel names are not unique, found duplicates for: {'EEG'}. Applying running numbers for duplicates.\n",
            "  next(self.gen)\n"
          ]
        },
        {
          "name": "stdout",
          "output_type": "stream",
          "text": [
            "Filtering raw data in 1 contiguous segment\n",
            "Setting up band-pass filter from 4 - 40 Hz\n",
            "\n",
            "IIR filter parameters\n",
            "---------------------\n",
            "Butterworth bandpass zero-phase (two-pass forward and reverse) non-causal filter:\n",
            "- Filter order 16 (effective, after forward-backward)\n",
            "- Cutoffs at 4.00, 40.00 Hz: -6.02, -6.02 dB\n",
            "\n",
            "Filtering raw data in 1 contiguous segment\n",
            "Setting up band-stop filter from 49 - 51 Hz\n",
            "\n",
            "FIR filter parameters\n",
            "---------------------\n",
            "Designing a one-pass, zero-phase, non-causal bandstop filter:\n",
            "- Windowed time-domain design (firwin) method\n",
            "- Hamming window with 0.0194 passband ripple and 53 dB stopband attenuation\n",
            "- Lower passband edge: 49.38\n",
            "- Lower transition bandwidth: 0.50 Hz (-6 dB cutoff frequency: 49.12 Hz)\n",
            "- Upper passband edge: 50.62 Hz\n",
            "- Upper transition bandwidth: 0.50 Hz (-6 dB cutoff frequency: 50.88 Hz)\n",
            "- Filter length: 1651 samples (6.604 s)\n",
            "\n",
            "Used Annotations descriptions: ['1023', '1072', '276', '277', '32766', '768', '769', '770', '771', '772']\n",
            "Not setting metadata\n",
            "144 matching events found\n",
            "No baseline correction applied\n",
            "0 projection items activated\n",
            "Using data from preloaded Raw for 144 events and 1001 original time points ...\n",
            "0 bad epochs dropped\n",
            "Extracting EDF parameters from /mnt/cogsci/home/ybo/189/content/raw_data/A07E.gdf...\n",
            "GDF file detected\n",
            "Setting channel info structure...\n",
            "Could not determine channel type of the following channels, they will be set as EEG:\n",
            "EEG-Fz, EEG, EEG, EEG, EEG, EEG, EEG, EEG-C3, EEG, EEG-Cz, EEG, EEG-C4, EEG, EEG, EEG, EEG, EEG, EEG, EEG, EEG-Pz, EEG, EEG\n",
            "Creating raw.info structure...\n",
            "Reading 0 ... 673134  =      0.000 ...  2692.536 secs...\n"
          ]
        },
        {
          "name": "stderr",
          "output_type": "stream",
          "text": [
            "[Parallel(n_jobs=1)]: Done  17 tasks      | elapsed:    0.2s\n",
            "/home/ybo/miniconda3/envs/myenv/lib/python3.12/contextlib.py:144: RuntimeWarning: Channel names are not unique, found duplicates for: {'EEG'}. Applying running numbers for duplicates.\n",
            "  next(self.gen)\n"
          ]
        },
        {
          "name": "stdout",
          "output_type": "stream",
          "text": [
            "Filtering raw data in 1 contiguous segment\n",
            "Setting up band-pass filter from 4 - 40 Hz\n",
            "\n",
            "IIR filter parameters\n",
            "---------------------\n",
            "Butterworth bandpass zero-phase (two-pass forward and reverse) non-causal filter:\n",
            "- Filter order 16 (effective, after forward-backward)\n",
            "- Cutoffs at 4.00, 40.00 Hz: -6.02, -6.02 dB\n",
            "\n",
            "Filtering raw data in 1 contiguous segment\n",
            "Setting up band-stop filter from 49 - 51 Hz\n",
            "\n",
            "FIR filter parameters\n",
            "---------------------\n",
            "Designing a one-pass, zero-phase, non-causal bandstop filter:\n",
            "- Windowed time-domain design (firwin) method\n",
            "- Hamming window with 0.0194 passband ripple and 53 dB stopband attenuation\n",
            "- Lower passband edge: 49.38\n",
            "- Lower transition bandwidth: 0.50 Hz (-6 dB cutoff frequency: 49.12 Hz)\n",
            "- Upper passband edge: 50.62 Hz\n",
            "- Upper transition bandwidth: 0.50 Hz (-6 dB cutoff frequency: 50.88 Hz)\n",
            "- Filter length: 1651 samples (6.604 s)\n",
            "\n",
            "Used Annotations descriptions: ['1023', '1072', '276', '277', '32766', '768', '783']\n",
            "Not setting metadata\n",
            "288 matching events found\n",
            "No baseline correction applied\n",
            "0 projection items activated\n",
            "Using data from preloaded Raw for 288 events and 1001 original time points ...\n",
            "0 bad epochs dropped\n",
            "Extracting EDF parameters from /mnt/cogsci/home/ybo/189/content/raw_data/A08T.gdf...\n",
            "GDF file detected\n",
            "Setting channel info structure...\n",
            "Could not determine channel type of the following channels, they will be set as EEG:\n",
            "EEG-Fz, EEG, EEG, EEG, EEG, EEG, EEG, EEG-C3, EEG, EEG-Cz, EEG, EEG-C4, EEG, EEG, EEG, EEG, EEG, EEG, EEG, EEG-Pz, EEG, EEG\n",
            "Creating raw.info structure...\n",
            "Reading 0 ... 675269  =      0.000 ...  2701.076 secs...\n"
          ]
        },
        {
          "name": "stderr",
          "output_type": "stream",
          "text": [
            "[Parallel(n_jobs=1)]: Done  17 tasks      | elapsed:    0.1s\n",
            "/home/ybo/miniconda3/envs/myenv/lib/python3.12/contextlib.py:144: RuntimeWarning: Channel names are not unique, found duplicates for: {'EEG'}. Applying running numbers for duplicates.\n",
            "  next(self.gen)\n"
          ]
        },
        {
          "name": "stdout",
          "output_type": "stream",
          "text": [
            "Filtering raw data in 1 contiguous segment\n",
            "Setting up band-pass filter from 4 - 40 Hz\n",
            "\n",
            "IIR filter parameters\n",
            "---------------------\n",
            "Butterworth bandpass zero-phase (two-pass forward and reverse) non-causal filter:\n",
            "- Filter order 16 (effective, after forward-backward)\n",
            "- Cutoffs at 4.00, 40.00 Hz: -6.02, -6.02 dB\n",
            "\n",
            "Filtering raw data in 1 contiguous segment\n",
            "Setting up band-stop filter from 49 - 51 Hz\n",
            "\n",
            "FIR filter parameters\n",
            "---------------------\n",
            "Designing a one-pass, zero-phase, non-causal bandstop filter:\n",
            "- Windowed time-domain design (firwin) method\n",
            "- Hamming window with 0.0194 passband ripple and 53 dB stopband attenuation\n",
            "- Lower passband edge: 49.38\n",
            "- Lower transition bandwidth: 0.50 Hz (-6 dB cutoff frequency: 49.12 Hz)\n",
            "- Upper passband edge: 50.62 Hz\n",
            "- Upper transition bandwidth: 0.50 Hz (-6 dB cutoff frequency: 50.88 Hz)\n",
            "- Filter length: 1651 samples (6.604 s)\n",
            "\n",
            "Used Annotations descriptions: ['1023', '1072', '276', '277', '32766', '768', '769', '770', '771', '772']\n",
            "Not setting metadata\n",
            "144 matching events found\n",
            "No baseline correction applied\n",
            "0 projection items activated\n",
            "Using data from preloaded Raw for 144 events and 1001 original time points ...\n",
            "0 bad epochs dropped\n",
            "Extracting EDF parameters from /mnt/cogsci/home/ybo/189/content/raw_data/A08E.gdf...\n",
            "GDF file detected\n",
            "Setting channel info structure...\n",
            "Could not determine channel type of the following channels, they will be set as EEG:\n",
            "EEG-Fz, EEG, EEG, EEG, EEG, EEG, EEG, EEG-C3, EEG, EEG-Cz, EEG, EEG-C4, EEG, EEG, EEG, EEG, EEG, EEG, EEG, EEG-Pz, EEG, EEG\n",
            "Creating raw.info structure...\n",
            "Reading 0 ... 687791  =      0.000 ...  2751.164 secs...\n"
          ]
        },
        {
          "name": "stderr",
          "output_type": "stream",
          "text": [
            "[Parallel(n_jobs=1)]: Done  17 tasks      | elapsed:    0.2s\n",
            "/home/ybo/miniconda3/envs/myenv/lib/python3.12/contextlib.py:144: RuntimeWarning: Channel names are not unique, found duplicates for: {'EEG'}. Applying running numbers for duplicates.\n",
            "  next(self.gen)\n"
          ]
        },
        {
          "name": "stdout",
          "output_type": "stream",
          "text": [
            "Filtering raw data in 1 contiguous segment\n",
            "Setting up band-pass filter from 4 - 40 Hz\n",
            "\n",
            "IIR filter parameters\n",
            "---------------------\n",
            "Butterworth bandpass zero-phase (two-pass forward and reverse) non-causal filter:\n",
            "- Filter order 16 (effective, after forward-backward)\n",
            "- Cutoffs at 4.00, 40.00 Hz: -6.02, -6.02 dB\n",
            "\n",
            "Filtering raw data in 1 contiguous segment\n",
            "Setting up band-stop filter from 49 - 51 Hz\n",
            "\n",
            "FIR filter parameters\n",
            "---------------------\n",
            "Designing a one-pass, zero-phase, non-causal bandstop filter:\n",
            "- Windowed time-domain design (firwin) method\n",
            "- Hamming window with 0.0194 passband ripple and 53 dB stopband attenuation\n",
            "- Lower passband edge: 49.38\n",
            "- Lower transition bandwidth: 0.50 Hz (-6 dB cutoff frequency: 49.12 Hz)\n",
            "- Upper passband edge: 50.62 Hz\n",
            "- Upper transition bandwidth: 0.50 Hz (-6 dB cutoff frequency: 50.88 Hz)\n",
            "- Filter length: 1651 samples (6.604 s)\n",
            "\n",
            "Used Annotations descriptions: ['1023', '1072', '276', '277', '32766', '768', '783']\n",
            "Not setting metadata\n",
            "288 matching events found\n",
            "No baseline correction applied\n",
            "0 projection items activated\n",
            "Using data from preloaded Raw for 288 events and 1001 original time points ...\n",
            "0 bad epochs dropped\n",
            "Extracting EDF parameters from /mnt/cogsci/home/ybo/189/content/raw_data/A09T.gdf...\n",
            "GDF file detected\n",
            "Setting channel info structure...\n",
            "Could not determine channel type of the following channels, they will be set as EEG:\n",
            "EEG-Fz, EEG, EEG, EEG, EEG, EEG, EEG, EEG-C3, EEG, EEG-Cz, EEG, EEG-C4, EEG, EEG, EEG, EEG, EEG, EEG, EEG, EEG-Pz, EEG, EEG\n",
            "Creating raw.info structure...\n",
            "Reading 0 ... 673327  =      0.000 ...  2693.308 secs...\n"
          ]
        },
        {
          "name": "stderr",
          "output_type": "stream",
          "text": [
            "[Parallel(n_jobs=1)]: Done  17 tasks      | elapsed:    0.2s\n",
            "/home/ybo/miniconda3/envs/myenv/lib/python3.12/contextlib.py:144: RuntimeWarning: Channel names are not unique, found duplicates for: {'EEG'}. Applying running numbers for duplicates.\n",
            "  next(self.gen)\n"
          ]
        },
        {
          "name": "stdout",
          "output_type": "stream",
          "text": [
            "Filtering raw data in 1 contiguous segment\n",
            "Setting up band-pass filter from 4 - 40 Hz\n",
            "\n",
            "IIR filter parameters\n",
            "---------------------\n",
            "Butterworth bandpass zero-phase (two-pass forward and reverse) non-causal filter:\n",
            "- Filter order 16 (effective, after forward-backward)\n",
            "- Cutoffs at 4.00, 40.00 Hz: -6.02, -6.02 dB\n",
            "\n",
            "Filtering raw data in 1 contiguous segment\n",
            "Setting up band-stop filter from 49 - 51 Hz\n",
            "\n",
            "FIR filter parameters\n",
            "---------------------\n",
            "Designing a one-pass, zero-phase, non-causal bandstop filter:\n",
            "- Windowed time-domain design (firwin) method\n",
            "- Hamming window with 0.0194 passband ripple and 53 dB stopband attenuation\n",
            "- Lower passband edge: 49.38\n",
            "- Lower transition bandwidth: 0.50 Hz (-6 dB cutoff frequency: 49.12 Hz)\n",
            "- Upper passband edge: 50.62 Hz\n",
            "- Upper transition bandwidth: 0.50 Hz (-6 dB cutoff frequency: 50.88 Hz)\n",
            "- Filter length: 1651 samples (6.604 s)\n",
            "\n",
            "Used Annotations descriptions: ['1023', '1072', '276', '277', '32766', '768', '769', '770', '771', '772']\n",
            "Not setting metadata\n",
            "144 matching events found\n",
            "No baseline correction applied\n",
            "0 projection items activated\n",
            "Using data from preloaded Raw for 144 events and 1001 original time points ...\n",
            "0 bad epochs dropped\n",
            "Extracting EDF parameters from /mnt/cogsci/home/ybo/189/content/raw_data/A09E.gdf...\n",
            "GDF file detected\n",
            "Setting channel info structure...\n",
            "Could not determine channel type of the following channels, they will be set as EEG:\n",
            "EEG-Fz, EEG, EEG, EEG, EEG, EEG, EEG, EEG-C3, EEG, EEG-Cz, EEG, EEG-C4, EEG, EEG, EEG, EEG, EEG, EEG, EEG, EEG-Pz, EEG, EEG\n",
            "Creating raw.info structure...\n",
            "Reading 0 ... 675097  =      0.000 ...  2700.388 secs...\n"
          ]
        },
        {
          "name": "stderr",
          "output_type": "stream",
          "text": [
            "[Parallel(n_jobs=1)]: Done  17 tasks      | elapsed:    0.1s\n",
            "/home/ybo/miniconda3/envs/myenv/lib/python3.12/contextlib.py:144: RuntimeWarning: Channel names are not unique, found duplicates for: {'EEG'}. Applying running numbers for duplicates.\n",
            "  next(self.gen)\n"
          ]
        },
        {
          "name": "stdout",
          "output_type": "stream",
          "text": [
            "Filtering raw data in 1 contiguous segment\n",
            "Setting up band-pass filter from 4 - 40 Hz\n",
            "\n",
            "IIR filter parameters\n",
            "---------------------\n",
            "Butterworth bandpass zero-phase (two-pass forward and reverse) non-causal filter:\n",
            "- Filter order 16 (effective, after forward-backward)\n",
            "- Cutoffs at 4.00, 40.00 Hz: -6.02, -6.02 dB\n",
            "\n",
            "Filtering raw data in 1 contiguous segment\n",
            "Setting up band-stop filter from 49 - 51 Hz\n",
            "\n",
            "FIR filter parameters\n",
            "---------------------\n",
            "Designing a one-pass, zero-phase, non-causal bandstop filter:\n",
            "- Windowed time-domain design (firwin) method\n",
            "- Hamming window with 0.0194 passband ripple and 53 dB stopband attenuation\n",
            "- Lower passband edge: 49.38\n",
            "- Lower transition bandwidth: 0.50 Hz (-6 dB cutoff frequency: 49.12 Hz)\n",
            "- Upper passband edge: 50.62 Hz\n",
            "- Upper transition bandwidth: 0.50 Hz (-6 dB cutoff frequency: 50.88 Hz)\n",
            "- Filter length: 1651 samples (6.604 s)\n",
            "\n",
            "Used Annotations descriptions: ['1023', '1072', '276', '277', '32766', '768', '783']\n",
            "Not setting metadata\n",
            "288 matching events found\n",
            "No baseline correction applied\n",
            "0 projection items activated\n",
            "Using data from preloaded Raw for 288 events and 1001 original time points ...\n",
            "0 bad epochs dropped\n"
          ]
        },
        {
          "name": "stderr",
          "output_type": "stream",
          "text": [
            "[Parallel(n_jobs=1)]: Done  17 tasks      | elapsed:    0.2s\n"
          ]
        }
      ],
      "source": [
        "subjects = ['A01', 'A02', 'A03', 'A04', 'A05', 'A06', 'A07', 'A08', 'A09']\n",
        "for subject in subjects:\n",
        "    process_and_save_subject_data(subject)\n"
      ]
    },
    {
      "cell_type": "code",
      "execution_count": 10,
      "metadata": {},
      "outputs": [],
      "source": [
        "import numpy as np\n",
        "import os\n",
        "\n",
        "def load_subject_data(subject_id, is_training=True):\n",
        "    '''\n",
        "    Helper to load trained data\n",
        "    '''\n",
        "    cwd = os.getcwd()\n",
        "    cleaned_data_folder = os.path.join(cwd, 'content', 'cleaned_data')\n",
        "    data_file = os.path.join(cleaned_data_folder, f'{subject_id}_combined_{\"train\" if is_training else \"test\"}_data.npy')\n",
        "    labels_file = os.path.join(cleaned_data_folder, f'{subject_id}_combined_{\"train\" if is_training else \"test\"}_labels.npy')\n",
        "    \n",
        "    data = np.load(data_file)\n",
        "    labels = np.load(labels_file)\n",
        "    \n",
        "    return data, labels\n",
        "\n",
        "\n",
        "train_data, train_labels = load_subject_data('A01', is_training=True)\n",
        "test_data, test_labels = load_subject_data('A01', is_training=False)\n"
      ]
    },
    {
      "cell_type": "code",
      "execution_count": 11,
      "metadata": {},
      "outputs": [
        {
          "data": {
            "text/plain": [
              "(230, 22, 1001)"
            ]
          },
          "execution_count": 11,
          "metadata": {},
          "output_type": "execute_result"
        }
      ],
      "source": [
        "train_data.shape"
      ]
    },
    {
      "cell_type": "code",
      "execution_count": 12,
      "metadata": {},
      "outputs": [
        {
          "data": {
            "text/plain": [
              "(58, 22, 1001)"
            ]
          },
          "execution_count": 12,
          "metadata": {},
          "output_type": "execute_result"
        }
      ],
      "source": [
        "test_data.shape"
      ]
    },
    {
      "cell_type": "code",
      "execution_count": 14,
      "metadata": {},
      "outputs": [],
      "source": [
        "device = torch.device(\"cuda\" if torch.cuda.is_available() else \"cpu\")\n",
        "train_tensor_data = torch.Tensor(train_data).to(device)"
      ]
    },
    {
      "cell_type": "code",
      "execution_count": 15,
      "metadata": {},
      "outputs": [
        {
          "data": {
            "text/plain": [
              "torch.Size([230, 22, 1001])"
            ]
          },
          "execution_count": 15,
          "metadata": {},
          "output_type": "execute_result"
        }
      ],
      "source": [
        "train_tensor_data.shape"
      ]
    },
    {
      "cell_type": "markdown",
      "metadata": {
        "id": "vR2z57zqC5iS"
      },
      "source": [
        "# EEGNet Model"
      ]
    },
    {
      "cell_type": "code",
      "execution_count": 8,
      "metadata": {
        "id": "SmFhrHzSC8BE"
      },
      "outputs": [],
      "source": [
        "class EEGNetModel(nn.Module): # EEGNET-8,2\n",
        "    def __init__(self, chans=22, classes=2, time_points=1001, temp_kernel=32,\n",
        "                 f1=16, f2=32, d=2, pk1=8, pk2=16, dropout_rate=0.5, max_norm1=1, max_norm2=0.25):\n",
        "        super(EEGNetModel, self).__init__()\n",
        "        # Calculating FC input features\n",
        "        linear_size = (time_points//(pk1*pk2))*f2\n",
        "\n",
        "        # Temporal Filters\n",
        "        self.block1 = nn.Sequential(\n",
        "            nn.Conv2d(1, f1, (1, temp_kernel), padding='same', bias=False),\n",
        "            nn.BatchNorm2d(f1),\n",
        "        )\n",
        "        # Spatial Filters\n",
        "        self.block2 = nn.Sequential(\n",
        "            nn.Conv2d(f1, d * f1, (chans, 1), groups=f1, bias=False), # Depthwise Conv\n",
        "            nn.BatchNorm2d(d * f1),\n",
        "            nn.ELU(),\n",
        "            nn.AvgPool2d((1, pk1)),\n",
        "            nn.Dropout(dropout_rate)\n",
        "        )\n",
        "        self.block3 = nn.Sequential(\n",
        "            nn.Conv2d(d * f1, f2, (1, 16),  groups=f2, bias=False, padding='same'), # Separable Conv\n",
        "            nn.Conv2d(f2, f2, kernel_size=1, bias=False), # Pointwise Conv\n",
        "            nn.BatchNorm2d(f2),\n",
        "            nn.ELU(),\n",
        "            nn.AvgPool2d((1, pk2)),\n",
        "            nn.Dropout(dropout_rate)\n",
        "        )\n",
        "        self.flatten = nn.Flatten()\n",
        "        self.fc = nn.Linear(linear_size, classes)\n",
        "\n",
        "        # Apply max_norm constraint to the depthwise layer in block2\n",
        "        self._apply_max_norm(self.block2[0], max_norm1)\n",
        "\n",
        "        # Apply max_norm constraint to the linear layer\n",
        "        self._apply_max_norm(self.fc, max_norm2)\n",
        "\n",
        "    def _apply_max_norm(self, layer, max_norm):\n",
        "        for name, param in layer.named_parameters():\n",
        "            if 'weight' in name:\n",
        "                param.data = torch.renorm(param.data, p=2, dim=0, maxnorm=max_norm)\n",
        "\n",
        "    def forward(self, x):\n",
        "        x = self.block1(x)\n",
        "        x = self.block2(x)\n",
        "        x = self.block3(x)\n",
        "        x = self.flatten(x)\n",
        "        x = self.fc(x)\n",
        "        return x\n"
      ]
    },
    {
      "cell_type": "markdown",
      "metadata": {
        "id": "M49ks2b8C_dP"
      },
      "source": [
        "## Model Summery"
      ]
    },
    {
      "cell_type": "code",
      "execution_count": 9,
      "metadata": {
        "colab": {
          "base_uri": "https://localhost:8080/"
        },
        "id": "7NdOeIRtDAOn",
        "outputId": "35ec6ad5-7e2c-4f99-cae0-e83ffd549797"
      },
      "outputs": [
        {
          "name": "stdout",
          "output_type": "stream",
          "text": [
            "==========================================================================================\n",
            "Layer (type:depth-idx)                   Output Shape              Param #\n",
            "==========================================================================================\n",
            "├─Sequential: 1-1                        [-1, 16, 22, 1001]        --\n",
            "|    └─Conv2d: 2-1                       [-1, 16, 22, 1001]        512\n",
            "|    └─BatchNorm2d: 2-2                  [-1, 16, 22, 1001]        32\n",
            "├─Sequential: 1-2                        [-1, 32, 1, 125]          --\n",
            "|    └─Conv2d: 2-3                       [-1, 32, 1, 1001]         704\n",
            "|    └─BatchNorm2d: 2-4                  [-1, 32, 1, 1001]         64\n",
            "|    └─ELU: 2-5                          [-1, 32, 1, 1001]         --\n",
            "|    └─AvgPool2d: 2-6                    [-1, 32, 1, 125]          --\n",
            "|    └─Dropout: 2-7                      [-1, 32, 1, 125]          --\n",
            "├─Sequential: 1-3                        [-1, 32, 1, 7]            --\n",
            "|    └─Conv2d: 2-8                       [-1, 32, 1, 125]          512\n",
            "|    └─Conv2d: 2-9                       [-1, 32, 1, 125]          1,024\n",
            "|    └─BatchNorm2d: 2-10                 [-1, 32, 1, 125]          64\n",
            "|    └─ELU: 2-11                         [-1, 32, 1, 125]          --\n",
            "|    └─AvgPool2d: 2-12                   [-1, 32, 1, 7]            --\n",
            "|    └─Dropout: 2-13                     [-1, 32, 1, 7]            --\n",
            "├─Flatten: 1-4                           [-1, 224]                 --\n",
            "├─Linear: 1-5                            [-1, 2]                   450\n",
            "==========================================================================================\n",
            "Total params: 3,362\n",
            "Trainable params: 3,362\n",
            "Non-trainable params: 0\n",
            "Total mult-adds (M): 12.18\n",
            "==========================================================================================\n",
            "Input size (MB): 0.08\n",
            "Forward/backward pass size (MB): 5.96\n",
            "Params size (MB): 0.01\n",
            "Estimated Total Size (MB): 6.05\n",
            "==========================================================================================\n"
          ]
        },
        {
          "name": "stderr",
          "output_type": "stream",
          "text": [
            "/home/ybo/miniconda3/envs/myenv/lib/python3.12/site-packages/torch/nn/modules/conv.py:549: UserWarning: Using padding='same' with even kernel lengths and odd dilation may require a zero-padded copy of the input be created (Triggered internally at /opt/conda/conda-bld/pytorch_1729647378361/work/aten/src/ATen/native/Convolution.cpp:1036.)\n",
            "  return F.conv2d(\n"
          ]
        },
        {
          "data": {
            "text/plain": [
              "==========================================================================================\n",
              "Layer (type:depth-idx)                   Output Shape              Param #\n",
              "==========================================================================================\n",
              "├─Sequential: 1-1                        [-1, 16, 22, 1001]        --\n",
              "|    └─Conv2d: 2-1                       [-1, 16, 22, 1001]        512\n",
              "|    └─BatchNorm2d: 2-2                  [-1, 16, 22, 1001]        32\n",
              "├─Sequential: 1-2                        [-1, 32, 1, 125]          --\n",
              "|    └─Conv2d: 2-3                       [-1, 32, 1, 1001]         704\n",
              "|    └─BatchNorm2d: 2-4                  [-1, 32, 1, 1001]         64\n",
              "|    └─ELU: 2-5                          [-1, 32, 1, 1001]         --\n",
              "|    └─AvgPool2d: 2-6                    [-1, 32, 1, 125]          --\n",
              "|    └─Dropout: 2-7                      [-1, 32, 1, 125]          --\n",
              "├─Sequential: 1-3                        [-1, 32, 1, 7]            --\n",
              "|    └─Conv2d: 2-8                       [-1, 32, 1, 125]          512\n",
              "|    └─Conv2d: 2-9                       [-1, 32, 1, 125]          1,024\n",
              "|    └─BatchNorm2d: 2-10                 [-1, 32, 1, 125]          64\n",
              "|    └─ELU: 2-11                         [-1, 32, 1, 125]          --\n",
              "|    └─AvgPool2d: 2-12                   [-1, 32, 1, 7]            --\n",
              "|    └─Dropout: 2-13                     [-1, 32, 1, 7]            --\n",
              "├─Flatten: 1-4                           [-1, 224]                 --\n",
              "├─Linear: 1-5                            [-1, 2]                   450\n",
              "==========================================================================================\n",
              "Total params: 3,362\n",
              "Trainable params: 3,362\n",
              "Non-trainable params: 0\n",
              "Total mult-adds (M): 12.18\n",
              "==========================================================================================\n",
              "Input size (MB): 0.08\n",
              "Forward/backward pass size (MB): 5.96\n",
              "Params size (MB): 0.01\n",
              "Estimated Total Size (MB): 6.05\n",
              "=========================================================================================="
            ]
          },
          "execution_count": 9,
          "metadata": {},
          "output_type": "execute_result"
        }
      ],
      "source": [
        "input_size = (1, 22, 1001)\n",
        "eegnet_model = EEGNetModel().to(device)\n",
        "summary(eegnet_model, input_size)"
      ]
    },
    {
      "cell_type": "markdown",
      "metadata": {
        "id": "xyXDZiZ4E4a_"
      },
      "source": [
        "# Training Class"
      ]
    },
    {
      "cell_type": "code",
      "execution_count": 4,
      "metadata": {
        "id": "F3nUwuQHE8Hi"
      },
      "outputs": [],
      "source": [
        "import time\n",
        "class TrainModel():\n",
        "    def __init__(self, device, subject_id):\n",
        "        self.device = device\n",
        "        self.subject_id = subject_id\n",
        "\n",
        "    def train_model(self, model, train_dataset, learning_rate=0.001, batch_size=64, epochs=500):\n",
        "        model = model.to(self.device)\n",
        "        criterion = nn.CrossEntropyLoss()\n",
        "        optimizer = optim.Adam(model.parameters(), lr=learning_rate)\n",
        "        train_loader = DataLoader(train_dataset, batch_size=batch_size, shuffle=True)\n",
        "        highest_train_accuracy = 0.0\n",
        "        start_time = time.time()\n",
        "\n",
        "        for epoch in range(epochs):\n",
        "            model.train()\n",
        "            running_loss = 0.0\n",
        "            correct = 0\n",
        "            total = 0\n",
        "            for inputs, labels in train_loader:\n",
        "                inputs, labels = inputs.to(self.device), labels.to(self.device)\n",
        "                optimizer.zero_grad()\n",
        "                outputs = model(inputs)\n",
        "                loss = criterion(outputs, labels)\n",
        "                loss.backward()\n",
        "                optimizer.step()\n",
        "                running_loss += loss.item() * inputs.size(0)\n",
        "                _, predicted = torch.max(outputs, 1)\n",
        "                total += labels.size(0)\n",
        "                correct += (predicted == labels).sum().item()\n",
        "\n",
        "            epoch_loss = running_loss / len(train_loader.dataset)\n",
        "            epoch_accuracy = correct / total\n",
        "            if epoch_accuracy > highest_train_accuracy:\n",
        "                highest_train_accuracy = epoch_accuracy\n",
        "\n",
        "            elapsed_time = time.time() - start_time\n",
        "            print(f\"Epoch {epoch+1}/{epochs}, Loss: {epoch_loss:.4f}, Accuracy: {(epoch_accuracy*100):.2f}%, Time Elapsed: {elapsed_time:.2f} seconds\")\n",
        "\n",
        "        print(\"Average Loss:\", running_loss / len(train_loader.dataset))\n",
        "        print(\"Highest Train Accuracy:\", highest_train_accuracy)\n",
        "        torch.save(model.state_dict(), f'saved_models/eegnet_model_t_{self.subject_id}.pth')\n",
        "\n",
        "        return model\n",
        "\n",
        "# class TrainModel():\n",
        "#     def __init__(self,):\n",
        "#         self.device = torch.device(\"cuda\" if torch.cuda.is_available() else \"cpu\")\n",
        "\n",
        "#     def train_model(self, model, train_dataset, learning_rate=0.001, batch_size=64, epochs=500):\n",
        "#         model = model.to(self.device)\n",
        "#         criterion = nn.CrossEntropyLoss()\n",
        "#         optimizer = optim.Adam(model.parameters(), lr=learning_rate)\n",
        "#         train_loader = DataLoader(train_dataset, batch_size=batch_size, shuffle=True)\n",
        "#         highest_train_accuracy = 0.0\n",
        "\n",
        "#         # Start time tracking\n",
        "#         start_time = time.time()\n",
        "#         for epoch in range(epochs):\n",
        "#             model.train()\n",
        "#             running_loss = 0.0\n",
        "#             correct = 0\n",
        "#             total = 0\n",
        "#             for inputs, labels in train_loader:\n",
        "#                 inputs = inputs.to(self.device)\n",
        "#                 labels = labels.to(self.device)\n",
        "\n",
        "#                 optimizer.zero_grad()\n",
        "#                 outputs = model(inputs)\n",
        "#                 loss = criterion(outputs, labels)\n",
        "#                 loss.backward()\n",
        "#                 optimizer.step()\n",
        "\n",
        "#                 running_loss += loss.item() * inputs.size(0)\n",
        "#                 _, predicted = torch.max(outputs, 1)\n",
        "#                 total += labels.size(0)\n",
        "#                 correct += (predicted == labels).sum().item()\n",
        "\n",
        "#             epoch_loss = running_loss / len(train_loader.dataset)\n",
        "#             epoch_accuracy = correct / total\n",
        "#             if epoch_accuracy > highest_train_accuracy:\n",
        "#                 highest_train_accuracy = epoch_accuracy\n",
        "#             # Calculate elapsed time\n",
        "#             elapsed_time = time.time() - start_time\n",
        "#             print(f\"Epoch {epoch+1}/{epochs}, Loss: {epoch_loss:.4f}, Accuracy: {(epoch_accuracy*100):.2f}%, Time Elapsed: {elapsed_time:.2f} seconds\")\n",
        "\n",
        "#         average_loss = running_loss / len(train_loader.dataset)\n",
        "#         print(\"Average Loss:\", average_loss)\n",
        "#         print(\"Highest Train Accuracy:\", highest_train_accuracy)\n",
        "\n",
        "#         # Saving model\n",
        "#         torch.save(model.state_dict(), 'eegnet_model.pth')\n",
        "#         return model\n"
      ]
    },
    {
      "cell_type": "markdown",
      "metadata": {
        "id": "ObMKFBTxFLBJ"
      },
      "source": [
        "# Evaluating Model"
      ]
    },
    {
      "cell_type": "code",
      "execution_count": 18,
      "metadata": {},
      "outputs": [],
      "source": [
        "class EvalModel():\n",
        "    def __init__(self, device):\n",
        "        self.device = device\n",
        "\n",
        "    def test_model(self, model_path, test_dataset, test_subject_id):\n",
        "        model = EEGNetModel().to(self.device)\n",
        "        model.load_state_dict(torch.load(model_path))\n",
        "        model.eval()\n",
        "        test_loader = DataLoader(test_dataset, batch_size=1, shuffle=False)\n",
        "        correct = 0\n",
        "        total = 0\n",
        "\n",
        "        with torch.no_grad():\n",
        "            for inputs, labels in test_loader:\n",
        "                inputs, labels = inputs.to(self.device), labels.to(self.device)\n",
        "                outputs = model(inputs)\n",
        "                _, predicted = torch.max(outputs.data, 1)\n",
        "                total += labels.size(0)\n",
        "                correct += (predicted == labels).sum().item()\n",
        "\n",
        "        accuracy = (correct / total) * 100\n",
        "        return accuracy\n",
        "\n",
        "    def save_results(self, results_matrix, subjects):\n",
        "        df = pd.DataFrame(results_matrix, index=subjects, columns=subjects)\n",
        "        df.to_csv('EEG_net_cross_evaluation_results.csv')\n",
        "        return df\n"
      ]
    },
    {
      "cell_type": "code",
      "execution_count": 17,
      "metadata": {
        "id": "GxVYOQ_YFM4b"
      },
      "outputs": [],
      "source": [
        "class EvalModel():\n",
        "    def __init__(self, model):\n",
        "       \n",
        "        self.device = torch.device(\"cuda\" if torch.cuda.is_available() else \"cpu\")\n",
        "        self.model = model.to(self.device)\n",
        "    def test_model(self, test_dataset):\n",
        "        self.model.eval()\n",
        "        correct = 0\n",
        "        total = 0\n",
        "        test_loader = DataLoader(test_dataset, batch_size=1, shuffle=False)\n",
        "\n",
        "        with torch.no_grad():\n",
        "            for inputs, labels in test_loader:\n",
        "                inputs = inputs.to(self.device)\n",
        "                labels = labels.to(self.device)\n",
        "                outputs = self.model(inputs)\n",
        "                _, predicted = torch.max(outputs.data, 1)\n",
        "                total += labels.size(0)\n",
        "                correct += (predicted == labels).sum().item()\n",
        "\n",
        "        accuracy = (correct / total) * 100\n",
        "        print(\"/------------------------------/\")\n",
        "        print(f\"Test Accuracy: {accuracy:.2f}%\")\n",
        "        print(\"/------------------------------/\")\n",
        "        return accuracy\n",
        "\n",
        "    def plot_confusion_matrix(self, test_dataset, classes):\n",
        "        self.model.eval()\n",
        "        y_pred = []\n",
        "        y_true = []\n",
        "        test_loader = DataLoader(test_dataset, batch_size=1, shuffle=False)\n",
        "\n",
        "        with torch.no_grad():\n",
        "            for inputs, labels in test_loader:\n",
        "                inputs = inputs.to(self.device)\n",
        "                labels = labels.to(self.device)\n",
        "                outputs = self.model(inputs)\n",
        "                _, predicted = torch.max(outputs.data, 1)\n",
        "                y_pred.append(predicted.item())\n",
        "                y_true.append(labels.item())\n",
        "\n",
        "        cf_matrix = confusion_matrix(y_true, y_pred)\n",
        "        cf_matrix = cf_matrix.astype('float') / cf_matrix.sum(axis=1)[:, np.newaxis]\n",
        "\n",
        "        df_cm = pd.DataFrame(cf_matrix, index=classes, columns=classes)\n",
        "\n",
        "        plt.figure(figsize=(10, 7))\n",
        "        sn.heatmap(df_cm, annot=True, cmap='Blues', fmt='.2f')\n",
        "        plt.xlabel('Predicted labels')\n",
        "        plt.ylabel('True labels')\n",
        "        plt.title('Confusion Matrix')\n",
        "        plt.savefig('confusion_matrix_model.png')\n",
        "        plt.show()\n"
      ]
    },
    {
      "cell_type": "markdown",
      "metadata": {
        "id": "95r4EymoDCIv"
      },
      "source": [
        "## Training Model"
      ]
    },
    {
      "cell_type": "code",
      "execution_count": 21,
      "metadata": {},
      "outputs": [
        {
          "name": "stdout",
          "output_type": "stream",
          "text": [
            "Model for A01 already exists. Loading model...\n",
            "Evaluating A01-trained model on A01 ------------------------\n",
            "Model trained on A01 tested on A01: 86.21% accuracy\n",
            "Evaluating A01-trained model on A02 ------------------------\n",
            "Model trained on A01 tested on A02: 46.55% accuracy\n",
            "Evaluating A01-trained model on A03 ------------------------\n",
            "Model trained on A01 tested on A03: 91.38% accuracy\n",
            "Evaluating A01-trained model on A04 ------------------------\n",
            "Model trained on A01 tested on A04: 55.17% accuracy\n",
            "Evaluating A01-trained model on A05 ------------------------\n",
            "Model trained on A01 tested on A05: 50.00% accuracy\n",
            "Evaluating A01-trained model on A06 ------------------------\n"
          ]
        },
        {
          "name": "stderr",
          "output_type": "stream",
          "text": [
            "/tmp/ipykernel_2853489/2739034540.py:29: FutureWarning: You are using `torch.load` with `weights_only=False` (the current default value), which uses the default pickle module implicitly. It is possible to construct malicious pickle data which will execute arbitrary code during unpickling (See https://github.com/pytorch/pytorch/blob/main/SECURITY.md#untrusted-models for more details). In a future release, the default value for `weights_only` will be flipped to `True`. This limits the functions that could be executed during unpickling. Arbitrary objects will no longer be allowed to be loaded via this mode unless they are explicitly allowlisted by the user via `torch.serialization.add_safe_globals`. We recommend you start setting `weights_only=True` for any use case where you don't have full control of the loaded file. Please open an issue on GitHub for any issues related to this experimental feature.\n",
            "  model.load_state_dict(torch.load(model_save_path))\n",
            "/tmp/ipykernel_2853489/454428370.py:7: FutureWarning: You are using `torch.load` with `weights_only=False` (the current default value), which uses the default pickle module implicitly. It is possible to construct malicious pickle data which will execute arbitrary code during unpickling (See https://github.com/pytorch/pytorch/blob/main/SECURITY.md#untrusted-models for more details). In a future release, the default value for `weights_only` will be flipped to `True`. This limits the functions that could be executed during unpickling. Arbitrary objects will no longer be allowed to be loaded via this mode unless they are explicitly allowlisted by the user via `torch.serialization.add_safe_globals`. We recommend you start setting `weights_only=True` for any use case where you don't have full control of the loaded file. Please open an issue on GitHub for any issues related to this experimental feature.\n",
            "  model.load_state_dict(torch.load(model_path))\n"
          ]
        },
        {
          "name": "stdout",
          "output_type": "stream",
          "text": [
            "Model trained on A01 tested on A06: 56.90% accuracy\n",
            "Evaluating A01-trained model on A07 ------------------------\n",
            "Model trained on A01 tested on A07: 56.90% accuracy\n",
            "Evaluating A01-trained model on A08 ------------------------\n",
            "Model trained on A01 tested on A08: 81.03% accuracy\n",
            "Evaluating A01-trained model on A09 ------------------------\n",
            "Model trained on A01 tested on A09: 63.79% accuracy\n",
            "Model for A02 already exists. Loading model...\n",
            "Evaluating A02-trained model on A01 ------------------------\n",
            "Model trained on A02 tested on A01: 50.00% accuracy\n",
            "Evaluating A02-trained model on A02 ------------------------\n",
            "Model trained on A02 tested on A02: 50.00% accuracy\n",
            "Evaluating A02-trained model on A03 ------------------------\n",
            "Model trained on A02 tested on A03: 48.28% accuracy\n",
            "Evaluating A02-trained model on A04 ------------------------\n",
            "Model trained on A02 tested on A04: 51.72% accuracy\n",
            "Evaluating A02-trained model on A05 ------------------------\n",
            "Model trained on A02 tested on A05: 51.72% accuracy\n",
            "Evaluating A02-trained model on A06 ------------------------\n",
            "Model trained on A02 tested on A06: 53.45% accuracy\n",
            "Evaluating A02-trained model on A07 ------------------------\n",
            "Model trained on A02 tested on A07: 51.72% accuracy\n",
            "Evaluating A02-trained model on A08 ------------------------\n",
            "Model trained on A02 tested on A08: 48.28% accuracy\n",
            "Evaluating A02-trained model on A09 ------------------------\n",
            "Model trained on A02 tested on A09: 51.72% accuracy\n",
            "Model for A03 already exists. Loading model...\n",
            "Evaluating A03-trained model on A01 ------------------------\n",
            "Model trained on A03 tested on A01: 81.03% accuracy\n",
            "Evaluating A03-trained model on A02 ------------------------\n",
            "Model trained on A03 tested on A02: 55.17% accuracy\n",
            "Evaluating A03-trained model on A03 ------------------------\n",
            "Model trained on A03 tested on A03: 96.55% accuracy\n",
            "Evaluating A03-trained model on A04 ------------------------\n",
            "Model trained on A03 tested on A04: 56.90% accuracy\n",
            "Evaluating A03-trained model on A05 ------------------------\n",
            "Model trained on A03 tested on A05: 50.00% accuracy\n",
            "Evaluating A03-trained model on A06 ------------------------\n",
            "Model trained on A03 tested on A06: 55.17% accuracy\n",
            "Evaluating A03-trained model on A07 ------------------------\n",
            "Model trained on A03 tested on A07: 50.00% accuracy\n",
            "Evaluating A03-trained model on A08 ------------------------\n",
            "Model trained on A03 tested on A08: 79.31% accuracy\n",
            "Evaluating A03-trained model on A09 ------------------------\n",
            "Model trained on A03 tested on A09: 70.69% accuracy\n",
            "Model for A04 already exists. Loading model...\n",
            "Evaluating A04-trained model on A01 ------------------------\n",
            "Model trained on A04 tested on A01: 51.72% accuracy\n",
            "Evaluating A04-trained model on A02 ------------------------\n",
            "Model trained on A04 tested on A02: 48.28% accuracy\n",
            "Evaluating A04-trained model on A03 ------------------------\n",
            "Model trained on A04 tested on A03: 60.34% accuracy\n",
            "Evaluating A04-trained model on A04 ------------------------\n",
            "Model trained on A04 tested on A04: 63.79% accuracy\n",
            "Evaluating A04-trained model on A05 ------------------------\n",
            "Model trained on A04 tested on A05: 53.45% accuracy\n",
            "Evaluating A04-trained model on A06 ------------------------\n",
            "Model trained on A04 tested on A06: 56.90% accuracy\n",
            "Evaluating A04-trained model on A07 ------------------------\n",
            "Model trained on A04 tested on A07: 51.72% accuracy\n",
            "Evaluating A04-trained model on A08 ------------------------\n",
            "Model trained on A04 tested on A08: 60.34% accuracy\n",
            "Evaluating A04-trained model on A09 ------------------------\n",
            "Model trained on A04 tested on A09: 51.72% accuracy\n",
            "Model for A05 already exists. Loading model...\n",
            "Evaluating A05-trained model on A01 ------------------------\n",
            "Model trained on A05 tested on A01: 46.55% accuracy\n",
            "Evaluating A05-trained model on A02 ------------------------\n",
            "Model trained on A05 tested on A02: 51.72% accuracy\n",
            "Evaluating A05-trained model on A03 ------------------------\n",
            "Model trained on A05 tested on A03: 43.10% accuracy\n",
            "Evaluating A05-trained model on A04 ------------------------\n",
            "Model trained on A05 tested on A04: 65.52% accuracy\n",
            "Evaluating A05-trained model on A05 ------------------------\n",
            "Model trained on A05 tested on A05: 77.59% accuracy\n",
            "Evaluating A05-trained model on A06 ------------------------\n",
            "Model trained on A05 tested on A06: 56.90% accuracy\n",
            "Evaluating A05-trained model on A07 ------------------------\n",
            "Model trained on A05 tested on A07: 63.79% accuracy\n",
            "Evaluating A05-trained model on A08 ------------------------\n",
            "Model trained on A05 tested on A08: 65.52% accuracy\n",
            "Evaluating A05-trained model on A09 ------------------------\n",
            "Model trained on A05 tested on A09: 60.34% accuracy\n",
            "Model for A06 already exists. Loading model...\n",
            "Evaluating A06-trained model on A01 ------------------------\n",
            "Model trained on A06 tested on A01: 55.17% accuracy\n",
            "Evaluating A06-trained model on A02 ------------------------\n",
            "Model trained on A06 tested on A02: 51.72% accuracy\n",
            "Evaluating A06-trained model on A03 ------------------------\n",
            "Model trained on A06 tested on A03: 68.97% accuracy\n",
            "Evaluating A06-trained model on A04 ------------------------\n",
            "Model trained on A06 tested on A04: 48.28% accuracy\n",
            "Evaluating A06-trained model on A05 ------------------------\n",
            "Model trained on A06 tested on A05: 50.00% accuracy\n",
            "Evaluating A06-trained model on A06 ------------------------\n",
            "Model trained on A06 tested on A06: 68.97% accuracy\n",
            "Evaluating A06-trained model on A07 ------------------------\n",
            "Model trained on A06 tested on A07: 50.00% accuracy\n",
            "Evaluating A06-trained model on A08 ------------------------\n",
            "Model trained on A06 tested on A08: 70.69% accuracy\n",
            "Evaluating A06-trained model on A09 ------------------------\n",
            "Model trained on A06 tested on A09: 72.41% accuracy\n",
            "Model for A07 already exists. Loading model...\n",
            "Evaluating A07-trained model on A01 ------------------------\n",
            "Model trained on A07 tested on A01: 50.00% accuracy\n",
            "Evaluating A07-trained model on A02 ------------------------\n",
            "Model trained on A07 tested on A02: 50.00% accuracy\n",
            "Evaluating A07-trained model on A03 ------------------------\n",
            "Model trained on A07 tested on A03: 50.00% accuracy\n",
            "Evaluating A07-trained model on A04 ------------------------\n",
            "Model trained on A07 tested on A04: 50.00% accuracy\n",
            "Evaluating A07-trained model on A05 ------------------------\n",
            "Model trained on A07 tested on A05: 51.72% accuracy\n",
            "Evaluating A07-trained model on A06 ------------------------\n",
            "Model trained on A07 tested on A06: 65.52% accuracy\n",
            "Evaluating A07-trained model on A07 ------------------------\n",
            "Model trained on A07 tested on A07: 55.17% accuracy\n",
            "Evaluating A07-trained model on A08 ------------------------\n",
            "Model trained on A07 tested on A08: 50.00% accuracy\n",
            "Evaluating A07-trained model on A09 ------------------------\n",
            "Model trained on A07 tested on A09: 55.17% accuracy\n",
            "Model for A08 already exists. Loading model...\n",
            "Evaluating A08-trained model on A01 ------------------------\n",
            "Model trained on A08 tested on A01: 50.00% accuracy\n",
            "Evaluating A08-trained model on A02 ------------------------\n",
            "Model trained on A08 tested on A02: 50.00% accuracy\n",
            "Evaluating A08-trained model on A03 ------------------------\n",
            "Model trained on A08 tested on A03: 55.17% accuracy\n",
            "Evaluating A08-trained model on A04 ------------------------\n",
            "Model trained on A08 tested on A04: 50.00% accuracy\n",
            "Evaluating A08-trained model on A05 ------------------------\n",
            "Model trained on A08 tested on A05: 50.00% accuracy\n",
            "Evaluating A08-trained model on A06 ------------------------\n",
            "Model trained on A08 tested on A06: 53.45% accuracy\n",
            "Evaluating A08-trained model on A07 ------------------------\n",
            "Model trained on A08 tested on A07: 50.00% accuracy\n",
            "Evaluating A08-trained model on A08 ------------------------\n",
            "Model trained on A08 tested on A08: 86.21% accuracy\n",
            "Evaluating A08-trained model on A09 ------------------------\n",
            "Model trained on A08 tested on A09: 87.93% accuracy\n",
            "Model for A09 already exists. Loading model...\n",
            "Evaluating A09-trained model on A01 ------------------------\n",
            "Model trained on A09 tested on A01: 50.00% accuracy\n",
            "Evaluating A09-trained model on A02 ------------------------\n",
            "Model trained on A09 tested on A02: 50.00% accuracy\n",
            "Evaluating A09-trained model on A03 ------------------------\n",
            "Model trained on A09 tested on A03: 51.72% accuracy\n",
            "Evaluating A09-trained model on A04 ------------------------\n",
            "Model trained on A09 tested on A04: 50.00% accuracy\n",
            "Evaluating A09-trained model on A05 ------------------------\n",
            "Model trained on A09 tested on A05: 50.00% accuracy\n",
            "Evaluating A09-trained model on A06 ------------------------\n",
            "Model trained on A09 tested on A06: 67.24% accuracy\n",
            "Evaluating A09-trained model on A07 ------------------------\n",
            "Model trained on A09 tested on A07: 50.00% accuracy\n",
            "Evaluating A09-trained model on A08 ------------------------\n",
            "Model trained on A09 tested on A08: 72.41% accuracy\n",
            "Evaluating A09-trained model on A09 ------------------------\n",
            "Model trained on A09 tested on A09: 94.83% accuracy\n"
          ]
        },
        {
          "data": {
            "text/html": [
              "<div>\n",
              "<style scoped>\n",
              "    .dataframe tbody tr th:only-of-type {\n",
              "        vertical-align: middle;\n",
              "    }\n",
              "\n",
              "    .dataframe tbody tr th {\n",
              "        vertical-align: top;\n",
              "    }\n",
              "\n",
              "    .dataframe thead th {\n",
              "        text-align: right;\n",
              "    }\n",
              "</style>\n",
              "<table border=\"1\" class=\"dataframe\">\n",
              "  <thead>\n",
              "    <tr style=\"text-align: right;\">\n",
              "      <th></th>\n",
              "      <th>A01</th>\n",
              "      <th>A02</th>\n",
              "      <th>A03</th>\n",
              "      <th>A04</th>\n",
              "      <th>A05</th>\n",
              "      <th>A06</th>\n",
              "      <th>A07</th>\n",
              "      <th>A08</th>\n",
              "      <th>A09</th>\n",
              "    </tr>\n",
              "  </thead>\n",
              "  <tbody>\n",
              "    <tr>\n",
              "      <th>A01</th>\n",
              "      <td>86.206897</td>\n",
              "      <td>46.551724</td>\n",
              "      <td>91.379310</td>\n",
              "      <td>55.172414</td>\n",
              "      <td>50.000000</td>\n",
              "      <td>56.896552</td>\n",
              "      <td>56.896552</td>\n",
              "      <td>81.034483</td>\n",
              "      <td>63.793103</td>\n",
              "    </tr>\n",
              "    <tr>\n",
              "      <th>A02</th>\n",
              "      <td>50.000000</td>\n",
              "      <td>50.000000</td>\n",
              "      <td>48.275862</td>\n",
              "      <td>51.724138</td>\n",
              "      <td>51.724138</td>\n",
              "      <td>53.448276</td>\n",
              "      <td>51.724138</td>\n",
              "      <td>48.275862</td>\n",
              "      <td>51.724138</td>\n",
              "    </tr>\n",
              "    <tr>\n",
              "      <th>A03</th>\n",
              "      <td>81.034483</td>\n",
              "      <td>55.172414</td>\n",
              "      <td>96.551724</td>\n",
              "      <td>56.896552</td>\n",
              "      <td>50.000000</td>\n",
              "      <td>55.172414</td>\n",
              "      <td>50.000000</td>\n",
              "      <td>79.310345</td>\n",
              "      <td>70.689655</td>\n",
              "    </tr>\n",
              "    <tr>\n",
              "      <th>A04</th>\n",
              "      <td>51.724138</td>\n",
              "      <td>48.275862</td>\n",
              "      <td>60.344828</td>\n",
              "      <td>63.793103</td>\n",
              "      <td>53.448276</td>\n",
              "      <td>56.896552</td>\n",
              "      <td>51.724138</td>\n",
              "      <td>60.344828</td>\n",
              "      <td>51.724138</td>\n",
              "    </tr>\n",
              "    <tr>\n",
              "      <th>A05</th>\n",
              "      <td>46.551724</td>\n",
              "      <td>51.724138</td>\n",
              "      <td>43.103448</td>\n",
              "      <td>65.517241</td>\n",
              "      <td>77.586207</td>\n",
              "      <td>56.896552</td>\n",
              "      <td>63.793103</td>\n",
              "      <td>65.517241</td>\n",
              "      <td>60.344828</td>\n",
              "    </tr>\n",
              "    <tr>\n",
              "      <th>A06</th>\n",
              "      <td>55.172414</td>\n",
              "      <td>51.724138</td>\n",
              "      <td>68.965517</td>\n",
              "      <td>48.275862</td>\n",
              "      <td>50.000000</td>\n",
              "      <td>68.965517</td>\n",
              "      <td>50.000000</td>\n",
              "      <td>70.689655</td>\n",
              "      <td>72.413793</td>\n",
              "    </tr>\n",
              "    <tr>\n",
              "      <th>A07</th>\n",
              "      <td>50.000000</td>\n",
              "      <td>50.000000</td>\n",
              "      <td>50.000000</td>\n",
              "      <td>50.000000</td>\n",
              "      <td>51.724138</td>\n",
              "      <td>65.517241</td>\n",
              "      <td>55.172414</td>\n",
              "      <td>50.000000</td>\n",
              "      <td>55.172414</td>\n",
              "    </tr>\n",
              "    <tr>\n",
              "      <th>A08</th>\n",
              "      <td>50.000000</td>\n",
              "      <td>50.000000</td>\n",
              "      <td>55.172414</td>\n",
              "      <td>50.000000</td>\n",
              "      <td>50.000000</td>\n",
              "      <td>53.448276</td>\n",
              "      <td>50.000000</td>\n",
              "      <td>86.206897</td>\n",
              "      <td>87.931034</td>\n",
              "    </tr>\n",
              "    <tr>\n",
              "      <th>A09</th>\n",
              "      <td>50.000000</td>\n",
              "      <td>50.000000</td>\n",
              "      <td>51.724138</td>\n",
              "      <td>50.000000</td>\n",
              "      <td>50.000000</td>\n",
              "      <td>67.241379</td>\n",
              "      <td>50.000000</td>\n",
              "      <td>72.413793</td>\n",
              "      <td>94.827586</td>\n",
              "    </tr>\n",
              "  </tbody>\n",
              "</table>\n",
              "</div>"
            ],
            "text/plain": [
              "           A01        A02        A03        A04        A05        A06  \\\n",
              "A01  86.206897  46.551724  91.379310  55.172414  50.000000  56.896552   \n",
              "A02  50.000000  50.000000  48.275862  51.724138  51.724138  53.448276   \n",
              "A03  81.034483  55.172414  96.551724  56.896552  50.000000  55.172414   \n",
              "A04  51.724138  48.275862  60.344828  63.793103  53.448276  56.896552   \n",
              "A05  46.551724  51.724138  43.103448  65.517241  77.586207  56.896552   \n",
              "A06  55.172414  51.724138  68.965517  48.275862  50.000000  68.965517   \n",
              "A07  50.000000  50.000000  50.000000  50.000000  51.724138  65.517241   \n",
              "A08  50.000000  50.000000  55.172414  50.000000  50.000000  53.448276   \n",
              "A09  50.000000  50.000000  51.724138  50.000000  50.000000  67.241379   \n",
              "\n",
              "           A07        A08        A09  \n",
              "A01  56.896552  81.034483  63.793103  \n",
              "A02  51.724138  48.275862  51.724138  \n",
              "A03  50.000000  79.310345  70.689655  \n",
              "A04  51.724138  60.344828  51.724138  \n",
              "A05  63.793103  65.517241  60.344828  \n",
              "A06  50.000000  70.689655  72.413793  \n",
              "A07  55.172414  50.000000  55.172414  \n",
              "A08  50.000000  86.206897  87.931034  \n",
              "A09  50.000000  72.413793  94.827586  "
            ]
          },
          "execution_count": 21,
          "metadata": {},
          "output_type": "execute_result"
        }
      ],
      "source": [
        "import torch\n",
        "import numpy as np\n",
        "\n",
        "# Assuming EEGNetModel is the model class you've defined elsewhere\n",
        "# Assuming you've also defined load_subject_data(subject_id, is_training) to load your training and test datasets\n",
        "\n",
        "# Initialize device\n",
        "device = torch.device(\"cuda\" if torch.cuda.is_available() else \"cpu\")\n",
        "\n",
        "# Define your subjects\n",
        "subjects = ['A01', 'A02', 'A03', 'A04', 'A05', 'A06', 'A07', 'A08', 'A09']\n",
        "\n",
        "# Hyperparameters\n",
        "EPOCHS = 500\n",
        "BATCH_SIZE = 64\n",
        "LEARNING_RATE = 0.001\n",
        "\n",
        "# Results matrix initialization\n",
        "results_matrix = np.zeros((len(subjects), len(subjects)))\n",
        "\n",
        "# Training models for each subject\n",
        "for i, train_subject in enumerate(subjects):\n",
        "    model_save_path = f\"saved_models/eegnet_model_t_{train_subject}.pth\"\n",
        "\n",
        "    # Check if the model already exists\n",
        "    if os.path.exists(model_save_path):\n",
        "        print(f\"Model for {train_subject} already exists. Loading model...\")\n",
        "        model = EEGNetModel()  # Make sure this is the correct way to initialize your model\n",
        "        model.load_state_dict(torch.load(model_save_path))\n",
        "        model.to(device)\n",
        "    else:\n",
        "        # Load training data\n",
        "        train_data, train_labels = load_subject_data(train_subject, is_training=True)\n",
        "        \n",
        "        # Convert data to PyTorch datasets\n",
        "        train_tensor_data = torch.Tensor(train_data).unsqueeze(1).to(device)\n",
        "        train_tensor_labels = torch.LongTensor(train_labels).to(device)\n",
        "        train_dataset = TensorDataset(train_tensor_data, train_tensor_labels)\n",
        "        \n",
        "        # Initialize and train model\n",
        "        trainer = TrainModel(device, train_subject)\n",
        "        model = EEGNetModel()  # Ensure this is your model's initialization call\n",
        "        trained_model = trainer.train_model(model, train_dataset, LEARNING_RATE, BATCH_SIZE, EPOCHS)\n",
        "        \n",
        "        # Save model\n",
        "        torch.save(trained_model.state_dict(), model_save_path)\n",
        "        model = trained_model  # Update 'model' to be the trained model\n",
        "\n",
        "    # Evaluation on each subject's test data\n",
        "    evaluator = EvalModel(device)\n",
        "    for j, test_subject in enumerate(subjects):\n",
        "        print(f\"Evaluating {train_subject}-trained model on {test_subject} ------------------------\")\n",
        "        # Load test data\n",
        "        test_data, test_labels = load_subject_data(test_subject, is_training=False)\n",
        "\n",
        "        # Convert data to PyTorch datasets\n",
        "        test_tensor_data = torch.Tensor(test_data).unsqueeze(1).to(device)\n",
        "        test_tensor_labels = torch.LongTensor(test_labels).to(device)\n",
        "        test_tensor_labels -= test_tensor_labels.min()\n",
        "        test_dataset = TensorDataset(test_tensor_data, test_tensor_labels)\n",
        "\n",
        "        # Evaluate model\n",
        "        accuracy = evaluator.test_model(model_save_path, test_dataset, test_subject)\n",
        "        results_matrix[i][j] = accuracy\n",
        "        print(f\"Model trained on {train_subject} tested on {test_subject}: {accuracy:.2f}% accuracy\")\n",
        "\n",
        "# Save the results to a CSV file and print the matrix\n",
        "evaluator.save_results(results_matrix, subjects)\n"
      ]
    },
    {
      "cell_type": "code",
      "execution_count": 32,
      "metadata": {},
      "outputs": [
        {
          "name": "stdout",
          "output_type": "stream",
          "text": [
            "Results matrix saved to results/eegnet_basline_matrix.csv\n",
            "Heatmap saved to results/eegnet_basline_matrix.png\n"
          ]
        },
        {
          "data": {
            "image/png": "[encoded data removed]",
            "text/plain": [
              "<Figure size 1000x800 with 2 Axes>"
            ]
          },
          "metadata": {},
          "output_type": "display_data"
        }
      ],
      "source": [
        "import seaborn as sns\n",
        "save_dir = \"results/\"\n",
        "if not os.path.exists(save_dir):\n",
        "    os.makedirs(save_dir)\n",
        "\n",
        "# save cross compare to csv\n",
        "df = pd.DataFrame(results_matrix, index=subjects, columns=subjects)\n",
        "csv_file_path = os.path.join(save_dir, \"eegnet_basline_matrix.csv\")\n",
        "df.to_csv(csv_file_path)\n",
        "print(f\"Results matrix saved to {csv_file_path}\")\n",
        "\n",
        "# heatmap\n",
        "plt.figure(figsize=(10, 8))\n",
        "heatmap = sns.heatmap(df, annot=True, fmt=\".2f\", cmap='crest', cbar_kws={'label': 'Score'})\n",
        "plt.title('Cross-Subjects Eval Baselines')\n",
        "plt.ylabel('Trained on Subject')\n",
        "plt.xlabel('Tested on Subject')\n",
        "image_file_path = os.path.join(save_dir, \"eegnet_basline_matrix.png\")\n",
        "plt.savefig(image_file_path)\n",
        "# plt.close()\n",
        "print(f\"Heatmap saved to {image_file_path}\")"
      ]
    },
    {
      "cell_type": "code",
      "execution_count": 29,
      "metadata": {
        "colab": {
          "base_uri": "https://localhost:8080/"
        },
        "id": "TJzl6On9DFcp",
        "outputId": "7c7e7ca1-e094-478a-f7df-171e12388792"
      },
      "outputs": [],
      "source": [
        "# orignial model train code\n",
        "# eegnet_model = EEGNetModel().to(device)\n",
        "\n",
        "# # Training Hyperparameters\n",
        "# EPOCHS = 500\n",
        "# BATCH_SIZE = 64\n",
        "# LEARNING_RATE = 0.001\n",
        "# trainer = TrainModel()\n",
        "# trained_eegnet_model = trainer.train_model(eegnet_model, train_dataset, learning_rate=LEARNING_RATE,\n",
        "#                                    batch_size=BATCH_SIZE, epochs=EPOCHS)\n",
        "# torch.save(trained_eegnet_model.state_dict(), 'eegnet_model.pth')\n",
        "\n",
        "'''Evaluating Model'''\n",
        "\n",
        "# classes_list = ['Left', 'Right']#, 'Foot', 'Tongue']\n",
        "# eval_model = EvalModel(trained_eegnet_model)\n",
        "# test_accuracy = eval_model.test_model(test_dataset)\n",
        "# eval_model.plot_confusion_matrix(test_dataset, classes_list)\n"
      ]
    }
  ],
  "metadata": {
    "accelerator": "GPU",
    "colab": {
      "authorship_tag": "ABX9TyOuzENxctn49HNjNmnJOE11",
      "gpuType": "T4",
      "include_colab_link": true,
      "provenance": []
    },
    "kernelspec": {
      "display_name": "Python 3",
      "name": "python3"
    },
    "language_info": {
      "codemirror_mode": {
        "name": "ipython",
        "version": 3
      },
      "file_extension": ".py",
      "mimetype": "text/x-python",
      "name": "python",
      "nbconvert_exporter": "python",
      "pygments_lexer": "ipython3",
      "version": "3.12.2"
    }
  },
  "nbformat": 4,
  "nbformat_minor": 0
}
